{
 "cells": [
  {
   "cell_type": "code",
   "execution_count": 4,
   "id": "bf905ca0-6ce1-44f8-9126-4d15bce73407",
   "metadata": {},
   "outputs": [],
   "source": [
    "import os, sys"
   ]
  },
  {
   "cell_type": "markdown",
   "id": "82b2d49d-b18b-4322-87a5-8dcbbaaad00d",
   "metadata": {},
   "source": [
    "##### Add another path unlike ./"
   ]
  },
  {
   "cell_type": "code",
   "execution_count": 5,
   "id": "a842156b-6c2a-471c-aebb-99d04984c627",
   "metadata": {},
   "outputs": [],
   "source": [
    "directoryPaths = [\n",
    "    # os.path.abspath(os.path.join('..\\\\Algorithms'))\n",
    "    # os.path.abspath(os.path.join('..'))\n",
    "]\n",
    "\n",
    "for directoryPath in (directoryPath for directoryPath in directoryPaths if directoryPath not in sys.path):\n",
    "    sys.path.append(directoryPath)"
   ]
  },
  {
   "cell_type": "markdown",
   "id": "939b2925-d6b0-4489-9187-2fa2e3a395dc",
   "metadata": {},
   "source": [
    "##### jupytext -> pair with light format"
   ]
  },
  {
   "cell_type": "code",
   "execution_count": 2,
   "id": "0231bdc0-2d26-48a7-bfc9-689cda66ed62",
   "metadata": {},
   "outputs": [],
   "source": [
    "import barrel_export as barrelExport\n",
    "from barrel_export import sumTwoNumbers"
   ]
  },
  {
   "cell_type": "code",
   "execution_count": 3,
   "id": "6aff68a2-1e0b-46b4-8436-b5aa67d80413",
   "metadata": {},
   "outputs": [
    {
     "data": {
      "text/plain": [
       "4"
      ]
     },
     "execution_count": 3,
     "metadata": {},
     "output_type": "execute_result"
    }
   ],
   "source": [
    "sumTwoNumbers(2, 2)"
   ]
  }
 ],
 "metadata": {
  "kernelspec": {
   "display_name": "Python [conda env:base] *",
   "language": "python",
   "name": "conda-base-py"
  },
  "language_info": {
   "codemirror_mode": {
    "name": "ipython",
    "version": 3
   },
   "file_extension": ".py",
   "mimetype": "text/x-python",
   "name": "python",
   "nbconvert_exporter": "python",
   "pygments_lexer": "ipython3",
   "version": "3.11.7"
  }
 },
 "nbformat": 4,
 "nbformat_minor": 5
}
