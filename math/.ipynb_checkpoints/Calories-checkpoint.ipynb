{
 "cells": [
  {
   "cell_type": "code",
   "execution_count": 1,
   "id": "261b436f",
   "metadata": {},
   "outputs": [],
   "source": [
    "from IPython.display import display, Math"
   ]
  },
  {
   "cell_type": "code",
   "execution_count": 2,
   "id": "979998aa",
   "metadata": {},
   "outputs": [],
   "source": [
    "import sympy as sp"
   ]
  },
  {
   "cell_type": "markdown",
   "id": "c9677f7f",
   "metadata": {},
   "source": [
    "## Calories calculator"
   ]
  },
  {
   "cell_type": "markdown",
   "id": "e136b577",
   "metadata": {},
   "source": [
    "### Calories"
   ]
  },
  {
   "cell_type": "code",
   "execution_count": 3,
   "id": "d8eb7168",
   "metadata": {},
   "outputs": [
    {
     "data": {
      "text/latex": [
       "$\\displaystyle \\frac{calories quantity}{100}$"
      ],
      "text/plain": [
       "<IPython.core.display.Math object>"
      ]
     },
     "metadata": {},
     "output_type": "display_data"
    }
   ],
   "source": [
    "quantity, calories = sp.symbols('quantity, calories')\n",
    "\n",
    "caloriesExp = quantity / 100 * calories\n",
    "\n",
    "display(Math(sp.latex(caloriesExp)))"
   ]
  },
  {
   "cell_type": "code",
   "execution_count": 4,
   "id": "a102d91b",
   "metadata": {},
   "outputs": [
    {
     "name": "stdout",
     "output_type": "stream",
     "text": [
      "Enter quantity 100\n",
      "Enter calories 100\n"
     ]
    },
    {
     "data": {
      "text/latex": [
       "$\\displaystyle 100$"
      ],
      "text/plain": [
       "100"
      ]
     },
     "metadata": {},
     "output_type": "display_data"
    }
   ],
   "source": [
    "quantityInput = input('Enter quantity ')\n",
    "caloriesInput = input('Enter calories ')\n",
    "\n",
    "display(caloriesExp.subs({ quantity: quantityInput, calories: caloriesInput }))"
   ]
  },
  {
   "cell_type": "markdown",
   "id": "5e3f2c17",
   "metadata": {},
   "source": [
    "### Water"
   ]
  },
  {
   "cell_type": "code",
   "execution_count": 5,
   "id": "d5ce0c4a",
   "metadata": {},
   "outputs": [
    {
     "data": {
      "text/latex": [
       "$\\displaystyle \\frac{100 quantity}{quantity + water}$"
      ],
      "text/plain": [
       "<IPython.core.display.Math object>"
      ]
     },
     "metadata": {},
     "output_type": "display_data"
    }
   ],
   "source": [
    "water = sp.symbols('water')\n",
    "\n",
    "waterExp = quantity / (quantity + water) * 100\n",
    "\n",
    "display(Math(sp.latex(waterExp)))"
   ]
  },
  {
   "cell_type": "code",
   "execution_count": 6,
   "id": "2202d12e",
   "metadata": {},
   "outputs": [
    {
     "name": "stdout",
     "output_type": "stream",
     "text": [
      "Enter quantity 100\n",
      "Enter water 100\n"
     ]
    },
    {
     "data": {
      "text/latex": [
       "$\\displaystyle 50$"
      ],
      "text/plain": [
       "50"
      ]
     },
     "metadata": {},
     "output_type": "display_data"
    }
   ],
   "source": [
    "quantityInput = input('Enter quantity ')\n",
    "waterInput = input('Enter water ')\n",
    "\n",
    "display(waterExp.subs({ quantity: quantityInput, water: waterInput }))"
   ]
  },
  {
   "cell_type": "markdown",
   "id": "e2809f26",
   "metadata": {},
   "source": [
    "## Calories equations"
   ]
  },
  {
   "cell_type": "code",
   "execution_count": 7,
   "id": "a09fd70e",
   "metadata": {},
   "outputs": [],
   "source": [
    "weight, height, age = sp.symbols('weight, height, age')"
   ]
  },
  {
   "cell_type": "markdown",
   "id": "2ff1bbe6",
   "metadata": {},
   "source": [
    "### Harris-Benedict equation for men (kg, cm, year)"
   ]
  },
  {
   "cell_type": "code",
   "execution_count": null,
   "id": "37f2d5be",
   "metadata": {},
   "outputs": [],
   "source": [
    "harrisBenedictExp = 66.473 + (12.7516 * weight) + (5.0033 * height) - (6.755 * age)\n",
    "\n",
    "display(Math(sp.latex(harrisBenedictExp)))"
   ]
  },
  {
   "cell_type": "code",
   "execution_count": null,
   "id": "f3c05b8a",
   "metadata": {},
   "outputs": [],
   "source": [
    "weightInput = input('Enter weight ')\n",
    "heightInput = input('Enter height ')\n",
    "ageInput = input('Enter age ')\n",
    "\n",
    "display(harrisBenedictExp.subs({ weight: weightInput, height: heightInput, age: ageInput }))"
   ]
  },
  {
   "cell_type": "markdown",
   "id": "54697da1",
   "metadata": {},
   "source": [
    "### Mifflin-St-Jeor equation for men (kg, cm, year)"
   ]
  },
  {
   "cell_type": "code",
   "execution_count": null,
   "id": "07fb61e7",
   "metadata": {},
   "outputs": [],
   "source": [
    "mifflinStJeorExp = (10 * weight) + (6.25 * height) - (5 * age) + 5\n",
    "\n",
    "display(Math(sp.latex(mifflinStJeorExp)))"
   ]
  },
  {
   "cell_type": "code",
   "execution_count": null,
   "id": "15d68c59",
   "metadata": {},
   "outputs": [],
   "source": [
    "weightInput = input('Enter weight ')\n",
    "heightInput = input('Enter height ')\n",
    "ageInput = input('Enter age ')\n",
    "\n",
    "display(mifflinStJeorExp.subs({ weight: weightInput, height: heightInput, age: ageInput }))"
   ]
  }
 ],
 "metadata": {
  "kernelspec": {
   "display_name": "Python 3 (ipykernel)",
   "language": "python",
   "name": "python3"
  },
  "language_info": {
   "codemirror_mode": {
    "name": "ipython",
    "version": 3
   },
   "file_extension": ".py",
   "mimetype": "text/x-python",
   "name": "python",
   "nbconvert_exporter": "python",
   "pygments_lexer": "ipython3",
   "version": "3.9.12"
  }
 },
 "nbformat": 4,
 "nbformat_minor": 5
}
