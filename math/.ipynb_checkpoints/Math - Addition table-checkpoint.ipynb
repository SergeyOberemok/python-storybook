{
 "cells": [
  {
   "cell_type": "code",
   "execution_count": 1,
   "id": "860cbcf6",
   "metadata": {},
   "outputs": [],
   "source": [
    "import sympy as sp\n",
    "import numpy as np\n",
    "from IPython.display import display, Math, HTML\n",
    "import random"
   ]
  },
  {
   "cell_type": "markdown",
   "id": "e619c343",
   "metadata": {},
   "source": [
    "### Numbers"
   ]
  },
  {
   "cell_type": "code",
   "execution_count": 2,
   "id": "ced08b7f",
   "metadata": {},
   "outputs": [
    {
     "name": "stdout",
     "output_type": "stream",
     "text": [
      "{0: '🎲', 1: '🚗', 2: '✍', 3: '🍻', 4: '🛫', 5: '🏫', 6: '😈', 7: '⛪', 8: '🎱', 9: '💍'}\n"
     ]
    }
   ],
   "source": [
    "numbers = {\n",
    "    0: '🎲',\n",
    "    1: '🚗',\n",
    "    2: '✍',\n",
    "    3: '🍻',\n",
    "    4: '🛫',\n",
    "    5: '🏫',\n",
    "    6: '😈',\n",
    "    7: '⛪',\n",
    "    8: '🎱',\n",
    "    9: '💍',\n",
    "}\n",
    "\n",
    "print(numbers)"
   ]
  },
  {
   "cell_type": "markdown",
   "id": "146eb072",
   "metadata": {},
   "source": [
    "### Addition table"
   ]
  },
  {
   "cell_type": "markdown",
   "id": "b7da42cf",
   "metadata": {},
   "source": [
    "#### Table"
   ]
  },
  {
   "cell_type": "code",
   "execution_count": 3,
   "id": "eec4236e",
   "metadata": {},
   "outputs": [],
   "source": [
    "def getAdditionTable():\n",
    "    size = 10\n",
    "    A = np.zeros([size, size], int)\n",
    "\n",
    "    for row in range(0, size):\n",
    "        for column in range(0, size):\n",
    "            if row == 0:\n",
    "                A[row, column] = column\n",
    "                continue\n",
    "            if column == 0:\n",
    "                A[row, column] = row\n",
    "                continue\n",
    "\n",
    "            if row <= column:\n",
    "                A[row, column] = row + column\n",
    "    \n",
    "    return A"
   ]
  },
  {
   "cell_type": "code",
   "execution_count": 4,
   "id": "4ab91449",
   "metadata": {},
   "outputs": [
    {
     "data": {
      "text/latex": [
       "$\\displaystyle \\left[\\begin{matrix}9 & 0 & 0 & 0 & 0 & 0 & 0 & 0 & 0 & 18\\\\8 & 0 & 0 & 0 & 0 & 0 & 0 & 0 & 16 & 17\\\\7 & 0 & 0 & 0 & 0 & 0 & 0 & 14 & 15 & 16\\\\6 & 0 & 0 & 0 & 0 & 0 & 12 & 13 & 14 & 15\\\\5 & 0 & 0 & 0 & 0 & 10 & 11 & 12 & 13 & 14\\\\4 & 0 & 0 & 0 & 8 & 9 & 10 & 11 & 12 & 13\\\\3 & 0 & 0 & 6 & 7 & 8 & 9 & 10 & 11 & 12\\\\2 & 0 & 4 & 5 & 6 & 7 & 8 & 9 & 10 & 11\\\\1 & 2 & 3 & 4 & 5 & 6 & 7 & 8 & 9 & 10\\\\0 & 1 & 2 & 3 & 4 & 5 & 6 & 7 & 8 & 9\\end{matrix}\\right]$"
      ],
      "text/plain": [
       "<IPython.core.display.Math object>"
      ]
     },
     "metadata": {},
     "output_type": "display_data"
    }
   ],
   "source": [
    "A = getAdditionTable()\n",
    "\n",
    "display(Math(sp.latex(sp.sympify(np.flip(A, 0)))))"
   ]
  },
  {
   "cell_type": "markdown",
   "id": "a9c31523",
   "metadata": {},
   "source": [
    "#### Dictionary"
   ]
  },
  {
   "cell_type": "code",
   "execution_count": 5,
   "id": "e988b424",
   "metadata": {},
   "outputs": [],
   "source": [
    "def getNumberTerms(number, maxBase = 10):\n",
    "    terms = []\n",
    "    \n",
    "    for index, term in enumerate(range(number, 0, -1)):\n",
    "        if index == 0:\n",
    "            continue\n",
    "        \n",
    "        if number == index + term and index <= term and term < maxBase:\n",
    "            terms.append((index, term))\n",
    "    \n",
    "    return terms"
   ]
  },
  {
   "cell_type": "code",
   "execution_count": 6,
   "id": "fce3c6d2",
   "metadata": {},
   "outputs": [
    {
     "name": "stdout",
     "output_type": "stream",
     "text": [
      "[(1, 4), (2, 3)]\n"
     ]
    }
   ],
   "source": [
    "x = 5\n",
    "terms = getNumberTerms(x)\n",
    "\n",
    "print(terms)"
   ]
  },
  {
   "cell_type": "code",
   "execution_count": 7,
   "id": "521f42e9",
   "metadata": {},
   "outputs": [],
   "source": [
    "def getAdditionDictionary():\n",
    "    size = 10\n",
    "    dictionary = { key: [] for key in range(0, size * 2) }\n",
    "    \n",
    "    for key in dictionary:\n",
    "        number = int(key)\n",
    "        terms = getNumberTerms(number)\n",
    "        dictionary[key].extend(terms)\n",
    "    \n",
    "    return dictionary"
   ]
  },
  {
   "cell_type": "code",
   "execution_count": 8,
   "id": "53f733ca",
   "metadata": {},
   "outputs": [
    {
     "name": "stdout",
     "output_type": "stream",
     "text": [
      "{0: [], 1: [], 2: [(1, 1)], 3: [(1, 2)], 4: [(1, 3), (2, 2)], 5: [(1, 4), (2, 3)], 6: [(1, 5), (2, 4), (3, 3)], 7: [(1, 6), (2, 5), (3, 4)], 8: [(1, 7), (2, 6), (3, 5), (4, 4)], 9: [(1, 8), (2, 7), (3, 6), (4, 5)], 10: [(1, 9), (2, 8), (3, 7), (4, 6), (5, 5)], 11: [(2, 9), (3, 8), (4, 7), (5, 6)], 12: [(3, 9), (4, 8), (5, 7), (6, 6)], 13: [(4, 9), (5, 8), (6, 7)], 14: [(5, 9), (6, 8), (7, 7)], 15: [(6, 9), (7, 8)], 16: [(7, 9), (8, 8)], 17: [(8, 9)], 18: [(9, 9)], 19: []}\n"
     ]
    }
   ],
   "source": [
    "additionDictionary = getAdditionDictionary()\n",
    "\n",
    "print(additionDictionary)"
   ]
  },
  {
   "cell_type": "markdown",
   "id": "d58282bf",
   "metadata": {},
   "source": [
    "### Helpers"
   ]
  },
  {
   "cell_type": "markdown",
   "id": "4f7ab74a",
   "metadata": {},
   "source": [
    "#### Get digits"
   ]
  },
  {
   "cell_type": "code",
   "execution_count": 9,
   "id": "9e510f56",
   "metadata": {},
   "outputs": [],
   "source": [
    "def getDigits(number):\n",
    "    letters = [*str(number)]\n",
    "    digits = list(map(lambda letter: int(letter), letters))\n",
    "    return digits"
   ]
  },
  {
   "cell_type": "code",
   "execution_count": 10,
   "id": "a7a5b952",
   "metadata": {},
   "outputs": [
    {
     "name": "stdout",
     "output_type": "stream",
     "text": [
      "[1, 2]\n"
     ]
    }
   ],
   "source": [
    "number = 12\n",
    "digits = getDigits(number)\n",
    "\n",
    "print(digits)"
   ]
  },
  {
   "cell_type": "markdown",
   "id": "0791df5f",
   "metadata": {},
   "source": [
    "#### Get icons"
   ]
  },
  {
   "cell_type": "code",
   "execution_count": 11,
   "id": "54d4882a",
   "metadata": {},
   "outputs": [],
   "source": [
    "def getIcons(digits):\n",
    "    icons = ''\n",
    "    \n",
    "    for digit in digits:\n",
    "        icons += numbers[digit]\n",
    "        \n",
    "    return icons"
   ]
  },
  {
   "cell_type": "code",
   "execution_count": 12,
   "id": "1f27fbae",
   "metadata": {},
   "outputs": [
    {
     "name": "stdout",
     "output_type": "stream",
     "text": [
      "🚗✍\n"
     ]
    }
   ],
   "source": [
    "icons = getIcons(digits)\n",
    "\n",
    "print(icons)"
   ]
  },
  {
   "cell_type": "markdown",
   "id": "5d35aa46",
   "metadata": {},
   "source": [
    "#### Map number to icons"
   ]
  },
  {
   "cell_type": "code",
   "execution_count": 13,
   "id": "039deafb",
   "metadata": {},
   "outputs": [],
   "source": [
    "def mapNumberToIcons(number):\n",
    "    digits = getDigits(number)\n",
    "    icons = getIcons(digits)\n",
    "    \n",
    "    return icons"
   ]
  },
  {
   "cell_type": "code",
   "execution_count": 14,
   "id": "8041e236",
   "metadata": {},
   "outputs": [
    {
     "name": "stdout",
     "output_type": "stream",
     "text": [
      "🚗✍\n"
     ]
    }
   ],
   "source": [
    "number = 12\n",
    "icons = mapNumberToIcons(number)\n",
    "\n",
    "print(icons)"
   ]
  },
  {
   "cell_type": "code",
   "execution_count": 15,
   "id": "29c47734",
   "metadata": {},
   "outputs": [],
   "source": [
    "class TableHtml:\n",
    "    tableHtml = '<table style=\"width: 100%\">{}</table>'\n",
    "    rowHtml = '<tr>{}</tr>'\n",
    "    rowHtmlDivider = '</tr><tr>'\n",
    "    columnHtml = '<td style=\"text-align: left\">{}</td>'\n",
    "    columnHtmlDivider = '</td><td style=\"text-align: left\">'\n",
    "    \n",
    "    rows = []\n",
    "    \n",
    "    def __init__(self):\n",
    "        self.rows = []\n",
    "    \n",
    "    def addColumns(self, columns):\n",
    "        joinedColumns = self.columnHtmlDivider.join(columns)\n",
    "        columnsHtml = self.columnHtml.format(joinedColumns)\n",
    "        self.rows.append(columnsHtml)\n",
    "    \n",
    "    def __str__(self):\n",
    "        joinedRows = self.rowHtmlDivider.join(row for row in self.rows)\n",
    "        rowsHtml = self.rowHtml.format(joinedRows)\n",
    "        return self.tableHtml.format(rowsHtml)"
   ]
  },
  {
   "cell_type": "markdown",
   "id": "d33bb85b",
   "metadata": {},
   "source": [
    "#### Print icons table"
   ]
  },
  {
   "cell_type": "code",
   "execution_count": 16,
   "id": "97729d16",
   "metadata": {},
   "outputs": [],
   "source": [
    "def printTable(table):\n",
    "    tableHtml = TableHtml()\n",
    "    \n",
    "    for row in table:\n",
    "        tableHtml.addColumns(str(column) for column in row)\n",
    "\n",
    "    display(HTML(str(tableHtml)))"
   ]
  },
  {
   "cell_type": "code",
   "execution_count": 17,
   "id": "94cffdda",
   "metadata": {},
   "outputs": [
    {
     "data": {
      "text/html": [
       "<table style=\"width: 100%\"><tr><td style=\"text-align: left\">9</td><td style=\"text-align: left\">0</td><td style=\"text-align: left\">0</td><td style=\"text-align: left\">0</td><td style=\"text-align: left\">0</td><td style=\"text-align: left\">0</td><td style=\"text-align: left\">0</td><td style=\"text-align: left\">0</td><td style=\"text-align: left\">0</td><td style=\"text-align: left\">18</td></tr><tr><td style=\"text-align: left\">8</td><td style=\"text-align: left\">0</td><td style=\"text-align: left\">0</td><td style=\"text-align: left\">0</td><td style=\"text-align: left\">0</td><td style=\"text-align: left\">0</td><td style=\"text-align: left\">0</td><td style=\"text-align: left\">0</td><td style=\"text-align: left\">16</td><td style=\"text-align: left\">17</td></tr><tr><td style=\"text-align: left\">7</td><td style=\"text-align: left\">0</td><td style=\"text-align: left\">0</td><td style=\"text-align: left\">0</td><td style=\"text-align: left\">0</td><td style=\"text-align: left\">0</td><td style=\"text-align: left\">0</td><td style=\"text-align: left\">14</td><td style=\"text-align: left\">15</td><td style=\"text-align: left\">16</td></tr><tr><td style=\"text-align: left\">6</td><td style=\"text-align: left\">0</td><td style=\"text-align: left\">0</td><td style=\"text-align: left\">0</td><td style=\"text-align: left\">0</td><td style=\"text-align: left\">0</td><td style=\"text-align: left\">12</td><td style=\"text-align: left\">13</td><td style=\"text-align: left\">14</td><td style=\"text-align: left\">15</td></tr><tr><td style=\"text-align: left\">5</td><td style=\"text-align: left\">0</td><td style=\"text-align: left\">0</td><td style=\"text-align: left\">0</td><td style=\"text-align: left\">0</td><td style=\"text-align: left\">10</td><td style=\"text-align: left\">11</td><td style=\"text-align: left\">12</td><td style=\"text-align: left\">13</td><td style=\"text-align: left\">14</td></tr><tr><td style=\"text-align: left\">4</td><td style=\"text-align: left\">0</td><td style=\"text-align: left\">0</td><td style=\"text-align: left\">0</td><td style=\"text-align: left\">8</td><td style=\"text-align: left\">9</td><td style=\"text-align: left\">10</td><td style=\"text-align: left\">11</td><td style=\"text-align: left\">12</td><td style=\"text-align: left\">13</td></tr><tr><td style=\"text-align: left\">3</td><td style=\"text-align: left\">0</td><td style=\"text-align: left\">0</td><td style=\"text-align: left\">6</td><td style=\"text-align: left\">7</td><td style=\"text-align: left\">8</td><td style=\"text-align: left\">9</td><td style=\"text-align: left\">10</td><td style=\"text-align: left\">11</td><td style=\"text-align: left\">12</td></tr><tr><td style=\"text-align: left\">2</td><td style=\"text-align: left\">0</td><td style=\"text-align: left\">4</td><td style=\"text-align: left\">5</td><td style=\"text-align: left\">6</td><td style=\"text-align: left\">7</td><td style=\"text-align: left\">8</td><td style=\"text-align: left\">9</td><td style=\"text-align: left\">10</td><td style=\"text-align: left\">11</td></tr><tr><td style=\"text-align: left\">1</td><td style=\"text-align: left\">2</td><td style=\"text-align: left\">3</td><td style=\"text-align: left\">4</td><td style=\"text-align: left\">5</td><td style=\"text-align: left\">6</td><td style=\"text-align: left\">7</td><td style=\"text-align: left\">8</td><td style=\"text-align: left\">9</td><td style=\"text-align: left\">10</td></tr><tr><td style=\"text-align: left\">0</td><td style=\"text-align: left\">1</td><td style=\"text-align: left\">2</td><td style=\"text-align: left\">3</td><td style=\"text-align: left\">4</td><td style=\"text-align: left\">5</td><td style=\"text-align: left\">6</td><td style=\"text-align: left\">7</td><td style=\"text-align: left\">8</td><td style=\"text-align: left\">9</td></tr></table>"
      ],
      "text/plain": [
       "<IPython.core.display.HTML object>"
      ]
     },
     "metadata": {},
     "output_type": "display_data"
    }
   ],
   "source": [
    "printTable(np.flip(A, 0));"
   ]
  },
  {
   "cell_type": "markdown",
   "id": "05332367",
   "metadata": {},
   "source": [
    "#### Print icons dictionary"
   ]
  },
  {
   "cell_type": "code",
   "execution_count": 18,
   "id": "4f1bb556",
   "metadata": {},
   "outputs": [],
   "source": [
    "def printDictionary(dictionary):\n",
    "    tableHtml = TableHtml()\n",
    "        \n",
    "    for key in dictionary:\n",
    "        columns = [key] + dictionary[key]\n",
    "        tableHtml.addColumns(str(column) for column in columns)\n",
    "        \n",
    "    display(HTML(str(tableHtml)))"
   ]
  },
  {
   "cell_type": "code",
   "execution_count": 19,
   "id": "5535e1a2",
   "metadata": {},
   "outputs": [
    {
     "data": {
      "text/html": [
       "<table style=\"width: 100%\"><tr><td style=\"text-align: left\">0</td></tr><tr><td style=\"text-align: left\">1</td></tr><tr><td style=\"text-align: left\">2</td><td style=\"text-align: left\">(1, 1)</td></tr><tr><td style=\"text-align: left\">3</td><td style=\"text-align: left\">(1, 2)</td></tr><tr><td style=\"text-align: left\">4</td><td style=\"text-align: left\">(1, 3)</td><td style=\"text-align: left\">(2, 2)</td></tr><tr><td style=\"text-align: left\">5</td><td style=\"text-align: left\">(1, 4)</td><td style=\"text-align: left\">(2, 3)</td></tr><tr><td style=\"text-align: left\">6</td><td style=\"text-align: left\">(1, 5)</td><td style=\"text-align: left\">(2, 4)</td><td style=\"text-align: left\">(3, 3)</td></tr><tr><td style=\"text-align: left\">7</td><td style=\"text-align: left\">(1, 6)</td><td style=\"text-align: left\">(2, 5)</td><td style=\"text-align: left\">(3, 4)</td></tr><tr><td style=\"text-align: left\">8</td><td style=\"text-align: left\">(1, 7)</td><td style=\"text-align: left\">(2, 6)</td><td style=\"text-align: left\">(3, 5)</td><td style=\"text-align: left\">(4, 4)</td></tr><tr><td style=\"text-align: left\">9</td><td style=\"text-align: left\">(1, 8)</td><td style=\"text-align: left\">(2, 7)</td><td style=\"text-align: left\">(3, 6)</td><td style=\"text-align: left\">(4, 5)</td></tr><tr><td style=\"text-align: left\">10</td><td style=\"text-align: left\">(1, 9)</td><td style=\"text-align: left\">(2, 8)</td><td style=\"text-align: left\">(3, 7)</td><td style=\"text-align: left\">(4, 6)</td><td style=\"text-align: left\">(5, 5)</td></tr><tr><td style=\"text-align: left\">11</td><td style=\"text-align: left\">(2, 9)</td><td style=\"text-align: left\">(3, 8)</td><td style=\"text-align: left\">(4, 7)</td><td style=\"text-align: left\">(5, 6)</td></tr><tr><td style=\"text-align: left\">12</td><td style=\"text-align: left\">(3, 9)</td><td style=\"text-align: left\">(4, 8)</td><td style=\"text-align: left\">(5, 7)</td><td style=\"text-align: left\">(6, 6)</td></tr><tr><td style=\"text-align: left\">13</td><td style=\"text-align: left\">(4, 9)</td><td style=\"text-align: left\">(5, 8)</td><td style=\"text-align: left\">(6, 7)</td></tr><tr><td style=\"text-align: left\">14</td><td style=\"text-align: left\">(5, 9)</td><td style=\"text-align: left\">(6, 8)</td><td style=\"text-align: left\">(7, 7)</td></tr><tr><td style=\"text-align: left\">15</td><td style=\"text-align: left\">(6, 9)</td><td style=\"text-align: left\">(7, 8)</td></tr><tr><td style=\"text-align: left\">16</td><td style=\"text-align: left\">(7, 9)</td><td style=\"text-align: left\">(8, 8)</td></tr><tr><td style=\"text-align: left\">17</td><td style=\"text-align: left\">(8, 9)</td></tr><tr><td style=\"text-align: left\">18</td><td style=\"text-align: left\">(9, 9)</td></tr><tr><td style=\"text-align: left\">19</td></tr></table>"
      ],
      "text/plain": [
       "<IPython.core.display.HTML object>"
      ]
     },
     "metadata": {},
     "output_type": "display_data"
    }
   ],
   "source": [
    "printDictionary(additionDictionary)"
   ]
  },
  {
   "cell_type": "markdown",
   "id": "b272c632",
   "metadata": {},
   "source": [
    "### Map to icons"
   ]
  },
  {
   "cell_type": "markdown",
   "id": "ea6a9f02",
   "metadata": {},
   "source": [
    "#### Table"
   ]
  },
  {
   "cell_type": "code",
   "execution_count": 20,
   "id": "b38390c6",
   "metadata": {},
   "outputs": [],
   "source": [
    "def mapMatrixToIcons(M):\n",
    "    size = len(M)\n",
    "    R = np.ndarray((size, size), dtype = object)\n",
    "\n",
    "    for row in range(0, size):\n",
    "        for column in range(0, size):\n",
    "            if row == 0:\n",
    "                R[row, column] = mapNumberToIcons(column)\n",
    "                continue\n",
    "            if column == 0:\n",
    "                R[row, column] = mapNumberToIcons(row)\n",
    "                continue\n",
    "                \n",
    "            if A[row, column] == 0:\n",
    "                R[row, column] = ''\n",
    "                continue\n",
    "            \n",
    "            R[row, column] = mapNumberToIcons(A[row, column])\n",
    "\n",
    "    return R"
   ]
  },
  {
   "cell_type": "code",
   "execution_count": 21,
   "id": "d2bac81d",
   "metadata": {},
   "outputs": [
    {
     "data": {
      "text/html": [
       "<table style=\"width: 100%\"><tr><td style=\"text-align: left\">💍</td><td style=\"text-align: left\"></td><td style=\"text-align: left\"></td><td style=\"text-align: left\"></td><td style=\"text-align: left\"></td><td style=\"text-align: left\"></td><td style=\"text-align: left\"></td><td style=\"text-align: left\"></td><td style=\"text-align: left\"></td><td style=\"text-align: left\">🚗🎱</td></tr><tr><td style=\"text-align: left\">🎱</td><td style=\"text-align: left\"></td><td style=\"text-align: left\"></td><td style=\"text-align: left\"></td><td style=\"text-align: left\"></td><td style=\"text-align: left\"></td><td style=\"text-align: left\"></td><td style=\"text-align: left\"></td><td style=\"text-align: left\">🚗😈</td><td style=\"text-align: left\">🚗⛪</td></tr><tr><td style=\"text-align: left\">⛪</td><td style=\"text-align: left\"></td><td style=\"text-align: left\"></td><td style=\"text-align: left\"></td><td style=\"text-align: left\"></td><td style=\"text-align: left\"></td><td style=\"text-align: left\"></td><td style=\"text-align: left\">🚗🛫</td><td style=\"text-align: left\">🚗🏫</td><td style=\"text-align: left\">🚗😈</td></tr><tr><td style=\"text-align: left\">😈</td><td style=\"text-align: left\"></td><td style=\"text-align: left\"></td><td style=\"text-align: left\"></td><td style=\"text-align: left\"></td><td style=\"text-align: left\"></td><td style=\"text-align: left\">🚗✍</td><td style=\"text-align: left\">🚗🍻</td><td style=\"text-align: left\">🚗🛫</td><td style=\"text-align: left\">🚗🏫</td></tr><tr><td style=\"text-align: left\">🏫</td><td style=\"text-align: left\"></td><td style=\"text-align: left\"></td><td style=\"text-align: left\"></td><td style=\"text-align: left\"></td><td style=\"text-align: left\">🚗🎲</td><td style=\"text-align: left\">🚗🚗</td><td style=\"text-align: left\">🚗✍</td><td style=\"text-align: left\">🚗🍻</td><td style=\"text-align: left\">🚗🛫</td></tr><tr><td style=\"text-align: left\">🛫</td><td style=\"text-align: left\"></td><td style=\"text-align: left\"></td><td style=\"text-align: left\"></td><td style=\"text-align: left\">🎱</td><td style=\"text-align: left\">💍</td><td style=\"text-align: left\">🚗🎲</td><td style=\"text-align: left\">🚗🚗</td><td style=\"text-align: left\">🚗✍</td><td style=\"text-align: left\">🚗🍻</td></tr><tr><td style=\"text-align: left\">🍻</td><td style=\"text-align: left\"></td><td style=\"text-align: left\"></td><td style=\"text-align: left\">😈</td><td style=\"text-align: left\">⛪</td><td style=\"text-align: left\">🎱</td><td style=\"text-align: left\">💍</td><td style=\"text-align: left\">🚗🎲</td><td style=\"text-align: left\">🚗🚗</td><td style=\"text-align: left\">🚗✍</td></tr><tr><td style=\"text-align: left\">✍</td><td style=\"text-align: left\"></td><td style=\"text-align: left\">🛫</td><td style=\"text-align: left\">🏫</td><td style=\"text-align: left\">😈</td><td style=\"text-align: left\">⛪</td><td style=\"text-align: left\">🎱</td><td style=\"text-align: left\">💍</td><td style=\"text-align: left\">🚗🎲</td><td style=\"text-align: left\">🚗🚗</td></tr><tr><td style=\"text-align: left\">🚗</td><td style=\"text-align: left\">✍</td><td style=\"text-align: left\">🍻</td><td style=\"text-align: left\">🛫</td><td style=\"text-align: left\">🏫</td><td style=\"text-align: left\">😈</td><td style=\"text-align: left\">⛪</td><td style=\"text-align: left\">🎱</td><td style=\"text-align: left\">💍</td><td style=\"text-align: left\">🚗🎲</td></tr><tr><td style=\"text-align: left\">🎲</td><td style=\"text-align: left\">🚗</td><td style=\"text-align: left\">✍</td><td style=\"text-align: left\">🍻</td><td style=\"text-align: left\">🛫</td><td style=\"text-align: left\">🏫</td><td style=\"text-align: left\">😈</td><td style=\"text-align: left\">⛪</td><td style=\"text-align: left\">🎱</td><td style=\"text-align: left\">💍</td></tr></table>"
      ],
      "text/plain": [
       "<IPython.core.display.HTML object>"
      ]
     },
     "metadata": {},
     "output_type": "display_data"
    }
   ],
   "source": [
    "R = mapMatrixToIcons(A)\n",
    "\n",
    "printTable(np.flip(R, 0))"
   ]
  },
  {
   "cell_type": "markdown",
   "id": "cfe85db1",
   "metadata": {},
   "source": [
    "#### Dictionary"
   ]
  },
  {
   "cell_type": "code",
   "execution_count": 22,
   "id": "743009bc",
   "metadata": {},
   "outputs": [],
   "source": [
    "def mapDictionaryToIcons(D):\n",
    "    keysWithIcons = [(number, mapNumberToIcons(number)) for number in D.keys()]\n",
    "    R = { icon: [] for key, icon in keysWithIcons }\n",
    "    \n",
    "    for key, icon in keysWithIcons:\n",
    "        numbersVariations = D[key]\n",
    "        \n",
    "        for numbers in numbersVariations:\n",
    "            R[icon].append('%s + %s' %(mapNumberToIcons(numbers[0]), mapNumberToIcons(numbers[1])))\n",
    "    \n",
    "    return R"
   ]
  },
  {
   "cell_type": "code",
   "execution_count": 23,
   "id": "2a2aab7a",
   "metadata": {},
   "outputs": [
    {
     "data": {
      "text/html": [
       "<table style=\"width: 100%\"><tr><td style=\"text-align: left\">🎲</td></tr><tr><td style=\"text-align: left\">🚗</td></tr><tr><td style=\"text-align: left\">✍</td><td style=\"text-align: left\">🚗 + 🚗</td></tr><tr><td style=\"text-align: left\">🍻</td><td style=\"text-align: left\">🚗 + ✍</td></tr><tr><td style=\"text-align: left\">🛫</td><td style=\"text-align: left\">🚗 + 🍻</td><td style=\"text-align: left\">✍ + ✍</td></tr><tr><td style=\"text-align: left\">🏫</td><td style=\"text-align: left\">🚗 + 🛫</td><td style=\"text-align: left\">✍ + 🍻</td></tr><tr><td style=\"text-align: left\">😈</td><td style=\"text-align: left\">🚗 + 🏫</td><td style=\"text-align: left\">✍ + 🛫</td><td style=\"text-align: left\">🍻 + 🍻</td></tr><tr><td style=\"text-align: left\">⛪</td><td style=\"text-align: left\">🚗 + 😈</td><td style=\"text-align: left\">✍ + 🏫</td><td style=\"text-align: left\">🍻 + 🛫</td></tr><tr><td style=\"text-align: left\">🎱</td><td style=\"text-align: left\">🚗 + ⛪</td><td style=\"text-align: left\">✍ + 😈</td><td style=\"text-align: left\">🍻 + 🏫</td><td style=\"text-align: left\">🛫 + 🛫</td></tr><tr><td style=\"text-align: left\">💍</td><td style=\"text-align: left\">🚗 + 🎱</td><td style=\"text-align: left\">✍ + ⛪</td><td style=\"text-align: left\">🍻 + 😈</td><td style=\"text-align: left\">🛫 + 🏫</td></tr><tr><td style=\"text-align: left\">🚗🎲</td><td style=\"text-align: left\">🚗 + 💍</td><td style=\"text-align: left\">✍ + 🎱</td><td style=\"text-align: left\">🍻 + ⛪</td><td style=\"text-align: left\">🛫 + 😈</td><td style=\"text-align: left\">🏫 + 🏫</td></tr><tr><td style=\"text-align: left\">🚗🚗</td><td style=\"text-align: left\">✍ + 💍</td><td style=\"text-align: left\">🍻 + 🎱</td><td style=\"text-align: left\">🛫 + ⛪</td><td style=\"text-align: left\">🏫 + 😈</td></tr><tr><td style=\"text-align: left\">🚗✍</td><td style=\"text-align: left\">🍻 + 💍</td><td style=\"text-align: left\">🛫 + 🎱</td><td style=\"text-align: left\">🏫 + ⛪</td><td style=\"text-align: left\">😈 + 😈</td></tr><tr><td style=\"text-align: left\">🚗🍻</td><td style=\"text-align: left\">🛫 + 💍</td><td style=\"text-align: left\">🏫 + 🎱</td><td style=\"text-align: left\">😈 + ⛪</td></tr><tr><td style=\"text-align: left\">🚗🛫</td><td style=\"text-align: left\">🏫 + 💍</td><td style=\"text-align: left\">😈 + 🎱</td><td style=\"text-align: left\">⛪ + ⛪</td></tr><tr><td style=\"text-align: left\">🚗🏫</td><td style=\"text-align: left\">😈 + 💍</td><td style=\"text-align: left\">⛪ + 🎱</td></tr><tr><td style=\"text-align: left\">🚗😈</td><td style=\"text-align: left\">⛪ + 💍</td><td style=\"text-align: left\">🎱 + 🎱</td></tr><tr><td style=\"text-align: left\">🚗⛪</td><td style=\"text-align: left\">🎱 + 💍</td></tr><tr><td style=\"text-align: left\">🚗🎱</td><td style=\"text-align: left\">💍 + 💍</td></tr><tr><td style=\"text-align: left\">🚗💍</td></tr></table>"
      ],
      "text/plain": [
       "<IPython.core.display.HTML object>"
      ]
     },
     "metadata": {},
     "output_type": "display_data"
    }
   ],
   "source": [
    "R = mapDictionaryToIcons(additionDictionary)\n",
    "\n",
    "printDictionary(R)"
   ]
  },
  {
   "cell_type": "markdown",
   "id": "c2241c30",
   "metadata": {},
   "source": [
    "### Tests"
   ]
  },
  {
   "cell_type": "code",
   "execution_count": 26,
   "id": "05b4c5de",
   "metadata": {},
   "outputs": [],
   "source": [
    "def runTests(quantity = 1, maxLevel = 9):\n",
    "    for i in range(0, quantity):\n",
    "        numberToQuestion = random.randint(2, maxLevel)\n",
    "        terms = getNumberTerms(numberToQuestion)\n",
    "        randomIndex = random.randint(0, len(terms) - 1)\n",
    "        termsToAsk = terms[randomIndex]\n",
    "        isNotReversed = bool(random.getrandbits(1))\n",
    "        num1 = termsToAsk[0] if isNotReversed else termsToAsk[1]\n",
    "        num2 = termsToAsk[1] if isNotReversed else termsToAsk[0]\n",
    "        \n",
    "        answer = int(input('%s + %s equals to ' %(mapNumberToIcons(num1), mapNumberToIcons(num2))))\n",
    "        \n",
    "        if answer == numberToQuestion:\n",
    "            print(\"True\")\n",
    "        else:\n",
    "            print('False')"
   ]
  },
  {
   "cell_type": "code",
   "execution_count": 28,
   "id": "39448b08",
   "metadata": {},
   "outputs": [
    {
     "name": "stdout",
     "output_type": "stream",
     "text": [
      "😈 + 🛫 equals to 10\n",
      "True\n",
      "🚗 + 🚗 equals to 2\n",
      "True\n",
      "🚗 + 🍻 equals to 4\n",
      "True\n"
     ]
    }
   ],
   "source": [
    "runTests(3, 10)"
   ]
  }
 ],
 "metadata": {
  "kernelspec": {
   "display_name": "Python 3 (ipykernel)",
   "language": "python",
   "name": "python3"
  },
  "language_info": {
   "codemirror_mode": {
    "name": "ipython",
    "version": 3
   },
   "file_extension": ".py",
   "mimetype": "text/x-python",
   "name": "python",
   "nbconvert_exporter": "python",
   "pygments_lexer": "ipython3",
   "version": "3.9.13"
  }
 },
 "nbformat": 4,
 "nbformat_minor": 5
}
