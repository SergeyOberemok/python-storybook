{
 "cells": [
  {
   "cell_type": "code",
   "execution_count": null,
   "id": "c0aefd33",
   "metadata": {},
   "outputs": [],
   "source": [
    "quantity = 1\n",
    "unitPrice = 51051\n",
    "\n",
    "netAmount = 51051\n",
    "taxAmount = 9190\n",
    "\n",
    "totalAmount = 60241"
   ]
  }
 ],
 "metadata": {
  "kernelspec": {
   "display_name": "Python 3 (ipykernel)",
   "language": "python",
   "name": "python3"
  },
  "language_info": {
   "codemirror_mode": {
    "name": "ipython",
    "version": 3
   },
   "file_extension": ".py",
   "mimetype": "text/x-python",
   "name": "python",
   "nbconvert_exporter": "python",
   "pygments_lexer": "ipython3",
   "version": "3.9.12"
  }
 },
 "nbformat": 4,
 "nbformat_minor": 5
}
