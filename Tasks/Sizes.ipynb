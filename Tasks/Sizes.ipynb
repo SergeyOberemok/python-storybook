{
 "cells": [
  {
   "cell_type": "code",
   "execution_count": 35,
   "id": "67d572f9-6531-4e42-a15a-0a7e7c1a0962",
   "metadata": {},
   "outputs": [],
   "source": [
    "letters = ['b', 'k', 'm', 'g', 't']"
   ]
  },
  {
   "cell_type": "code",
   "execution_count": 32,
   "id": "22290a23-fc48-499f-a13b-412f9d2b8f17",
   "metadata": {},
   "outputs": [
    {
     "data": {
      "text/plain": [
       "[(1, 1024, 0, 'b'),\n",
       " (1024, 1024, 1, 'k'),\n",
       " (1048576, 1024, 2, 'm'),\n",
       " (1073741824, 1024, 3, 'g'),\n",
       " (1099511627776, 1024, 4, 't')]"
      ]
     },
     "execution_count": 32,
     "metadata": {},
     "output_type": "execute_result"
    }
   ],
   "source": [
    "base = 2 ** 10 # 1024\n",
    "\n",
    "sizesValues = [[base ** i, base, i] for i in range(5)]\n",
    "bytes, bases, extents = list(zip(*sizesValues))\n",
    "list(zip(bytes, bases, extents, letters))"
   ]
  },
  {
   "cell_type": "code",
   "execution_count": 36,
   "id": "7f208d50-97b9-4594-a851-b23bcaf8d534",
   "metadata": {},
   "outputs": [
    {
     "data": {
      "text/plain": [
       "[(1, 2, 0, 'b'),\n",
       " (1024, 2, 10, 'k'),\n",
       " (1048576, 2, 20, 'm'),\n",
       " (1073741824, 2, 30, 'g'),\n",
       " (1099511627776, 2, 40, 't')]"
      ]
     },
     "execution_count": 36,
     "metadata": {},
     "output_type": "execute_result"
    }
   ],
   "source": [
    "base = 2\n",
    "\n",
    "sizesValues = [[base ** extent, base, extent] for extent in range(0, 50, 10)]\n",
    "bytes, bases, extents = list(zip(*sizesValues))\n",
    "list(zip(bytes, bases, extents, letters))"
   ]
  },
  {
   "cell_type": "code",
   "execution_count": 40,
   "id": "93b1045a-2791-4b40-9f7a-91a939d96fbf",
   "metadata": {},
   "outputs": [
    {
     "data": {
      "text/plain": [
       "[(1, 0),\n",
       " (2, 1),\n",
       " (4, 2),\n",
       " (8, 3),\n",
       " (16, 4),\n",
       " (32, 5),\n",
       " (64, 6),\n",
       " (128, 7),\n",
       " (256, 8),\n",
       " (512, 9),\n",
       " (1024, 10),\n",
       " (2048, 11),\n",
       " (4096, 12)]"
      ]
     },
     "execution_count": 40,
     "metadata": {},
     "output_type": "execute_result"
    }
   ],
   "source": [
    "[(2 ** i, i) for i in range(13)]"
   ]
  },
  {
   "cell_type": "code",
   "execution_count": 49,
   "id": "65e7a12e-c577-42bb-ae2b-f8882141b34c",
   "metadata": {},
   "outputs": [
    {
     "data": {
      "text/plain": [
       "0"
      ]
     },
     "execution_count": 49,
     "metadata": {},
     "output_type": "execute_result"
    }
   ],
   "source": [
    "round(693 / (2 ** 20) * 100)"
   ]
  }
 ],
 "metadata": {
  "kernelspec": {
   "display_name": "Python 3 (ipykernel)",
   "language": "python",
   "name": "python3"
  },
  "language_info": {
   "codemirror_mode": {
    "name": "ipython",
    "version": 3
   },
   "file_extension": ".py",
   "mimetype": "text/x-python",
   "name": "python",
   "nbconvert_exporter": "python",
   "pygments_lexer": "ipython3",
   "version": "3.11.5"
  }
 },
 "nbformat": 4,
 "nbformat_minor": 5
}
