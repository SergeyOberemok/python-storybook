{
 "cells": [
  {
   "cell_type": "code",
   "execution_count": 10,
   "id": "6c06f395",
   "metadata": {},
   "outputs": [],
   "source": [
    "from IPython.display import display, Math"
   ]
  },
  {
   "cell_type": "code",
   "execution_count": 20,
   "id": "f369a024",
   "metadata": {},
   "outputs": [],
   "source": [
    "# constants\n",
    "\n",
    "exchangeRate = 55.08"
   ]
  },
  {
   "cell_type": "code",
   "execution_count": 21,
   "id": "be518d0b",
   "metadata": {},
   "outputs": [
    {
     "data": {
      "text/latex": [
       "$\\displaystyle 51816.93 \\times 55.08 = 2854076.50$"
      ],
      "text/plain": [
       "<IPython.core.display.Math object>"
      ]
     },
     "metadata": {},
     "output_type": "display_data"
    }
   ],
   "source": [
    "# PO header\n",
    "\n",
    "poHeaderCumulativeValue = 51816.93\n",
    "poHeaderCumulativeValueVolatile = poHeaderCumulativeValue * exchangeRate\n",
    "\n",
    "display(Math('%.2f \\\\times %.2f = %.2f' %(poHeaderCumulativeValue, exchangeRate, poHeaderCumulativeValueVolatile)))"
   ]
  },
  {
   "cell_type": "code",
   "execution_count": 23,
   "id": "22d22e94",
   "metadata": {},
   "outputs": [
    {
     "data": {
      "text/latex": [
       "$\\displaystyle 6340.64 \\times 55.08 = 349242.4512$"
      ],
      "text/plain": [
       "<IPython.core.display.Math object>"
      ]
     },
     "metadata": {},
     "output_type": "display_data"
    }
   ],
   "source": [
    "# Document\n",
    "\n",
    "netAmount = 6340.64\n",
    "internalTotalNetAmount = netAmount * exchangeRate\n",
    "\n",
    "display(Math('%.2f \\\\times %.2f = %.4f' %(netAmount, exchangeRate, internalTotalNetAmount)))"
   ]
  },
  {
   "cell_type": "code",
   "execution_count": 18,
   "id": "9cf899ea",
   "metadata": {},
   "outputs": [
    {
     "data": {
      "text/plain": [
       "'volatile > internal = 1'"
      ]
     },
     "metadata": {},
     "output_type": "display_data"
    }
   ],
   "source": [
    "# PO Budget rule\n",
    "\n",
    "display('volatile > internal = %g' %(poHeaderCumulativeValueVolatile > internalTotalNetAmount))"
   ]
  }
 ],
 "metadata": {
  "kernelspec": {
   "display_name": "Python 3 (ipykernel)",
   "language": "python",
   "name": "python3"
  },
  "language_info": {
   "codemirror_mode": {
    "name": "ipython",
    "version": 3
   },
   "file_extension": ".py",
   "mimetype": "text/x-python",
   "name": "python",
   "nbconvert_exporter": "python",
   "pygments_lexer": "ipython3",
   "version": "3.9.12"
  }
 },
 "nbformat": 4,
 "nbformat_minor": 5
}
