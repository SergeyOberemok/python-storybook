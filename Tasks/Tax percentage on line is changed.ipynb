{
 "cells": [
  {
   "cell_type": "code",
   "execution_count": 3,
   "id": "c5181b95",
   "metadata": {},
   "outputs": [],
   "source": [
    "from IPython.display import display, Math"
   ]
  },
  {
   "cell_type": "code",
   "execution_count": 27,
   "id": "05f5712b",
   "metadata": {},
   "outputs": [],
   "source": [
    "quantity = 1\n",
    "unitPrice = 51051\n",
    "\n",
    "netAmount = 51051\n",
    "taxPercentage = 18\n",
    "taxAmount = 9190\n",
    "\n",
    "totalAmount = 60241"
   ]
  },
  {
   "cell_type": "code",
   "execution_count": 10,
   "id": "d7cd5fc5",
   "metadata": {},
   "outputs": [
    {
     "data": {
      "text/latex": [
       "$\\displaystyle 51051 + 9190 = 60241$"
      ],
      "text/plain": [
       "<IPython.core.display.Math object>"
      ]
     },
     "metadata": {},
     "output_type": "display_data"
    }
   ],
   "source": [
    "if totalAmount == netAmount + taxAmount:\n",
    "    display(Math('%g + %g = %g' %(netAmount, taxAmount, netAmount + taxAmount)))"
   ]
  },
  {
   "cell_type": "markdown",
   "id": "d026de48",
   "metadata": {},
   "source": [
    "### Total amount"
   ]
  },
  {
   "cell_type": "code",
   "execution_count": 29,
   "id": "604395bf",
   "metadata": {},
   "outputs": [
    {
     "name": "stdout",
     "output_type": "stream",
     "text": [
      "9189\n"
     ]
    }
   ],
   "source": [
    "taxAmount = round(totalAmount - totalAmount / (1 + taxPercentage / 100)) # wrong\n",
    "\n",
    "print(taxAmount)"
   ]
  },
  {
   "cell_type": "code",
   "execution_count": 31,
   "id": "c69347c9",
   "metadata": {},
   "outputs": [
    {
     "name": "stdout",
     "output_type": "stream",
     "text": [
      "60240.18\n"
     ]
    }
   ],
   "source": [
    "taxAmount = netAmount * (taxPercentage / 100)\n",
    "totalAmount = taxAmount + netAmount\n",
    "\n",
    "print(totalAmount)"
   ]
  },
  {
   "cell_type": "markdown",
   "id": "95f34724",
   "metadata": {},
   "source": [
    "### Net amount"
   ]
  },
  {
   "cell_type": "code",
   "execution_count": 23,
   "id": "da0d0197",
   "metadata": {},
   "outputs": [
    {
     "name": "stdout",
     "output_type": "stream",
     "text": [
      "51052\n"
     ]
    }
   ],
   "source": [
    "netAmount = round(totalAmount - taxAmount) # wrong\n",
    "\n",
    "print(netAmount)"
   ]
  },
  {
   "cell_type": "code",
   "execution_count": 32,
   "id": "8f418612",
   "metadata": {},
   "outputs": [
    {
     "name": "stdout",
     "output_type": "stream",
     "text": [
      "60240\n"
     ]
    }
   ],
   "source": [
    "totalAmount = round(netAmount + taxAmount)\n",
    "\n",
    "print(totalAmount)"
   ]
  }
 ],
 "metadata": {
  "kernelspec": {
   "display_name": "Python 3 (ipykernel)",
   "language": "python",
   "name": "python3"
  },
  "language_info": {
   "codemirror_mode": {
    "name": "ipython",
    "version": 3
   },
   "file_extension": ".py",
   "mimetype": "text/x-python",
   "name": "python",
   "nbconvert_exporter": "python",
   "pygments_lexer": "ipython3",
   "version": "3.9.12"
  }
 },
 "nbformat": 4,
 "nbformat_minor": 5
}
