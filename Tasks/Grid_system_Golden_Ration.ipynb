{
 "cells": [
  {
   "cell_type": "code",
   "execution_count": 184,
   "id": "041a061e-96c4-4407-948a-78aa11a6ceb3",
   "metadata": {},
   "outputs": [],
   "source": [
    "import os\n",
    "import sys\n",
    "\n",
    "import ipywidgets as widgets\n",
    "import matplotlib.pyplot as plt\n",
    "from IPython.display import Math\n",
    "\n",
    "import sympy as sp"
   ]
  },
  {
   "cell_type": "markdown",
   "id": "76eefdbf-cf4e-4c8e-9bef-1edcaa0da9ad",
   "metadata": {},
   "source": [
    "---"
   ]
  },
  {
   "cell_type": "code",
   "execution_count": 185,
   "id": "79a6fa4d-82ca-4d5d-b51e-8ba9ae7e7652",
   "metadata": {},
   "outputs": [],
   "source": [
    "paths = [os.path.abspath(os.path.join(\"..\\\\Formulas\"))]\n",
    "\n",
    "for path in (path for path in paths if path not in sys.path):\n",
    "    sys.path.append(path)"
   ]
  },
  {
   "cell_type": "code",
   "execution_count": 186,
   "id": "62045ebf-889f-497c-a8b8-f0103789dc6e",
   "metadata": {},
   "outputs": [],
   "source": [
    "from Golden_Ration import calcGoldenRationX, goldenRationExpShort"
   ]
  },
  {
   "cell_type": "markdown",
   "id": "f5ded897-8ec9-4739-a5cb-4153cc3692ad",
   "metadata": {},
   "source": [
    "# Grid"
   ]
  },
  {
   "cell_type": "code",
   "execution_count": 187,
   "id": "16f14a5e-22b8-4ae6-a036-988379e2220e",
   "metadata": {},
   "outputs": [],
   "source": [
    "wholeWidthWidget = widgets.BoundedIntText(\n",
    "    value=2480, min=0, max=sys.maxsize, description=\"Width\"\n",
    ")"
   ]
  },
  {
   "cell_type": "code",
   "execution_count": 188,
   "id": "0ee9e6d5-0435-48dc-8730-3dd81ff01f94",
   "metadata": {},
   "outputs": [],
   "source": [
    "columnsWidget = widgets.BoundedIntText(value=8, min=1, max=16, description=\"Columns\")"
   ]
  },
  {
   "cell_type": "code",
   "execution_count": 189,
   "id": "5d7b7d44-38d0-4eec-b26d-53378959bdf3",
   "metadata": {},
   "outputs": [],
   "source": [
    "guttersWidthWidget = widgets.BoundedIntText(value=16, min=1, description=\"Gutters\")"
   ]
  },
  {
   "cell_type": "code",
   "execution_count": 190,
   "id": "553d63bb-4e51-4dad-a657-c8597fce6495",
   "metadata": {},
   "outputs": [
    {
     "data": {
      "application/vnd.jupyter.widget-view+json": {
       "model_id": "5a9858e519f340a8ac66c4c74589aec5",
       "version_major": 2,
       "version_minor": 0
      },
      "text/plain": [
       "BoundedIntText(value=2480, description='Width', max=9223372036854775807)"
      ]
     },
     "metadata": {},
     "output_type": "display_data"
    },
    {
     "data": {
      "application/vnd.jupyter.widget-view+json": {
       "model_id": "cc52f7042e9a4368ac6646036dc2db84",
       "version_major": 2,
       "version_minor": 0
      },
      "text/plain": [
       "BoundedIntText(value=8, description='Columns', max=16, min=1)"
      ]
     },
     "metadata": {},
     "output_type": "display_data"
    },
    {
     "data": {
      "application/vnd.jupyter.widget-view+json": {
       "model_id": "a571c6967e24410d9b42454901d96c6d",
       "version_major": 2,
       "version_minor": 0
      },
      "text/plain": [
       "BoundedIntText(value=16, description='Gutters', min=1)"
      ]
     },
     "metadata": {},
     "output_type": "display_data"
    }
   ],
   "source": [
    "display(wholeWidthWidget, columnsWidget, guttersWidthWidget)"
   ]
  },
  {
   "cell_type": "code",
   "execution_count": 191,
   "id": "db42044d-2c63-43a1-a0bd-b0ded11316f1",
   "metadata": {},
   "outputs": [],
   "source": [
    "marginWidth = 172\n",
    "columnsX = 3"
   ]
  },
  {
   "cell_type": "markdown",
   "id": "c5c0128e-c896-446b-8d0f-cea308e27cfc",
   "metadata": {},
   "source": [
    "# Golden ration"
   ]
  },
  {
   "cell_type": "markdown",
   "id": "c9d284f9-dfb0-4532-a7e6-7b3e77f597a9",
   "metadata": {},
   "source": [
    "## Results"
   ]
  },
  {
   "cell_type": "raw",
   "id": "e0596991-360c-417d-b5d5-e415e3efff4d",
   "metadata": {},
   "source": [
    "goldenRationCaption = widgets.Label(value=\"This a caption\")"
   ]
  },
  {
   "cell_type": "markdown",
   "id": "451f9015-3d9b-4b42-9c17-6263fc40a6ce",
   "metadata": {},
   "source": [
    "def handleWidthChange(change):\n",
    "    aValue, bValue = calcGoldenRationAB(change.new)\n",
    "    goldenRationCaption.value = f'A: {aValue} B: {bValue}'\n",
    "    \n",
    "width.observe(handleWidthChange, names='value')\n",
    "\n",
    "display(goldenRationCaption)"
   ]
  },
  {
   "cell_type": "markdown",
   "id": "f09d55ef-7157-4f88-a495-e5e9a6b326ab",
   "metadata": {},
   "source": [
    "### Vars"
   ]
  },
  {
   "cell_type": "code",
   "execution_count": 192,
   "id": "b122a40e-4093-48e6-b508-019ed6c8ad04",
   "metadata": {},
   "outputs": [],
   "source": [
    "columns, gutter, margin, whole, x = sp.symbols(\"cols, gutter, margin, w, x\")"
   ]
  },
  {
   "cell_type": "markdown",
   "id": "ac11eda0-b8b5-445d-9110-a29be62fceea",
   "metadata": {},
   "source": [
    "### Grid"
   ]
  },
  {
   "cell_type": "markdown",
   "id": "93e181cc-3cc8-4cac-bdb8-28c21df6920f",
   "metadata": {},
   "source": [
    "##### Expression"
   ]
  },
  {
   "cell_type": "code",
   "execution_count": 193,
   "id": "0635c462-0d40-42b6-83ab-b85ac71d93a1",
   "metadata": {},
   "outputs": [],
   "source": [
    "gridExp = columns * x + (columns - 1) * gutter - whole"
   ]
  },
  {
   "cell_type": "code",
   "execution_count": 194,
   "id": "c1462e84-25b3-48ef-86ef-5be4482c4322",
   "metadata": {},
   "outputs": [
    {
     "data": {
      "text/latex": [
       "$\\displaystyle cols x + gutter \\left(cols - 1\\right) - w$"
      ],
      "text/plain": [
       "<IPython.core.display.Math object>"
      ]
     },
     "metadata": {},
     "output_type": "display_data"
    }
   ],
   "source": [
    "display(Math(sp.latex(gridExp)))"
   ]
  },
  {
   "cell_type": "markdown",
   "id": "1dbf4287-c0ea-4624-b645-5d99e0ca12ed",
   "metadata": {},
   "source": [
    "##### Substituted"
   ]
  },
  {
   "cell_type": "code",
   "execution_count": 195,
   "id": "2e91de36-0e0d-42af-8aa6-13aa637e28f6",
   "metadata": {
    "editable": true,
    "slideshow": {
     "slide_type": ""
    },
    "tags": []
   },
   "outputs": [],
   "source": [
    "gridExpSubstituted = gridExp.subs(\n",
    "    {\n",
    "        columns: columnsWidget.value,\n",
    "        gutter: guttersWidthWidget.value,\n",
    "        whole: wholeWidthWidget.value - (marginWidth * 2),\n",
    "    }\n",
    ")"
   ]
  },
  {
   "cell_type": "code",
   "execution_count": 196,
   "id": "69c52dc3-5da5-4707-bf00-9248e71cbaaa",
   "metadata": {},
   "outputs": [
    {
     "data": {
      "text/latex": [
       "$\\displaystyle 8 x - 2024$"
      ],
      "text/plain": [
       "8*x - 2024"
      ]
     },
     "execution_count": 196,
     "metadata": {},
     "output_type": "execute_result"
    }
   ],
   "source": [
    "gridExpSubstituted"
   ]
  },
  {
   "cell_type": "markdown",
   "id": "32872611-fcf6-4d06-b2cb-58f80d78b71b",
   "metadata": {},
   "source": [
    "##### Result - Column width"
   ]
  },
  {
   "cell_type": "code",
   "execution_count": 197,
   "id": "b038df14-4e7e-446f-a0eb-6ea9550e09aa",
   "metadata": {},
   "outputs": [],
   "source": [
    "xResult = sp.solve(gridExpSubstituted.subs(margin, marginWidth), x)"
   ]
  },
  {
   "cell_type": "code",
   "execution_count": 198,
   "id": "69e0b880-79c5-4bb3-88bf-e76e1159e401",
   "metadata": {},
   "outputs": [
    {
     "data": {
      "text/latex": [
       "$\\displaystyle 253$"
      ],
      "text/plain": [
       "253"
      ]
     },
     "execution_count": 198,
     "metadata": {},
     "output_type": "execute_result"
    }
   ],
   "source": [
    "next(iter(xResult))"
   ]
  },
  {
   "cell_type": "markdown",
   "id": "8dd37a97-c1d4-4503-a6fc-6df7815d0551",
   "metadata": {},
   "source": [
    "### Middle line between"
   ]
  },
  {
   "cell_type": "markdown",
   "id": "e8dd4e73-6e26-455a-ab4f-57464651206a",
   "metadata": {},
   "source": [
    "##### Expression"
   ]
  },
  {
   "cell_type": "code",
   "execution_count": 199,
   "id": "14160be0-d2bf-452e-83ec-64124baf9f04",
   "metadata": {},
   "outputs": [],
   "source": [
    "middleLineBetweenExp = columns * x + gutter * (columns - 1) + gutter / 2"
   ]
  },
  {
   "cell_type": "code",
   "execution_count": 200,
   "id": "75197dd7-f2d8-41c2-be9e-9eb624788a2f",
   "metadata": {},
   "outputs": [
    {
     "data": {
      "text/latex": [
       "$\\displaystyle cols x + gutter \\left(cols - 1\\right) + \\frac{gutter}{2}$"
      ],
      "text/plain": [
       "<IPython.core.display.Math object>"
      ]
     },
     "metadata": {},
     "output_type": "display_data"
    }
   ],
   "source": [
    "display(Math(sp.latex(middleLineBetweenExp)))"
   ]
  },
  {
   "cell_type": "markdown",
   "id": "430441ba-91d1-4974-949c-82db79e3ae1e",
   "metadata": {},
   "source": [
    "##### Substituted"
   ]
  },
  {
   "cell_type": "code",
   "execution_count": 201,
   "id": "578dbed6-850e-4e7c-a722-60744012d4d4",
   "metadata": {},
   "outputs": [],
   "source": [
    "middleLineBetweenExpSubstituted = middleLineBetweenExp.subs({\n",
    "    columns: columnsX,\n",
    "    gutter: guttersWidthWidget.value,\n",
    "    x: xResult[0]\n",
    "})"
   ]
  },
  {
   "cell_type": "code",
   "execution_count": 202,
   "id": "060ef7aa-9086-49a8-ae98-e9778b42191e",
   "metadata": {},
   "outputs": [
    {
     "data": {
      "text/latex": [
       "$\\displaystyle 799$"
      ],
      "text/plain": [
       "799"
      ]
     },
     "execution_count": 202,
     "metadata": {},
     "output_type": "execute_result"
    }
   ],
   "source": [
    "middleLineBetweenExpSubstituted"
   ]
  },
  {
   "cell_type": "markdown",
   "id": "c7deff97-f073-4a09-8cb0-640ef17ccedf",
   "metadata": {},
   "source": [
    "### Plot"
   ]
  },
  {
   "cell_type": "code",
   "execution_count": 206,
   "id": "ed7ebb33-6a97-4706-aeba-419ea75685b6",
   "metadata": {},
   "outputs": [
    {
     "data": {
      "image/png": "[encoded data removed]",
      "text/plain": [
       "<Figure size 640x480 with 1 Axes>"
      ]
     },
     "metadata": {},
     "output_type": "display_data"
    },
    {
     "data": {
      "text/plain": [
       "(1320.148, 815.8520, 799)"
      ]
     },
     "execution_count": 206,
     "metadata": {},
     "output_type": "execute_result"
    }
   ],
   "source": [
    "w = wholeWidthWidget.value - (marginWidth * 2)\n",
    "goldenRation = calcGoldenRationX(w)\n",
    "\n",
    "plt.plot([0, w], [0, w - goldenRation])\n",
    "plt.plot([0, w], [0, middleLineBetweenExpSubstituted])\n",
    "\n",
    "plt.grid()\n",
    "plt.show()\n",
    "\n",
    "goldenRation, w - goldenRation, middleLineBetweenExpSubstituted"
   ]
  }
 ],
 "metadata": {
  "kernelspec": {
   "display_name": "Python [conda env:base] *",
   "language": "python",
   "name": "conda-base-py"
  },
  "language_info": {
   "codemirror_mode": {
    "name": "ipython",
    "version": 3
   },
   "file_extension": ".py",
   "mimetype": "text/x-python",
   "name": "python",
   "nbconvert_exporter": "python",
   "pygments_lexer": "ipython3",
   "version": "3.11.7"
  }
 },
 "nbformat": 4,
 "nbformat_minor": 5
}
