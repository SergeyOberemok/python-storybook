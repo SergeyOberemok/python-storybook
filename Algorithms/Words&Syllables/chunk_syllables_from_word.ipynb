{
 "cells": [
  {
   "cell_type": "code",
   "execution_count": 118,
   "id": "48a73d8e-78d4-4819-ab7b-6c864677b1b8",
   "metadata": {},
   "outputs": [],
   "source": [
    "from faker import Faker\n",
    "from textwrap import wrap\n",
    "from itertools import chain\n",
    "from functools import reduce\n",
    "from collections import defaultdict"
   ]
  },
  {
   "cell_type": "markdown",
   "id": "37dc1a32-d8b8-4399-bc19-353e48200ad3",
   "metadata": {},
   "source": [
    "---"
   ]
  },
  {
   "cell_type": "code",
   "execution_count": 120,
   "id": "8d6ecd94-657a-4776-8e9d-e8aef4ff27d3",
   "metadata": {},
   "outputs": [],
   "source": [
    "fake = Faker()"
   ]
  },
  {
   "cell_type": "code",
   "execution_count": 121,
   "id": "3c8a3b2e-03b7-409b-95c3-742234205c96",
   "metadata": {},
   "outputs": [],
   "source": [
    "word = fake.word()"
   ]
  },
  {
   "cell_type": "raw",
   "id": "02dfbb5a-1882-4899-91b3-3cee1661da72",
   "metadata": {},
   "source": [
    "print(word)"
   ]
  },
  {
   "cell_type": "markdown",
   "id": "c408cefb-8ceb-4324-995a-68061b9fb9cd",
   "metadata": {},
   "source": [
    "---"
   ]
  },
  {
   "cell_type": "markdown",
   "id": "63b85b8a-36f0-4d4f-aa48-c0641979107e",
   "metadata": {},
   "source": [
    "# Divide word into syllables for search"
   ]
  },
  {
   "cell_type": "markdown",
   "id": "2c275f9b-0126-4dc7-aa50-3f6c4612097c",
   "metadata": {},
   "source": [
    "## Spin"
   ]
  },
  {
   "cell_type": "markdown",
   "id": "bcfdcbeb-f4c8-4999-bd81-e4826c81a917",
   "metadata": {},
   "source": [
    "### Spin word"
   ]
  },
  {
   "cell_type": "markdown",
   "id": "0cc94e60-24b6-4237-bb63-82e1fabc8129",
   "metadata": {},
   "source": [
    "#### One spin"
   ]
  },
  {
   "cell_type": "code",
   "execution_count": 127,
   "id": "16bab903-29bc-4798-a003-e645467e6230",
   "metadata": {},
   "outputs": [],
   "source": [
    "def spinWord(word: str) -> str:\n",
    "    firstLetter = word[0]\n",
    "    rest = word[1:]\n",
    "    return ''.join([rest, firstLetter])"
   ]
  },
  {
   "cell_type": "raw",
   "id": "fdf0abe2-afcf-4909-b87b-1eb883ecb2ff",
   "metadata": {},
   "source": [
    "print(word, spinWord(word), spinWord(spinWord(spinWord(spinWord(spinWord(spinWord(word)))))))"
   ]
  },
  {
   "cell_type": "markdown",
   "id": "a588e8e1-162c-40a0-bc80-897071a7e127",
   "metadata": {},
   "source": [
    "#### Spin around"
   ]
  },
  {
   "cell_type": "code",
   "execution_count": 129,
   "id": "4a30fab3-e7df-4ffd-9b79-64eae306c66c",
   "metadata": {},
   "outputs": [],
   "source": [
    "def spinWordAround(word: str) -> list[str]:\n",
    "    originalWord = word\n",
    "    spunList = [originalWord]\n",
    "    spun = spinWord(word)\n",
    "\n",
    "    while originalWord != spun:\n",
    "        spunList.append(spun)\n",
    "        spun = spinWord(spun)\n",
    "\n",
    "    return spunList"
   ]
  },
  {
   "cell_type": "raw",
   "id": "86e40367-b1c5-4777-8008-adcf684fec4d",
   "metadata": {},
   "source": [
    "print(spinWordAround(word))"
   ]
  },
  {
   "cell_type": "markdown",
   "id": "3af6a54c-c8ce-45c4-9a69-895cd874b35a",
   "metadata": {},
   "source": [
    "## Chunk"
   ]
  },
  {
   "cell_type": "markdown",
   "id": "cd112311-7a6c-4a72-a52f-e3343482ffb3",
   "metadata": {},
   "source": [
    "### syllables"
   ]
  },
  {
   "cell_type": "code",
   "execution_count": 132,
   "id": "1e8f643e-7163-407c-8e55-70144a0eefc0",
   "metadata": {},
   "outputs": [],
   "source": [
    "def getSyllables(word: str, length: int) -> list[str]:\n",
    "    syllables = wrap(word, length)\n",
    "    return list(filter(lambda syllable: len(syllable) == length, syllables))\n",
    "\n",
    "\n",
    "def getDiphthongs(word: str) -> list[str]:\n",
    "    return getSyllables(word, 2)\n",
    "\n",
    "\n",
    "def getTriphthongs(word: str) -> list[str]:\n",
    "    return getSyllables(word, 3)"
   ]
  },
  {
   "cell_type": "raw",
   "id": "a8fa9b3f-e95a-41ba-a9a4-3127f0deba82",
   "metadata": {},
   "source": [
    "print(getSyllables(word, 2), getDiphthongs(word), getTriphthongs(word))"
   ]
  },
  {
   "cell_type": "markdown",
   "id": "5e074c1d-3564-44d9-b7fb-e44c9b413afa",
   "metadata": {},
   "source": [
    "## Flatten"
   ]
  },
  {
   "cell_type": "markdown",
   "id": "2a8b60b0-8194-4983-9dbb-47a34099017f",
   "metadata": {},
   "source": [
    "### Chunk of syllables"
   ]
  },
  {
   "cell_type": "code",
   "execution_count": 135,
   "id": "7179fc16-2caa-453b-9f8f-1ff1cc487fc9",
   "metadata": {},
   "outputs": [],
   "source": [
    "def flattenSyllables(syllables: list[list[str]]) -> list[str]:\n",
    "    return list(chain.from_iterable(syllables))"
   ]
  },
  {
   "cell_type": "raw",
   "id": "f7084576-2de3-41ea-809e-4f3bb56bce46",
   "metadata": {},
   "source": [
    "print(flattenSyllables([getDiphthongs(word), getTriphthongs(word)]))"
   ]
  },
  {
   "cell_type": "code",
   "execution_count": 136,
   "id": "5dd46236-4384-4866-8fc9-eee284c961db",
   "metadata": {},
   "outputs": [],
   "source": [
    "def divideIntoSyllables(word: str) -> list[str]:\n",
    "    spins = spinWordAround(word)\n",
    "    diphthongs = [getDiphthongs(spun) for spun in spins]\n",
    "    triphthongs = [getTriphthongs(spun) for spun in spins]\n",
    "    syllables = flattenSyllables([*sorted(triphthongs), *sorted(diphthongs)])\n",
    "    existed = list(filter(lambda syllable: syllable in word, syllables))\n",
    "    unique = reduce(lambda acc, i: acc + [i] if i not in acc else acc, existed, [])\n",
    "    return unique"
   ]
  },
  {
   "cell_type": "raw",
   "id": "158333de-fa53-4caf-96fa-e54e25a895f1",
   "metadata": {},
   "source": [
    "print(divideIntoSyllables(word))"
   ]
  },
  {
   "cell_type": "markdown",
   "id": "62177ec8-6e27-421e-ba24-e1cf07bf615a",
   "metadata": {},
   "source": [
    "## Frequencies"
   ]
  },
  {
   "cell_type": "markdown",
   "id": "093f9800-204d-445f-9c74-b727172d0fb9",
   "metadata": {},
   "source": [
    "### Count syllables"
   ]
  },
  {
   "cell_type": "code",
   "execution_count": 139,
   "id": "db645c58-5f53-48c8-bc47-0757a05c832c",
   "metadata": {},
   "outputs": [],
   "source": [
    "def countSyllables(words: list[str]) -> dict[str, int]:\n",
    "    syllablesFrequencies = defaultdict(int)\n",
    "    \n",
    "    for word in words:\n",
    "        for syllable in divideIntoSyllables(word):\n",
    "                syllablesFrequencies[syllable] += 1\n",
    "\n",
    "    return syllablesFrequencies"
   ]
  },
  {
   "cell_type": "raw",
   "id": "b2febfe1-e292-46b3-be69-65b5ba0e0521",
   "metadata": {},
   "source": [
    "print(countSyllables(fake.words()))"
   ]
  },
  {
   "cell_type": "code",
   "execution_count": 140,
   "id": "eb0b434a-9380-4d86-ad22-d1ecc31b4ce8",
   "metadata": {},
   "outputs": [],
   "source": [
    "def percentageToNumber(total: int, percent: int) -> int:\n",
    "    return round(total * percent / 100)"
   ]
  },
  {
   "cell_type": "raw",
   "id": "39984a98-a739-4660-b966-6032f2534213",
   "metadata": {},
   "source": [
    "print(percentageToNumber(4, 25))"
   ]
  },
  {
   "cell_type": "markdown",
   "id": "367606ae-f59a-407a-b233-c9f2a3788110",
   "metadata": {},
   "source": [
    "### Merge and sort"
   ]
  },
  {
   "cell_type": "code",
   "execution_count": 145,
   "id": "fa9e8314-18ac-4c09-bbd2-10656c889a4c",
   "metadata": {},
   "outputs": [],
   "source": [
    "def getSyllablesFrequencies(words: list[str], minFrequencyPercentage: int = 0) -> dict[str, int]:\n",
    "    syllablesFrequencies = countSyllables(words)\n",
    "    sortedAlphabetically = sorted(syllablesFrequencies)\n",
    "    sortedByLength = sorted(sortedAlphabetically, key=len, reverse=True)\n",
    "    sortedByFrequency = sorted(sortedByLength, key=syllablesFrequencies.get, reverse=True)\n",
    "    minFrequency = percentageToNumber(max(syllablesFrequencies.values()), minFrequencyPercentage)\n",
    "    syllablesFrequenciesDict = dict([(syllable, syllablesFrequencies[syllable]) for syllable in sortedByFrequency if syllablesFrequencies[syllable] >= minFrequency])\n",
    "    \n",
    "    return syllablesFrequenciesDict"
   ]
  },
  {
   "cell_type": "raw",
   "id": "e77bc023-024f-4d4e-8f1f-48d227d7ce7b",
   "metadata": {},
   "source": [
    "print(getSyllablesFrequencies(fake.words()))"
   ]
  }
 ],
 "metadata": {
  "jupytext": {
   "formats": "ipynb,py:light"
  },
  "kernelspec": {
   "display_name": "Python 3 (ipykernel)",
   "language": "python",
   "name": "python3"
  },
  "language_info": {
   "codemirror_mode": {
    "name": "ipython",
    "version": 3
   },
   "file_extension": ".py",
   "mimetype": "text/x-python",
   "name": "python",
   "nbconvert_exporter": "python",
   "pygments_lexer": "ipython3",
   "version": "3.11.10"
  }
 },
 "nbformat": 4,
 "nbformat_minor": 5
}
