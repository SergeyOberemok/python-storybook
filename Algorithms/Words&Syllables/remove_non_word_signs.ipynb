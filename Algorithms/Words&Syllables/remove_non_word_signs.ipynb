{
 "cells": [
  {
   "cell_type": "code",
   "execution_count": 13,
   "id": "e9ac511d-e41d-4b41-80ac-ae9b10750b81",
   "metadata": {},
   "outputs": [],
   "source": [
    "import re\n",
    "from faker import Faker"
   ]
  },
  {
   "cell_type": "markdown",
   "id": "c9559394-d33b-43bd-a0c8-66b9642697c7",
   "metadata": {},
   "source": [
    "---"
   ]
  },
  {
   "cell_type": "code",
   "execution_count": 15,
   "id": "1dcbbfdb-5ef7-4818-aef3-0cae0c0cef37",
   "metadata": {},
   "outputs": [],
   "source": [
    "fake = Faker()\n",
    "text = 'and IBM’s newly-announced partnership with UFC 2024.'"
   ]
  },
  {
   "cell_type": "markdown",
   "id": "9435328c-1ff2-4319-b28d-b73541571464",
   "metadata": {},
   "source": [
    "### Remove non word signs"
   ]
  },
  {
   "cell_type": "code",
   "execution_count": 17,
   "id": "93d92196-e568-47e4-9585-38ca7b29226b",
   "metadata": {},
   "outputs": [],
   "source": [
    "def removeNonWordSigns(text: str) -> str:\n",
    "    text = text.replace('-', ' ')\n",
    "    text = re.sub(r'\\d+', '', text)\n",
    "    text = re.sub(r'[^\\w]+\\w\\b', '', text, flags=re.UNICODE) # 's\n",
    "    text = re.sub(r'[^\\w\\s]', '', text)\n",
    "    return text.replace('\\n', ' ')"
   ]
  },
  {
   "cell_type": "raw",
   "id": "1e1bd76c-3548-4813-9081-db27d5651777",
   "metadata": {},
   "source": [
    "print(removeNonWordSigns(text))"
   ]
  }
 ],
 "metadata": {
  "jupytext": {
   "formats": "ipynb,auto:light"
  },
  "kernelspec": {
   "display_name": "Python 3 (ipykernel)",
   "language": "python",
   "name": "python3"
  },
  "language_info": {
   "codemirror_mode": {
    "name": "ipython",
    "version": 3
   },
   "file_extension": ".py",
   "mimetype": "text/x-python",
   "name": "python",
   "nbconvert_exporter": "python",
   "pygments_lexer": "ipython3",
   "version": "3.11.10"
  }
 },
 "nbformat": 4,
 "nbformat_minor": 5
}
