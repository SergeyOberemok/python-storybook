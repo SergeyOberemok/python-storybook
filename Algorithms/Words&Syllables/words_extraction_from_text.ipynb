{
 "cells": [
  {
   "cell_type": "code",
   "execution_count": 1,
   "id": "6afc044e-f1fa-4799-ac49-baa9291392dc",
   "metadata": {},
   "outputs": [],
   "source": [
    "from faker import Faker\n",
    "import re\n",
    "from collections import defaultdict\n",
    "from typing import Iterator\n",
    "from remove_non_word_signs import removeNonWordSigns"
   ]
  },
  {
   "cell_type": "markdown",
   "id": "b1a0a679-9cc4-48ea-bbd3-f86961ef7bae",
   "metadata": {},
   "source": [
    "---"
   ]
  },
  {
   "cell_type": "code",
   "execution_count": 4,
   "id": "e3916e5b-366f-4a61-9210-91341163f983",
   "metadata": {},
   "outputs": [],
   "source": [
    "fake = Faker()\n",
    "text = fake.text(max_nb_chars=1000)"
   ]
  },
  {
   "cell_type": "raw",
   "id": "7df27d0e-1df0-4caf-9c81-055b66b52979",
   "metadata": {},
   "source": [
    "print(text)"
   ]
  },
  {
   "cell_type": "markdown",
   "id": "783d4ffe-78fe-410a-89cc-072a94c53c56",
   "metadata": {},
   "source": [
    "### Text to Words"
   ]
  },
  {
   "cell_type": "code",
   "execution_count": 8,
   "id": "767b1445-8789-4079-b9ab-573c37a615b3",
   "metadata": {},
   "outputs": [],
   "source": [
    "def toWords(text: str) -> list[str]:\n",
    "    return sorted(re.findall(r'\\w+', text.lower()))"
   ]
  },
  {
   "cell_type": "raw",
   "id": "e9d88357-226d-4066-bbae-aa2cb23ca786",
   "metadata": {},
   "source": [
    "print(toWords(text))"
   ]
  },
  {
   "cell_type": "markdown",
   "id": "ba3bd4ea-5746-4304-95fa-99494cace8e4",
   "metadata": {},
   "source": [
    "## Frequencies"
   ]
  },
  {
   "cell_type": "markdown",
   "id": "7f5ba4d4-2789-4cad-b288-79af345a275b",
   "metadata": {},
   "source": [
    "### Simple"
   ]
  },
  {
   "cell_type": "code",
   "execution_count": 11,
   "id": "fd315bd5-cc58-4869-a99e-e757cd7db151",
   "metadata": {},
   "outputs": [],
   "source": [
    "def toFrequencyDictionary(words: list[str]) -> dict[str, int]:\n",
    "    wordsFrequencies = defaultdict(int)\n",
    "\n",
    "    for word in words:\n",
    "        wordsFrequencies[word] += 1\n",
    "    \n",
    "    return wordsFrequencies"
   ]
  },
  {
   "cell_type": "raw",
   "id": "fe6015d3-2696-4e59-aeb4-650e4deb9ce5",
   "metadata": {},
   "source": [
    "print(toFrequencyDictionary(words))"
   ]
  },
  {
   "cell_type": "markdown",
   "id": "d08de694-24be-4bb1-acd1-2a1c2a95bc0a",
   "metadata": {},
   "source": [
    "### Accumulate"
   ]
  },
  {
   "cell_type": "code",
   "execution_count": 13,
   "id": "61b063da-7c73-4648-b214-8a28e253584a",
   "metadata": {},
   "outputs": [],
   "source": [
    "def reduceWordsFrequencies(acc: defaultdict[str, int], wordsFrequencies: dict[str, int]) -> dict[str, int]:\n",
    "    for word in wordsFrequencies:\n",
    "        acc[word] += wordsFrequencies[word]\n",
    "    \n",
    "    return acc"
   ]
  },
  {
   "cell_type": "raw",
   "id": "63368db5-5f80-4b70-a0fd-a043036550e5",
   "metadata": {},
   "source": [
    "print(reduceWordsFrequencies(defaultdict(int, { 'hello': 2 }), { 'hello': 2, 'world': 4 }))"
   ]
  },
  {
   "cell_type": "markdown",
   "id": "18b1a665-4a8b-464d-a257-2ddef927ac08",
   "metadata": {},
   "source": [
    "### Sorting"
   ]
  },
  {
   "cell_type": "code",
   "execution_count": 15,
   "id": "c0ead9ee-aa11-4068-a172-99b95a0ff177",
   "metadata": {},
   "outputs": [],
   "source": [
    "def sortWordsFrequenciesByFrequency(wordsFrequencies: dict[str, int]) -> dict[str, int]:\n",
    "    sortedAlphabetically = dict(sorted(wordsFrequencies.items()))\n",
    "    sortedByFrequency = sorted(sortedAlphabetically, key=wordsFrequencies.get, reverse=True)\n",
    "    wordsFrequenciesDict = dict([(word, wordsFrequencies[word]) for word in sortedByFrequency])\n",
    "\n",
    "    return wordsFrequenciesDict"
   ]
  },
  {
   "cell_type": "raw",
   "id": "17b4dc96-2cd0-4f42-a8a8-d814a21909a3",
   "metadata": {},
   "source": [
    "print(sortWordsFrequenciesByFrequency(toFrequencyDictionary(words)))"
   ]
  },
  {
   "cell_type": "markdown",
   "id": "0b8262b8-a874-4b2c-b510-b9fa295291ae",
   "metadata": {},
   "source": [
    "## Text to words and frequencies"
   ]
  },
  {
   "cell_type": "markdown",
   "id": "a9940462-7d9d-47d1-abc5-517875f3cc21",
   "metadata": {},
   "source": [
    "### Text"
   ]
  },
  {
   "cell_type": "code",
   "execution_count": 18,
   "id": "5765c3e8-a194-4d73-a4d7-f2dd187bf380",
   "metadata": {},
   "outputs": [],
   "source": [
    "def getWordsFrequencies(text: str) -> dict[str, int]:\n",
    "    clearedText = removeNonWordSigns(text)\n",
    "    words = toWords(clearedText)\n",
    "    wordsFrequencies = toFrequencyDictionary(words)\n",
    "\n",
    "    return wordsFrequencies"
   ]
  },
  {
   "cell_type": "raw",
   "id": "513f6dc1-5f41-4ec7-a508-8a2ac9f96efb",
   "metadata": {},
   "source": [
    "print(getWordsFrequencies(text))"
   ]
  },
  {
   "cell_type": "code",
   "execution_count": 19,
   "id": "a0eba2e8-8c78-447d-b452-ae2cb6418cff",
   "metadata": {},
   "outputs": [],
   "source": [
    "def getWordsFrequenciesFromText(text: str) -> dict[str, int]:\n",
    "    wordsFrequencies = getWordsFrequencies(text)\n",
    "    sortedWordsFrequencies = sortWordsFrequenciesByFrequency(wordsFrequencies)\n",
    "\n",
    "    return sortedWordsFrequencies"
   ]
  },
  {
   "cell_type": "raw",
   "id": "5a25c97d-d7c5-405b-a252-68b95e8c3651",
   "metadata": {},
   "source": [
    "print(getWordsFrequenciesFromText(text))"
   ]
  },
  {
   "cell_type": "markdown",
   "id": "71cb3b12-b679-4c80-8832-5c1d601ace8a",
   "metadata": {},
   "source": [
    "### Lines"
   ]
  },
  {
   "cell_type": "code",
   "execution_count": 21,
   "id": "ea863b10-393a-4e32-adea-38defd9efbcc",
   "metadata": {},
   "outputs": [],
   "source": [
    "def getAndReduceWordsFrequencies(lines: Iterator[str]) -> dict[str, int]:\n",
    "    allWordsFrequencies = defaultdict(int)\n",
    "    \n",
    "    for line in lines:\n",
    "        wordsFrequencies = getWordsFrequencies(line)\n",
    "        allWordsFrequencies = reduceWordsFrequencies(allWordsFrequencies, wordsFrequencies)\n",
    "\n",
    "    return allWordsFrequencies"
   ]
  },
  {
   "cell_type": "raw",
   "id": "c18f4258-01ad-4744-a9f5-bd1a1e25b153",
   "metadata": {},
   "source": [
    "print(getAndReduceWordsFrequencies(text.split('.')))"
   ]
  },
  {
   "cell_type": "code",
   "execution_count": 22,
   "id": "14c5961a-8b30-4191-8336-cf56e1992036",
   "metadata": {},
   "outputs": [],
   "source": [
    "def getWordsFrequenciesFromLines(lines: Iterator[str]) -> dict[str, int]:\n",
    "    allWordsFrequencies = getAndReduceWordsFrequencies(lines)\n",
    "    sortedAllWordsFrequencies = sortWordsFrequenciesByFrequency(allWordsFrequencies)\n",
    "    \n",
    "    return sortedAllWordsFrequencies"
   ]
  },
  {
   "cell_type": "raw",
   "id": "cca6326b-8bdf-4fdd-bdb6-d1be6791fe5b",
   "metadata": {},
   "source": [
    "print(getWordsFrequenciesFromLines(text.split('.')))"
   ]
  }
 ],
 "metadata": {
  "jupytext": {
   "formats": "ipynb,py:light"
  },
  "kernelspec": {
   "display_name": "Python 3 (ipykernel)",
   "language": "python",
   "name": "python3"
  },
  "language_info": {
   "codemirror_mode": {
    "name": "ipython",
    "version": 3
   },
   "file_extension": ".py",
   "mimetype": "text/x-python",
   "name": "python",
   "nbconvert_exporter": "python",
   "pygments_lexer": "ipython3",
   "version": "3.11.10"
  }
 },
 "nbformat": 4,
 "nbformat_minor": 5
}
