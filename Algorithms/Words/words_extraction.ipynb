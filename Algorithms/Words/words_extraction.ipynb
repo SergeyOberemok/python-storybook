{
 "cells": [
  {
   "cell_type": "code",
   "execution_count": 3,
   "id": "6afc044e-f1fa-4799-ac49-baa9291392dc",
   "metadata": {},
   "outputs": [],
   "source": [
    "from faker import Faker\n",
    "import re\n",
    "from collections import defaultdict"
   ]
  },
  {
   "cell_type": "code",
   "execution_count": 4,
   "id": "0cb48b62-29e5-4695-ad3a-75f9bb86ea9f",
   "metadata": {},
   "outputs": [],
   "source": [
    "fake = Faker()"
   ]
  },
  {
   "cell_type": "markdown",
   "id": "b1a0a679-9cc4-48ea-bbd3-f86961ef7bae",
   "metadata": {},
   "source": [
    "---"
   ]
  },
  {
   "cell_type": "code",
   "execution_count": 6,
   "id": "8b4991bc-4753-4bf9-857c-fd1ce94199bf",
   "metadata": {},
   "outputs": [],
   "source": [
    "text = fake.text(max_nb_chars=1000)"
   ]
  },
  {
   "cell_type": "raw",
   "id": "87e09a9f-f356-4c98-bedf-ed5032eb2d9a",
   "metadata": {},
   "source": [
    "print(text)"
   ]
  },
  {
   "cell_type": "markdown",
   "id": "081166b5-ea49-496b-9645-32e988b4ea1c",
   "metadata": {},
   "source": [
    "### Remove non word signs"
   ]
  },
  {
   "cell_type": "code",
   "execution_count": 8,
   "id": "e5bb482d-bfdc-4d3e-9085-c4ce9592307d",
   "metadata": {},
   "outputs": [],
   "source": [
    "def removeNonWordSigns(text: str) -> str:\n",
    "    return re.sub(r'[^\\w\\s]', '', text).replace('\\n', ' ')"
   ]
  },
  {
   "cell_type": "code",
   "execution_count": 9,
   "id": "e851fd89-9a51-44c6-9494-2469f707802f",
   "metadata": {},
   "outputs": [],
   "source": [
    "clearedText = removeNonWordSigns(text)"
   ]
  },
  {
   "cell_type": "raw",
   "id": "a84ea596-5030-47b5-9865-bc05bf622481",
   "metadata": {},
   "source": [
    "print(clearedText)"
   ]
  },
  {
   "cell_type": "markdown",
   "id": "783d4ffe-78fe-410a-89cc-072a94c53c56",
   "metadata": {},
   "source": [
    "### Text to Words"
   ]
  },
  {
   "cell_type": "code",
   "execution_count": 11,
   "id": "767b1445-8789-4079-b9ab-573c37a615b3",
   "metadata": {},
   "outputs": [],
   "source": [
    "def toWords(text: str) -> list[str]:\n",
    "    return sorted(re.findall(r'\\w+', text.lower()))"
   ]
  },
  {
   "cell_type": "code",
   "execution_count": 12,
   "id": "f41e8939-11d0-4b9a-a2a3-935cd088939e",
   "metadata": {},
   "outputs": [],
   "source": [
    "words = toWords(clearedText)"
   ]
  },
  {
   "cell_type": "raw",
   "id": "e9d88357-226d-4066-bbae-aa2cb23ca786",
   "metadata": {},
   "source": [
    "print(words)"
   ]
  },
  {
   "cell_type": "markdown",
   "id": "ba3bd4ea-5746-4304-95fa-99494cace8e4",
   "metadata": {},
   "source": [
    "### Frequencies"
   ]
  },
  {
   "cell_type": "code",
   "execution_count": 14,
   "id": "fd315bd5-cc58-4869-a99e-e757cd7db151",
   "metadata": {},
   "outputs": [],
   "source": [
    "def toFrequencyDictionary(words: list[str]) -> dict[str, int]:\n",
    "    wordsFrequencies = defaultdict(int)\n",
    "\n",
    "    for word in sorted(words):\n",
    "        wordsFrequencies[word] += 1\n",
    "\n",
    "    sortedByFrequency = sorted(wordsFrequencies, key=wordsFrequencies.get, reverse=True)\n",
    "    wordsFrequenciesDict = dict([(word, wordsFrequencies[word]) for word in sortedByFrequency])\n",
    "    \n",
    "    return wordsFrequenciesDict"
   ]
  },
  {
   "cell_type": "raw",
   "id": "fe6015d3-2696-4e59-aeb4-650e4deb9ce5",
   "metadata": {},
   "source": [
    "print(toFrequencyDictionary(words))"
   ]
  },
  {
   "cell_type": "code",
   "execution_count": 15,
   "id": "5765c3e8-a194-4d73-a4d7-f2dd187bf380",
   "metadata": {},
   "outputs": [],
   "source": [
    "def getWordsFrequencies(text: str) -> dict[str, int]:\n",
    "    clearedText = removeNonWordSigns(text)\n",
    "    words = toWords(clearedText)\n",
    "    wordsFrequencies = toFrequencyDictionary(words)\n",
    "\n",
    "    return wordsFrequencies"
   ]
  },
  {
   "cell_type": "raw",
   "id": "01fe4b04-d24e-4777-b9ba-c9c2be46dd8a",
   "metadata": {},
   "source": [
    "print(getWordsFrequencies(text))"
   ]
  }
 ],
 "metadata": {
  "jupytext": {
   "formats": "ipynb,py:light"
  },
  "kernelspec": {
   "display_name": "Python 3 (ipykernel)",
   "language": "python",
   "name": "python3"
  },
  "language_info": {
   "codemirror_mode": {
    "name": "ipython",
    "version": 3
   },
   "file_extension": ".py",
   "mimetype": "text/x-python",
   "name": "python",
   "nbconvert_exporter": "python",
   "pygments_lexer": "ipython3",
   "version": "3.11.5"
  }
 },
 "nbformat": 4,
 "nbformat_minor": 5
}
