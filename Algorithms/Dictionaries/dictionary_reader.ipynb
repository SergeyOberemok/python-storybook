{
 "cells": [
  {
   "cell_type": "code",
   "execution_count": 50,
   "id": "22aef960-1580-4205-8cb9-04c458542640",
   "metadata": {},
   "outputs": [],
   "source": [
    "import pandas as pd"
   ]
  },
  {
   "cell_type": "markdown",
   "id": "d92a3320-9892-4a57-92dc-17465807f4e1",
   "metadata": {},
   "source": [
    "---"
   ]
  },
  {
   "cell_type": "code",
   "execution_count": 52,
   "id": "ab703379-9fa5-49ba-af97-637a25318a82",
   "metadata": {},
   "outputs": [],
   "source": [
    "df = pd.read_csv('lemmas_60k.tsv', sep='\\t')"
   ]
  },
  {
   "cell_type": "code",
   "execution_count": 53,
   "id": "837e6455-cb11-4dbb-a92c-ffa7c65584c8",
   "metadata": {},
   "outputs": [],
   "source": [
    "df = df[['rank', 'lemma', 'PoS', 'freq']]"
   ]
  },
  {
   "cell_type": "code",
   "execution_count": 54,
   "id": "f45ec6d3-9040-42ec-acda-5ff5a9b85c94",
   "metadata": {},
   "outputs": [],
   "source": [
    "duplicated = df.duplicated()"
   ]
  },
  {
   "cell_type": "code",
   "execution_count": 55,
   "id": "a4b9f3d4-e281-4721-8cce-feed76e202a0",
   "metadata": {},
   "outputs": [
    {
     "data": {
      "text/plain": [
       "Series([], dtype: bool)"
      ]
     },
     "execution_count": 55,
     "metadata": {},
     "output_type": "execute_result"
    }
   ],
   "source": [
    "duplicated[duplicated > 0].head()"
   ]
  },
  {
   "cell_type": "code",
   "execution_count": 64,
   "id": "15929fe8-97dc-47ab-9fae-4ca62963c89a",
   "metadata": {},
   "outputs": [
    {
     "data": {
      "text/plain": [
       "Series([], dtype: bool)"
      ]
     },
     "execution_count": 64,
     "metadata": {},
     "output_type": "execute_result"
    }
   ],
   "source": [
    "duplicated.loc[lambda x: x == True].head()"
   ]
  }
 ],
 "metadata": {
  "kernelspec": {
   "display_name": "Python 3 (ipykernel)",
   "language": "python",
   "name": "python3"
  },
  "language_info": {
   "codemirror_mode": {
    "name": "ipython",
    "version": 3
   },
   "file_extension": ".py",
   "mimetype": "text/x-python",
   "name": "python",
   "nbconvert_exporter": "python",
   "pygments_lexer": "ipython3",
   "version": "3.11.10"
  }
 },
 "nbformat": 4,
 "nbformat_minor": 5
}
