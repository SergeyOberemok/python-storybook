{
 "cells": [
  {
   "cell_type": "code",
   "execution_count": 8,
   "id": "f23aa136-33c7-4634-96f3-cc4081873ca4",
   "metadata": {},
   "outputs": [],
   "source": [
    "from collections.abc import Iterable, Iterator"
   ]
  },
  {
   "cell_type": "code",
   "execution_count": 10,
   "id": "9a5a4353-79bb-43b4-b957-f3f606efa6bd",
   "metadata": {},
   "outputs": [],
   "source": [
    "from Strategies import Strategy"
   ]
  },
  {
   "cell_type": "markdown",
   "id": "47b9be49-7e5d-4024-9303-895403526751",
   "metadata": {},
   "source": [
    "## Evaluation"
   ]
  },
  {
   "cell_type": "code",
   "execution_count": 15,
   "id": "5e1513c9-e6fb-4192-a685-9419cc49d9b2",
   "metadata": {},
   "outputs": [],
   "source": [
    "class StrategiesEvaluation:\n",
    "    def __init__(self, strategies: Iterable[Strategy]):\n",
    "        self._strategies = strategies\n",
    "        self._iterator = None\n",
    "        self._item = None\n",
    "\n",
    "    def __iter__(self):\n",
    "        self._iterator = iter(self._strategies)\n",
    "\n",
    "        return self\n",
    "\n",
    "    def __next__(self):\n",
    "        self._item = next(self._iterator)\n",
    "\n",
    "        return (str(self._item), self._item.doAlgorithm())\n",
    "\n",
    "    def evaluate(self) -> Iterable:\n",
    "        return [values for values in self._strategies]"
   ]
  }
 ],
 "metadata": {
  "jupytext": {
   "formats": "ipynb,py:light"
  },
  "kernelspec": {
   "display_name": "Python [conda env:base] *",
   "language": "python",
   "name": "conda-base-py"
  },
  "language_info": {
   "codemirror_mode": {
    "name": "ipython",
    "version": 3
   },
   "file_extension": ".py",
   "mimetype": "text/x-python",
   "name": "python",
   "nbconvert_exporter": "python",
   "pygments_lexer": "ipython3",
   "version": "3.11.10"
  }
 },
 "nbformat": 4,
 "nbformat_minor": 5
}
