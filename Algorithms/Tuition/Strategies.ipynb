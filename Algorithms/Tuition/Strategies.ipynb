{
 "cells": [
  {
   "cell_type": "code",
   "execution_count": 4,
   "id": "e17b2e85-1c1f-4376-a105-842fed8214b1",
   "metadata": {},
   "outputs": [],
   "source": [
    "from abc import ABC, abstractmethod\n",
    "from typing import TypeVar, Generic, Tuple"
   ]
  },
  {
   "cell_type": "markdown",
   "id": "8855bfb1-96d8-4a64-abe0-f30f443b9e90",
   "metadata": {},
   "source": [
    "---"
   ]
  },
  {
   "cell_type": "code",
   "execution_count": 6,
   "id": "23fe58f2-dd03-4e5e-86b4-2795ee768737",
   "metadata": {},
   "outputs": [],
   "source": [
    "T = TypeVar('T')"
   ]
  },
  {
   "cell_type": "markdown",
   "id": "4095a036-bc65-4185-a1e5-69e43fafa6d9",
   "metadata": {},
   "source": [
    "---"
   ]
  },
  {
   "cell_type": "markdown",
   "id": "34f7faf0-28a1-4a2b-94e5-65a86d8e74a0",
   "metadata": {},
   "source": [
    "### Generic"
   ]
  },
  {
   "cell_type": "code",
   "execution_count": 9,
   "id": "e6fd75bc-e5fa-4461-be02-73c3a1ea563b",
   "metadata": {},
   "outputs": [],
   "source": [
    "class Strategy(ABC, Generic[T]):\n",
    "    @abstractmethod\n",
    "    def doAlgorithm(self) -> T:\n",
    "        pass"
   ]
  },
  {
   "cell_type": "code",
   "execution_count": 10,
   "id": "d3e57506-2a71-433c-9fc3-a5035cba0b15",
   "metadata": {},
   "outputs": [],
   "source": [
    "class CalculationStrategy(Generic[T], Strategy[T]):\n",
    "    def __init__(self, numbers: Tuple[T, T] = (0, 0)):\n",
    "        num1, num2 = numbers\n",
    "\n",
    "        self.num1 = num1\n",
    "        self.num2 = num2\n",
    "\n",
    "    @abstractmethod\n",
    "    def doAlgorithm(self) -> T:\n",
    "        pass"
   ]
  },
  {
   "cell_type": "markdown",
   "id": "b3742f7d-118a-489b-85b0-129970da1372",
   "metadata": {},
   "source": [
    "### Addition"
   ]
  },
  {
   "cell_type": "code",
   "execution_count": 12,
   "id": "bea947bb-341a-4819-aa70-627d1578dcaf",
   "metadata": {},
   "outputs": [],
   "source": [
    "class AdditionStrategy(Generic[T], CalculationStrategy[T]):\n",
    "    def __init__(self, numbers: Tuple[T, T] = (0, 0)):\n",
    "        super().__init__(numbers)\n",
    "\n",
    "    def doAlgorithm(self) -> T:\n",
    "        return self.num1 + self.num2\n",
    "\n",
    "    def __str__(self) -> str:\n",
    "        return \"%s + %s\" % (self.num1, self.num2)"
   ]
  },
  {
   "cell_type": "markdown",
   "id": "740ef3af-6fa7-4428-8348-283c6ae2c639",
   "metadata": {},
   "source": [
    "#### Result"
   ]
  },
  {
   "cell_type": "raw",
   "id": "86d418c5-6c92-488e-9d37-9c5614710fad",
   "metadata": {},
   "source": [
    "print(AdditionStrategy((2, 2)).doAlgorithm())"
   ]
  },
  {
   "cell_type": "markdown",
   "id": "a3ee3861-dd69-4b13-8b06-509730b11d10",
   "metadata": {},
   "source": [
    "#### ToString"
   ]
  },
  {
   "cell_type": "raw",
   "id": "5ab31e88-45c5-431a-95d2-5245cafb4f98",
   "metadata": {},
   "source": [
    "print(AdditionStrategy((2, 2)))"
   ]
  },
  {
   "cell_type": "markdown",
   "id": "10c0554b-4798-4682-aab0-a707a3e2d26b",
   "metadata": {},
   "source": [
    "### Multiplication"
   ]
  },
  {
   "cell_type": "code",
   "execution_count": 18,
   "id": "b248e5c1-d2d9-4460-be51-de06e4a143b9",
   "metadata": {},
   "outputs": [],
   "source": [
    "class MultiplicationStrategy(Generic[T], CalculationStrategy[T]):\n",
    "    def __init__(self, numbers: Tuple[T, T] = (0, 0)):\n",
    "        super().__init__(numbers)\n",
    "\n",
    "    def doAlgorithm(self) -> T:\n",
    "        return self.num1 * self.num2\n",
    "\n",
    "    def __str__(self) -> str:\n",
    "        return \"%s x %s\" % (self.num1, self.num2)"
   ]
  },
  {
   "cell_type": "markdown",
   "id": "57703220-0b74-497b-8184-087762abf226",
   "metadata": {},
   "source": [
    "#### Result"
   ]
  },
  {
   "cell_type": "raw",
   "id": "9acc9f70-bca7-481e-a755-5e8663909030",
   "metadata": {},
   "source": [
    "print(MultiplicationStrategy((2, 3)).doAlgorithm())"
   ]
  },
  {
   "cell_type": "markdown",
   "id": "1aa77e7b-897a-47a1-b0e7-da7d49591b75",
   "metadata": {},
   "source": [
    "#### ToString"
   ]
  },
  {
   "cell_type": "raw",
   "id": "890a2910-2145-4437-a22d-135012131f82",
   "metadata": {},
   "source": [
    "print(MultiplicationStrategy((2, 3)))"
   ]
  }
 ],
 "metadata": {
  "jupytext": {
   "formats": "ipynb,py:light"
  },
  "kernelspec": {
   "display_name": "Python 3 (ipykernel)",
   "language": "python",
   "name": "python3"
  },
  "language_info": {
   "codemirror_mode": {
    "name": "ipython",
    "version": 3
   },
   "file_extension": ".py",
   "mimetype": "text/x-python",
   "name": "python",
   "nbconvert_exporter": "python",
   "pygments_lexer": "ipython3",
   "version": "3.11.10"
  }
 },
 "nbformat": 4,
 "nbformat_minor": 5
}
