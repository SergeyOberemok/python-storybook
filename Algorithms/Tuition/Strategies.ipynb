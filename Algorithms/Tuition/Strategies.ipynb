{
 "cells": [
  {
   "cell_type": "code",
   "execution_count": 1,
   "id": "e17b2e85-1c1f-4376-a105-842fed8214b1",
   "metadata": {},
   "outputs": [],
   "source": [
    "from abc import ABC, abstractmethod\n",
    "from typing import TypeVar, Generic\n",
    "from collections.abc import Iterable\n",
    "from functools import reduce"
   ]
  },
  {
   "cell_type": "code",
   "execution_count": 2,
   "id": "211310a5-d6b6-456e-8a11-2f0844f4824b",
   "metadata": {},
   "outputs": [],
   "source": [
    "from Strategy import Strategy"
   ]
  },
  {
   "cell_type": "markdown",
   "id": "8855bfb1-96d8-4a64-abe0-f30f443b9e90",
   "metadata": {},
   "source": [
    "---"
   ]
  },
  {
   "cell_type": "code",
   "execution_count": 4,
   "id": "23fe58f2-dd03-4e5e-86b4-2795ee768737",
   "metadata": {},
   "outputs": [],
   "source": [
    "T = TypeVar('T')"
   ]
  },
  {
   "cell_type": "markdown",
   "id": "4095a036-bc65-4185-a1e5-69e43fafa6d9",
   "metadata": {},
   "source": [
    "---"
   ]
  },
  {
   "cell_type": "code",
   "execution_count": 6,
   "id": "d3e57506-2a71-433c-9fc3-a5035cba0b15",
   "metadata": {},
   "outputs": [],
   "source": [
    "class CalculationStrategy(Generic[T], Strategy[T]):\n",
    "    def __init__(self, numbers: Iterable[T]):\n",
    "        self._numbers = numbers\n",
    "\n",
    "    @abstractmethod\n",
    "    def doAlgorithm(self) -> T:\n",
    "        pass"
   ]
  },
  {
   "cell_type": "markdown",
   "id": "b3742f7d-118a-489b-85b0-129970da1372",
   "metadata": {},
   "source": [
    "### Addition"
   ]
  },
  {
   "cell_type": "code",
   "execution_count": 8,
   "id": "bea947bb-341a-4819-aa70-627d1578dcaf",
   "metadata": {},
   "outputs": [],
   "source": [
    "class AdditionStrategy(Generic[T], CalculationStrategy[T]):\n",
    "    def __init__(self, numbers: Iterable[T]):\n",
    "        super().__init__(numbers)\n",
    "\n",
    "    def doAlgorithm(self) -> T:\n",
    "        if not self._numbers:\n",
    "            return 0\n",
    "            \n",
    "        return sum(self._numbers)\n",
    "\n",
    "    def __str__(self) -> str:\n",
    "        return  ' + '.join(map(str, self._numbers))"
   ]
  },
  {
   "cell_type": "markdown",
   "id": "740ef3af-6fa7-4428-8348-283c6ae2c639",
   "metadata": {},
   "source": [
    "#### Result"
   ]
  },
  {
   "cell_type": "raw",
   "id": "0957bbd8-681d-4d39-b22d-0dbeb789a7bf",
   "metadata": {},
   "source": [
    "print(AdditionStrategy([1, 2]).doAlgorithm())"
   ]
  },
  {
   "cell_type": "markdown",
   "id": "a3ee3861-dd69-4b13-8b06-509730b11d10",
   "metadata": {},
   "source": [
    "#### ToString"
   ]
  },
  {
   "cell_type": "raw",
   "id": "c32cd7c7-4d8f-4096-bafe-7bd5724edbb3",
   "metadata": {},
   "source": [
    "print(AdditionStrategy((2, 2, 3)))"
   ]
  },
  {
   "cell_type": "markdown",
   "id": "10c0554b-4798-4682-aab0-a707a3e2d26b",
   "metadata": {},
   "source": [
    "### Multiplication"
   ]
  },
  {
   "cell_type": "code",
   "execution_count": 12,
   "id": "b248e5c1-d2d9-4460-be51-de06e4a143b9",
   "metadata": {},
   "outputs": [],
   "source": [
    "class MultiplicationStrategy(Generic[T], CalculationStrategy[T]):\n",
    "    def __init__(self, numbers: Iterable[T]):\n",
    "        super().__init__(numbers)\n",
    "\n",
    "    def doAlgorithm(self) -> T:\n",
    "        return reduce(lambda acc, number: acc * number, self._numbers)\n",
    "\n",
    "    def __str__(self) -> str:\n",
    "        return ' x '.join(map(str, self._numbers))"
   ]
  },
  {
   "cell_type": "markdown",
   "id": "57703220-0b74-497b-8184-087762abf226",
   "metadata": {},
   "source": [
    "#### Result"
   ]
  },
  {
   "cell_type": "raw",
   "id": "6fb3c470-8c57-4fd8-91ce-81c56b66b457",
   "metadata": {},
   "source": [
    "print(MultiplicationStrategy((2, 3)).doAlgorithm())"
   ]
  },
  {
   "cell_type": "markdown",
   "id": "1aa77e7b-897a-47a1-b0e7-da7d49591b75",
   "metadata": {},
   "source": [
    "#### ToString"
   ]
  },
  {
   "cell_type": "raw",
   "id": "1fa5570b-8f36-42a6-a458-b6fbbddb6917",
   "metadata": {},
   "source": [
    "print(MultiplicationStrategy((2, 2, 3)))"
   ]
  },
  {
   "cell_type": "code",
   "execution_count": 15,
   "id": "6a129de2-9950-416d-ba87-1ad01b56b939",
   "metadata": {},
   "outputs": [],
   "source": [
    "class CalculationStrategyFactory(ABC, Generic[T]):\n",
    "    @staticmethod\n",
    "    def createAdditionStrategy(numbers: Iterable[T]) -> CalculationStrategy[T]:\n",
    "        return AdditionStrategy(numbers)\n",
    "\n",
    "    @staticmethod\n",
    "    def createAdditionStrategies(numbersCollection: Iterable[Iterable[T]]) -> Iterable[CalculationStrategy[T]]:\n",
    "        return [CalculationStrategyFactory.createAdditionStrategy(numbers) for numbers in numbersCollection]\n",
    "\n",
    "    @staticmethod\n",
    "    def createMultiplicationStrategy(numbers: Iterable[T]) -> CalculationStrategy[T]:\n",
    "        return MultiplicationStrategy(numbers)\n",
    "\n",
    "    @staticmethod\n",
    "    def createMultiplicationStrategy(numbersCollection: Iterable[Iterable[T]]) -> Iterable[CalculationStrategy[T]]:\n",
    "        return [CalculationStrategyFactory.createMultiplicationStrategy(numbers) for numbers in numbersCollection]"
   ]
  }
 ],
 "metadata": {
  "jupytext": {
   "formats": "ipynb,py:light"
  },
  "kernelspec": {
   "display_name": "Python [conda env:base] *",
   "language": "python",
   "name": "conda-base-py"
  },
  "language_info": {
   "codemirror_mode": {
    "name": "ipython",
    "version": 3
   },
   "file_extension": ".py",
   "mimetype": "text/x-python",
   "name": "python",
   "nbconvert_exporter": "python",
   "pygments_lexer": "ipython3",
   "version": "3.11.10"
  }
 },
 "nbformat": 4,
 "nbformat_minor": 5
}
