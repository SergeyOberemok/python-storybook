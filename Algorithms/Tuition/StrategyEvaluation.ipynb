{
 "cells": [
  {
   "cell_type": "code",
   "execution_count": 1,
   "id": "a26dd7b7-4daf-4c5b-82c0-7988ab3c8126",
   "metadata": {},
   "outputs": [],
   "source": [
    "from collections.abc import Callable, Iterable\n",
    "from typing import TypeVar, Generic\n",
    "\n",
    "from Strategies import Strategy, AdditionStrategy, CalculationStrategyFactory\n",
    "from Evaluation import Evaluation"
   ]
  },
  {
   "cell_type": "markdown",
   "id": "70bb3c08-1b4d-4291-a324-59e403a0123e",
   "metadata": {},
   "source": [
    "---"
   ]
  },
  {
   "cell_type": "code",
   "execution_count": 3,
   "id": "8b1c5370-0df0-4fda-a560-73903f037f4c",
   "metadata": {},
   "outputs": [],
   "source": [
    "T = TypeVar('T')"
   ]
  },
  {
   "cell_type": "markdown",
   "id": "728f8458-cc92-473b-b038-2665d4d4cb91",
   "metadata": {},
   "source": [
    "---"
   ]
  },
  {
   "cell_type": "markdown",
   "id": "2fbfb040-4998-4af4-bcb1-9bdfdf063ea7",
   "metadata": {},
   "source": [
    "### Definition"
   ]
  },
  {
   "cell_type": "code",
   "execution_count": 6,
   "id": "5a3c905b-7252-4860-84e3-eb6465e60889",
   "metadata": {},
   "outputs": [],
   "source": [
    "class StrategyEvaluation(Generic[T], Evaluation[T]):\n",
    "    def __init__(self, strategy: Strategy[T]):\n",
    "        self._strategy = strategy\n",
    "\n",
    "    def __str__(self) -> str:\n",
    "        return str(self._strategy)\n",
    "\n",
    "    @property\n",
    "    def answer(self) -> T:\n",
    "        pass\n",
    "\n",
    "    @property\n",
    "    def target(self) -> T:\n",
    "        return self._strategy.doAlgorithm()\n",
    "\n",
    "    def evaluate(self) -> Iterable[str, T, T, bool]:\n",
    "        target = self.target\n",
    "        answer = self.answer\n",
    "        result = answer == target\n",
    "\n",
    "        return str(self), target, answer, result"
   ]
  }
 ],
 "metadata": {
  "jupytext": {
   "formats": "ipynb,py:light"
  },
  "kernelspec": {
   "display_name": "Python [conda env:base] *",
   "language": "python",
   "name": "conda-base-py"
  },
  "language_info": {
   "codemirror_mode": {
    "name": "ipython",
    "version": 3
   },
   "file_extension": ".py",
   "mimetype": "text/x-python",
   "name": "python",
   "nbconvert_exporter": "python",
   "pygments_lexer": "ipython3",
   "version": "3.11.11"
  }
 },
 "nbformat": 4,
 "nbformat_minor": 5
}
