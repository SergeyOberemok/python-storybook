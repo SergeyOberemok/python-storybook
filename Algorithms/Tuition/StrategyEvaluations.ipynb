{
 "cells": [
  {
   "cell_type": "code",
   "execution_count": 1,
   "id": "0c6830c5-7d7d-4f81-a5ce-822c75012e4e",
   "metadata": {},
   "outputs": [],
   "source": [
    "from typing import Generic, TypeVar\n",
    "from collections.abc import Callable"
   ]
  },
  {
   "cell_type": "code",
   "execution_count": 2,
   "id": "2d83f71f-8ca0-4e90-8264-0af8cc18b0d7",
   "metadata": {},
   "outputs": [],
   "source": [
    "from Strategy import Strategy\n",
    "from StrategyEvaluation import StrategyEvaluation\n",
    "from Strategies import AdditionStrategy"
   ]
  },
  {
   "cell_type": "markdown",
   "id": "8a2a1993-4162-4357-bf78-3f6d7c429430",
   "metadata": {},
   "source": [
    "---"
   ]
  },
  {
   "cell_type": "code",
   "execution_count": 4,
   "id": "bb65a0c3-dde4-4cc6-83e0-baaa72f9409f",
   "metadata": {},
   "outputs": [],
   "source": [
    "T = TypeVar('T')"
   ]
  },
  {
   "cell_type": "markdown",
   "id": "4d2dd3f2-dcbe-4069-8311-a35ed40c51b1",
   "metadata": {},
   "source": [
    "## Get answer"
   ]
  },
  {
   "cell_type": "markdown",
   "id": "2676ab73-1f11-413e-88f4-6ec063b48c0f",
   "metadata": {},
   "source": [
    "### Survey"
   ]
  },
  {
   "cell_type": "code",
   "execution_count": 7,
   "id": "e8cc83c2-6663-467f-9825-e7976a43ed45",
   "metadata": {},
   "outputs": [],
   "source": [
    "class SurveyStrategyEvaluation(Generic[T], StrategyEvaluation[T]):\n",
    "    def __init__(self, strategy: Strategy[T], answerObtainer: Callable[[str], T] = None):\n",
    "        super().__init__(strategy)\n",
    "\n",
    "        self._obtainAnswer = answerObtainer\n",
    "\n",
    "    def setAnswer(self, answerObtainer: Callable[[str], T]):\n",
    "        self._obtainAnswer = answerObtainer\n",
    "\n",
    "        return self\n",
    "\n",
    "    @property\n",
    "    def answer(self) -> T:\n",
    "        return self._obtainAnswer(str(self)) if self._obtainAnswer else None"
   ]
  },
  {
   "cell_type": "raw",
   "id": "064547f6-90b6-468d-b129-509571ee4496",
   "metadata": {},
   "source": [
    "print(SurveyStrategyEvaluation(AdditionStrategy((2, 2)), lambda question: int(input(question))).evaluate())"
   ]
  },
  {
   "cell_type": "raw",
   "id": "34ada6ff-204d-4e1b-9647-235bc566daa0",
   "metadata": {},
   "source": [
    "print(SurveyStrategyEvaluation(AdditionStrategy((2, 2))).setAnswer(lambda question: int(input(question))).evaluate())"
   ]
  },
  {
   "cell_type": "markdown",
   "id": "800bf981-2d07-4d2b-9b1e-62176dda8570",
   "metadata": {},
   "source": [
    "### Response"
   ]
  },
  {
   "cell_type": "code",
   "execution_count": 9,
   "id": "b5d29532-f4e3-4024-9e91-2a7ab2ebc3f5",
   "metadata": {},
   "outputs": [],
   "source": [
    "class ResponseStrategyEvaluation(Generic[T], StrategyEvaluation[T]):\n",
    "    def __init__(self, strategy: Strategy[T], answerObtainer: Callable[[], T] = None):\n",
    "        super().__init__(strategy)\n",
    "\n",
    "        self._obtainAnswer = answerObtainer\n",
    "\n",
    "    def setAnswer(self, answerObtainer: Callable[[], T]):\n",
    "        self._obtainAnswer = answerObtainer\n",
    "\n",
    "        return self\n",
    "\n",
    "    @property\n",
    "    def answer(self) -> T:\n",
    "        return self._obtainAnswer() if self._obtainAnswer else None"
   ]
  },
  {
   "cell_type": "raw",
   "id": "37dd724a-e5ec-4e8b-85ad-66f829c0226b",
   "metadata": {},
   "source": [
    "print(ResponseStrategyEvaluation(AdditionStrategy((2, 2)), lambda: 3).evaluate())"
   ]
  },
  {
   "cell_type": "raw",
   "id": "5bf6128d-63dc-4f2a-92ca-187c5a4b9ad6",
   "metadata": {},
   "source": [
    "print(ResponseStrategyEvaluation(AdditionStrategy((2 ,2))).setAnswer(lambda: 3).evaluate())"
   ]
  },
  {
   "cell_type": "markdown",
   "id": "023e9154-dfeb-4954-9e59-da19d832116e",
   "metadata": {},
   "source": [
    "### Factory"
   ]
  },
  {
   "cell_type": "code",
   "execution_count": 11,
   "id": "3c05c641-3883-4507-80a1-9a082821142d",
   "metadata": {},
   "outputs": [],
   "source": [
    "class StrategyEvaluationFactory:\n",
    "    @staticmethod\n",
    "    def createSurveyStrategyEvaluation(strategy: Strategy[T]) -> StrategyEvaluation[T]:\n",
    "        return SurveyStrategyEvaluation(strategy, lambda question: int(input(question)))\n",
    "\n",
    "    @staticmethod\n",
    "    def createResponseStrategyEvaluation(strategy: Strategy[T]) -> StrategyEvaluation[T]:\n",
    "        return ResponseStrategyEvaluation(strategy)"
   ]
  },
  {
   "cell_type": "raw",
   "id": "0e0840a1-35aa-42e4-a1c5-54ea044aaa0b",
   "metadata": {},
   "source": [
    "print(StrategyEvaluationFactory.createSurveyStrategyEvaluation(AdditionStrategy((2, 2))).evaluate())"
   ]
  },
  {
   "cell_type": "raw",
   "id": "6fcd2292-b430-4c7e-9896-a01532571daf",
   "metadata": {},
   "source": [
    "print(StrategyEvaluationFactory.createResponseStrategyEvaluation(AdditionStrategy((2, 2))).setAnswer(lambda: 3).evaluate())"
   ]
  }
 ],
 "metadata": {
  "jupytext": {
   "formats": "ipynb,py:light"
  },
  "kernelspec": {
   "display_name": "Python [conda env:base] *",
   "language": "python",
   "name": "conda-base-py"
  },
  "language_info": {
   "codemirror_mode": {
    "name": "ipython",
    "version": 3
   },
   "file_extension": ".py",
   "mimetype": "text/x-python",
   "name": "python",
   "nbconvert_exporter": "python",
   "pygments_lexer": "ipython3",
   "version": "3.11.11"
  }
 },
 "nbformat": 4,
 "nbformat_minor": 5
}
