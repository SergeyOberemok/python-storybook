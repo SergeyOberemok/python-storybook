{
 "cells": [
  {
   "cell_type": "code",
   "execution_count": 1,
   "id": "a26dd7b7-4daf-4c5b-82c0-7988ab3c8126",
   "metadata": {},
   "outputs": [],
   "source": [
    "from abc import ABC\n",
    "from typing import TypeVar, Generic, Callable\n",
    "\n",
    "from Strategies import Strategy, AdditionStrategy"
   ]
  },
  {
   "cell_type": "markdown",
   "id": "70bb3c08-1b4d-4291-a324-59e403a0123e",
   "metadata": {},
   "source": [
    "---"
   ]
  },
  {
   "cell_type": "code",
   "execution_count": 3,
   "id": "8b1c5370-0df0-4fda-a560-73903f037f4c",
   "metadata": {},
   "outputs": [],
   "source": [
    "T = TypeVar('T')"
   ]
  },
  {
   "cell_type": "markdown",
   "id": "728f8458-cc92-473b-b038-2665d4d4cb91",
   "metadata": {},
   "source": [
    "---"
   ]
  },
  {
   "cell_type": "markdown",
   "id": "2fbfb040-4998-4af4-bcb1-9bdfdf063ea7",
   "metadata": {},
   "source": [
    "### Definition"
   ]
  },
  {
   "cell_type": "code",
   "execution_count": 6,
   "id": "5a3c905b-7252-4860-84e3-eb6465e60889",
   "metadata": {},
   "outputs": [],
   "source": [
    "class StrategyContext(Generic[T], Strategy[T]):\n",
    "    def __init__(self, strategy: Strategy):\n",
    "        self._strategy = strategy\n",
    "\n",
    "    @property\n",
    "    def strategy(self) -> Strategy:\n",
    "        return self._strategy\n",
    "\n",
    "    @strategy.setter\n",
    "    def strategy(self, strategy: Strategy) -> None:\n",
    "        self._strategy = strategy\n",
    "\n",
    "    def doAlgorithm(self) -> T:\n",
    "        return self._strategy.doAlgorithm()\n",
    "\n",
    "    def __str__(self) -> str:\n",
    "        return str(self._strategy)"
   ]
  },
  {
   "cell_type": "markdown",
   "id": "bb6a230d-ea6a-4a61-a6c9-5d431a3228d9",
   "metadata": {},
   "source": [
    "### Survey"
   ]
  },
  {
   "cell_type": "code",
   "execution_count": 28,
   "id": "dce63bd7-094b-4032-a031-435ada45238b",
   "metadata": {},
   "outputs": [],
   "source": [
    "class SurveyContextStrategy(StrategyContext[str]):\n",
    "    def __init__(self, strategy: Strategy, answerObtainer: Callable):\n",
    "        super().__init__(strategy)\n",
    "\n",
    "        self.obtainAnswer = answerObtainer\n",
    "\n",
    "    def doAlgorithm(self) -> str:\n",
    "        response = self.obtainAnswer()\n",
    "        result = self.strategy.doAlgorithm()\n",
    "\n",
    "        return 'Success' if result == response else 'Failure'"
   ]
  },
  {
   "cell_type": "raw",
   "id": "2346398e-3506-4357-aa55-9a76dbcb23e8",
   "metadata": {},
   "source": [
    "print(SurveyContextStrategy(AdditionStrategy((2, 2)), lambda: int(input('What is the outcome of'))).doAlgorithm())"
   ]
  },
  {
   "cell_type": "markdown",
   "id": "b2dbe559-8e35-442e-93d6-319f95db1a24",
   "metadata": {},
   "source": [
    "### Factory"
   ]
  },
  {
   "cell_type": "code",
   "execution_count": 22,
   "id": "a97a27c3-63ca-419c-adfb-c916b798133e",
   "metadata": {},
   "outputs": [],
   "source": [
    "class SurveyContextStrategyFactory(ABC):\n",
    "    @staticmethod\n",
    "    def create(strategy: Strategy, question: str = 'What is the outcome of') -> StrategyContext:\n",
    "        return SurveyContextStrategy(strategy, lambda: int(input(question)))"
   ]
  },
  {
   "cell_type": "raw",
   "id": "5933a21d-c9b5-45ff-aacf-b45f361be0f5",
   "metadata": {},
   "source": [
    "print(SurveyContextStrategyFactory.create(AdditionStrategy()).doAlgorithm())"
   ]
  }
 ],
 "metadata": {
  "jupytext": {
   "formats": "ipynb,py:light"
  },
  "kernelspec": {
   "display_name": "Python 3 (ipykernel)",
   "language": "python",
   "name": "python3"
  },
  "language_info": {
   "codemirror_mode": {
    "name": "ipython",
    "version": 3
   },
   "file_extension": ".py",
   "mimetype": "text/x-python",
   "name": "python",
   "nbconvert_exporter": "python",
   "pygments_lexer": "ipython3",
   "version": "3.11.10"
  }
 },
 "nbformat": 4,
 "nbformat_minor": 5
}
