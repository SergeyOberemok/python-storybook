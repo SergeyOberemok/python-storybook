{
 "cells": [
  {
   "cell_type": "code",
   "execution_count": 1,
   "id": "3ee66dce-cd72-4580-ad4d-33f7ffc39d24",
   "metadata": {},
   "outputs": [],
   "source": [
    "from abc import ABC, abstractmethod\n",
    "from typing import TypeVar, Generic"
   ]
  },
  {
   "cell_type": "markdown",
   "id": "3469b8c3-db19-4609-883f-e1f8d3f667c9",
   "metadata": {},
   "source": [
    "---"
   ]
  },
  {
   "cell_type": "code",
   "execution_count": 3,
   "id": "67471520-c057-49fe-9e34-ea66491b783e",
   "metadata": {},
   "outputs": [],
   "source": [
    "T = TypeVar('T')"
   ]
  },
  {
   "cell_type": "markdown",
   "id": "0263fdac-63f6-4d53-9a86-20dc99af980e",
   "metadata": {},
   "source": [
    "## Generic"
   ]
  },
  {
   "cell_type": "code",
   "execution_count": 5,
   "id": "0c4e66bb-5ad2-4ecb-b5aa-388840004520",
   "metadata": {},
   "outputs": [],
   "source": [
    "class Strategy(ABC, Generic[T]):\n",
    "    @abstractmethod\n",
    "    def doAlgorithm(self) -> T:\n",
    "        pass"
   ]
  }
 ],
 "metadata": {
  "jupytext": {
   "formats": "ipynb,auto:light"
  },
  "kernelspec": {
   "display_name": "Python [conda env:base] *",
   "language": "python",
   "name": "conda-base-py"
  },
  "language_info": {
   "codemirror_mode": {
    "name": "ipython",
    "version": 3
   },
   "file_extension": ".py",
   "mimetype": "text/x-python",
   "name": "python",
   "nbconvert_exporter": "python",
   "pygments_lexer": "ipython3",
   "version": "3.11.10"
  }
 },
 "nbformat": 4,
 "nbformat_minor": 5
}
