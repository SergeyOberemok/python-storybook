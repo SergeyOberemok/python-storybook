{
 "cells": [
  {
   "cell_type": "code",
   "execution_count": 1,
   "id": "e491dae9-58b3-4bf2-88e5-3ae8d3e7cb66",
   "metadata": {
    "editable": true,
    "slideshow": {
     "slide_type": ""
    },
    "tags": []
   },
   "outputs": [],
   "source": [
    "from collections.abc import Iterable, Callable"
   ]
  },
  {
   "cell_type": "code",
   "execution_count": 2,
   "id": "938789c5-9afb-4eaa-9ff3-5af5b5154ea1",
   "metadata": {},
   "outputs": [],
   "source": [
    "from Assessment import AssessmentCollection\n",
    "from Strategy import Strategy\n",
    "from Strategies import AdditionStrategy\n",
    "from StrategyEvaluation import StrategyEvaluation\n",
    "from StrategyEvaluations import StrategyEvaluationFactory"
   ]
  },
  {
   "cell_type": "markdown",
   "id": "8897187f-467e-44f3-b081-968afe64267d",
   "metadata": {},
   "source": [
    "### Survey assessment"
   ]
  },
  {
   "cell_type": "raw",
   "id": "57f8a047-bb62-4354-828f-5a72c059b64f",
   "metadata": {},
   "source": [
    "def getAnswer(message: str) -> int:\n",
    "    return int(input(f'What is {message}'))\n",
    "    \n",
    "assessment = AssessmentCollection([\n",
    "    StrategyEvaluationFactory.createSurveyStrategyEvaluation(AdditionStrategy((2, 2)))\n",
    "]).pipe(lambda item: item.setAnswer(getAnswer))\n",
    "\n",
    "for i in [assessment.assess(), assessment, assessment.results, assessment.result]:\n",
    "    print(i)"
   ]
  },
  {
   "cell_type": "markdown",
   "id": "ecdeef83-7c9a-4ece-b5dc-771e610c7c97",
   "metadata": {},
   "source": [
    "### Response assessment"
   ]
  },
  {
   "cell_type": "raw",
   "id": "c85b48eb-cb37-4c55-a6a6-91858e0c7f57",
   "metadata": {},
   "source": [
    "assessment = AssessmentCollection([\n",
    "    StrategyEvaluationFactory.createResponseStrategyEvaluation(AdditionStrategy((2, 2)))\n",
    "])\n",
    "\n",
    "for item in assessment:\n",
    "    item.pipe(lambda i: i.setAnswer(lambda: 3)).assess()\n",
    "\n",
    "for i in [assessment.assess(), assessment, assessment.results, assessment.result]:\n",
    "    print(i)"
   ]
  },
  {
   "cell_type": "code",
   "execution_count": 7,
   "id": "b67b906b-637a-45ff-bf4f-3be8b007e5fb",
   "metadata": {},
   "outputs": [],
   "source": [
    "class AssessmentFactory:\n",
    "    @staticmethod\n",
    "    def createSurveyAssessment(strategies: Iterable[Strategy], getAnswer: Callable):\n",
    "        strategies = map(StrategyEvaluationFactory.createSurveyStrategyEvaluation, strategies)\n",
    "        assessment =  AssessmentCollection(strategies).pipe(lambda item: item.setAnswer(getAnswer))\n",
    "\n",
    "        return assessment\n",
    "\n",
    "    @staticmethod\n",
    "    def createResponseAssessment(strategies: Iterable[Strategy]):\n",
    "        strategies = map(StrategyEvaluationFactory.createResponseStrategyEvaluation, strategies)\n",
    "        return AssessmentCollection(strategies)"
   ]
  }
 ],
 "metadata": {
  "jupytext": {
   "formats": "ipynb,py:light"
  },
  "kernelspec": {
   "display_name": "Python [conda env:base] *",
   "language": "python",
   "name": "conda-base-py"
  },
  "language_info": {
   "codemirror_mode": {
    "name": "ipython",
    "version": 3
   },
   "file_extension": ".py",
   "mimetype": "text/x-python",
   "name": "python",
   "nbconvert_exporter": "python",
   "pygments_lexer": "ipython3",
   "version": "3.11.11"
  }
 },
 "nbformat": 4,
 "nbformat_minor": 5
}
