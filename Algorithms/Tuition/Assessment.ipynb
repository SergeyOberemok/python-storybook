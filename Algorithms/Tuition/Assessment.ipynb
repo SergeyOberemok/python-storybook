{
 "cells": [
  {
   "cell_type": "code",
   "execution_count": 12,
   "id": "e999b54d-a447-42fb-beca-b001f44f653b",
   "metadata": {},
   "outputs": [],
   "source": [
    "from Strategies import Strategy\n",
    "import random"
   ]
  },
  {
   "cell_type": "markdown",
   "id": "3e9872b2-431f-47c5-adf6-bdaed20df97b",
   "metadata": {},
   "source": [
    "---"
   ]
  },
  {
   "cell_type": "markdown",
   "id": "06f157b0-efb9-4395-9cc8-9344cc6a21f6",
   "metadata": {},
   "source": [
    "### Basic"
   ]
  },
  {
   "cell_type": "code",
   "execution_count": 8,
   "id": "a65666c6-592b-454b-a699-0040c37c610a",
   "metadata": {},
   "outputs": [],
   "source": [
    "class Assessment:\n",
    "    def __init__(self, questions: list[Strategy]):\n",
    "        random.shuffle(questions)\n",
    "\n",
    "        self._questions = questions\n",
    "\n",
    "    def start(self) -> bool:\n",
    "        result = map(lambda question: question.doAlgorithm(), self._questions)\n",
    "        \n",
    "        return all(result)"
   ]
  },
  {
   "cell_type": "markdown",
   "id": "94460e1c-bd41-4eaf-9bfe-662372ac40a5",
   "metadata": {},
   "source": [
    "### Factory"
   ]
  },
  {
   "cell_type": "code",
   "execution_count": null,
   "id": "ae194512-5713-48c0-b441-75f4cd3de921",
   "metadata": {},
   "outputs": [],
   "source": [
    "class AssessmentFactory(object):\n",
    "    @staticmethod\n",
    "    def createAdditionAssessment(params: list[tuple[int, int, str]]) -> Assessment:\n",
    "        def createQuestion(x: int, y: int, question: str) -> StrategyContext:\n",
    "            strategy = AdditionStrategy[int]((x, y))\n",
    "            strategyContext = SurveyContextStrategyFactory.create(strategy, question)\n",
    "\n",
    "            return strategyContext\n",
    "\n",
    "        questions = [createQuestion(x, y, question) for (x, y, question) in params]\n",
    "\n",
    "        return Assessment(questions)\n",
    "\n",
    "    @staticmethod\n",
    "    def createMultiplyAssessment(numbers: list, count: int = 0) -> Assessment:\n",
    "        pass\n",
    "        # def getQuestion() -> StrategyContext:\n",
    "        #    x, y = getItemsRandomly(numbers, 2)\n",
    "\n",
    "        #    strategy = MultiplyStrategy((x, y))\n",
    "        #    return SurveyContextStrategyFactory.create(strategy)\n",
    "\n",
    "        # return AssessmentFactory.create(getQuestion, count)"
   ]
  }
 ],
 "metadata": {
  "jupytext": {
   "formats": "ipynb,auto:light"
  },
  "kernelspec": {
   "display_name": "Python 3 (ipykernel)",
   "language": "python",
   "name": "python3"
  },
  "language_info": {
   "codemirror_mode": {
    "name": "ipython",
    "version": 3
   },
   "file_extension": ".py",
   "mimetype": "text/x-python",
   "name": "python",
   "nbconvert_exporter": "python",
   "pygments_lexer": "ipython3",
   "version": "3.11.10"
  }
 },
 "nbformat": 4,
 "nbformat_minor": 5
}
