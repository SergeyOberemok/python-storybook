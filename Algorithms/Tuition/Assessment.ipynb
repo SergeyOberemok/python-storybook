{
 "cells": [
  {
   "cell_type": "code",
   "execution_count": 3,
   "id": "e999b54d-a447-42fb-beca-b001f44f653b",
   "metadata": {},
   "outputs": [],
   "source": [
    "from abc import ABC, abstractmethod\n",
    "from collections.abc import Iterable, Callable"
   ]
  },
  {
   "cell_type": "code",
   "execution_count": 4,
   "id": "f7dcb26a-1b7c-47db-b817-8396f0b7afb7",
   "metadata": {},
   "outputs": [],
   "source": [
    "from StrategyEvaluation import StrategyEvaluation"
   ]
  },
  {
   "cell_type": "markdown",
   "id": "3e9872b2-431f-47c5-adf6-bdaed20df97b",
   "metadata": {},
   "source": [
    "---"
   ]
  },
  {
   "cell_type": "markdown",
   "id": "06f157b0-efb9-4395-9cc8-9344cc6a21f6",
   "metadata": {},
   "source": [
    "### Definition"
   ]
  },
  {
   "cell_type": "code",
   "execution_count": 7,
   "id": "47a906b7-0613-4071-883d-1abfabe1f541",
   "metadata": {},
   "outputs": [],
   "source": [
    "class Assessment(ABC):\n",
    "    @abstractmethod\n",
    "    def pipe(self, *funcs):\n",
    "        pass\n",
    "\n",
    "    @abstractmethod\n",
    "    def assess(self):\n",
    "        pass"
   ]
  },
  {
   "cell_type": "markdown",
   "id": "c41f8958-dd70-47a6-b7ee-90e4bf5d1c89",
   "metadata": {},
   "source": [
    "## Concrete"
   ]
  },
  {
   "cell_type": "markdown",
   "id": "bd9d5bed-9902-4bc8-ac96-d83c5df5d670",
   "metadata": {},
   "source": [
    "### Item"
   ]
  },
  {
   "cell_type": "code",
   "execution_count": 10,
   "id": "838c6445-286d-49f3-9230-efe95c4b8d6d",
   "metadata": {},
   "outputs": [],
   "source": [
    "class AssessmentItem(Assessment):\n",
    "    def __init__(self, question: StrategyEvaluation):\n",
    "        self._question = question\n",
    "\n",
    "    def __str__(self) -> str:\n",
    "        return str(self._question)\n",
    "\n",
    "    @property\n",
    "    def goal(self):\n",
    "        return self._question.target\n",
    "\n",
    "    def pipe(self, *funcs):\n",
    "        for func in funcs:\n",
    "            self._question = func(self._question)\n",
    "\n",
    "        return self\n",
    "\n",
    "    def assess(self):\n",
    "        return self._question.evaluate()"
   ]
  },
  {
   "cell_type": "markdown",
   "id": "d2efef64-dc6a-44e9-92d3-9c8256669bd7",
   "metadata": {},
   "source": [
    "### Collection"
   ]
  },
  {
   "cell_type": "code",
   "execution_count": 12,
   "id": "a65666c6-592b-454b-a699-0040c37c610a",
   "metadata": {},
   "outputs": [],
   "source": [
    "class AssessmentCollection(Assessment):\n",
    "    def __init__(self, questions: Iterable[StrategyEvaluation]):\n",
    "        self._questions = [AssessmentItem(question) for question in questions]\n",
    "        self._pipeFuncs = []\n",
    "        self._iterator = None\n",
    "\n",
    "    def __iter__(self):\n",
    "        self._iterator = iter(self._questions)\n",
    "        \n",
    "        return self\n",
    "\n",
    "    def __next__(self):\n",
    "        return next(self._iterator)\n",
    "\n",
    "    def __str__(self):\n",
    "        return '\\n'.join([str(question) for question in self._questions])\n",
    "\n",
    "    @property\n",
    "    def results(self):\n",
    "        return [question.assess() for question in self._questions]\n",
    "\n",
    "    @property\n",
    "    def result(self):\n",
    "        return all(value for *head, value in self.results)\n",
    "\n",
    "    def pipe(self, *funcs):\n",
    "        self._pipeFuncs = funcs\n",
    "        \n",
    "        return self\n",
    "\n",
    "    def assess(self) -> bool:\n",
    "        for question in self._questions:\n",
    "            question.pipe(*self._pipeFuncs).assess()\n",
    "                \n",
    "        return self.result"
   ]
  }
 ],
 "metadata": {
  "jupytext": {
   "formats": "ipynb,py:light"
  },
  "kernelspec": {
   "display_name": "Python [conda env:base] *",
   "language": "python",
   "name": "conda-base-py"
  },
  "language_info": {
   "codemirror_mode": {
    "name": "ipython",
    "version": 3
   },
   "file_extension": ".py",
   "mimetype": "text/x-python",
   "name": "python",
   "nbconvert_exporter": "python",
   "pygments_lexer": "ipython3",
   "version": "3.11.11"
  }
 },
 "nbformat": 4,
 "nbformat_minor": 5
}
