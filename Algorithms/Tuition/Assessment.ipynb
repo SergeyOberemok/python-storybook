{
 "cells": [
  {
   "cell_type": "code",
   "execution_count": 1,
   "id": "e999b54d-a447-42fb-beca-b001f44f653b",
   "metadata": {},
   "outputs": [],
   "source": [
    "from abc import ABC, abstractmethod\n",
    "from collections.abc import Iterable, Callable"
   ]
  },
  {
   "cell_type": "code",
   "execution_count": 2,
   "id": "f7dcb26a-1b7c-47db-b817-8396f0b7afb7",
   "metadata": {},
   "outputs": [],
   "source": [
    "from StrategyEvaluation import StrategyEvaluation"
   ]
  },
  {
   "cell_type": "markdown",
   "id": "3e9872b2-431f-47c5-adf6-bdaed20df97b",
   "metadata": {},
   "source": [
    "---"
   ]
  },
  {
   "cell_type": "markdown",
   "id": "06f157b0-efb9-4395-9cc8-9344cc6a21f6",
   "metadata": {},
   "source": [
    "### Definition"
   ]
  },
  {
   "cell_type": "code",
   "execution_count": 5,
   "id": "47a906b7-0613-4071-883d-1abfabe1f541",
   "metadata": {},
   "outputs": [],
   "source": [
    "class Assessment(ABC):\n",
    "    @abstractmethod\n",
    "    def pipe(self, *funcs):\n",
    "        pass\n",
    "\n",
    "    @abstractmethod\n",
    "    def assist(self):\n",
    "        pass"
   ]
  },
  {
   "cell_type": "markdown",
   "id": "c41f8958-dd70-47a6-b7ee-90e4bf5d1c89",
   "metadata": {},
   "source": [
    "## Concrete"
   ]
  },
  {
   "cell_type": "markdown",
   "id": "bd9d5bed-9902-4bc8-ac96-d83c5df5d670",
   "metadata": {},
   "source": [
    "### Item"
   ]
  },
  {
   "cell_type": "code",
   "execution_count": 8,
   "id": "838c6445-286d-49f3-9230-efe95c4b8d6d",
   "metadata": {},
   "outputs": [],
   "source": [
    "class AssessmentItem(Assessment):\n",
    "    def __init__(self, question: StrategyEvaluation, assistCb: Callable = None):\n",
    "        self._question = question\n",
    "        self._assistCb = assistCb\n",
    "\n",
    "    def __str__(self) -> str:\n",
    "        return str(self._question)\n",
    "\n",
    "    def pipe(self, *funcs):\n",
    "        for func in funcs:\n",
    "            self._question = func(self._question)\n",
    "\n",
    "        return self\n",
    "\n",
    "    def assist(self):\n",
    "        result = self._question.evaluate()\n",
    "\n",
    "        if self._assistCb:\n",
    "            self._assistCb(result)\n",
    "\n",
    "        return result"
   ]
  },
  {
   "cell_type": "markdown",
   "id": "d2efef64-dc6a-44e9-92d3-9c8256669bd7",
   "metadata": {},
   "source": [
    "### Collection"
   ]
  },
  {
   "cell_type": "code",
   "execution_count": 10,
   "id": "a65666c6-592b-454b-a699-0040c37c610a",
   "metadata": {},
   "outputs": [],
   "source": [
    "class AssessmentCollection(Assessment):\n",
    "    def __init__(self, questions: Iterable[StrategyEvaluation]):\n",
    "        self._questions = questions\n",
    "        self.__reset()\n",
    "        self._pipeFuncs = []\n",
    "\n",
    "    def __iter__(self):\n",
    "        self.__reset()\n",
    "        self._iterator = iter(self._questions)\n",
    "        \n",
    "        return self\n",
    "\n",
    "    def __next__(self):\n",
    "        try:\n",
    "            self._question = next(self._iterator)\n",
    "\n",
    "            return AssessmentItem(self._question, lambda result: self._results.append(result))\n",
    "        except StopIteration:\n",
    "            self._iterator = None\n",
    "            raise StopIteration\n",
    "\n",
    "    def __str__(self):\n",
    "        return '\\n'.join([', '.join(map(str, items)) for items in self._results])\n",
    "\n",
    "    def pipe(self, *funcs):\n",
    "        self._pipeFuncs = funcs\n",
    "        \n",
    "        return self\n",
    "\n",
    "    def assist(self) -> bool:\n",
    "        if not self._iterator:\n",
    "            for item in self:\n",
    "                item.pipe(*self._pipeFuncs).assist()\n",
    "                \n",
    "        return all(value for *head, value in self._results)\n",
    "\n",
    "    def __reset(self):\n",
    "        self._iterator = None\n",
    "        self._results = []"
   ]
  }
 ],
 "metadata": {
  "jupytext": {
   "formats": "ipynb,py:light"
  },
  "kernelspec": {
   "display_name": "Python [conda env:base] *",
   "language": "python",
   "name": "conda-base-py"
  },
  "language_info": {
   "codemirror_mode": {
    "name": "ipython",
    "version": 3
   },
   "file_extension": ".py",
   "mimetype": "text/x-python",
   "name": "python",
   "nbconvert_exporter": "python",
   "pygments_lexer": "ipython3",
   "version": "3.11.10"
  }
 },
 "nbformat": 4,
 "nbformat_minor": 5
}
