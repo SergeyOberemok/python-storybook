{
 "cells": [
  {
   "cell_type": "code",
   "execution_count": 11,
   "id": "fd935cc3-45a0-49c9-a943-c86c76b3463f",
   "metadata": {},
   "outputs": [],
   "source": [
    "from abc import ABC, abstractmethod\n",
    "from typing import TypeVar, Generic\n",
    "from collections.abc import Iterable"
   ]
  },
  {
   "cell_type": "markdown",
   "id": "7102709e-bae2-428e-8053-0c7475666c3a",
   "metadata": {},
   "source": [
    "---"
   ]
  },
  {
   "cell_type": "code",
   "execution_count": 6,
   "id": "3ea2abb1-b799-4da4-9ec0-007b196d0aae",
   "metadata": {},
   "outputs": [],
   "source": [
    "T = TypeVar('T')"
   ]
  },
  {
   "cell_type": "markdown",
   "id": "2226afe4-93be-4b1b-8eac-5af36627b06b",
   "metadata": {},
   "source": [
    "## Generic"
   ]
  },
  {
   "cell_type": "code",
   "execution_count": 15,
   "id": "e9675ebb-ba79-478f-8abe-729e6feefbbe",
   "metadata": {},
   "outputs": [],
   "source": [
    "class Evaluation(ABC, Generic[T]):\n",
    "    @abstractmethod\n",
    "    def evaluate(self) -> Iterable[str, T, T, bool]:\n",
    "        pass"
   ]
  }
 ],
 "metadata": {
  "jupytext": {
   "formats": "ipynb,py:light"
  },
  "kernelspec": {
   "display_name": "Python [conda env:base] *",
   "language": "python",
   "name": "conda-base-py"
  },
  "language_info": {
   "codemirror_mode": {
    "name": "ipython",
    "version": 3
   },
   "file_extension": ".py",
   "mimetype": "text/x-python",
   "name": "python",
   "nbconvert_exporter": "python",
   "pygments_lexer": "ipython3",
   "version": "3.11.11"
  }
 },
 "nbformat": 4,
 "nbformat_minor": 5
}
