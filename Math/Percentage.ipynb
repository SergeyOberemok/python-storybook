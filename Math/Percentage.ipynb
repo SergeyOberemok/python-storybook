{
 "cells": [
  {
   "cell_type": "code",
   "execution_count": 2,
   "id": "afdae73c",
   "metadata": {},
   "outputs": [],
   "source": [
    "import sympy as sp\n",
    "from sympy.abc import x\n",
    "from IPython.display import display, Math"
   ]
  },
  {
   "cell_type": "markdown",
   "id": "8059a978-8211-4436-ba55-89534ff15f59",
   "metadata": {
    "jp-MarkdownHeadingCollapsed": true
   },
   "source": [
    "---"
   ]
  },
  {
   "cell_type": "markdown",
   "id": "4d2f6145",
   "metadata": {},
   "source": [
    "# Get 25% of 1 in 4"
   ]
  },
  {
   "cell_type": "markdown",
   "id": "d29a499b",
   "metadata": {},
   "source": [
    "## formula"
   ]
  },
  {
   "cell_type": "code",
   "execution_count": 3,
   "id": "3ab96913",
   "metadata": {},
   "outputs": [
    {
     "data": {
      "text/latex": [
       "$\\displaystyle \\frac{100 x}{total} = percentage$"
      ],
      "text/plain": [
       "Eq(100*x/total, percentage)"
      ]
     },
     "metadata": {},
     "output_type": "display_data"
    }
   ],
   "source": [
    "total, percentage = sp.symbols('total, percentage')\n",
    "\n",
    "exp = x / total * 100\n",
    "\n",
    "display(sp.Eq(exp, percentage))"
   ]
  },
  {
   "cell_type": "markdown",
   "id": "dcb9dd93-b6a2-46fa-9a15-98e63e6d7e7f",
   "metadata": {},
   "source": [
    "### Examples"
   ]
  },
  {
   "cell_type": "markdown",
   "id": "24df55eb",
   "metadata": {},
   "source": [
    "##### Net in Gross percentage"
   ]
  },
  {
   "cell_type": "code",
   "execution_count": 4,
   "id": "55995f22",
   "metadata": {},
   "outputs": [
    {
     "data": {
      "text/latex": [
       "$\\displaystyle \\frac{100 net}{gross} = percentage$"
      ],
      "text/plain": [
       "Eq(100*net/gross, percentage)"
      ]
     },
     "metadata": {},
     "output_type": "display_data"
    },
    {
     "data": {
      "text/plain": [
       "[20]"
      ]
     },
     "metadata": {},
     "output_type": "display_data"
    }
   ],
   "source": [
    "net, gross, percentage = sp.symbols('net, gross, percentage')\n",
    "\n",
    "exp = net / gross * 100\n",
    "\n",
    "display(sp.Eq(exp, percentage))\n",
    "display(sp.solve(sp.Eq(exp.subs({ net: 25, gross: 125 }), percentage), percentage))"
   ]
  },
  {
   "cell_type": "markdown",
   "id": "f5a5dfc5-d6b6-49f7-a6cb-1ff4e474ec41",
   "metadata": {},
   "source": [
    "##### Calc"
   ]
  },
  {
   "cell_type": "code",
   "execution_count": 11,
   "id": "0ade58d9-d519-4483-9ee4-334ab1893d1f",
   "metadata": {},
   "outputs": [
    {
     "data": {
      "text/latex": [
       "$\\displaystyle \\frac{100 part}{total}$"
      ],
      "text/plain": [
       "<IPython.core.display.Math object>"
      ]
     },
     "metadata": {},
     "output_type": "display_data"
    },
    {
     "name": "stdin",
     "output_type": "stream",
     "text": [
      "Enter total 2160\n",
      "Enter a part of total 1920\n"
     ]
    },
    {
     "data": {
      "text/latex": [
       "$\\displaystyle 88.8888888888889$"
      ],
      "text/plain": [
       "88.8888888888889"
      ]
     },
     "metadata": {},
     "output_type": "display_data"
    }
   ],
   "source": [
    "total, partOfTotal = sp.symbols('total, part')\n",
    "\n",
    "exp = partOfTotal / total * 100\n",
    "\n",
    "display(Math(sp.latex(exp)))\n",
    "\n",
    "totalInput = int(input('Enter total'))\n",
    "partInput = int(input('Enter a part of total'))\n",
    "\n",
    "display(exp.subs({ total: totalInput, partOfTotal: partInput }).evalf())"
   ]
  },
  {
   "cell_type": "markdown",
   "id": "281c4c93-b790-4071-a67f-d48638206dca",
   "metadata": {},
   "source": [
    "---"
   ]
  },
  {
   "cell_type": "markdown",
   "id": "8a420cb2",
   "metadata": {},
   "source": [
    "### Get Number 1 from 4 of 25%"
   ]
  },
  {
   "cell_type": "code",
   "execution_count": null,
   "id": "56aef7f8",
   "metadata": {},
   "outputs": [],
   "source": [
    "total, percentage = sp.symbols('total, percentage')\n",
    "\n",
    "exp = percentage / 100 * total\n",
    "\n",
    "display(sp.Eq(exp, x))"
   ]
  }
 ],
 "metadata": {
  "kernelspec": {
   "display_name": "Python 3 (ipykernel)",
   "language": "python",
   "name": "python3"
  },
  "language_info": {
   "codemirror_mode": {
    "name": "ipython",
    "version": 3
   },
   "file_extension": ".py",
   "mimetype": "text/x-python",
   "name": "python",
   "nbconvert_exporter": "python",
   "pygments_lexer": "ipython3",
   "version": "3.11.5"
  }
 },
 "nbformat": 4,
 "nbformat_minor": 5
}
