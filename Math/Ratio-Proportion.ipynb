{
 "cells": [
  {
   "cell_type": "code",
   "execution_count": 1,
   "id": "35406964-6bdc-48eb-9aa1-3c603951a0f1",
   "metadata": {},
   "outputs": [],
   "source": [
    "import sympy as sp\n",
    "from sympy.abc import x, y\n",
    "from IPython.display import display, Math\n",
    "import math"
   ]
  },
  {
   "cell_type": "markdown",
   "id": "39972f5c-1416-4f4d-b195-cd89b938fb91",
   "metadata": {},
   "source": [
    "---"
   ]
  },
  {
   "cell_type": "markdown",
   "id": "dbc80d85-293a-474e-a5a3-14264f89a026",
   "metadata": {},
   "source": [
    "# Find number"
   ]
  },
  {
   "cell_type": "markdown",
   "id": "7b2a60f0-c1d1-41c6-b627-0a1bfa5abdc0",
   "metadata": {},
   "source": [
    "## By ration"
   ]
  },
  {
   "cell_type": "code",
   "execution_count": 5,
   "id": "6d954ae8-4349-4b59-a50a-ea1ea67a484b",
   "metadata": {},
   "outputs": [
    {
     "data": {
      "text/latex": [
       "$\\displaystyle \\frac{a}{b} - \\frac{x}{y}$"
      ],
      "text/plain": [
       "a/b - x/y"
      ]
     },
     "metadata": {},
     "output_type": "display_data"
    }
   ],
   "source": [
    "a, b = sp.symbols('a, b')\n",
    "\n",
    "exp = a / b - x / y\n",
    "\n",
    "display(exp)"
   ]
  },
  {
   "cell_type": "code",
   "execution_count": 9,
   "id": "727cabde-67e2-47a0-9927-f016736bdcff",
   "metadata": {},
   "outputs": [
    {
     "name": "stdin",
     "output_type": "stream",
     "text": [
      "Enter first number 1080\n"
     ]
    },
    {
     "data": {
      "text/plain": [
       "[1920]"
      ]
     },
     "metadata": {},
     "output_type": "display_data"
    }
   ],
   "source": [
    "num1 = int(input('Enter first number'))\n",
    "\n",
    "display(sp.solve(exp.subs({ a: 9, b: 16, x: num1 }), y))"
   ]
  },
  {
   "cell_type": "markdown",
   "id": "4b36e5ab-d765-4d58-bfba-ef78195d6551",
   "metadata": {},
   "source": [
    "# Find ration"
   ]
  },
  {
   "cell_type": "markdown",
   "id": "7aaf9417-a6f7-4978-af69-d5a39e7e30f4",
   "metadata": {},
   "source": [
    "## By numbers"
   ]
  },
  {
   "cell_type": "code",
   "execution_count": 4,
   "id": "2508e966-cb06-4830-9362-6a6570503dfb",
   "metadata": {},
   "outputs": [
    {
     "name": "stdin",
     "output_type": "stream",
     "text": [
      "Enter first number 3840\n",
      "Enter second number 2160\n"
     ]
    },
    {
     "name": "stdout",
     "output_type": "stream",
     "text": [
      "Ratio between 3840 and 2160 is 16.0:9.0\n"
     ]
    }
   ],
   "source": [
    "x = int(input('Enter first number'))\n",
    "y = int(input('Enter second number'))\n",
    "\n",
    "gcd = math.gcd(x, y)\n",
    "\n",
    "print(f'Ratio between {x} and {y} is {x / gcd}:{y / gcd}')"
   ]
  }
 ],
 "metadata": {
  "kernelspec": {
   "display_name": "Python 3 (ipykernel)",
   "language": "python",
   "name": "python3"
  },
  "language_info": {
   "codemirror_mode": {
    "name": "ipython",
    "version": 3
   },
   "file_extension": ".py",
   "mimetype": "text/x-python",
   "name": "python",
   "nbconvert_exporter": "python",
   "pygments_lexer": "ipython3",
   "version": "3.11.5"
  }
 },
 "nbformat": 4,
 "nbformat_minor": 5
}
