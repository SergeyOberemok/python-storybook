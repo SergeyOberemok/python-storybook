{
 "cells": [
  {
   "cell_type": "code",
   "execution_count": 10,
   "id": "0bca838e",
   "metadata": {},
   "outputs": [],
   "source": [
    "import sympy as sp\n",
    "from IPython.display import display, Math\n",
    "from sympy.abc import x"
   ]
  },
  {
   "cell_type": "markdown",
   "id": "9115e964",
   "metadata": {},
   "source": [
    "### Distributive rule"
   ]
  },
  {
   "cell_type": "code",
   "execution_count": 11,
   "id": "b5ed6e43",
   "metadata": {},
   "outputs": [],
   "source": [
    "# x(y + z) = xy + xz\n",
    "\n",
    "exp1 = x**2 + 4*x + 3\n",
    "exp2 = (x + 1) * (x + 3)"
   ]
  },
  {
   "cell_type": "markdown",
   "id": "c9f128ca",
   "metadata": {},
   "source": [
    "#### Expand"
   ]
  },
  {
   "cell_type": "code",
   "execution_count": 12,
   "id": "75a2cc59",
   "metadata": {},
   "outputs": [
    {
     "data": {
      "text/latex": [
       "$\\displaystyle \\left(x + 1\\right) \\left(x + 3\\right) = x^{2} + 4 x + 3$"
      ],
      "text/plain": [
       "<IPython.core.display.Math object>"
      ]
     },
     "metadata": {},
     "output_type": "display_data"
    },
    {
     "data": {
      "text/latex": [
       "$\\displaystyle \\text{True}$"
      ],
      "text/plain": [
       "True"
      ]
     },
     "execution_count": 12,
     "metadata": {},
     "output_type": "execute_result"
    }
   ],
   "source": [
    "display(Math(sp.latex(sp.Eq(exp2, sp.expand(exp2)))))\n",
    "sp.Eq(exp1, sp.expand(exp2))"
   ]
  },
  {
   "cell_type": "markdown",
   "id": "7f7c469d",
   "metadata": {},
   "source": [
    "#### Factor"
   ]
  },
  {
   "cell_type": "code",
   "execution_count": 14,
   "id": "0eb77669",
   "metadata": {},
   "outputs": [
    {
     "data": {
      "text/latex": [
       "$\\displaystyle x^{2} + 4 x + 3 = \\left(x + 1\\right) \\left(x + 3\\right)$"
      ],
      "text/plain": [
       "<IPython.core.display.Math object>"
      ]
     },
     "metadata": {},
     "output_type": "display_data"
    },
    {
     "data": {
      "text/latex": [
       "$\\displaystyle \\text{True}$"
      ],
      "text/plain": [
       "True"
      ]
     },
     "execution_count": 14,
     "metadata": {},
     "output_type": "execute_result"
    }
   ],
   "source": [
    "display(Math(sp.latex(sp.Eq(exp1, sp.factor(exp1)))))\n",
    "sp.Eq(exp2, sp.factor(exp1))"
   ]
  }
 ],
 "metadata": {
  "kernelspec": {
   "display_name": "Python 3 (ipykernel)",
   "language": "python",
   "name": "python3"
  },
  "language_info": {
   "codemirror_mode": {
    "name": "ipython",
    "version": 3
   },
   "file_extension": ".py",
   "mimetype": "text/x-python",
   "name": "python",
   "nbconvert_exporter": "python",
   "pygments_lexer": "ipython3",
   "version": "3.9.12"
  }
 },
 "nbformat": 4,
 "nbformat_minor": 5
}
