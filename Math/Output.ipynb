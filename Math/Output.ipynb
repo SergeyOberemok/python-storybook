{
 "cells": [
  {
   "cell_type": "code",
   "execution_count": 13,
   "id": "c9d6be65",
   "metadata": {},
   "outputs": [],
   "source": [
    "from IPython.display import display, Math"
   ]
  },
  {
   "cell_type": "code",
   "execution_count": 19,
   "id": "9a920980",
   "metadata": {},
   "outputs": [],
   "source": [
    "import numpy as np"
   ]
  },
  {
   "cell_type": "markdown",
   "id": "f6c3f1ac",
   "metadata": {},
   "source": [
    "### display(Math())"
   ]
  },
  {
   "cell_type": "markdown",
   "id": "92cf8c4e",
   "metadata": {},
   "source": [
    "#### Addition"
   ]
  },
  {
   "cell_type": "code",
   "execution_count": 24,
   "id": "fb3a7e88",
   "metadata": {},
   "outputs": [
    {
     "data": {
      "text/latex": [
       "$\\displaystyle 2 + 3 = 3 + 2 = 5$"
      ],
      "text/plain": [
       "<IPython.core.display.Math object>"
      ]
     },
     "metadata": {},
     "output_type": "display_data"
    }
   ],
   "source": [
    "x, y = 2, 3\n",
    "\n",
    "exp1 = '%g + %g' %(x, y)\n",
    "exp2 = f'{y} + {x}'\n",
    "\n",
    "display(Math('%s = %s = %s' %(exp1, exp2, x + y) ))"
   ]
  },
  {
   "cell_type": "markdown",
   "id": "8f7b4b7a",
   "metadata": {},
   "source": [
    "#### Multiply"
   ]
  },
  {
   "cell_type": "code",
   "execution_count": 25,
   "id": "33ee383b",
   "metadata": {},
   "outputs": [
    {
     "data": {
      "text/latex": [
       "$\\displaystyle 2 \\times 3 = 3 \\times 2 = 6$"
      ],
      "text/plain": [
       "<IPython.core.display.Math object>"
      ]
     },
     "metadata": {},
     "output_type": "display_data"
    }
   ],
   "source": [
    "x, y = 2, 3\n",
    "\n",
    "exp1 = '%g \\\\times %g' %(x, y)\n",
    "exp2 = f'{y} \\\\times {x}'\n",
    "\n",
    "display(Math('%s = %s = %s' %(exp1, exp2, x * y)))"
   ]
  },
  {
   "cell_type": "markdown",
   "id": "77f4b334",
   "metadata": {},
   "source": [
    "#### Fraction"
   ]
  },
  {
   "cell_type": "code",
   "execution_count": 16,
   "id": "a220d36a",
   "metadata": {},
   "outputs": [
    {
     "data": {
      "text/latex": [
       "$\\displaystyle \\frac{4}{5} = 0.8$"
      ],
      "text/plain": [
       "<IPython.core.display.Math object>"
      ]
     },
     "metadata": {},
     "output_type": "display_data"
    }
   ],
   "source": [
    "x, y = 4, 5\n",
    "\n",
    "display(Math('\\\\frac{%g}{%g} = %g' %(x, y, x/y)))"
   ]
  },
  {
   "cell_type": "markdown",
   "id": "9fa1c449",
   "metadata": {},
   "source": [
    "#### Exponents"
   ]
  },
  {
   "cell_type": "code",
   "execution_count": 17,
   "id": "e39417d3",
   "metadata": {},
   "outputs": [
    {
     "data": {
      "text/latex": [
       "$\\displaystyle 3^2 \\times 3^4 = 3^{2 + 4} = 729$"
      ],
      "text/plain": [
       "<IPython.core.display.Math object>"
      ]
     },
     "metadata": {},
     "output_type": "display_data"
    }
   ],
   "source": [
    "base = 3\n",
    "e1 = 2\n",
    "e2 = 4\n",
    "\n",
    "exp1 = '%g^%g \\\\times %g^%g' %(base, e1, base, e2)\n",
    "exp2 = '%g^{%g + %g}' %(base, e1, e2)\n",
    "\n",
    "display(Math('%s = %s = %s' %(exp1, exp2, base**(e1 + e2))))"
   ]
  },
  {
   "cell_type": "markdown",
   "id": "5347c464",
   "metadata": {},
   "source": [
    "#### Square root"
   ]
  },
  {
   "cell_type": "code",
   "execution_count": 20,
   "id": "ac5ebb9b",
   "metadata": {},
   "outputs": [
    {
     "data": {
      "text/latex": [
       "$\\displaystyle \\sqrt{4} = 2$"
      ],
      "text/plain": [
       "<IPython.core.display.Math object>"
      ]
     },
     "metadata": {},
     "output_type": "display_data"
    },
    {
     "data": {
      "text/latex": [
       "$\\displaystyle \\sqrt{4} \\times \\sqrt{4} = 4$"
      ],
      "text/plain": [
       "<IPython.core.display.Math object>"
      ]
     },
     "metadata": {},
     "output_type": "display_data"
    }
   ],
   "source": [
    "x = 4\n",
    "\n",
    "display(Math('\\\\sqrt{%g} = %g' %(x, np.sqrt(x))))\n",
    "display(Math('\\\\sqrt{%g} \\\\times \\\\sqrt{%g} = %g' %(x, x, x)))"
   ]
  }
 ],
 "metadata": {
  "kernelspec": {
   "display_name": "Python 3 (ipykernel)",
   "language": "python",
   "name": "python3"
  },
  "language_info": {
   "codemirror_mode": {
    "name": "ipython",
    "version": 3
   },
   "file_extension": ".py",
   "mimetype": "text/x-python",
   "name": "python",
   "nbconvert_exporter": "python",
   "pygments_lexer": "ipython3",
   "version": "3.11.4"
  }
 },
 "nbformat": 4,
 "nbformat_minor": 5
}
