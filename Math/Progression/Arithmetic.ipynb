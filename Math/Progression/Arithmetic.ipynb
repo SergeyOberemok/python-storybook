{
 "cells": [
  {
   "cell_type": "code",
   "execution_count": 1,
   "id": "8f35450b",
   "metadata": {},
   "outputs": [],
   "source": [
    "from IPython.display import display, Math\n",
    "import sympy as sp"
   ]
  },
  {
   "cell_type": "markdown",
   "id": "73df862c",
   "metadata": {},
   "source": [
    "### Sum"
   ]
  },
  {
   "cell_type": "code",
   "execution_count": 9,
   "id": "97ba87e2",
   "metadata": {},
   "outputs": [
    {
     "data": {
      "text/latex": [
       "$\\displaystyle - S + n \\left(\\frac{a_{1}}{2} + \\frac{aLast}{2}\\right)$"
      ],
      "text/plain": [
       "<IPython.core.display.Math object>"
      ]
     },
     "metadata": {},
     "output_type": "display_data"
    }
   ],
   "source": [
    "S, a1, aLast, n = sp.symbols('S, a1, aLast, n')\n",
    "\n",
    "sumExp = (a1 + aLast) / 2 * n - S\n",
    "\n",
    "display(Math(sp.latex(sumExp)))"
   ]
  },
  {
   "cell_type": "code",
   "execution_count": 16,
   "id": "72084e92",
   "metadata": {},
   "outputs": [
    {
     "data": {
      "text/latex": [
       "$\\displaystyle 55$"
      ],
      "text/plain": [
       "55"
      ]
     },
     "metadata": {},
     "output_type": "display_data"
    }
   ],
   "source": [
    "first = 1\n",
    "last = 10\n",
    "numbers = [*range(first, last), last]\n",
    "\n",
    "result = sumExp.subs({ a1: first, aLast: last, n: len(numbers) })\n",
    "\n",
    "display(sp.solve(result, S)[0])"
   ]
  }
 ],
 "metadata": {
  "kernelspec": {
   "display_name": "Python 3 (ipykernel)",
   "language": "python",
   "name": "python3"
  },
  "language_info": {
   "codemirror_mode": {
    "name": "ipython",
    "version": 3
   },
   "file_extension": ".py",
   "mimetype": "text/x-python",
   "name": "python",
   "nbconvert_exporter": "python",
   "pygments_lexer": "ipython3",
   "version": "3.9.12"
  }
 },
 "nbformat": 4,
 "nbformat_minor": 5
}
