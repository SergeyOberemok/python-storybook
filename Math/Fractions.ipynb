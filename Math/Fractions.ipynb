{
 "cells": [
  {
   "cell_type": "code",
   "execution_count": 35,
   "id": "db158914",
   "metadata": {},
   "outputs": [],
   "source": [
    "import math\n",
    "import functools\n",
    "import sympy as sp"
   ]
  },
  {
   "cell_type": "markdown",
   "id": "dc162657",
   "metadata": {},
   "source": [
    "## Fractions"
   ]
  },
  {
   "cell_type": "markdown",
   "id": "97f08e8d",
   "metadata": {},
   "source": [
    "### NOK - найбольшее общее кратное"
   ]
  },
  {
   "cell_type": "markdown",
   "id": "1cc06b95",
   "metadata": {},
   "source": [
    "#### by multiplication"
   ]
  },
  {
   "cell_type": "code",
   "execution_count": 36,
   "id": "a3c54525",
   "metadata": {},
   "outputs": [],
   "source": [
    "def getNokByCrossMultiplication(num1: int, num2: int) -> int:\n",
    "    if num1 == num2:\n",
    "        return num1\n",
    "    \n",
    "    return num1 * num2"
   ]
  },
  {
   "cell_type": "code",
   "execution_count": 37,
   "id": "b3aa821e",
   "metadata": {},
   "outputs": [
    {
     "name": "stdout",
     "output_type": "stream",
     "text": [
      "NOK of 6 and 8 is 48\n"
     ]
    }
   ],
   "source": [
    "x = 6\n",
    "y = 8\n",
    "\n",
    "print('NOK of %g and %g is %g' %(x, y, getNokByCrossMultiplication(x, y)))"
   ]
  },
  {
   "cell_type": "markdown",
   "id": "8f0fd34b",
   "metadata": {},
   "source": [
    "#### by self division"
   ]
  },
  {
   "cell_type": "code",
   "execution_count": 38,
   "id": "2d7bf7e6",
   "metadata": {},
   "outputs": [],
   "source": [
    "def getNokBySelfDivision(num1: int, num2: int) -> int:\n",
    "    if num1 % num2 == 0:\n",
    "        return num1\n",
    "    \n",
    "    if num2 % num1 == 0:\n",
    "        return num2\n",
    "    \n",
    "    return None"
   ]
  },
  {
   "cell_type": "code",
   "execution_count": 39,
   "id": "bd49c49a",
   "metadata": {},
   "outputs": [
    {
     "name": "stdout",
     "output_type": "stream",
     "text": [
      "NOK of 60 and 15 is 60\n"
     ]
    }
   ],
   "source": [
    "x = 60\n",
    "y = 15\n",
    "\n",
    "print('NOK of %g and %g is %g' %(x, y, getNokBySelfDivision(x, y)))"
   ]
  },
  {
   "cell_type": "markdown",
   "id": "0e2e699c",
   "metadata": {},
   "source": [
    "#### by sequence"
   ]
  },
  {
   "cell_type": "code",
   "execution_count": 40,
   "id": "76fe7dab",
   "metadata": {},
   "outputs": [],
   "source": [
    "def getNokBySequence(num1: int, num2: int) -> int:\n",
    "    maxNok = getNokByCrossMultiplication(num1, num2)\n",
    "    i = 1\n",
    "    num1Dictionary = { num1: i }\n",
    "    num2Dictionary = { num2: i }\n",
    "    \n",
    "    while num1 < maxNok and num2 < maxNok:\n",
    "        lastKey = list(num2Dictionary)[-1]\n",
    "        if num1Dictionary.get(lastKey) is not None:\n",
    "            return lastKey\n",
    "\n",
    "        lastKey = list(num1Dictionary)[-1]\n",
    "        if num2Dictionary.get(lastKey) is not None:\n",
    "            return lastKey\n",
    "        \n",
    "        i += 1\n",
    "        \n",
    "        num1Dictionary.update({ num1 * i: i })\n",
    "        num2Dictionary.update({ num2 * i: i })\n",
    "    \n",
    "    return maxNok"
   ]
  },
  {
   "cell_type": "code",
   "execution_count": 41,
   "id": "f881a42c",
   "metadata": {},
   "outputs": [
    {
     "name": "stdout",
     "output_type": "stream",
     "text": [
      "NOK of 6 and 8 is 24\n"
     ]
    }
   ],
   "source": [
    "x = 6\n",
    "y = 8\n",
    "\n",
    "print('NOK of %g and %g is %g' %(x, y, getNokBySequence(x, y)))"
   ]
  },
  {
   "cell_type": "markdown",
   "id": "b3799659",
   "metadata": {},
   "source": [
    "### NOD - найбольший общий делитель | GCD - greatest common denominator"
   ]
  },
  {
   "cell_type": "markdown",
   "id": "be6e801c",
   "metadata": {},
   "source": [
    "#### number's multipliers"
   ]
  },
  {
   "cell_type": "code",
   "execution_count": 42,
   "id": "60eaa283",
   "metadata": {},
   "outputs": [],
   "source": [
    "def getMultipliers(num: int) -> list:\n",
    "    multipliers = []\n",
    "    \n",
    "    for i in range(2, num + 1):\n",
    "        while num % i == 0:\n",
    "            multipliers.append(i)\n",
    "            num /= i\n",
    "    \n",
    "    return multipliers"
   ]
  },
  {
   "cell_type": "code",
   "execution_count": 56,
   "id": "7a6dda78",
   "metadata": {},
   "outputs": [
    {
     "name": "stdout",
     "output_type": "stream",
     "text": [
      "Multipliers of 36 is 2, 2, 3, 3\n"
     ]
    }
   ],
   "source": [
    "x = 36\n",
    "multipliers = getMultipliers(x);\n",
    "\n",
    "print('Multipliers of %g is %s' %(x, ', '.join(map(str, multipliers))))"
   ]
  },
  {
   "cell_type": "code",
   "execution_count": 57,
   "id": "c8014398",
   "metadata": {},
   "outputs": [
    {
     "name": "stdout",
     "output_type": "stream",
     "text": [
      "Multipliers of 36 is 2, 2, 3, 3\n"
     ]
    }
   ],
   "source": [
    "factorints = sp.factorint(x);\n",
    "multipliers = []\n",
    "\n",
    "for key in factorints:\n",
    "    listOfMultipliers = [key] * factorints[key]\n",
    "    multipliers.extend(listOfMultipliers)\n",
    "    \n",
    "print('Multipliers of %g is %s' %(x, ', '.join(map(str, multipliers))))"
   ]
  },
  {
   "cell_type": "markdown",
   "id": "b1133fdd",
   "metadata": {},
   "source": [
    "#### multipliers intersections"
   ]
  },
  {
   "cell_type": "code",
   "execution_count": 44,
   "id": "fce0e39e",
   "metadata": {},
   "outputs": [],
   "source": [
    "def getIntersections(list1, list2) -> list:\n",
    "    list1 = list1.copy()\n",
    "    list2 = list2.copy()\n",
    "    intercestions = []\n",
    "    \n",
    "    for i in list1:\n",
    "        if i in list2:\n",
    "            intercestions.append(i)\n",
    "            list2.remove(i)\n",
    "        \n",
    "    return intercestions"
   ]
  },
  {
   "cell_type": "code",
   "execution_count": 45,
   "id": "f5bb1ae3",
   "metadata": {},
   "outputs": [
    {
     "name": "stdout",
     "output_type": "stream",
     "text": [
      "Intersections of 2, 2, 2, 2, 3 and 2, 2, 3, 3 are 2, 2, 3\n"
     ]
    }
   ],
   "source": [
    "x = [2, 2, 2, 2, 3]\n",
    "y = [2, 2, 3, 3]\n",
    "\n",
    "intersections = getIntersections(x, y)\n",
    "\n",
    "print('Intersections of %s and %s are %s' %(\n",
    "    ', '.join(map(str, x)), \n",
    "    ', '.join(map(str, y)), \n",
    "    ', '.join(map(str, intersections))\n",
    "))"
   ]
  },
  {
   "cell_type": "markdown",
   "id": "3c3f0342",
   "metadata": {},
   "source": [
    "#### by multiplying"
   ]
  },
  {
   "cell_type": "code",
   "execution_count": 46,
   "id": "906c05d6",
   "metadata": {},
   "outputs": [],
   "source": [
    "def getNodByMultiplying(num1: int, num2: int) -> int:\n",
    "    num1Multipliers = getMultipliers(num1)\n",
    "    num2Multipliers = getMultipliers(num2)\n",
    "    intersections = getIntersections(num1Multipliers, num2Multipliers)\n",
    "    \n",
    "    return functools.reduce(lambda a, b: a * b, intersections, 0)"
   ]
  },
  {
   "cell_type": "code",
   "execution_count": 47,
   "id": "54d4570b",
   "metadata": {},
   "outputs": [
    {
     "name": "stdout",
     "output_type": "stream",
     "text": [
      "NOD | GCD between 48 and 36 is 0\n",
      "NOD | GCD between 48 and 36 is 12\n"
     ]
    }
   ],
   "source": [
    "x = 48\n",
    "y = 36\n",
    "\n",
    "print('NOD | GCD between %g and %g is %g' %(x, y, getNodByMultiplying(x, y)))\n",
    "print('NOD | GCD between %g and %g is %g' %(x, y, math.gcd(x, y)))"
   ]
  },
  {
   "cell_type": "raw",
   "id": "89e3a49d",
   "metadata": {},
   "source": [
    "x = int(input('Enter first number '))\n",
    "y = int(input('Enter second number '))\n",
    "\n",
    "print('NOD | GCD between %g and %g is %g' %(x, y, getNodByMultiplying(x, y)))\n",
    "print('NOD | GCD between %g and %g is %g' %(x, y, math.gcd(x, y)))"
   ]
  },
  {
   "cell_type": "markdown",
   "id": "33f5f494",
   "metadata": {},
   "source": [
    "### Prime numbers"
   ]
  },
  {
   "cell_type": "code",
   "execution_count": 48,
   "id": "daae1c05",
   "metadata": {},
   "outputs": [],
   "source": [
    "def isPrime(num: int) -> bool:\n",
    "    if num <= 3:\n",
    "        return num > 1\n",
    "    if num % 2 == 0 or num % 3 == 0:\n",
    "        return False\n",
    "    \n",
    "    for i in range(5, int(num ** 0.5) + 1, 6):\n",
    "        if num % i == 0 or num % (i + 2) == 0:\n",
    "            return False\n",
    "    return True"
   ]
  },
  {
   "cell_type": "code",
   "execution_count": 49,
   "id": "ed562894",
   "metadata": {},
   "outputs": [
    {
     "name": "stdout",
     "output_type": "stream",
     "text": [
      "Is 7 is prime = yes\n"
     ]
    }
   ],
   "source": [
    "x = 7\n",
    "\n",
    "print('Is %g is prime = %s' %(x, 'yes' if isPrime(x) else 'no'))"
   ]
  },
  {
   "cell_type": "markdown",
   "id": "68ec62e3",
   "metadata": {},
   "source": [
    "#### sequence"
   ]
  },
  {
   "cell_type": "code",
   "execution_count": 50,
   "id": "763ece09",
   "metadata": {},
   "outputs": [],
   "source": [
    "def getPrimeNumbers(length: int = 0) -> list:\n",
    "    if length <= 0:\n",
    "        return []\n",
    "    \n",
    "    primeNumbers = []\n",
    "    \n",
    "    for i in range(1, length):\n",
    "        if isPrime(i):\n",
    "            primeNumbers.append(i)\n",
    "    \n",
    "    return primeNumbers"
   ]
  },
  {
   "cell_type": "code",
   "execution_count": 51,
   "id": "10fe3622",
   "metadata": {},
   "outputs": [
    {
     "name": "stdout",
     "output_type": "stream",
     "text": [
      "Prime numbers till 20 are 2, 3, 5, 7, 11, 13, 17, 19\n"
     ]
    }
   ],
   "source": [
    "x = 20\n",
    "primeNumbers = getPrimeNumbers(x)\n",
    "\n",
    "print('Prime numbers till %g are %s' %(x, ', '.join(map(str, primeNumbers))))"
   ]
  }
 ],
 "metadata": {
  "kernelspec": {
   "display_name": "Python 3 (ipykernel)",
   "language": "python",
   "name": "python3"
  },
  "language_info": {
   "codemirror_mode": {
    "name": "ipython",
    "version": 3
   },
   "file_extension": ".py",
   "mimetype": "text/x-python",
   "name": "python",
   "nbconvert_exporter": "python",
   "pygments_lexer": "ipython3",
   "version": "3.9.12"
  }
 },
 "nbformat": 4,
 "nbformat_minor": 5
}
