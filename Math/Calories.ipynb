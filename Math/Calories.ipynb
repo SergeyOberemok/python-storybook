{
 "cells": [
  {
   "cell_type": "code",
   "execution_count": 1,
   "id": "261b436f",
   "metadata": {},
   "outputs": [],
   "source": [
    "from IPython.display import display, Math\n",
    "import sympy as sp"
   ]
  },
  {
   "cell_type": "markdown",
   "id": "c9677f7f",
   "metadata": {},
   "source": [
    "## Calories calculator"
   ]
  },
  {
   "cell_type": "markdown",
   "id": "e136b577",
   "metadata": {},
   "source": [
    "### Calories"
   ]
  },
  {
   "cell_type": "markdown",
   "id": "ad797ab8",
   "metadata": {},
   "source": [
    "#### Expresion"
   ]
  },
  {
   "cell_type": "code",
   "execution_count": 2,
   "id": "78242787",
   "metadata": {},
   "outputs": [],
   "source": [
    "def getCaloriesExp():\n",
    "    quantity, calories = sp.symbols('quantity, calories')\n",
    "\n",
    "    caloriesExp = quantity / 100 * calories\n",
    "    \n",
    "    return caloriesExp"
   ]
  },
  {
   "cell_type": "code",
   "execution_count": 3,
   "id": "d8eb7168",
   "metadata": {},
   "outputs": [
    {
     "data": {
      "text/latex": [
       "$\\displaystyle \\frac{calories quantity}{100}$"
      ],
      "text/plain": [
       "<IPython.core.display.Math object>"
      ]
     },
     "metadata": {},
     "output_type": "display_data"
    }
   ],
   "source": [
    "caloriesExp = getCaloriesExp()\n",
    "\n",
    "display(Math(sp.latex(caloriesExp)))"
   ]
  },
  {
   "cell_type": "markdown",
   "id": "d73438c2",
   "metadata": {},
   "source": [
    "#### Resolve"
   ]
  },
  {
   "cell_type": "code",
   "execution_count": 24,
   "id": "645bb20b",
   "metadata": {},
   "outputs": [],
   "source": [
    "def getCalories(quantity, calories):\n",
    "    caloriesExp = getCaloriesExp()\n",
    "\n",
    "    return caloriesExp.subs({ 'quantity': quantity, 'calories': calories }).evalf()"
   ]
  },
  {
   "cell_type": "code",
   "execution_count": 25,
   "id": "7ecb2f08",
   "metadata": {},
   "outputs": [
    {
     "name": "stdout",
     "output_type": "stream",
     "text": [
      "543.400000000000\n"
     ]
    }
   ],
   "source": [
    "quantity = 130\n",
    "calories = 418\n",
    "result = getCalories(quantity, calories)\n",
    "\n",
    "print(result)"
   ]
  },
  {
   "cell_type": "markdown",
   "id": "965dde78",
   "metadata": {},
   "source": [
    "##### Input"
   ]
  },
  {
   "cell_type": "raw",
   "id": "bfb47c71",
   "metadata": {},
   "source": [
    "quantity = input('Enter quantity ')\n",
    "calories = input('Enter calories ')\n",
    "\n",
    "display(caloriesExp.subs({ 'quantity': quantity, 'calories': calories }))"
   ]
  },
  {
   "cell_type": "markdown",
   "id": "5e3f2c17",
   "metadata": {},
   "source": [
    "### Water"
   ]
  },
  {
   "cell_type": "markdown",
   "id": "08b06334",
   "metadata": {},
   "source": [
    "#### Expresion"
   ]
  },
  {
   "cell_type": "code",
   "execution_count": 28,
   "id": "141bc721",
   "metadata": {},
   "outputs": [],
   "source": [
    "def getWaterExp():\n",
    "    quantity, water = sp.symbols('quantity, water')\n",
    "\n",
    "    waterExp = quantity / (quantity + water) * 100\n",
    "    \n",
    "    return waterExp"
   ]
  },
  {
   "cell_type": "code",
   "execution_count": 29,
   "id": "d5ce0c4a",
   "metadata": {},
   "outputs": [
    {
     "data": {
      "text/latex": [
       "$\\displaystyle \\frac{100 quantity}{quantity + water}$"
      ],
      "text/plain": [
       "<IPython.core.display.Math object>"
      ]
     },
     "metadata": {},
     "output_type": "display_data"
    }
   ],
   "source": [
    "waterExp = getWaterExp()\n",
    "\n",
    "display(Math(sp.latex(waterExp)))"
   ]
  },
  {
   "cell_type": "markdown",
   "id": "e53f0ed0",
   "metadata": {},
   "source": [
    "#### Resolve"
   ]
  },
  {
   "cell_type": "code",
   "execution_count": 22,
   "id": "8f8a158c",
   "metadata": {},
   "outputs": [],
   "source": [
    "def getWater(quantity, water):\n",
    "    waterExp = getWaterExp()\n",
    "    \n",
    "    return waterExp.subs({ 'quantity': quantity, 'water': water }).evalf()"
   ]
  },
  {
   "cell_type": "code",
   "execution_count": 23,
   "id": "ec5b7b80",
   "metadata": {},
   "outputs": [
    {
     "name": "stdout",
     "output_type": "stream",
     "text": [
      "15.3301886792453\n"
     ]
    }
   ],
   "source": [
    "quantity = 130\n",
    "water = 848 - quantity\n",
    "result = getWater(quantity, water)\n",
    "\n",
    "print(result)"
   ]
  },
  {
   "cell_type": "markdown",
   "id": "31a66655",
   "metadata": {},
   "source": [
    "##### Input"
   ]
  },
  {
   "cell_type": "raw",
   "id": "287f669c",
   "metadata": {},
   "source": [
    "quantity = input('Enter quantity ')\n",
    "water = input('Enter water ')\n",
    "\n",
    "display(waterExp.subs({ 'quantity': quantity, 'water': water }))"
   ]
  },
  {
   "cell_type": "markdown",
   "id": "e2809f26",
   "metadata": {},
   "source": [
    "## Calories equations"
   ]
  },
  {
   "cell_type": "code",
   "execution_count": 10,
   "id": "a09fd70e",
   "metadata": {},
   "outputs": [],
   "source": [
    "weight, height, age = sp.symbols('weight, height, age')"
   ]
  },
  {
   "cell_type": "markdown",
   "id": "2ff1bbe6",
   "metadata": {},
   "source": [
    "### Harris-Benedict equation for men (kg, cm, year)"
   ]
  },
  {
   "cell_type": "code",
   "execution_count": 11,
   "id": "37f2d5be",
   "metadata": {},
   "outputs": [
    {
     "data": {
      "text/latex": [
       "$\\displaystyle - 6.755 age + 5.0033 height + 12.7516 weight + 66.473$"
      ],
      "text/plain": [
       "<IPython.core.display.Math object>"
      ]
     },
     "metadata": {},
     "output_type": "display_data"
    }
   ],
   "source": [
    "harrisBenedictExp = 66.473 + (12.7516 * weight) + (5.0033 * height) - (6.755 * age)\n",
    "\n",
    "display(Math(sp.latex(harrisBenedictExp)))"
   ]
  },
  {
   "cell_type": "code",
   "execution_count": 12,
   "id": "e8d4b91b",
   "metadata": {},
   "outputs": [
    {
     "data": {
      "text/latex": [
       "$\\displaystyle 1804.81$"
      ],
      "text/plain": [
       "1804.81000000000"
      ]
     },
     "metadata": {},
     "output_type": "display_data"
    }
   ],
   "source": [
    "w = 80\n",
    "h = 180\n",
    "a = 27\n",
    "\n",
    "display(harrisBenedictExp.subs({ weight: w, height: h, age: a }))"
   ]
  },
  {
   "cell_type": "markdown",
   "id": "2b5a727a",
   "metadata": {},
   "source": [
    "##### Input"
   ]
  },
  {
   "cell_type": "raw",
   "id": "c4916cec",
   "metadata": {},
   "source": [
    "weightInput = input('Enter weight ')\n",
    "heightInput = input('Enter height ')\n",
    "ageInput = input('Enter age ')\n",
    "\n",
    "display(harrisBenedictExp.subs({ weight: weightInput, height: heightInput, age: ageInput }))"
   ]
  },
  {
   "cell_type": "markdown",
   "id": "54697da1",
   "metadata": {},
   "source": [
    "### Mifflin-St-Jeor equation for men (kg, cm, year)"
   ]
  },
  {
   "cell_type": "code",
   "execution_count": 13,
   "id": "07fb61e7",
   "metadata": {},
   "outputs": [
    {
     "data": {
      "text/latex": [
       "$\\displaystyle - 5 age + 6.25 height + 10 weight + 5$"
      ],
      "text/plain": [
       "<IPython.core.display.Math object>"
      ]
     },
     "metadata": {},
     "output_type": "display_data"
    }
   ],
   "source": [
    "mifflinStJeorExp = (10 * weight) + (6.25 * height) - (5 * age) + 5\n",
    "\n",
    "display(Math(sp.latex(mifflinStJeorExp)))"
   ]
  },
  {
   "cell_type": "code",
   "execution_count": 14,
   "id": "4f89331a",
   "metadata": {},
   "outputs": [
    {
     "data": {
      "text/latex": [
       "$\\displaystyle 1795.0$"
      ],
      "text/plain": [
       "1795.00000000000"
      ]
     },
     "metadata": {},
     "output_type": "display_data"
    }
   ],
   "source": [
    "w = 80\n",
    "h = 180\n",
    "a = 27\n",
    "\n",
    "display(mifflinStJeorExp.subs({ weight: w, height: h, age: a }))"
   ]
  },
  {
   "cell_type": "markdown",
   "id": "3fc5bec1",
   "metadata": {},
   "source": [
    "##### Input"
   ]
  },
  {
   "cell_type": "raw",
   "id": "0398d8a5",
   "metadata": {},
   "source": [
    "weightInput = input('Enter weight ')\n",
    "heightInput = input('Enter height ')\n",
    "ageInput = input('Enter age ')\n",
    "\n",
    "display(mifflinStJeorExp.subs({ weight: weightInput, height: heightInput, age: ageInput }))"
   ]
  }
 ],
 "metadata": {
  "kernelspec": {
   "display_name": "Python 3 (ipykernel)",
   "language": "python",
   "name": "python3"
  },
  "language_info": {
   "codemirror_mode": {
    "name": "ipython",
    "version": 3
   },
   "file_extension": ".py",
   "mimetype": "text/x-python",
   "name": "python",
   "nbconvert_exporter": "python",
   "pygments_lexer": "ipython3",
   "version": "3.9.12"
  }
 },
 "nbformat": 4,
 "nbformat_minor": 5
}
