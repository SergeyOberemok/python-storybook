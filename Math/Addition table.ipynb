{
 "cells": [
  {
   "cell_type": "code",
   "execution_count": 1,
   "id": "860cbcf6",
   "metadata": {},
   "outputs": [],
   "source": [
    "import sympy as sp\n",
    "import numpy as np\n",
    "from IPython.display import display, Math, HTML\n",
    "import random\n",
    "import os, sys\n",
    "import matplotlib.pyplot as plt\n",
    "from functools import reduce"
   ]
  },
  {
   "cell_type": "code",
   "execution_count": 2,
   "id": "653dbae7-e660-49b3-b8ac-1eef7f9ffce8",
   "metadata": {},
   "outputs": [],
   "source": [
    "import math_lib.icons_utils as icons_utils\n",
    "import math_lib.numbers_utils as numbersUtils\n",
    "from math_lib.html_table import TableHtml"
   ]
  },
  {
   "cell_type": "code",
   "execution_count": 3,
   "id": "a472694a-1d86-4893-a9d8-a172bae15061",
   "metadata": {},
   "outputs": [],
   "source": [
    "directoryPaths = [\n",
    "    # os.path.abspath(os.path.join('..\\\\Algorithms'))\n",
    "    os.path.abspath(os.path.join('..\\\\Algorithms\\\\Tuition'))\n",
    "]\n",
    "\n",
    "for directoryPath in (directoryPath for directoryPath in directoryPaths if directoryPath not in sys.path):\n",
    "    sys.path.append(directoryPath)"
   ]
  },
  {
   "cell_type": "code",
   "execution_count": 4,
   "id": "75a68bf0-b915-41a6-87c9-9bde0d71ea75",
   "metadata": {},
   "outputs": [
    {
     "ename": "ModuleNotFoundError",
     "evalue": "No module named 'Assessments'",
     "output_type": "error",
     "traceback": [
      "\u001b[1;31m---------------------------------------------------------------------------\u001b[0m",
      "\u001b[1;31mModuleNotFoundError\u001b[0m                       Traceback (most recent call last)",
      "Cell \u001b[1;32mIn[4], line 1\u001b[0m\n\u001b[1;32m----> 1\u001b[0m \u001b[38;5;28;01mfrom\u001b[39;00m\u001b[38;5;250m \u001b[39m\u001b[38;5;21;01mAssessments\u001b[39;00m\u001b[38;5;250m \u001b[39m\u001b[38;5;28;01mimport\u001b[39;00m AssessmentFactory\n\u001b[0;32m      2\u001b[0m \u001b[38;5;28;01mfrom\u001b[39;00m\u001b[38;5;250m \u001b[39m\u001b[38;5;21;01mStrategies\u001b[39;00m\u001b[38;5;250m \u001b[39m\u001b[38;5;28;01mimport\u001b[39;00m CalculationStrategyFactory\n",
      "\u001b[1;31mModuleNotFoundError\u001b[0m: No module named 'Assessments'"
     ]
    }
   ],
   "source": [
    "from Assessments import AssessmentFactory\n",
    "from Strategies import CalculationStrategyFactory"
   ]
  },
  {
   "cell_type": "markdown",
   "id": "964ae6d3-efab-47e1-8041-eb854469c444",
   "metadata": {},
   "source": [
    "---"
   ]
  },
  {
   "cell_type": "markdown",
   "id": "e619c343",
   "metadata": {},
   "source": [
    "# Icons"
   ]
  },
  {
   "cell_type": "code",
   "execution_count": null,
   "id": "1e04c3ec",
   "metadata": {},
   "outputs": [],
   "source": [
    "icons = {\n",
    "    0: '🎲',\n",
    "    1: '🚗☃️',\n",
    "    2: '🦢❄️',\n",
    "    3: '🍺☁️',\n",
    "    4: '🛫🤡',\n",
    "    5: '🎒🪖',\n",
    "    6: '👿🎈',\n",
    "    7: '⛪🏈',\n",
    "    8: '🎱🏖️',\n",
    "    9: '💍🚸',\n",
    "}\n",
    "\n",
    "print(icons)"
   ]
  },
  {
   "cell_type": "markdown",
   "id": "4834e30b",
   "metadata": {},
   "source": [
    "# Table"
   ]
  },
  {
   "cell_type": "markdown",
   "id": "b7da42cf",
   "metadata": {},
   "source": [
    "## Matrix"
   ]
  },
  {
   "cell_type": "markdown",
   "id": "eff20592-4ce2-4ec2-b9e5-d2d4383737bc",
   "metadata": {
    "jp-MarkdownHeadingCollapsed": true
   },
   "source": [
    "### Numbers"
   ]
  },
  {
   "cell_type": "code",
   "execution_count": null,
   "id": "eec4236e",
   "metadata": {},
   "outputs": [],
   "source": [
    "def getAdditionTable(flipHorizontally: bool = True):\n",
    "    size = 10\n",
    "    A = np.zeros([size, size], int)\n",
    "\n",
    "    for row in range(size):\n",
    "        for column in range(size):\n",
    "            if row == 0:\n",
    "                A[row, column] = column\n",
    "                continue\n",
    "            if column == 0:\n",
    "                A[row, column] = row\n",
    "                continue\n",
    "\n",
    "            if row <= column:\n",
    "                A[row, column] = row + column\n",
    "    \n",
    "    return np.flip(A, 0) if flipHorizontally else A\n",
    "\n",
    "A = getAdditionTable()\n",
    "\n",
    "display(Math(sp.latex(sp.sympify(A))))"
   ]
  },
  {
   "cell_type": "markdown",
   "id": "3dde97af",
   "metadata": {
    "jp-MarkdownHeadingCollapsed": true
   },
   "source": [
    "### Colors"
   ]
  },
  {
   "cell_type": "code",
   "execution_count": null,
   "id": "599b1eec",
   "metadata": {},
   "outputs": [],
   "source": [
    "xLength, yLength = np.shape(A)\n",
    "\n",
    "plt.imshow(A)\n",
    "\n",
    "for i in range(xLength):\n",
    "    for j in range(yLength):\n",
    "        plt.text(j, i, A[i, j], horizontalalignment='center', verticalalignment='center')\n",
    "\n",
    "plt.tick_params(left=False, bottom=False, labelleft=False, labelbottom=False)\n",
    "\n",
    "plt.show()"
   ]
  },
  {
   "cell_type": "markdown",
   "id": "84954ef4",
   "metadata": {},
   "source": [
    "### Icons"
   ]
  },
  {
   "cell_type": "code",
   "execution_count": null,
   "id": "b3bed44a",
   "metadata": {},
   "outputs": [],
   "source": [
    "iconsTable = icons_utils.mapMatrixToIcons(A, icons)\n",
    "\n",
    "display(HTML(TableHtml.toHtml(iconsTable)))"
   ]
  },
  {
   "cell_type": "markdown",
   "id": "a9c31523",
   "metadata": {},
   "source": [
    "## Terms variation"
   ]
  },
  {
   "cell_type": "markdown",
   "id": "b0e0a4ad",
   "metadata": {},
   "source": [
    "### Dictionary"
   ]
  },
  {
   "cell_type": "code",
   "execution_count": null,
   "id": "521f42e9",
   "metadata": {},
   "outputs": [],
   "source": [
    "def getAdditionDictionary():\n",
    "    size = 10\n",
    "    dictionary = { key: [] for key in range(1, (size + size)) }\n",
    "    \n",
    "    for key in dictionary:\n",
    "        number = int(key)\n",
    "        terms = numbersUtils.getTerms(number)\n",
    "        dictionary[key].extend(terms)\n",
    "    \n",
    "    return dictionary\n",
    "\n",
    "additionDictionary = getAdditionDictionary()\n",
    "\n",
    "print(additionDictionary)"
   ]
  },
  {
   "cell_type": "markdown",
   "id": "8739c58c",
   "metadata": {},
   "source": [
    "### Table"
   ]
  },
  {
   "cell_type": "code",
   "execution_count": null,
   "id": "8a98bc86",
   "metadata": {},
   "outputs": [],
   "source": [
    "def dictionaryToMatrix(dictionary, inverseVertically: bool = False):\n",
    "    keys = list(dictionary.keys())\n",
    "    sizeX = reduce(lambda acc, terms: acc if acc >= len(terms) else len(terms), dictionary.values(), 0)\n",
    "    sizeY = len(keys)\n",
    "    D = np.zeros([sizeY, sizeX], int)\n",
    "\n",
    "    if inverseVertically:\n",
    "        keys.reverse()\n",
    "        \n",
    "    for i, key in enumerate(keys):\n",
    "        for j, column in enumerate(dictionary[key]):\n",
    "            D[i, j] = reduce(lambda term1, term2: str(term1) + str(term2), column)\n",
    "    \n",
    "    D = np.insert(D, 0, keys, axis=1)\n",
    "    \n",
    "    return D\n",
    "\n",
    "D = dictionaryToMatrix(additionDictionary)\n",
    "\n",
    "display(Math(sp.latex(sp.sympify(D))))"
   ]
  },
  {
   "cell_type": "markdown",
   "id": "ac484e56",
   "metadata": {},
   "source": [
    "#### Colors"
   ]
  },
  {
   "cell_type": "code",
   "execution_count": null,
   "id": "e421ad06",
   "metadata": {},
   "outputs": [],
   "source": [
    "xLength, yLength = np.shape(D)\n",
    "\n",
    "plt.imshow(D)\n",
    "\n",
    "for i in range(xLength):\n",
    "    for j in range(yLength):\n",
    "        plt.text(j, i, D[i, j], horizontalalignment='center', verticalalignment='center')\n",
    "        \n",
    "plt.tick_params(left=False, bottom=False, labelleft=False, labelbottom=False)\n",
    "\n",
    "plt.show()"
   ]
  },
  {
   "cell_type": "markdown",
   "id": "6bff3500",
   "metadata": {},
   "source": [
    "#### Icons"
   ]
  },
  {
   "cell_type": "code",
   "execution_count": null,
   "id": "990d186d",
   "metadata": {},
   "outputs": [],
   "source": [
    "iconsTable = icons_utils.mapMatrixToIcons(D, icons)\n",
    "\n",
    "display(HTML(TableHtml.toHtml(iconsTable)))"
   ]
  },
  {
   "cell_type": "markdown",
   "id": "c2241c30",
   "metadata": {},
   "source": [
    "# Tests"
   ]
  },
  {
   "cell_type": "code",
   "execution_count": null,
   "id": "2e1e7102-1ff5-425e-a763-2d2fb2696b5c",
   "metadata": {},
   "outputs": [],
   "source": [
    "numbersPairs = numbersUtils.generateRandomNumbersPairs(maxNumber=10, count=3)\n",
    "strategies = CalculationStrategyFactory.createAdditionStrategies(numbersPairs)\n",
    "\n",
    "\n",
    "def getAnswer(message: str) -> int:\n",
    "    return int(input(icons_utils.replaceNumbersToIcons(f'What is the outcome of {message}: ', icons)))\n",
    "\n",
    "assessment = AssessmentFactory.createSurveyAssessment(strategies, getAnswer)\n",
    "\n",
    "result = assessment.assist()\n",
    "\n",
    "print(result, assessment)"
   ]
  }
 ],
 "metadata": {
  "kernelspec": {
   "display_name": "Python [conda env:base] *",
   "language": "python",
   "name": "conda-base-py"
  },
  "language_info": {
   "codemirror_mode": {
    "name": "ipython",
    "version": 3
   },
   "file_extension": ".py",
   "mimetype": "text/x-python",
   "name": "python",
   "nbconvert_exporter": "python",
   "pygments_lexer": "ipython3",
   "version": "3.11.7"
  }
 },
 "nbformat": 4,
 "nbformat_minor": 5
}
