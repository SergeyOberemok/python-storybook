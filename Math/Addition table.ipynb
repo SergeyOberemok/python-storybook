{
 "cells": [
  {
   "cell_type": "code",
   "execution_count": 1,
   "id": "860cbcf6",
   "metadata": {},
   "outputs": [],
   "source": [
    "import sympy as sp\n",
    "import numpy as np\n",
    "from IPython.display import display, Math, HTML\n",
    "import random\n",
    "import os, sys\n",
    "import matplotlib.pyplot as plt\n",
    "from functools import reduce"
   ]
  },
  {
   "cell_type": "code",
   "execution_count": 2,
   "id": "a083ba4a",
   "metadata": {},
   "outputs": [],
   "source": [
    "directoryPath = os.path.abspath(os.path.join('..\\\\libs'))\n",
    "\n",
    "if directoryPath not in sys.path:\n",
    "    sys.path.append(directoryPath)"
   ]
  },
  {
   "cell_type": "code",
   "execution_count": 3,
   "id": "316ce0e0",
   "metadata": {},
   "outputs": [],
   "source": [
    "from PythonStorybookLibs.Math.icons import mapMatrixToIcons, mapNumberToIcons\n",
    "import PythonStorybookLibs.Math.numbers as mathNumbers\n",
    "from PythonStorybookLibs.output.html import TableHtml\n",
    "from PythonStorybookLibs.tuition.assessments.assessment_factory import AssessmentFactory"
   ]
  },
  {
   "cell_type": "markdown",
   "id": "e619c343",
   "metadata": {},
   "source": [
    "### Icons"
   ]
  },
  {
   "cell_type": "code",
   "execution_count": 4,
   "id": "1e04c3ec",
   "metadata": {},
   "outputs": [
    {
     "name": "stdout",
     "output_type": "stream",
     "text": [
      "{0: '🎲', 1: '🚗', 2: '🦢', 3: '🍺', 4: '🛫', 5: '🎒', 6: '👿', 7: '⛪', 8: '🎱', 9: '💍'}\n"
     ]
    }
   ],
   "source": [
    "icons = {\n",
    "    0: '🎲',\n",
    "    1: '🚗',\n",
    "    2: '🦢',\n",
    "    3: '🍺',\n",
    "    4: '🛫',\n",
    "    5: '🎒',\n",
    "    6: '👿',\n",
    "    7: '⛪',\n",
    "    8: '🎱',\n",
    "    9: '💍',\n",
    "}\n",
    "\n",
    "print(icons)"
   ]
  },
  {
   "cell_type": "markdown",
   "id": "4834e30b",
   "metadata": {},
   "source": [
    "### Table"
   ]
  },
  {
   "cell_type": "markdown",
   "id": "b7da42cf",
   "metadata": {},
   "source": [
    "#### Matrix"
   ]
  },
  {
   "cell_type": "code",
   "execution_count": 5,
   "id": "eec4236e",
   "metadata": {},
   "outputs": [],
   "source": [
    "def getAdditionTable(flipHorizontally: bool = True):\n",
    "    size = 10\n",
    "    A = np.zeros([size, size], int)\n",
    "\n",
    "    for row in range(size):\n",
    "        for column in range(size):\n",
    "            if row == 0:\n",
    "                A[row, column] = column\n",
    "                continue\n",
    "            if column == 0:\n",
    "                A[row, column] = row\n",
    "                continue\n",
    "\n",
    "            if row <= column:\n",
    "                A[row, column] = row + column\n",
    "    \n",
    "    return np.flip(A, 0) if flipHorizontally else A"
   ]
  },
  {
   "cell_type": "code",
   "execution_count": 6,
   "id": "4ab91449",
   "metadata": {},
   "outputs": [
    {
     "data": {
      "text/latex": [
       "$\\displaystyle \\left[\\begin{matrix}9 & 0 & 0 & 0 & 0 & 0 & 0 & 0 & 0 & 18\\\\8 & 0 & 0 & 0 & 0 & 0 & 0 & 0 & 16 & 17\\\\7 & 0 & 0 & 0 & 0 & 0 & 0 & 14 & 15 & 16\\\\6 & 0 & 0 & 0 & 0 & 0 & 12 & 13 & 14 & 15\\\\5 & 0 & 0 & 0 & 0 & 10 & 11 & 12 & 13 & 14\\\\4 & 0 & 0 & 0 & 8 & 9 & 10 & 11 & 12 & 13\\\\3 & 0 & 0 & 6 & 7 & 8 & 9 & 10 & 11 & 12\\\\2 & 0 & 4 & 5 & 6 & 7 & 8 & 9 & 10 & 11\\\\1 & 2 & 3 & 4 & 5 & 6 & 7 & 8 & 9 & 10\\\\0 & 1 & 2 & 3 & 4 & 5 & 6 & 7 & 8 & 9\\end{matrix}\\right]$"
      ],
      "text/plain": [
       "<IPython.core.display.Math object>"
      ]
     },
     "metadata": {},
     "output_type": "display_data"
    }
   ],
   "source": [
    "A = getAdditionTable()\n",
    "\n",
    "display(Math(sp.latex(sp.sympify(A))))"
   ]
  },
  {
   "cell_type": "markdown",
   "id": "3dde97af",
   "metadata": {},
   "source": [
    "#### Colors"
   ]
  },
  {
   "cell_type": "code",
   "execution_count": 7,
   "id": "599b1eec",
   "metadata": {},
   "outputs": [
    {
     "data": {
      "image/png": "[encoded data removed]",
      "text/plain": [
       "<Figure size 640x480 with 1 Axes>"
      ]
     },
     "metadata": {},
     "output_type": "display_data"
    }
   ],
   "source": [
    "xLength, yLength = np.shape(A)\n",
    "\n",
    "plt.imshow(A)\n",
    "\n",
    "for i in range(xLength):\n",
    "    for j in range(yLength):\n",
    "        plt.text(j, i, A[i, j], horizontalalignment='center', verticalalignment='center')\n",
    "\n",
    "plt.tick_params(left=False, bottom=False, labelleft=False, labelbottom=False)\n",
    "\n",
    "plt.show()"
   ]
  },
  {
   "cell_type": "markdown",
   "id": "84954ef4",
   "metadata": {},
   "source": [
    "#### Icons"
   ]
  },
  {
   "cell_type": "code",
   "execution_count": 8,
   "id": "b3bed44a",
   "metadata": {},
   "outputs": [
    {
     "data": {
      "text/html": [
       "<table style=\"width: 100%\"><tr><td style=\"text-align: left\">💍</td><td style=\"text-align: left\">🎲</td><td style=\"text-align: left\">🎲</td><td style=\"text-align: left\">🎲</td><td style=\"text-align: left\">🎲</td><td style=\"text-align: left\">🎲</td><td style=\"text-align: left\">🎲</td><td style=\"text-align: left\">🎲</td><td style=\"text-align: left\">🎲</td><td style=\"text-align: left\">🚗🎱</td></tr><tr><td style=\"text-align: left\">🎱</td><td style=\"text-align: left\">🎲</td><td style=\"text-align: left\">🎲</td><td style=\"text-align: left\">🎲</td><td style=\"text-align: left\">🎲</td><td style=\"text-align: left\">🎲</td><td style=\"text-align: left\">🎲</td><td style=\"text-align: left\">🎲</td><td style=\"text-align: left\">🚗👿</td><td style=\"text-align: left\">🚗⛪</td></tr><tr><td style=\"text-align: left\">⛪</td><td style=\"text-align: left\">🎲</td><td style=\"text-align: left\">🎲</td><td style=\"text-align: left\">🎲</td><td style=\"text-align: left\">🎲</td><td style=\"text-align: left\">🎲</td><td style=\"text-align: left\">🎲</td><td style=\"text-align: left\">🚗🛫</td><td style=\"text-align: left\">🚗🎒</td><td style=\"text-align: left\">🚗👿</td></tr><tr><td style=\"text-align: left\">👿</td><td style=\"text-align: left\">🎲</td><td style=\"text-align: left\">🎲</td><td style=\"text-align: left\">🎲</td><td style=\"text-align: left\">🎲</td><td style=\"text-align: left\">🎲</td><td style=\"text-align: left\">🚗🦢</td><td style=\"text-align: left\">🚗🍺</td><td style=\"text-align: left\">🚗🛫</td><td style=\"text-align: left\">🚗🎒</td></tr><tr><td style=\"text-align: left\">🎒</td><td style=\"text-align: left\">🎲</td><td style=\"text-align: left\">🎲</td><td style=\"text-align: left\">🎲</td><td style=\"text-align: left\">🎲</td><td style=\"text-align: left\">🚗🎲</td><td style=\"text-align: left\">🚗🚗</td><td style=\"text-align: left\">🚗🦢</td><td style=\"text-align: left\">🚗🍺</td><td style=\"text-align: left\">🚗🛫</td></tr><tr><td style=\"text-align: left\">🛫</td><td style=\"text-align: left\">🎲</td><td style=\"text-align: left\">🎲</td><td style=\"text-align: left\">🎲</td><td style=\"text-align: left\">🎱</td><td style=\"text-align: left\">💍</td><td style=\"text-align: left\">🚗🎲</td><td style=\"text-align: left\">🚗🚗</td><td style=\"text-align: left\">🚗🦢</td><td style=\"text-align: left\">🚗🍺</td></tr><tr><td style=\"text-align: left\">🍺</td><td style=\"text-align: left\">🎲</td><td style=\"text-align: left\">🎲</td><td style=\"text-align: left\">👿</td><td style=\"text-align: left\">⛪</td><td style=\"text-align: left\">🎱</td><td style=\"text-align: left\">💍</td><td style=\"text-align: left\">🚗🎲</td><td style=\"text-align: left\">🚗🚗</td><td style=\"text-align: left\">🚗🦢</td></tr><tr><td style=\"text-align: left\">🦢</td><td style=\"text-align: left\">🎲</td><td style=\"text-align: left\">🛫</td><td style=\"text-align: left\">🎒</td><td style=\"text-align: left\">👿</td><td style=\"text-align: left\">⛪</td><td style=\"text-align: left\">🎱</td><td style=\"text-align: left\">💍</td><td style=\"text-align: left\">🚗🎲</td><td style=\"text-align: left\">🚗🚗</td></tr><tr><td style=\"text-align: left\">🚗</td><td style=\"text-align: left\">🦢</td><td style=\"text-align: left\">🍺</td><td style=\"text-align: left\">🛫</td><td style=\"text-align: left\">🎒</td><td style=\"text-align: left\">👿</td><td style=\"text-align: left\">⛪</td><td style=\"text-align: left\">🎱</td><td style=\"text-align: left\">💍</td><td style=\"text-align: left\">🚗🎲</td></tr><tr><td style=\"text-align: left\">🎲</td><td style=\"text-align: left\">🚗</td><td style=\"text-align: left\">🦢</td><td style=\"text-align: left\">🍺</td><td style=\"text-align: left\">🛫</td><td style=\"text-align: left\">🎒</td><td style=\"text-align: left\">👿</td><td style=\"text-align: left\">⛪</td><td style=\"text-align: left\">🎱</td><td style=\"text-align: left\">💍</td></tr></table>"
      ],
      "text/plain": [
       "<IPython.core.display.HTML object>"
      ]
     },
     "metadata": {},
     "output_type": "display_data"
    }
   ],
   "source": [
    "iconsTable = mapMatrixToIcons(A, icons)\n",
    "\n",
    "display(HTML(TableHtml.toHtml(iconsTable)))"
   ]
  },
  {
   "cell_type": "markdown",
   "id": "a9c31523",
   "metadata": {},
   "source": [
    "### Terms variation"
   ]
  },
  {
   "cell_type": "markdown",
   "id": "b0e0a4ad",
   "metadata": {},
   "source": [
    "#### Dictionary"
   ]
  },
  {
   "cell_type": "code",
   "execution_count": 9,
   "id": "521f42e9",
   "metadata": {},
   "outputs": [],
   "source": [
    "def getAdditionDictionary():\n",
    "    size = 10\n",
    "    dictionary = { key: [] for key in range(1, (size + size)) }\n",
    "    \n",
    "    for key in dictionary:\n",
    "        number = int(key)\n",
    "        terms = mathNumbers.getTerms(number)\n",
    "        dictionary[key].extend(terms)\n",
    "    \n",
    "    return dictionary"
   ]
  },
  {
   "cell_type": "code",
   "execution_count": 10,
   "id": "53f733ca",
   "metadata": {},
   "outputs": [
    {
     "name": "stdout",
     "output_type": "stream",
     "text": [
      "{1: [], 2: [(1, 1)], 3: [(1, 2)], 4: [(1, 3), (2, 2)], 5: [(1, 4), (2, 3)], 6: [(1, 5), (2, 4), (3, 3)], 7: [(1, 6), (2, 5), (3, 4)], 8: [(1, 7), (2, 6), (3, 5), (4, 4)], 9: [(1, 8), (2, 7), (3, 6), (4, 5)], 10: [(1, 9), (2, 8), (3, 7), (4, 6), (5, 5)], 11: [(2, 9), (3, 8), (4, 7), (5, 6)], 12: [(3, 9), (4, 8), (5, 7), (6, 6)], 13: [(4, 9), (5, 8), (6, 7)], 14: [(5, 9), (6, 8), (7, 7)], 15: [(6, 9), (7, 8)], 16: [(7, 9), (8, 8)], 17: [(8, 9)], 18: [(9, 9)], 19: []}\n"
     ]
    }
   ],
   "source": [
    "additionDictionary = getAdditionDictionary()\n",
    "\n",
    "print(additionDictionary)"
   ]
  },
  {
   "cell_type": "markdown",
   "id": "8739c58c",
   "metadata": {},
   "source": [
    "#### Table"
   ]
  },
  {
   "cell_type": "code",
   "execution_count": 11,
   "id": "8a98bc86",
   "metadata": {},
   "outputs": [],
   "source": [
    "def dictionaryToMatrix(dictionary, inverseVertically: bool = False):\n",
    "    keys = list(dictionary.keys())\n",
    "    sizeX = reduce(lambda acc, terms: acc if acc >= len(terms) else len(terms), dictionary.values(), 0)\n",
    "    sizeY = len(keys)\n",
    "    D = np.zeros([sizeY, sizeX], int)\n",
    "\n",
    "    if inverseVertically:\n",
    "        keys.reverse()\n",
    "        \n",
    "    for i, key in enumerate(keys):\n",
    "        for j, column in enumerate(dictionary[key]):\n",
    "            D[i, j] = reduce(lambda term1, term2: str(term1) + str(term2), column)\n",
    "    \n",
    "    D = np.insert(D, 0, keys, axis=1)\n",
    "    \n",
    "    return D"
   ]
  },
  {
   "cell_type": "code",
   "execution_count": 12,
   "id": "cc5404d2",
   "metadata": {},
   "outputs": [
    {
     "data": {
      "text/latex": [
       "$\\displaystyle \\left[\\begin{matrix}1 & 0 & 0 & 0 & 0 & 0\\\\2 & 11 & 0 & 0 & 0 & 0\\\\3 & 12 & 0 & 0 & 0 & 0\\\\4 & 13 & 22 & 0 & 0 & 0\\\\5 & 14 & 23 & 0 & 0 & 0\\\\6 & 15 & 24 & 33 & 0 & 0\\\\7 & 16 & 25 & 34 & 0 & 0\\\\8 & 17 & 26 & 35 & 44 & 0\\\\9 & 18 & 27 & 36 & 45 & 0\\\\10 & 19 & 28 & 37 & 46 & 55\\\\11 & 29 & 38 & 47 & 56 & 0\\\\12 & 39 & 48 & 57 & 66 & 0\\\\13 & 49 & 58 & 67 & 0 & 0\\\\14 & 59 & 68 & 77 & 0 & 0\\\\15 & 69 & 78 & 0 & 0 & 0\\\\16 & 79 & 88 & 0 & 0 & 0\\\\17 & 89 & 0 & 0 & 0 & 0\\\\18 & 99 & 0 & 0 & 0 & 0\\\\19 & 0 & 0 & 0 & 0 & 0\\end{matrix}\\right]$"
      ],
      "text/plain": [
       "<IPython.core.display.Math object>"
      ]
     },
     "metadata": {},
     "output_type": "display_data"
    }
   ],
   "source": [
    "D = dictionaryToMatrix(additionDictionary)\n",
    "\n",
    "display(Math(sp.latex(sp.sympify(D))))"
   ]
  },
  {
   "cell_type": "markdown",
   "id": "ac484e56",
   "metadata": {},
   "source": [
    "#### Colors"
   ]
  },
  {
   "cell_type": "code",
   "execution_count": 13,
   "id": "e421ad06",
   "metadata": {},
   "outputs": [
    {
     "data": {
      "image/png": "[encoded data removed]",
      "text/plain": [
       "<Figure size 640x480 with 1 Axes>"
      ]
     },
     "metadata": {},
     "output_type": "display_data"
    }
   ],
   "source": [
    "xLength, yLength = np.shape(D)\n",
    "\n",
    "plt.imshow(D)\n",
    "\n",
    "for i in range(xLength):\n",
    "    for j in range(yLength):\n",
    "        plt.text(j, i, D[i, j], horizontalalignment='center', verticalalignment='center')\n",
    "        \n",
    "plt.tick_params(left=False, bottom=False, labelleft=False, labelbottom=False)\n",
    "\n",
    "plt.show()"
   ]
  },
  {
   "cell_type": "markdown",
   "id": "6bff3500",
   "metadata": {},
   "source": [
    "#### Icons"
   ]
  },
  {
   "cell_type": "code",
   "execution_count": 14,
   "id": "990d186d",
   "metadata": {},
   "outputs": [
    {
     "data": {
      "text/html": [
       "<table style=\"width: 100%\"><tr><td style=\"text-align: left\">🚗</td><td style=\"text-align: left\">🎲</td><td style=\"text-align: left\">🎲</td><td style=\"text-align: left\">🎲</td><td style=\"text-align: left\">🎲</td><td style=\"text-align: left\">🎲</td></tr><tr><td style=\"text-align: left\">🦢</td><td style=\"text-align: left\">🚗🚗</td><td style=\"text-align: left\">🎲</td><td style=\"text-align: left\">🎲</td><td style=\"text-align: left\">🎲</td><td style=\"text-align: left\">🎲</td></tr><tr><td style=\"text-align: left\">🍺</td><td style=\"text-align: left\">🚗🦢</td><td style=\"text-align: left\">🎲</td><td style=\"text-align: left\">🎲</td><td style=\"text-align: left\">🎲</td><td style=\"text-align: left\">🎲</td></tr><tr><td style=\"text-align: left\">🛫</td><td style=\"text-align: left\">🚗🍺</td><td style=\"text-align: left\">🦢🦢</td><td style=\"text-align: left\">🎲</td><td style=\"text-align: left\">🎲</td><td style=\"text-align: left\">🎲</td></tr><tr><td style=\"text-align: left\">🎒</td><td style=\"text-align: left\">🚗🛫</td><td style=\"text-align: left\">🦢🍺</td><td style=\"text-align: left\">🎲</td><td style=\"text-align: left\">🎲</td><td style=\"text-align: left\">🎲</td></tr><tr><td style=\"text-align: left\">👿</td><td style=\"text-align: left\">🚗🎒</td><td style=\"text-align: left\">🦢🛫</td><td style=\"text-align: left\">🍺🍺</td><td style=\"text-align: left\">🎲</td><td style=\"text-align: left\">🎲</td></tr><tr><td style=\"text-align: left\">⛪</td><td style=\"text-align: left\">🚗👿</td><td style=\"text-align: left\">🦢🎒</td><td style=\"text-align: left\">🍺🛫</td><td style=\"text-align: left\">🎲</td><td style=\"text-align: left\">🎲</td></tr><tr><td style=\"text-align: left\">🎱</td><td style=\"text-align: left\">🚗⛪</td><td style=\"text-align: left\">🦢👿</td><td style=\"text-align: left\">🍺🎒</td><td style=\"text-align: left\">🛫🛫</td><td style=\"text-align: left\">🎲</td></tr><tr><td style=\"text-align: left\">💍</td><td style=\"text-align: left\">🚗🎱</td><td style=\"text-align: left\">🦢⛪</td><td style=\"text-align: left\">🍺👿</td><td style=\"text-align: left\">🛫🎒</td><td style=\"text-align: left\">🎲</td></tr><tr><td style=\"text-align: left\">🚗🎲</td><td style=\"text-align: left\">🚗💍</td><td style=\"text-align: left\">🦢🎱</td><td style=\"text-align: left\">🍺⛪</td><td style=\"text-align: left\">🛫👿</td><td style=\"text-align: left\">🎒🎒</td></tr><tr><td style=\"text-align: left\">🚗🚗</td><td style=\"text-align: left\">🦢💍</td><td style=\"text-align: left\">🍺🎱</td><td style=\"text-align: left\">🛫⛪</td><td style=\"text-align: left\">🎒👿</td><td style=\"text-align: left\">🎲</td></tr><tr><td style=\"text-align: left\">🚗🦢</td><td style=\"text-align: left\">🍺💍</td><td style=\"text-align: left\">🛫🎱</td><td style=\"text-align: left\">🎒⛪</td><td style=\"text-align: left\">👿👿</td><td style=\"text-align: left\">🎲</td></tr><tr><td style=\"text-align: left\">🚗🍺</td><td style=\"text-align: left\">🛫💍</td><td style=\"text-align: left\">🎒🎱</td><td style=\"text-align: left\">👿⛪</td><td style=\"text-align: left\">🎲</td><td style=\"text-align: left\">🎲</td></tr><tr><td style=\"text-align: left\">🚗🛫</td><td style=\"text-align: left\">🎒💍</td><td style=\"text-align: left\">👿🎱</td><td style=\"text-align: left\">⛪⛪</td><td style=\"text-align: left\">🎲</td><td style=\"text-align: left\">🎲</td></tr><tr><td style=\"text-align: left\">🚗🎒</td><td style=\"text-align: left\">👿💍</td><td style=\"text-align: left\">⛪🎱</td><td style=\"text-align: left\">🎲</td><td style=\"text-align: left\">🎲</td><td style=\"text-align: left\">🎲</td></tr><tr><td style=\"text-align: left\">🚗👿</td><td style=\"text-align: left\">⛪💍</td><td style=\"text-align: left\">🎱🎱</td><td style=\"text-align: left\">🎲</td><td style=\"text-align: left\">🎲</td><td style=\"text-align: left\">🎲</td></tr><tr><td style=\"text-align: left\">🚗⛪</td><td style=\"text-align: left\">🎱💍</td><td style=\"text-align: left\">🎲</td><td style=\"text-align: left\">🎲</td><td style=\"text-align: left\">🎲</td><td style=\"text-align: left\">🎲</td></tr><tr><td style=\"text-align: left\">🚗🎱</td><td style=\"text-align: left\">💍💍</td><td style=\"text-align: left\">🎲</td><td style=\"text-align: left\">🎲</td><td style=\"text-align: left\">🎲</td><td style=\"text-align: left\">🎲</td></tr><tr><td style=\"text-align: left\">🚗💍</td><td style=\"text-align: left\">🎲</td><td style=\"text-align: left\">🎲</td><td style=\"text-align: left\">🎲</td><td style=\"text-align: left\">🎲</td><td style=\"text-align: left\">🎲</td></tr></table>"
      ],
      "text/plain": [
       "<IPython.core.display.HTML object>"
      ]
     },
     "metadata": {},
     "output_type": "display_data"
    }
   ],
   "source": [
    "iconsTable = mapMatrixToIcons(D, icons)\n",
    "\n",
    "display(HTML(TableHtml.toHtml(iconsTable)))"
   ]
  },
  {
   "cell_type": "markdown",
   "id": "c2241c30",
   "metadata": {},
   "source": [
    "### Tests"
   ]
  },
  {
   "cell_type": "code",
   "execution_count": 15,
   "id": "05b4c5de",
   "metadata": {},
   "outputs": [
    {
     "name": "stdout",
     "output_type": "stream",
     "text": [
      "What is the result of ⛪ + 🚗: 8\n",
      "Correct\n",
      "What is the result of 🛫 + 🍺: 7\n",
      "Correct\n",
      "What is the result of 🦢 + 💍: 11\n",
      "Correct\n",
      "What is the result of 👿 + 🚗: 8\n",
      "Wrong\n",
      "What is the result of 💍 + 🍺: 12\n",
      "Correct\n",
      "What is the result of 🎱 + 🎒: 13\n",
      "Correct\n",
      "What is the result of 🎱 + 💍: 17\n",
      "Correct\n",
      "What is the result of 🎒 + 🦢: 7\n",
      "Correct\n",
      "What is the result of 🦢 + 💍: 11\n",
      "Correct\n",
      "What is the result of 💍 + 💍: 18\n",
      "Correct\n"
     ]
    },
    {
     "data": {
      "text/plain": [
       "False"
      ]
     },
     "execution_count": 15,
     "metadata": {},
     "output_type": "execute_result"
    }
   ],
   "source": [
    "numbers = [*range(1, 10)]\n",
    "count = 10\n",
    "numbersAndQuestions = []\n",
    "\n",
    "for _ in range(count):\n",
    "    x = random.choice(numbers)\n",
    "    y = random.choice(numbers)\n",
    "    question = \"What is the result of %s + %s: \" % (mapNumberToIcons(x, icons), mapNumberToIcons(y, icons))\n",
    "    \n",
    "    numbersAndQuestions.append((x, y, question))\n",
    "\n",
    "assessment = AssessmentFactory.createAdditionAssessment(numbersAndQuestions)\n",
    "\n",
    "assessment.start()"
   ]
  }
 ],
 "metadata": {
  "kernelspec": {
   "display_name": "Python 3 (ipykernel)",
   "language": "python",
   "name": "python3"
  },
  "language_info": {
   "codemirror_mode": {
    "name": "ipython",
    "version": 3
   },
   "file_extension": ".py",
   "mimetype": "text/x-python",
   "name": "python",
   "nbconvert_exporter": "python",
   "pygments_lexer": "ipython3",
   "version": "3.11.5"
  }
 },
 "nbformat": 4,
 "nbformat_minor": 5
}
