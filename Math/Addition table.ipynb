{
 "cells": [
  {
   "cell_type": "code",
   "execution_count": 30,
   "id": "860cbcf6",
   "metadata": {},
   "outputs": [],
   "source": [
    "import sympy as sp\n",
    "import numpy as np\n",
    "from IPython.display import display, Math, HTML\n",
    "import random\n",
    "import os, sys\n",
    "import matplotlib.pyplot as plt\n",
    "from functools import reduce"
   ]
  },
  {
   "cell_type": "code",
   "execution_count": 2,
   "id": "a083ba4a",
   "metadata": {},
   "outputs": [],
   "source": [
    "directoryPath = os.path.abspath(os.path.join('..\\\\libs'))\n",
    "\n",
    "if directoryPath not in sys.path:\n",
    "    sys.path.append(directoryPath)"
   ]
  },
  {
   "cell_type": "code",
   "execution_count": 3,
   "id": "316ce0e0",
   "metadata": {},
   "outputs": [],
   "source": [
    "import PythonStorybookLibs.Math.icons as mathIcons\n",
    "import PythonStorybookLibs.Math.numbers as mathNumbers\n",
    "import PythonStorybookLibs.output.html as htmlOutput"
   ]
  },
  {
   "cell_type": "markdown",
   "id": "e619c343",
   "metadata": {},
   "source": [
    "### Icons"
   ]
  },
  {
   "cell_type": "code",
   "execution_count": 44,
   "id": "1e04c3ec",
   "metadata": {},
   "outputs": [
    {
     "name": "stdout",
     "output_type": "stream",
     "text": [
      "{0: '🎲', 1: '🚗', 2: '🦢', 3: '🍺', 4: '🛫', 5: '🎒', 6: '😈', 7: '⛪', 8: '🎱', 9: '💍'}\n"
     ]
    }
   ],
   "source": [
    "icons = {\n",
    "    0: '🎲',\n",
    "    1: '🚗',\n",
    "    2: '🦢',\n",
    "    3: '🍺',\n",
    "    4: '🛫',\n",
    "    5: '🎒',\n",
    "    6: '😈',\n",
    "    7: '⛪',\n",
    "    8: '🎱',\n",
    "    9: '💍',\n",
    "}\n",
    "\n",
    "print(icons)"
   ]
  },
  {
   "cell_type": "markdown",
   "id": "4834e30b",
   "metadata": {},
   "source": [
    "### Table"
   ]
  },
  {
   "cell_type": "markdown",
   "id": "b7da42cf",
   "metadata": {},
   "source": [
    "#### Matrix"
   ]
  },
  {
   "cell_type": "code",
   "execution_count": 5,
   "id": "eec4236e",
   "metadata": {},
   "outputs": [],
   "source": [
    "def getAdditionTable():\n",
    "    size = 10\n",
    "    A = np.zeros([size, size], int)\n",
    "\n",
    "    for row in range(size):\n",
    "        for column in range(size):\n",
    "            if row == 0:\n",
    "                A[row, column] = column\n",
    "                continue\n",
    "            if column == 0:\n",
    "                A[row, column] = row\n",
    "                continue\n",
    "\n",
    "            if row <= column:\n",
    "                A[row, column] = row + column\n",
    "    \n",
    "    return np.flip(A, 0)"
   ]
  },
  {
   "cell_type": "code",
   "execution_count": 6,
   "id": "4ab91449",
   "metadata": {},
   "outputs": [
    {
     "data": {
      "text/latex": [
       "$\\displaystyle \\left[\\begin{matrix}9 & 0 & 0 & 0 & 0 & 0 & 0 & 0 & 0 & 18\\\\8 & 0 & 0 & 0 & 0 & 0 & 0 & 0 & 16 & 17\\\\7 & 0 & 0 & 0 & 0 & 0 & 0 & 14 & 15 & 16\\\\6 & 0 & 0 & 0 & 0 & 0 & 12 & 13 & 14 & 15\\\\5 & 0 & 0 & 0 & 0 & 10 & 11 & 12 & 13 & 14\\\\4 & 0 & 0 & 0 & 8 & 9 & 10 & 11 & 12 & 13\\\\3 & 0 & 0 & 6 & 7 & 8 & 9 & 10 & 11 & 12\\\\2 & 0 & 4 & 5 & 6 & 7 & 8 & 9 & 10 & 11\\\\1 & 2 & 3 & 4 & 5 & 6 & 7 & 8 & 9 & 10\\\\0 & 1 & 2 & 3 & 4 & 5 & 6 & 7 & 8 & 9\\end{matrix}\\right]$"
      ],
      "text/plain": [
       "<IPython.core.display.Math object>"
      ]
     },
     "metadata": {},
     "output_type": "display_data"
    }
   ],
   "source": [
    "A = getAdditionTable()\n",
    "\n",
    "display(Math(sp.latex(sp.sympify(A))))"
   ]
  },
  {
   "cell_type": "markdown",
   "id": "3dde97af",
   "metadata": {},
   "source": [
    "#### Colors"
   ]
  },
  {
   "cell_type": "code",
   "execution_count": 15,
   "id": "599b1eec",
   "metadata": {},
   "outputs": [
    {
     "data": {
      "image/png": "[encoded data removed]",
      "text/plain": [
       "<Figure size 640x480 with 1 Axes>"
      ]
     },
     "metadata": {},
     "output_type": "display_data"
    }
   ],
   "source": [
    "xLength, yLength = np.shape(A)\n",
    "\n",
    "plt.imshow(A)\n",
    "\n",
    "for i in range(xLength):\n",
    "    for j in range(yLength):\n",
    "        plt.text(j, i, A[i, j], horizontalalignment='center', verticalalignment='center')\n",
    "\n",
    "plt.tick_params(left=False, bottom=False, labelleft=False, labelbottom=False)\n",
    "\n",
    "plt.show()"
   ]
  },
  {
   "cell_type": "markdown",
   "id": "84954ef4",
   "metadata": {},
   "source": [
    "#### Icons"
   ]
  },
  {
   "cell_type": "code",
   "execution_count": 45,
   "id": "b3bed44a",
   "metadata": {},
   "outputs": [
    {
     "data": {
      "text/html": [
       "<table style=\"width: 100%\"><tr><td style=\"text-align: left\">💍</td><td style=\"text-align: left\">🎲</td><td style=\"text-align: left\">🎲</td><td style=\"text-align: left\">🎲</td><td style=\"text-align: left\">🎲</td><td style=\"text-align: left\">🎲</td><td style=\"text-align: left\">🎲</td><td style=\"text-align: left\">🎲</td><td style=\"text-align: left\">🎲</td><td style=\"text-align: left\">🚗🎱</td></tr><tr><td style=\"text-align: left\">🎱</td><td style=\"text-align: left\">🎲</td><td style=\"text-align: left\">🎲</td><td style=\"text-align: left\">🎲</td><td style=\"text-align: left\">🎲</td><td style=\"text-align: left\">🎲</td><td style=\"text-align: left\">🎲</td><td style=\"text-align: left\">🎲</td><td style=\"text-align: left\">🚗😈</td><td style=\"text-align: left\">🚗⛪</td></tr><tr><td style=\"text-align: left\">⛪</td><td style=\"text-align: left\">🎲</td><td style=\"text-align: left\">🎲</td><td style=\"text-align: left\">🎲</td><td style=\"text-align: left\">🎲</td><td style=\"text-align: left\">🎲</td><td style=\"text-align: left\">🎲</td><td style=\"text-align: left\">🚗🛫</td><td style=\"text-align: left\">🚗🎒</td><td style=\"text-align: left\">🚗😈</td></tr><tr><td style=\"text-align: left\">😈</td><td style=\"text-align: left\">🎲</td><td style=\"text-align: left\">🎲</td><td style=\"text-align: left\">🎲</td><td style=\"text-align: left\">🎲</td><td style=\"text-align: left\">🎲</td><td style=\"text-align: left\">🚗🦢</td><td style=\"text-align: left\">🚗🍺</td><td style=\"text-align: left\">🚗🛫</td><td style=\"text-align: left\">🚗🎒</td></tr><tr><td style=\"text-align: left\">🎒</td><td style=\"text-align: left\">🎲</td><td style=\"text-align: left\">🎲</td><td style=\"text-align: left\">🎲</td><td style=\"text-align: left\">🎲</td><td style=\"text-align: left\">🚗🎲</td><td style=\"text-align: left\">🚗🚗</td><td style=\"text-align: left\">🚗🦢</td><td style=\"text-align: left\">🚗🍺</td><td style=\"text-align: left\">🚗🛫</td></tr><tr><td style=\"text-align: left\">🛫</td><td style=\"text-align: left\">🎲</td><td style=\"text-align: left\">🎲</td><td style=\"text-align: left\">🎲</td><td style=\"text-align: left\">🎱</td><td style=\"text-align: left\">💍</td><td style=\"text-align: left\">🚗🎲</td><td style=\"text-align: left\">🚗🚗</td><td style=\"text-align: left\">🚗🦢</td><td style=\"text-align: left\">🚗🍺</td></tr><tr><td style=\"text-align: left\">🍺</td><td style=\"text-align: left\">🎲</td><td style=\"text-align: left\">🎲</td><td style=\"text-align: left\">😈</td><td style=\"text-align: left\">⛪</td><td style=\"text-align: left\">🎱</td><td style=\"text-align: left\">💍</td><td style=\"text-align: left\">🚗🎲</td><td style=\"text-align: left\">🚗🚗</td><td style=\"text-align: left\">🚗🦢</td></tr><tr><td style=\"text-align: left\">🦢</td><td style=\"text-align: left\">🎲</td><td style=\"text-align: left\">🛫</td><td style=\"text-align: left\">🎒</td><td style=\"text-align: left\">😈</td><td style=\"text-align: left\">⛪</td><td style=\"text-align: left\">🎱</td><td style=\"text-align: left\">💍</td><td style=\"text-align: left\">🚗🎲</td><td style=\"text-align: left\">🚗🚗</td></tr><tr><td style=\"text-align: left\">🚗</td><td style=\"text-align: left\">🦢</td><td style=\"text-align: left\">🍺</td><td style=\"text-align: left\">🛫</td><td style=\"text-align: left\">🎒</td><td style=\"text-align: left\">😈</td><td style=\"text-align: left\">⛪</td><td style=\"text-align: left\">🎱</td><td style=\"text-align: left\">💍</td><td style=\"text-align: left\">🚗🎲</td></tr><tr><td style=\"text-align: left\">🎲</td><td style=\"text-align: left\">🚗</td><td style=\"text-align: left\">🦢</td><td style=\"text-align: left\">🍺</td><td style=\"text-align: left\">🛫</td><td style=\"text-align: left\">🎒</td><td style=\"text-align: left\">😈</td><td style=\"text-align: left\">⛪</td><td style=\"text-align: left\">🎱</td><td style=\"text-align: left\">💍</td></tr></table>"
      ],
      "text/plain": [
       "<IPython.core.display.HTML object>"
      ]
     },
     "metadata": {},
     "output_type": "display_data"
    }
   ],
   "source": [
    "iconsTable = mathIcons.mapMatrixToIcons(A, icons)\n",
    "\n",
    "display(HTML(htmlOutput.tableToHtml(iconsTable)))"
   ]
  },
  {
   "cell_type": "markdown",
   "id": "a9c31523",
   "metadata": {},
   "source": [
    "### Terms variation"
   ]
  },
  {
   "cell_type": "markdown",
   "id": "b0e0a4ad",
   "metadata": {},
   "source": [
    "#### Dictionary"
   ]
  },
  {
   "cell_type": "code",
   "execution_count": 7,
   "id": "521f42e9",
   "metadata": {},
   "outputs": [],
   "source": [
    "def getAdditionDictionary():\n",
    "    size = 10\n",
    "    dictionary = { key: [] for key in range((size + size)) }\n",
    "    \n",
    "    for key in dictionary:\n",
    "        number = int(key)\n",
    "        terms = mathNumbers.getTerms(number)\n",
    "        dictionary[key].extend(terms)\n",
    "    \n",
    "    return dictionary"
   ]
  },
  {
   "cell_type": "code",
   "execution_count": 8,
   "id": "53f733ca",
   "metadata": {},
   "outputs": [
    {
     "name": "stdout",
     "output_type": "stream",
     "text": [
      "{0: [], 1: [], 2: [(1, 1)], 3: [(1, 2)], 4: [(1, 3), (2, 2)], 5: [(1, 4), (2, 3)], 6: [(1, 5), (2, 4), (3, 3)], 7: [(1, 6), (2, 5), (3, 4)], 8: [(1, 7), (2, 6), (3, 5), (4, 4)], 9: [(1, 8), (2, 7), (3, 6), (4, 5)], 10: [(1, 9), (2, 8), (3, 7), (4, 6), (5, 5)], 11: [(2, 9), (3, 8), (4, 7), (5, 6)], 12: [(3, 9), (4, 8), (5, 7), (6, 6)], 13: [(4, 9), (5, 8), (6, 7)], 14: [(5, 9), (6, 8), (7, 7)], 15: [(6, 9), (7, 8)], 16: [(7, 9), (8, 8)], 17: [(8, 9)], 18: [(9, 9)], 19: []}\n"
     ]
    }
   ],
   "source": [
    "additionDictionary = getAdditionDictionary()\n",
    "\n",
    "print(additionDictionary)"
   ]
  },
  {
   "cell_type": "markdown",
   "id": "8739c58c",
   "metadata": {},
   "source": [
    "#### Table"
   ]
  },
  {
   "cell_type": "code",
   "execution_count": 58,
   "id": "8a98bc86",
   "metadata": {},
   "outputs": [
    {
     "ename": "SyntaxError",
     "evalue": "invalid syntax (2325819581.py, line 3)",
     "output_type": "error",
     "traceback": [
      "\u001b[1;36m  Cell \u001b[1;32mIn[58], line 3\u001b[1;36m\u001b[0m\n\u001b[1;33m    sizeX =\u001b[0m\n\u001b[1;37m            ^\u001b[0m\n\u001b[1;31mSyntaxError\u001b[0m\u001b[1;31m:\u001b[0m invalid syntax\n"
     ]
    }
   ],
   "source": [
    "def dictionaryToMatrix(dictionary, inverseVertically: bool = False):\n",
    "    keys = list(dictionary.keys())\n",
    "    sizeX = \n",
    "    sizeY = len(keys)\n",
    "    D = np.zeros([sizeX, sizeY], int)\n",
    "\n",
    "    if inverseVertically:\n",
    "        keys.reverse()\n",
    "        \n",
    "    for i, key in enumerate(keys):\n",
    "        for j, column in enumerate(dictionary[key]):\n",
    "            print(column, j)\n",
    "            D[i, j] = reduce(lambda term1, term2: str(term1) + str(term2), column)\n",
    "        \n",
    "    return D"
   ]
  },
  {
   "cell_type": "code",
   "execution_count": 57,
   "id": "cc5404d2",
   "metadata": {},
   "outputs": [
    {
     "name": "stdout",
     "output_type": "stream",
     "text": [
      "0 0\n",
      "1 1\n",
      "2 2\n",
      "(1, 1) 0\n",
      "3 3\n",
      "(1, 2) 0\n",
      "4 4\n",
      "(1, 3) 0\n",
      "(2, 2) 1\n",
      "5 5\n",
      "(1, 4) 0\n",
      "(2, 3) 1\n",
      "6 6\n",
      "(1, 5) 0\n",
      "(2, 4) 1\n",
      "(3, 3) 2\n",
      "7 7\n",
      "(1, 6) 0\n",
      "(2, 5) 1\n",
      "(3, 4) 2\n",
      "8 8\n",
      "(1, 7) 0\n",
      "(2, 6) 1\n",
      "(3, 5) 2\n",
      "(4, 4) 3\n",
      "9 9\n",
      "(1, 8) 0\n",
      "(2, 7) 1\n",
      "(3, 6) 2\n",
      "(4, 5) 3\n",
      "10 10\n",
      "(1, 9) 0\n",
      "(2, 8) 1\n",
      "(3, 7) 2\n",
      "(4, 6) 3\n",
      "(5, 5) 4\n",
      "11 11\n",
      "(2, 9) 0\n",
      "(3, 8) 1\n",
      "(4, 7) 2\n",
      "(5, 6) 3\n",
      "12 12\n",
      "(3, 9) 0\n",
      "(4, 8) 1\n",
      "(5, 7) 2\n",
      "(6, 6) 3\n",
      "13 13\n",
      "(4, 9) 0\n",
      "(5, 8) 1\n",
      "(6, 7) 2\n",
      "14 14\n",
      "(5, 9) 0\n",
      "(6, 8) 1\n",
      "(7, 7) 2\n",
      "15 15\n",
      "(6, 9) 0\n",
      "(7, 8) 1\n",
      "16 16\n",
      "(7, 9) 0\n",
      "(8, 8) 1\n",
      "17 17\n",
      "(8, 9) 0\n",
      "18 18\n",
      "(9, 9) 0\n",
      "19 19\n"
     ]
    },
    {
     "data": {
      "text/latex": [
       "$\\displaystyle \\left[\\begin{array}{}0 & 0 & 0 & 0 & 0 & 0 & 0 & 0 & 0 & 0 & 0 & 0 & 0 & 0 & 0 & 0 & 0 & 0 & 0 & 0\\\\0 & 0 & 0 & 0 & 0 & 0 & 0 & 0 & 0 & 0 & 0 & 0 & 0 & 0 & 0 & 0 & 0 & 0 & 0 & 0\\\\11 & 0 & 0 & 0 & 0 & 0 & 0 & 0 & 0 & 0 & 0 & 0 & 0 & 0 & 0 & 0 & 0 & 0 & 0 & 0\\\\12 & 0 & 0 & 0 & 0 & 0 & 0 & 0 & 0 & 0 & 0 & 0 & 0 & 0 & 0 & 0 & 0 & 0 & 0 & 0\\\\13 & 22 & 0 & 0 & 0 & 0 & 0 & 0 & 0 & 0 & 0 & 0 & 0 & 0 & 0 & 0 & 0 & 0 & 0 & 0\\\\14 & 23 & 0 & 0 & 0 & 0 & 0 & 0 & 0 & 0 & 0 & 0 & 0 & 0 & 0 & 0 & 0 & 0 & 0 & 0\\\\15 & 24 & 33 & 0 & 0 & 0 & 0 & 0 & 0 & 0 & 0 & 0 & 0 & 0 & 0 & 0 & 0 & 0 & 0 & 0\\\\16 & 25 & 34 & 0 & 0 & 0 & 0 & 0 & 0 & 0 & 0 & 0 & 0 & 0 & 0 & 0 & 0 & 0 & 0 & 0\\\\17 & 26 & 35 & 44 & 0 & 0 & 0 & 0 & 0 & 0 & 0 & 0 & 0 & 0 & 0 & 0 & 0 & 0 & 0 & 0\\\\18 & 27 & 36 & 45 & 0 & 0 & 0 & 0 & 0 & 0 & 0 & 0 & 0 & 0 & 0 & 0 & 0 & 0 & 0 & 0\\\\19 & 28 & 37 & 46 & 55 & 0 & 0 & 0 & 0 & 0 & 0 & 0 & 0 & 0 & 0 & 0 & 0 & 0 & 0 & 0\\\\29 & 38 & 47 & 56 & 0 & 0 & 0 & 0 & 0 & 0 & 0 & 0 & 0 & 0 & 0 & 0 & 0 & 0 & 0 & 0\\\\39 & 48 & 57 & 66 & 0 & 0 & 0 & 0 & 0 & 0 & 0 & 0 & 0 & 0 & 0 & 0 & 0 & 0 & 0 & 0\\\\49 & 58 & 67 & 0 & 0 & 0 & 0 & 0 & 0 & 0 & 0 & 0 & 0 & 0 & 0 & 0 & 0 & 0 & 0 & 0\\\\59 & 68 & 77 & 0 & 0 & 0 & 0 & 0 & 0 & 0 & 0 & 0 & 0 & 0 & 0 & 0 & 0 & 0 & 0 & 0\\\\69 & 78 & 0 & 0 & 0 & 0 & 0 & 0 & 0 & 0 & 0 & 0 & 0 & 0 & 0 & 0 & 0 & 0 & 0 & 0\\\\79 & 88 & 0 & 0 & 0 & 0 & 0 & 0 & 0 & 0 & 0 & 0 & 0 & 0 & 0 & 0 & 0 & 0 & 0 & 0\\\\89 & 0 & 0 & 0 & 0 & 0 & 0 & 0 & 0 & 0 & 0 & 0 & 0 & 0 & 0 & 0 & 0 & 0 & 0 & 0\\\\99 & 0 & 0 & 0 & 0 & 0 & 0 & 0 & 0 & 0 & 0 & 0 & 0 & 0 & 0 & 0 & 0 & 0 & 0 & 0\\\\0 & 0 & 0 & 0 & 0 & 0 & 0 & 0 & 0 & 0 & 0 & 0 & 0 & 0 & 0 & 0 & 0 & 0 & 0 & 0\\end{array}\\right]$"
      ],
      "text/plain": [
       "<IPython.core.display.Math object>"
      ]
     },
     "metadata": {},
     "output_type": "display_data"
    }
   ],
   "source": [
    "D = dictionaryToMatrix(additionDictionary)\n",
    "\n",
    "display(Math(sp.latex(sp.sympify(D))))"
   ]
  },
  {
   "cell_type": "markdown",
   "id": "b272c632",
   "metadata": {},
   "source": [
    "### To icons"
   ]
  },
  {
   "cell_type": "markdown",
   "id": "37330981",
   "metadata": {},
   "source": [
    "#### Table"
   ]
  },
  {
   "cell_type": "markdown",
   "id": "36e756ec",
   "metadata": {},
   "source": [
    "#### Dictionary"
   ]
  },
  {
   "cell_type": "code",
   "execution_count": 10,
   "id": "e98a92b8",
   "metadata": {},
   "outputs": [
    {
     "data": {
      "text/html": [
       "<table style=\"width: 100%\"><tr><td style=\"text-align: left\">🚗💍</td></tr><tr><td style=\"text-align: left\">🚗🎱</td><td style=\"text-align: left\">💍💍</td></tr><tr><td style=\"text-align: left\">🚗⛪</td><td style=\"text-align: left\">🎱💍</td></tr><tr><td style=\"text-align: left\">🚗😈</td><td style=\"text-align: left\">⛪💍</td><td style=\"text-align: left\">🎱🎱</td></tr><tr><td style=\"text-align: left\">🚗🏫</td><td style=\"text-align: left\">😈💍</td><td style=\"text-align: left\">⛪🎱</td></tr><tr><td style=\"text-align: left\">🚗🛫</td><td style=\"text-align: left\">🏫💍</td><td style=\"text-align: left\">😈🎱</td><td style=\"text-align: left\">⛪⛪</td></tr><tr><td style=\"text-align: left\">🚗🍺</td><td style=\"text-align: left\">🛫💍</td><td style=\"text-align: left\">🏫🎱</td><td style=\"text-align: left\">😈⛪</td></tr><tr><td style=\"text-align: left\">🚗✍</td><td style=\"text-align: left\">🍺💍</td><td style=\"text-align: left\">🛫🎱</td><td style=\"text-align: left\">🏫⛪</td><td style=\"text-align: left\">😈😈</td></tr><tr><td style=\"text-align: left\">🚗🚗</td><td style=\"text-align: left\">✍💍</td><td style=\"text-align: left\">🍺🎱</td><td style=\"text-align: left\">🛫⛪</td><td style=\"text-align: left\">🏫😈</td></tr><tr><td style=\"text-align: left\">🚗🎲</td><td style=\"text-align: left\">🚗💍</td><td style=\"text-align: left\">✍🎱</td><td style=\"text-align: left\">🍺⛪</td><td style=\"text-align: left\">🛫😈</td><td style=\"text-align: left\">🏫🏫</td></tr><tr><td style=\"text-align: left\">💍</td><td style=\"text-align: left\">🚗🎱</td><td style=\"text-align: left\">✍⛪</td><td style=\"text-align: left\">🍺😈</td><td style=\"text-align: left\">🛫🏫</td></tr><tr><td style=\"text-align: left\">🎱</td><td style=\"text-align: left\">🚗⛪</td><td style=\"text-align: left\">✍😈</td><td style=\"text-align: left\">🍺🏫</td><td style=\"text-align: left\">🛫🛫</td></tr><tr><td style=\"text-align: left\">⛪</td><td style=\"text-align: left\">🚗😈</td><td style=\"text-align: left\">✍🏫</td><td style=\"text-align: left\">🍺🛫</td></tr><tr><td style=\"text-align: left\">😈</td><td style=\"text-align: left\">🚗🏫</td><td style=\"text-align: left\">✍🛫</td><td style=\"text-align: left\">🍺🍺</td></tr><tr><td style=\"text-align: left\">🏫</td><td style=\"text-align: left\">🚗🛫</td><td style=\"text-align: left\">✍🍺</td></tr><tr><td style=\"text-align: left\">🛫</td><td style=\"text-align: left\">🚗🍺</td><td style=\"text-align: left\">✍✍</td></tr><tr><td style=\"text-align: left\">🍺</td><td style=\"text-align: left\">🚗✍</td></tr><tr><td style=\"text-align: left\">✍</td><td style=\"text-align: left\">🚗🚗</td></tr><tr><td style=\"text-align: left\">🚗</td></tr><tr><td style=\"text-align: left\">🎲</td></tr></table>"
      ],
      "text/plain": [
       "<IPython.core.display.HTML object>"
      ]
     },
     "metadata": {},
     "output_type": "display_data"
    }
   ],
   "source": [
    "iconsAdditionDictionary = mathIcons.mapDictionaryWithNumberTermsToIcons(additionDictionary, icons)\n",
    "\n",
    "display(HTML(htmlOutput.dictionaryToHtml(iconsAdditionDictionary, True)))"
   ]
  },
  {
   "cell_type": "markdown",
   "id": "c2241c30",
   "metadata": {},
   "source": [
    "### Tests"
   ]
  },
  {
   "cell_type": "code",
   "execution_count": 11,
   "id": "05b4c5de",
   "metadata": {},
   "outputs": [],
   "source": [
    "def runTests(quantity = 1, maxLevel = 9):\n",
    "    for i in range(0, quantity):\n",
    "        numberToQuestion = random.randint(2, maxLevel)\n",
    "        terms = getNumberTerms(numberToQuestion)\n",
    "        randomIndex = random.randint(0, len(terms) - 1)\n",
    "        termsToAsk = terms[randomIndex]\n",
    "        isNotReversed = bool(random.getrandbits(1))\n",
    "        num1 = termsToAsk[0] if isNotReversed else termsToAsk[1]\n",
    "        num2 = termsToAsk[1] if isNotReversed else termsToAsk[0]\n",
    "        \n",
    "        answer = int(input('%s + %s equals to ' %(mapNumberToIcons(num1), mapNumberToIcons(num2))))\n",
    "        \n",
    "        if answer == numberToQuestion:\n",
    "            print(\"True\")\n",
    "        else:\n",
    "            print('False')"
   ]
  },
  {
   "cell_type": "code",
   "execution_count": 12,
   "id": "39448b08",
   "metadata": {},
   "outputs": [],
   "source": [
    "# runTests(3, 10)"
   ]
  }
 ],
 "metadata": {
  "kernelspec": {
   "display_name": "Python 3 (ipykernel)",
   "language": "python",
   "name": "python3"
  },
  "language_info": {
   "codemirror_mode": {
    "name": "ipython",
    "version": 3
   },
   "file_extension": ".py",
   "mimetype": "text/x-python",
   "name": "python",
   "nbconvert_exporter": "python",
   "pygments_lexer": "ipython3",
   "version": "3.9.16"
  }
 },
 "nbformat": 4,
 "nbformat_minor": 5
}
