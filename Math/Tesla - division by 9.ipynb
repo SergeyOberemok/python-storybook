{
 "cells": [
  {
   "cell_type": "code",
   "execution_count": 1,
   "id": "ac5d484f",
   "metadata": {},
   "outputs": [],
   "source": [
    "from IPython.display import display, Math"
   ]
  },
  {
   "cell_type": "code",
   "execution_count": 7,
   "id": "32038b84",
   "metadata": {},
   "outputs": [
    {
     "data": {
      "text/plain": [
       "14"
      ]
     },
     "execution_count": 7,
     "metadata": {},
     "output_type": "execute_result"
    }
   ],
   "source": [
    "def sumAllDigits(number):\n",
    "    sum = 0\n",
    "    digits = str(number)\n",
    "    \n",
    "    for digit in digits:\n",
    "        sum += int(digit)\n",
    "        \n",
    "    return sum\n",
    "\n",
    "sumAllDigits(527)"
   ]
  },
  {
   "cell_type": "code",
   "execution_count": 6,
   "id": "684b88c8",
   "metadata": {},
   "outputs": [
    {
     "data": {
      "text/latex": [
       "$\\displaystyle 9 \\times 1 = (1 - 1) + 9 = 0 + 9 = 9$"
      ],
      "text/plain": [
       "<IPython.core.display.Math object>"
      ]
     },
     "metadata": {},
     "output_type": "display_data"
    },
    {
     "data": {
      "text/latex": [
       "$\\displaystyle 9 \\times 2 = (2 - 1) + 8 = 1 + 8 = 18$"
      ],
      "text/plain": [
       "<IPython.core.display.Math object>"
      ]
     },
     "metadata": {},
     "output_type": "display_data"
    },
    {
     "data": {
      "text/latex": [
       "$\\displaystyle 9 \\times 3 = (3 - 1) + 7 = 2 + 7 = 27$"
      ],
      "text/plain": [
       "<IPython.core.display.Math object>"
      ]
     },
     "metadata": {},
     "output_type": "display_data"
    },
    {
     "data": {
      "text/latex": [
       "$\\displaystyle 9 \\times 4 = (4 - 1) + 6 = 3 + 6 = 36$"
      ],
      "text/plain": [
       "<IPython.core.display.Math object>"
      ]
     },
     "metadata": {},
     "output_type": "display_data"
    },
    {
     "data": {
      "text/latex": [
       "$\\displaystyle 9 \\times 5 = (5 - 1) + 5 = 4 + 5 = 45$"
      ],
      "text/plain": [
       "<IPython.core.display.Math object>"
      ]
     },
     "metadata": {},
     "output_type": "display_data"
    },
    {
     "data": {
      "text/latex": [
       "$\\displaystyle 9 \\times 6 = (6 - 1) + 4 = 5 + 4 = 54$"
      ],
      "text/plain": [
       "<IPython.core.display.Math object>"
      ]
     },
     "metadata": {},
     "output_type": "display_data"
    },
    {
     "data": {
      "text/latex": [
       "$\\displaystyle 9 \\times 7 = (7 - 1) + 3 = 6 + 3 = 63$"
      ],
      "text/plain": [
       "<IPython.core.display.Math object>"
      ]
     },
     "metadata": {},
     "output_type": "display_data"
    },
    {
     "data": {
      "text/latex": [
       "$\\displaystyle 9 \\times 8 = (8 - 1) + 2 = 7 + 2 = 72$"
      ],
      "text/plain": [
       "<IPython.core.display.Math object>"
      ]
     },
     "metadata": {},
     "output_type": "display_data"
    },
    {
     "data": {
      "text/latex": [
       "$\\displaystyle 9 \\times 9 = (9 - 1) + 1 = 8 + 1 = 81$"
      ],
      "text/plain": [
       "<IPython.core.display.Math object>"
      ]
     },
     "metadata": {},
     "output_type": "display_data"
    }
   ],
   "source": [
    "# Multiplication table by 9\n",
    "\n",
    "nine = 9\n",
    "ten = 10\n",
    "\n",
    "for i in range(1, ten):\n",
    "    display(Math('%g \\\\times %g = (%g - 1) + %g = %g + %g = %g' %(nine, i, i, ten - i, i - 1, ten - i, nine * i)))"
   ]
  },
  {
   "cell_type": "code",
   "execution_count": 11,
   "id": "27d7feef",
   "metadata": {},
   "outputs": [
    {
     "data": {
      "text/plain": [
       "(14, 5, 5)"
      ]
     },
     "execution_count": 11,
     "metadata": {},
     "output_type": "execute_result"
    }
   ],
   "source": [
    "num = 527\n",
    "sumOfNum = sumAllDigits(num)\n",
    "sumOfSum = sumAllDigits(sumOfNum)\n",
    "\n",
    "sumOfNum, sumOfSum, num % 9"
   ]
  }
 ],
 "metadata": {
  "kernelspec": {
   "display_name": "Python 3 (ipykernel)",
   "language": "python",
   "name": "python3"
  },
  "language_info": {
   "codemirror_mode": {
    "name": "ipython",
    "version": 3
   },
   "file_extension": ".py",
   "mimetype": "text/x-python",
   "name": "python",
   "nbconvert_exporter": "python",
   "pygments_lexer": "ipython3",
   "version": "3.9.12"
  }
 },
 "nbformat": 4,
 "nbformat_minor": 5
}
