{
 "cells": [
  {
   "cell_type": "markdown",
   "id": "0bd07728",
   "metadata": {},
   "source": [
    "### Number to digits"
   ]
  },
  {
   "cell_type": "code",
   "execution_count": 9,
   "id": "63306d4f",
   "metadata": {},
   "outputs": [
    {
     "name": "stdout",
     "output_type": "stream",
     "text": [
      "[1, 2, 3]\n"
     ]
    }
   ],
   "source": [
    "x = 123\n",
    "letters = [*str(x)];\n",
    "digits = list(map(lambda letter: int(letter), letters))\n",
    "\n",
    "print(digits)"
   ]
  }
 ],
 "metadata": {
  "kernelspec": {
   "display_name": "Python [conda env:base] *",
   "language": "python",
   "name": "conda-base-py"
  },
  "language_info": {
   "codemirror_mode": {
    "name": "ipython",
    "version": 3
   },
   "file_extension": ".py",
   "mimetype": "text/x-python",
   "name": "python",
   "nbconvert_exporter": "python",
   "pygments_lexer": "ipython3",
   "version": "3.11.10"
  }
 },
 "nbformat": 4,
 "nbformat_minor": 5
}
