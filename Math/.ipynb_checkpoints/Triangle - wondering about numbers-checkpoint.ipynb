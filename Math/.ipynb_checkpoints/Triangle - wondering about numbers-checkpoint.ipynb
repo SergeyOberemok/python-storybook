{
 "cells": [
  {
   "cell_type": "markdown",
   "id": "c9ccd36d",
   "metadata": {},
   "source": [
    "#### Input triangle vertexes"
   ]
  },
  {
   "cell_type": "code",
   "execution_count": 5,
   "id": "0d8eac24",
   "metadata": {},
   "outputs": [
    {
     "name": "stdout",
     "output_type": "stream",
     "text": [
      "Enter number 1 - 2\n",
      "Enter number 2 - 3\n",
      "Enter number 3 - 4\n"
     ]
    },
    {
     "data": {
      "text/plain": [
       "[2, 3, 4]"
      ]
     },
     "execution_count": 5,
     "metadata": {},
     "output_type": "execute_result"
    }
   ],
   "source": [
    "triangleVertexesNumber = 3\n",
    "answers = []\n",
    "\n",
    "for i in range(0, triangleVertexesNumber):\n",
    "    answer = int(input('Enter number %g - ' %(i + 1)))\n",
    "    \n",
    "    answers.append(answer)\n",
    "\n",
    "answers"
   ]
  },
  {
   "cell_type": "markdown",
   "id": "ba6cd0aa",
   "metadata": {},
   "source": [
    "#### Sum between adjacent numbers"
   ]
  },
  {
   "cell_type": "code",
   "execution_count": 10,
   "id": "35131db6",
   "metadata": {},
   "outputs": [
    {
     "name": "stdout",
     "output_type": "stream",
     "text": [
      "2 + 3 = 5\n",
      "3 + 4 = 7\n",
      "4 + 2 = 6\n"
     ]
    },
    {
     "data": {
      "text/plain": [
       "[5, 7, 6]"
      ]
     },
     "execution_count": 10,
     "metadata": {},
     "output_type": "execute_result"
    }
   ],
   "source": [
    "sumsOfAdjacents = []\n",
    "\n",
    "for i, answer in enumerate(answers):\n",
    "    nextIndex = i + 1\n",
    "    \n",
    "    if nextIndex >= len(answers):\n",
    "        nextIndex = 0\n",
    "    \n",
    "    sumResult = answer + answers[nextIndex]\n",
    "    \n",
    "    print('%g + %g = %g' %(answer, answers[nextIndex], sumResult))\n",
    "    \n",
    "    sumsOfAdjacents.append(sumResult)\n",
    "\n",
    "sumsOfAdjacents"
   ]
  },
  {
   "cell_type": "markdown",
   "id": "42927f1a",
   "metadata": {},
   "source": [
    "#### Sum of medians"
   ]
  },
  {
   "cell_type": "code",
   "execution_count": 11,
   "id": "23172fa6",
   "metadata": {},
   "outputs": [
    {
     "name": "stdout",
     "output_type": "stream",
     "text": [
      "2 + 7 = 9\n",
      "3 + 6 = 9\n",
      "4 + 5 = 9\n"
     ]
    },
    {
     "data": {
      "text/plain": [
       "[9, 9, 9]"
      ]
     },
     "execution_count": 11,
     "metadata": {},
     "output_type": "execute_result"
    }
   ],
   "source": [
    "sumsOfMedians = []\n",
    "\n",
    "for i, answer in enumerate(answers):\n",
    "    medianIndex = i + 1\n",
    "    \n",
    "    if medianIndex >= len(answers):\n",
    "        medianIndex = 0\n",
    "        \n",
    "    sumResult = answer + sumsOfAdjacents[medianIndex]\n",
    "    \n",
    "    print('%g + %g = %g' %(answer, sumsOfAdjacents[medianIndex], sumResult))\n",
    "    \n",
    "    sumsOfMedians.append(sumResult)\n",
    "    \n",
    "sumsOfMedians"
   ]
  }
 ],
 "metadata": {
  "kernelspec": {
   "display_name": "Python 3 (ipykernel)",
   "language": "python",
   "name": "python3"
  },
  "language_info": {
   "codemirror_mode": {
    "name": "ipython",
    "version": 3
   },
   "file_extension": ".py",
   "mimetype": "text/x-python",
   "name": "python",
   "nbconvert_exporter": "python",
   "pygments_lexer": "ipython3",
   "version": "3.9.12"
  }
 },
 "nbformat": 4,
 "nbformat_minor": 5
}
