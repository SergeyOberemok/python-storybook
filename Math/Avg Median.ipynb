{
 "cells": [
  {
   "cell_type": "markdown",
   "id": "370c0358",
   "metadata": {},
   "source": [
    "# Common formulas"
   ]
  },
  {
   "cell_type": "code",
   "execution_count": 4,
   "id": "d6af7e9d",
   "metadata": {},
   "outputs": [],
   "source": [
    "from faker import Faker\n",
    "fake = Faker()"
   ]
  },
  {
   "cell_type": "markdown",
   "id": "98ff5087",
   "metadata": {},
   "source": [
    "### Average"
   ]
  },
  {
   "cell_type": "code",
   "execution_count": 12,
   "id": "02eb5b51",
   "metadata": {},
   "outputs": [
    {
     "name": "stdout",
     "output_type": "stream",
     "text": [
      "[22, 32, 63, 82, 14, 88, 51, 89, 55, 30]\n"
     ]
    }
   ],
   "source": [
    "numbers = []\n",
    "minNumber = 0\n",
    "maxNumber = 100\n",
    "\n",
    "for i in range(10):\n",
    "    numbers.append(fake.random.randint(minNumber, maxNumber))\n",
    "    \n",
    "print(numbers)"
   ]
  },
  {
   "cell_type": "code",
   "execution_count": null,
   "id": "c6013b11",
   "metadata": {},
   "outputs": [],
   "source": []
  },
  {
   "cell_type": "markdown",
   "id": "bc38f2b8",
   "metadata": {},
   "source": [
    "### Median"
   ]
  },
  {
   "cell_type": "code",
   "execution_count": 13,
   "id": "d7f28168",
   "metadata": {},
   "outputs": [
    {
     "name": "stdout",
     "output_type": "stream",
     "text": [
      "[100, 8, 10, 8, 10, 1, 1, 0, 0, 10]\n"
     ]
    }
   ],
   "source": [
    "numbers = []\n",
    "minNumber = 0\n",
    "maxNumber = 10\n",
    "oneHighestNumber = 100\n",
    "\n",
    "for i in range(10):\n",
    "    numbers.append(fake.random.randint(minNumber, maxNumber))\n",
    "numbers[0] = oneHighestNumber\n",
    "\n",
    "print(numbers)"
   ]
  }
 ],
 "metadata": {
  "kernelspec": {
   "display_name": "Python 3 (ipykernel)",
   "language": "python",
   "name": "python3"
  },
  "language_info": {
   "codemirror_mode": {
    "name": "ipython",
    "version": 3
   },
   "file_extension": ".py",
   "mimetype": "text/x-python",
   "name": "python",
   "nbconvert_exporter": "python",
   "pygments_lexer": "ipython3",
   "version": "3.9.16"
  }
 },
 "nbformat": 4,
 "nbformat_minor": 5
}
