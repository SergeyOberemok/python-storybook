{
 "cells": [
  {
   "cell_type": "code",
   "execution_count": 74,
   "id": "d6af7e9d",
   "metadata": {},
   "outputs": [],
   "source": [
    "from faker import Faker\n",
    "import sympy as sp\n",
    "from IPython.display import display, Math\n",
    "import numpy as np\n",
    "import math"
   ]
  },
  {
   "cell_type": "code",
   "execution_count": 75,
   "id": "5f4647c6-0f49-46ad-8d7a-99567ecdc31a",
   "metadata": {},
   "outputs": [
    {
     "data": {
      "text/plain": [
       "[17, 20, 26, 44, 52, 58, 58, 83, 89]"
      ]
     },
     "execution_count": 75,
     "metadata": {},
     "output_type": "execute_result"
    }
   ],
   "source": [
    "fake = Faker()\n",
    "length = 9\n",
    "numbers = sorted([fake.random_int(0, 100) for _ in range(length)])\n",
    "numbers"
   ]
  },
  {
   "cell_type": "markdown",
   "id": "0ea72e27-ded4-4ef4-baaa-a532648e30bd",
   "metadata": {},
   "source": [
    "---"
   ]
  },
  {
   "cell_type": "markdown",
   "id": "98ff5087",
   "metadata": {},
   "source": [
    "# Average"
   ]
  },
  {
   "cell_type": "markdown",
   "id": "6616c128-302a-4d02-af78-9a9c76b4dd93",
   "metadata": {
    "jp-MarkdownHeadingCollapsed": true
   },
   "source": [
    "## Formula"
   ]
  },
  {
   "cell_type": "code",
   "execution_count": 76,
   "id": "1dbd74dd-a911-41f6-9ddb-ca6ecc8bd70f",
   "metadata": {},
   "outputs": [
    {
     "data": {
      "text/latex": [
       "$\\displaystyle a$"
      ],
      "text/plain": [
       "a"
      ]
     },
     "metadata": {},
     "output_type": "display_data"
    }
   ],
   "source": [
    "a = sp.Symbol('a')\n",
    "\n",
    "average = (a + a + a) / 3\n",
    "\n",
    "display(average)"
   ]
  },
  {
   "cell_type": "markdown",
   "id": "85ebe44e-67ad-490f-9f5a-1313b14f2907",
   "metadata": {
    "jp-MarkdownHeadingCollapsed": true
   },
   "source": [
    "## Solution"
   ]
  },
  {
   "cell_type": "code",
   "execution_count": 77,
   "id": "0833bc4c-c113-44a7-aab1-f5620d963365",
   "metadata": {},
   "outputs": [
    {
     "data": {
      "text/plain": [
       "49.67"
      ]
     },
     "execution_count": 77,
     "metadata": {},
     "output_type": "execute_result"
    }
   ],
   "source": [
    "round(sum(numbers) / len(numbers), 2)"
   ]
  },
  {
   "cell_type": "markdown",
   "id": "3b01a9a6-1345-43fd-a219-5ab0631eaa0b",
   "metadata": {
    "jp-MarkdownHeadingCollapsed": true
   },
   "source": [
    "## Example"
   ]
  },
  {
   "cell_type": "code",
   "execution_count": 78,
   "id": "02eb5b51",
   "metadata": {},
   "outputs": [
    {
     "data": {
      "text/plain": [
       "49.67"
      ]
     },
     "execution_count": 78,
     "metadata": {},
     "output_type": "execute_result"
    }
   ],
   "source": [
    "round(np.average(np.array(numbers)), 2)"
   ]
  },
  {
   "cell_type": "markdown",
   "id": "bc38f2b8",
   "metadata": {},
   "source": [
    "# Median"
   ]
  },
  {
   "cell_type": "markdown",
   "id": "1aea799a-40f1-4cae-8352-8aeac393b947",
   "metadata": {
    "jp-MarkdownHeadingCollapsed": true
   },
   "source": [
    "## Solution"
   ]
  },
  {
   "cell_type": "code",
   "execution_count": 89,
   "id": "a84377ae-b80c-4b6d-9cf6-fa5d8a360b35",
   "metadata": {},
   "outputs": [],
   "source": [
    "def median(arr: list[int]) -> int | float:\n",
    "    isEven = len(arr) % 2 == 0\n",
    "    index = len(arr) / 2 - 1 if isEven else len(arr) / 2\n",
    "    isWhole = index.is_integer()\n",
    "    \n",
    "    if isWhole:\n",
    "        return np.average(np.array(arr[int(index): int(index) + 2]))\n",
    "\n",
    "    return arr[math.floor(index)]"
   ]
  },
  {
   "cell_type": "markdown",
   "id": "743ffbd6-b0bb-49ec-97a0-b95d398e1cfd",
   "metadata": {
    "jp-MarkdownHeadingCollapsed": true
   },
   "source": [
    "## Examples"
   ]
  },
  {
   "cell_type": "code",
   "execution_count": 90,
   "id": "d41eb134-49bb-45c9-a7dc-a8d2a0f9ef1d",
   "metadata": {},
   "outputs": [
    {
     "data": {
      "text/plain": [
       "([17, 20, 26, 44, 52, 58, 58, 83, 89], 52)"
      ]
     },
     "execution_count": 90,
     "metadata": {},
     "output_type": "execute_result"
    }
   ],
   "source": [
    "numbers, median(numbers)"
   ]
  },
  {
   "cell_type": "code",
   "execution_count": 86,
   "id": "d7f28168",
   "metadata": {},
   "outputs": [
    {
     "data": {
      "text/plain": [
       "([17, 20, 26, 44, 52, 58, 58, 83, 89], 52.0)"
      ]
     },
     "execution_count": 86,
     "metadata": {},
     "output_type": "execute_result"
    }
   ],
   "source": [
    "numbers, np.median(np.array(numbers))"
   ]
  }
 ],
 "metadata": {
  "kernelspec": {
   "display_name": "Python [conda env:base] *",
   "language": "python",
   "name": "conda-base-py"
  },
  "language_info": {
   "codemirror_mode": {
    "name": "ipython",
    "version": 3
   },
   "file_extension": ".py",
   "mimetype": "text/x-python",
   "name": "python",
   "nbconvert_exporter": "python",
   "pygments_lexer": "ipython3",
   "version": "3.11.10"
  }
 },
 "nbformat": 4,
 "nbformat_minor": 5
}
