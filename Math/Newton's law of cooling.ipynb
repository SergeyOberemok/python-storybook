{
 "cells": [
  {
   "cell_type": "code",
   "execution_count": 5,
   "id": "f861f2c8-4c76-4fcb-9e7b-df6c1cb0b690",
   "metadata": {},
   "outputs": [
    {
     "data": {
      "text/plain": [
       "(0.006107207669806105, 0.3664324601883663)"
      ]
     },
     "execution_count": 5,
     "metadata": {},
     "output_type": "execute_result"
    }
   ],
   "source": [
    "import numpy as np\n",
    "\n",
    "# Given data\n",
    "T_initial = 100  # Initial temperature of water (°C)\n",
    "T_final = 85  # Final temperature of water (°C)\n",
    "T_ambient = 24  # Room temperature (°C)\n",
    "\n",
    "# Approximate cooling constant for water in open air (depends on conditions, assuming ~0.01 per second)\n",
    "k = 0.6  # Typical value for cooling constant (1/s)\n",
    "\n",
    "# Newton's Law of Cooling formula rearranged for time:\n",
    "# T(t) - T_ambient = (T_initial - T_ambient) * exp(-k * t)\n",
    "# Solving for t:\n",
    "t = -np.log((T_final - T_ambient) / (T_initial - T_ambient)) / k\n",
    "\n",
    "# Convert seconds to minutes\n",
    "t_minutes = t / 60\n",
    "t_minutes, t"
   ]
  }
 ],
 "metadata": {
  "kernelspec": {
   "display_name": "Python [conda env:base] *",
   "language": "python",
   "name": "conda-base-py"
  },
  "language_info": {
   "codemirror_mode": {
    "name": "ipython",
    "version": 3
   },
   "file_extension": ".py",
   "mimetype": "text/x-python",
   "name": "python",
   "nbconvert_exporter": "python",
   "pygments_lexer": "ipython3",
   "version": "3.11.11"
  }
 },
 "nbformat": 4,
 "nbformat_minor": 5
}
