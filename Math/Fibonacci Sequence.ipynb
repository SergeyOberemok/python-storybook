{
 "cells": [
  {
   "cell_type": "markdown",
   "id": "62c825e9",
   "metadata": {},
   "source": [
    "### By loops"
   ]
  },
  {
   "cell_type": "code",
   "execution_count": 7,
   "id": "308b8c83",
   "metadata": {},
   "outputs": [],
   "source": [
    "def generateFibonacciSequence(n: int = 0) -> int:\n",
    "    sequence = []\n",
    "    a, b = 0, 1\n",
    "    \n",
    "    for _ in range(n):\n",
    "        prevNumber = a\n",
    "        sequence.append(prevNumber)\n",
    "        a, b = b, a + b\n",
    "        \n",
    "    return sequence"
   ]
  },
  {
   "cell_type": "code",
   "execution_count": 6,
   "id": "c0c38a81",
   "metadata": {},
   "outputs": [
    {
     "data": {
      "text/plain": [
       "[0, 1, 1, 2, 3, 5, 8, 13, 21, 34]"
      ]
     },
     "execution_count": 6,
     "metadata": {},
     "output_type": "execute_result"
    }
   ],
   "source": [
    "generateFibonacciSequence(10)"
   ]
  },
  {
   "cell_type": "markdown",
   "id": "9c61281f",
   "metadata": {},
   "source": [
    "### By recursion"
   ]
  },
  {
   "cell_type": "code",
   "execution_count": 8,
   "id": "c082d9dc",
   "metadata": {},
   "outputs": [],
   "source": [
    "def generateFibonacciSequenceRecursively(n: int = 0) -> int:\n",
    "    if n > 2:\n",
    "        sequence = generateFibonacciSequenceRecursively(n - 1)\n",
    "        nextNumber = sequence[-2] + sequence[-1]\n",
    "        sequence.append(nextNumber)\n",
    "        return sequence\n",
    "    elif n == 1:\n",
    "        return [0]\n",
    "    elif n == 2:\n",
    "        return [0, 1]\n",
    "    else:\n",
    "        return []"
   ]
  },
  {
   "cell_type": "code",
   "execution_count": 9,
   "id": "d48f02e4",
   "metadata": {},
   "outputs": [
    {
     "data": {
      "text/plain": [
       "[0, 1, 1, 2, 3, 5, 8, 13, 21, 34]"
      ]
     },
     "execution_count": 9,
     "metadata": {},
     "output_type": "execute_result"
    }
   ],
   "source": [
    "generateFibonacciSequenceRecursively(10)"
   ]
  }
 ],
 "metadata": {
  "kernelspec": {
   "display_name": "Python 3 (ipykernel)",
   "language": "python",
   "name": "python3"
  },
  "language_info": {
   "codemirror_mode": {
    "name": "ipython",
    "version": 3
   },
   "file_extension": ".py",
   "mimetype": "text/x-python",
   "name": "python",
   "nbconvert_exporter": "python",
   "pygments_lexer": "ipython3",
   "version": "3.9.16"
  }
 },
 "nbformat": 4,
 "nbformat_minor": 5
}
