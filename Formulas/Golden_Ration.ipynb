{
 "cells": [
  {
   "cell_type": "code",
   "execution_count": 23,
   "id": "ec4847bb-bf56-41e9-a5ff-c8475ac6177a",
   "metadata": {},
   "outputs": [],
   "source": [
    "import sympy as sp\n",
    "from IPython.display import Math"
   ]
  },
  {
   "cell_type": "code",
   "execution_count": 24,
   "id": "279cd622-9c6d-430b-92f8-efc01103b3d3",
   "metadata": {},
   "outputs": [],
   "source": [
    "goldenRation = 1.618"
   ]
  },
  {
   "cell_type": "code",
   "execution_count": 25,
   "id": "fb2a2335-47cd-4f3d-a1ae-757ae39f701b",
   "metadata": {},
   "outputs": [],
   "source": [
    "A, B, w, x = sp.symbols('A, B, w, x')"
   ]
  },
  {
   "cell_type": "markdown",
   "id": "4b788225-2acb-475b-b922-6f8162a0b6ae",
   "metadata": {},
   "source": [
    "---"
   ]
  },
  {
   "cell_type": "markdown",
   "id": "47992a43-2e98-4df9-8f07-607ce09975ce",
   "metadata": {},
   "source": [
    "##### Extended expression"
   ]
  },
  {
   "cell_type": "code",
   "execution_count": 26,
   "id": "3600dbd6-99c0-4f00-b21c-e5a3295963bb",
   "metadata": {},
   "outputs": [],
   "source": [
    "goldenRationExp = (A + B) / A - goldenRation"
   ]
  },
  {
   "cell_type": "code",
   "execution_count": 27,
   "id": "8b2d56f2-583d-4b1d-969e-52de73331a3a",
   "metadata": {},
   "outputs": [
    {
     "data": {
      "text/latex": [
       "$\\displaystyle -1.618 + \\frac{A + B}{A}$"
      ],
      "text/plain": [
       "<IPython.core.display.Math object>"
      ]
     },
     "metadata": {},
     "output_type": "display_data"
    }
   ],
   "source": [
    "display(Math(sp.latex(goldenRationExp)))"
   ]
  },
  {
   "cell_type": "markdown",
   "id": "da34ab14-bfc4-49c7-84d5-b79e2b297667",
   "metadata": {},
   "source": [
    "##### Short expression"
   ]
  },
  {
   "cell_type": "code",
   "execution_count": 28,
   "id": "249ba276-a931-4c43-8f3f-4451219ef7c1",
   "metadata": {},
   "outputs": [],
   "source": [
    "goldenRationExpShort = w / x - goldenRation"
   ]
  },
  {
   "cell_type": "code",
   "execution_count": 29,
   "id": "78e52231-84af-48fa-88e1-c59c46a573c8",
   "metadata": {},
   "outputs": [
    {
     "data": {
      "text/latex": [
       "$\\displaystyle \\frac{w}{x} - 1.618$"
      ],
      "text/plain": [
       "<IPython.core.display.Math object>"
      ]
     },
     "metadata": {},
     "output_type": "display_data"
    }
   ],
   "source": [
    "display(Math(sp.latex(goldenRationExpShort)))"
   ]
  },
  {
   "cell_type": "markdown",
   "id": "2d9bc2a6-5224-4e9b-8837-b8eb1689dfe2",
   "metadata": {},
   "source": [
    "##### Functions"
   ]
  },
  {
   "cell_type": "code",
   "execution_count": 30,
   "id": "5836f155-8a79-4b05-9aa1-225158b67fd3",
   "metadata": {},
   "outputs": [],
   "source": [
    "def calcGoldenRationX(whole: int) -> float:\n",
    "    return round(next(iter(sp.solve(goldenRationExpShort.subs(w, whole), x))), 3)"
   ]
  },
  {
   "cell_type": "code",
   "execution_count": 31,
   "id": "b5295071-1751-4a36-b055-01a5fd9e63db",
   "metadata": {},
   "outputs": [],
   "source": [
    "def calcGoldenRationAB(whole: int) -> tuple[float, float]:\n",
    "    aValue = calcGoldenRationX(whole)\n",
    "    bValue = whole - aValue\n",
    "\n",
    "    return aValue, bValue"
   ]
  },
  {
   "cell_type": "raw",
   "id": "f4840e6d-1332-4b5c-85ff-105e8598e0e8",
   "metadata": {},
   "source": [
    "calcGoldenRationAB(1024)"
   ]
  }
 ],
 "metadata": {
  "jupytext": {
   "formats": "ipynb,auto:light"
  },
  "kernelspec": {
   "display_name": "Python [conda env:base] *",
   "language": "python",
   "name": "conda-base-py"
  },
  "language_info": {
   "codemirror_mode": {
    "name": "ipython",
    "version": 3
   },
   "file_extension": ".py",
   "mimetype": "text/x-python",
   "name": "python",
   "nbconvert_exporter": "python",
   "pygments_lexer": "ipython3",
   "version": "3.11.7"
  }
 },
 "nbformat": 4,
 "nbformat_minor": 5
}
