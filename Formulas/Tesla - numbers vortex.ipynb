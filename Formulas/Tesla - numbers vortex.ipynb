{
 "cells": [
  {
   "cell_type": "code",
   "execution_count": 5,
   "id": "0aacb60f",
   "metadata": {},
   "outputs": [],
   "source": [
    "from IPython.display import display, Math"
   ]
  },
  {
   "cell_type": "code",
   "execution_count": 6,
   "id": "5a045dce",
   "metadata": {},
   "outputs": [
    {
     "data": {
      "text/plain": [
       "(2, 8, 6)"
      ]
     },
     "execution_count": 6,
     "metadata": {},
     "output_type": "execute_result"
    }
   ],
   "source": [
    "# Digital root\n",
    "\n",
    "def getDigitalRoot(num):\n",
    "    if (num < 0): return 0\n",
    "    \n",
    "    numbersAfterDotCount = str(num)[::-1].find('.')\n",
    "    \n",
    "    if (numbersAfterDotCount >= 1):\n",
    "        num *= 10 ** numbersAfterDotCount\n",
    "    \n",
    "    digits = str(int(num))\n",
    "    sum = 0\n",
    "    \n",
    "    for digit in digits:\n",
    "        sum += int(digit)\n",
    "    \n",
    "    if sum >= 10:\n",
    "        sum = getDigitalRoot(sum)\n",
    "\n",
    "    return sum\n",
    "\n",
    "getDigitalRoot(128), getDigitalRoot(0.0125), getDigitalRoot(1.5)"
   ]
  },
  {
   "cell_type": "code",
   "execution_count": 12,
   "id": "7a4bb309",
   "metadata": {},
   "outputs": [],
   "source": [
    "def getRange(length):\n",
    "    if length >= 0:\n",
    "        return range(1, length + 1);\n",
    "    else:\n",
    "        return reversed(range(length, 0))"
   ]
  },
  {
   "cell_type": "code",
   "execution_count": 8,
   "id": "11e927ce",
   "metadata": {},
   "outputs": [
    {
     "data": {
      "text/plain": [
       "2048"
      ]
     },
     "execution_count": 8,
     "metadata": {},
     "output_type": "execute_result"
    }
   ],
   "source": [
    "def getMultiplied(baseNumber, toExtend):\n",
    "    if toExtend <= 0:\n",
    "        return 0\n",
    "    \n",
    "    if toExtend == 1:\n",
    "        return baseNumber\n",
    "    \n",
    "    return getMultiplied(baseNumber, toExtend - 1) * 2\n",
    "\n",
    "getMultiplied(1, 12)"
   ]
  },
  {
   "cell_type": "code",
   "execution_count": 9,
   "id": "c9fb2e6b",
   "metadata": {},
   "outputs": [
    {
     "data": {
      "text/plain": [
       "0.125"
      ]
     },
     "execution_count": 9,
     "metadata": {},
     "output_type": "execute_result"
    }
   ],
   "source": [
    "def getDivided(baseNumber, toExtend):\n",
    "    if toExtend <= 0:\n",
    "        return 0\n",
    "    \n",
    "    if toExtend == 1:\n",
    "        return baseNumber\n",
    "    \n",
    "    return getDivided(baseNumber, toExtend - 1) / 2\n",
    "\n",
    "getDivided(1, 4)"
   ]
  },
  {
   "cell_type": "code",
   "execution_count": 14,
   "id": "70598847",
   "metadata": {},
   "outputs": [
    {
     "data": {
      "text/latex": [
       "$\\displaystyle 1 = 1 \\rightarrow 1$"
      ],
      "text/plain": [
       "<IPython.core.display.Math object>"
      ]
     },
     "metadata": {},
     "output_type": "display_data"
    },
    {
     "data": {
      "text/latex": [
       "$\\displaystyle 2 = 2 \\rightarrow 2$"
      ],
      "text/plain": [
       "<IPython.core.display.Math object>"
      ]
     },
     "metadata": {},
     "output_type": "display_data"
    },
    {
     "data": {
      "text/latex": [
       "$\\displaystyle 3 = 4 \\rightarrow 4$"
      ],
      "text/plain": [
       "<IPython.core.display.Math object>"
      ]
     },
     "metadata": {},
     "output_type": "display_data"
    },
    {
     "data": {
      "text/latex": [
       "$\\displaystyle 4 = 8 \\rightarrow 8$"
      ],
      "text/plain": [
       "<IPython.core.display.Math object>"
      ]
     },
     "metadata": {},
     "output_type": "display_data"
    },
    {
     "data": {
      "text/latex": [
       "$\\displaystyle 5 = 16 \\rightarrow 7$"
      ],
      "text/plain": [
       "<IPython.core.display.Math object>"
      ]
     },
     "metadata": {},
     "output_type": "display_data"
    },
    {
     "data": {
      "text/latex": [
       "$\\displaystyle 6 = 32 \\rightarrow 5$"
      ],
      "text/plain": [
       "<IPython.core.display.Math object>"
      ]
     },
     "metadata": {},
     "output_type": "display_data"
    },
    {
     "data": {
      "text/latex": [
       "$\\displaystyle 7 = 64 \\rightarrow 1$"
      ],
      "text/plain": [
       "<IPython.core.display.Math object>"
      ]
     },
     "metadata": {},
     "output_type": "display_data"
    },
    {
     "data": {
      "text/latex": [
       "$\\displaystyle 8 = 128 \\rightarrow 2$"
      ],
      "text/plain": [
       "<IPython.core.display.Math object>"
      ]
     },
     "metadata": {},
     "output_type": "display_data"
    },
    {
     "data": {
      "text/latex": [
       "$\\displaystyle 9 = 256 \\rightarrow 4$"
      ],
      "text/plain": [
       "<IPython.core.display.Math object>"
      ]
     },
     "metadata": {},
     "output_type": "display_data"
    },
    {
     "data": {
      "text/latex": [
       "$\\displaystyle 10 = 512 \\rightarrow 8$"
      ],
      "text/plain": [
       "<IPython.core.display.Math object>"
      ]
     },
     "metadata": {},
     "output_type": "display_data"
    },
    {
     "data": {
      "text/latex": [
       "$\\displaystyle 11 = 1024 \\rightarrow 7$"
      ],
      "text/plain": [
       "<IPython.core.display.Math object>"
      ]
     },
     "metadata": {},
     "output_type": "display_data"
    },
    {
     "data": {
      "text/latex": [
       "$\\displaystyle 12 = 2048 \\rightarrow 5$"
      ],
      "text/plain": [
       "<IPython.core.display.Math object>"
      ]
     },
     "metadata": {},
     "output_type": "display_data"
    }
   ],
   "source": [
    "# Double digits\n",
    "\n",
    "baseNumber = 1\n",
    "\n",
    "for x in getRange(12):\n",
    "    summedNumber = getMultiplied(baseNumber, x)\n",
    "    display(Math('%g = %g \\\\rightarrow %g' %(x, summedNumber, getDigitalRoot(summedNumber))))"
   ]
  },
  {
   "cell_type": "code",
   "execution_count": null,
   "id": "08a441b7",
   "metadata": {},
   "outputs": [],
   "source": [
    "# Divide digits\n",
    "\n",
    "baseNumber = 3\n",
    "\n",
    "for x in getRange(-12):\n",
    "    dividedNumber = getDivided(baseNumber, abs(x))\n",
    "    display(Math('%g = %f \\\\rightarrow %g' %(x, dividedNumber, getDigitalRoot(dividedNumber))))"
   ]
  },
  {
   "cell_type": "code",
   "execution_count": 15,
   "id": "e52b5290",
   "metadata": {},
   "outputs": [
    {
     "name": "stdout",
     "output_type": "stream",
     "text": [
      "Enter length 12\n",
      "[1, 2, 4, 8, 7, 5, 1, 2, 4, 8, 7, 5]\n",
      "[1, 5, 7, 8, 4, 2, 1, 5, 7, 8, 4, 2]\n",
      "[3, 6, 3, 6, 3, 6, 3, 6, 3, 6, 3, 6]\n",
      "[3, 6, 3, 6, 3, 6, 3, 6, 3, 6, 3, 6]\n"
     ]
    }
   ],
   "source": [
    "# Digital root sequence\n",
    "\n",
    "def getDigitalRootSequence(baseNumber, length):\n",
    "    digitalRoots = []\n",
    "    \n",
    "    for x in getRange(length):\n",
    "        num = getMultiplied(baseNumber, x) if x > 0 else getDivided(baseNumber, abs(x)) \n",
    "        digitalRoots.append(getDigitalRoot(num))\n",
    "    \n",
    "    return digitalRoots\n",
    "\n",
    "length = int(input('Enter length '))\n",
    "\n",
    "print(getDigitalRootSequence(1, length))\n",
    "print(getDigitalRootSequence(1, -length))\n",
    "print(getDigitalRootSequence(3, length))\n",
    "print(getDigitalRootSequence(3, -length))"
   ]
  }
 ],
 "metadata": {
  "kernelspec": {
   "display_name": "Python 3 (ipykernel)",
   "language": "python",
   "name": "python3"
  },
  "language_info": {
   "codemirror_mode": {
    "name": "ipython",
    "version": 3
   },
   "file_extension": ".py",
   "mimetype": "text/x-python",
   "name": "python",
   "nbconvert_exporter": "python",
   "pygments_lexer": "ipython3",
   "version": "3.9.12"
  }
 },
 "nbformat": 4,
 "nbformat_minor": 5
}
