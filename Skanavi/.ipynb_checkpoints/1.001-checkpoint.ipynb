{
 "cells": [
  {
   "cell_type": "code",
   "execution_count": 61,
   "id": "29b259bf",
   "metadata": {},
   "outputs": [],
   "source": [
    "from IPython.display import display, Math"
   ]
  },
  {
   "cell_type": "markdown",
   "id": "f6d56b26",
   "metadata": {},
   "source": [
    "### 1.001\n",
    "\n",
    "$$\\frac{(7 - 6.35) : 6.5 + 9.9}{(1.2 : 36 + 1.2 : 0.25 - 1\\frac{5}{16}) : \\frac{169}{24})}$$"
   ]
  },
  {
   "cell_type": "code",
   "execution_count": 62,
   "id": "7e2c0f5a",
   "metadata": {
    "scrolled": true
   },
   "outputs": [
    {
     "data": {
      "text/latex": [
       "$\\displaystyle 7 - 6.35 = 0.65$"
      ],
      "text/plain": [
       "<IPython.core.display.Math object>"
      ]
     },
     "metadata": {},
     "output_type": "display_data"
    },
    {
     "data": {
      "text/plain": [
       "0.65"
      ]
     },
     "execution_count": 62,
     "metadata": {},
     "output_type": "execute_result"
    }
   ],
   "source": [
    "x = 7\n",
    "y = 6.35\n",
    "r1 = x - y\n",
    "\n",
    "display(Math(f'{x} - {y} = %g' %r1))\n",
    "\n",
    "round(r1, 2)"
   ]
  },
  {
   "cell_type": "code",
   "execution_count": 63,
   "id": "7e026e50",
   "metadata": {},
   "outputs": [
    {
     "data": {
      "text/latex": [
       "$\\displaystyle 0.65 : 6.5 = 0.1$"
      ],
      "text/plain": [
       "<IPython.core.display.Math object>"
      ]
     },
     "metadata": {},
     "output_type": "display_data"
    },
    {
     "data": {
      "text/latex": [
       "$\\displaystyle 65 : 650 = 0.1$"
      ],
      "text/plain": [
       "<IPython.core.display.Math object>"
      ]
     },
     "metadata": {},
     "output_type": "display_data"
    },
    {
     "data": {
      "text/latex": [
       "$\\displaystyle 1 : 10 = 0.1$"
      ],
      "text/plain": [
       "<IPython.core.display.Math object>"
      ]
     },
     "metadata": {},
     "output_type": "display_data"
    },
    {
     "data": {
      "text/plain": [
       "0.1"
      ]
     },
     "execution_count": 63,
     "metadata": {},
     "output_type": "execute_result"
    }
   ],
   "source": [
    "x = r1\n",
    "y = 6.5\n",
    "r2 = x / y\n",
    "\n",
    "display(Math(f'{x:.2f} : {y} = %g' %r2))\n",
    "\n",
    "x *= 100\n",
    "y *= 100\n",
    "r2 = x / y\n",
    "\n",
    "display(Math(f'{x:.0f} : {y:.0f} = %g' %r2))\n",
    "\n",
    "y /= x\n",
    "x /= x\n",
    "r2 = x / y\n",
    "\n",
    "display(Math(f'{x:.0f} : {y:.0f} = %g' %r2))\n",
    "\n",
    "round(r2, 1)"
   ]
  },
  {
   "cell_type": "code",
   "execution_count": 64,
   "id": "c4f527a0",
   "metadata": {},
   "outputs": [
    {
     "data": {
      "text/plain": [
       "10"
      ]
     },
     "execution_count": 64,
     "metadata": {},
     "output_type": "execute_result"
    }
   ],
   "source": [
    "x = r2\n",
    "y = 9.9\n",
    "r3 = x + y\n",
    "\n",
    "round(r3)"
   ]
  },
  {
   "cell_type": "code",
   "execution_count": 76,
   "id": "c99323ca",
   "metadata": {},
   "outputs": [
    {
     "data": {
      "text/latex": [
       "$\\displaystyle 1.2 : 36=(\\frac{10}{10} + \\frac{2}{10}) : \\frac{36}{1}=(\\frac{5}{5} + \\frac{1}{5}) : \\frac{36}{1}=\\frac{6}{5} \\times \\frac{1}{36}=\\frac{1}{5} \\times \\frac{1}{6}=\\frac{1}{30}$"
      ],
      "text/plain": [
       "<IPython.core.display.Math object>"
      ]
     },
     "metadata": {},
     "output_type": "display_data"
    }
   ],
   "source": [
    "display(Math('='.join([\n",
    "    '1.2 : 36',\n",
    "    '(\\\\frac{10}{10} + \\\\frac{2}{10}) : \\\\frac{36}{1}',\n",
    "    '(\\\\frac{5}{5} + \\\\frac{1}{5}) : \\\\frac{36}{1}',\n",
    "    '\\\\frac{6}{5} \\\\times \\\\frac{1}{36}',\n",
    "    '\\\\frac{1}{5} \\\\times \\\\frac{1}{6}',\n",
    "    '\\\\frac{1}{30}'\n",
    "])))"
   ]
  },
  {
   "cell_type": "code",
   "execution_count": 65,
   "id": "87765353",
   "metadata": {},
   "outputs": [
    {
     "data": {
      "text/latex": [
       "$\\displaystyle 1.2 : 0.25=(\\frac{10}{10} + \\frac{2}{10}) : \\frac{25}{100}=(\\frac{5}{5} + \\frac{1}{5}) : \\frac{1}{4}=\\frac{6}{5} \\times \\frac{4}{1}=\\frac{24}5$"
      ],
      "text/plain": [
       "<IPython.core.display.Math object>"
      ]
     },
     "metadata": {},
     "output_type": "display_data"
    }
   ],
   "source": [
    "display(Math('='.join([\n",
    "    '1.2 : 0.25',\n",
    "    '(\\\\frac{10}{10} + \\\\frac{2}{10}) : \\\\frac{25}{100}',\n",
    "    '(\\\\frac{5}{5} + \\\\frac{1}{5}) : \\\\frac{1}{4}',\n",
    "    '\\\\frac{6}{5} \\\\times \\\\frac{4}{1}',\n",
    "    f'\\\\frac{{{6 * 4}}}{5}'\n",
    "])))"
   ]
  },
  {
   "cell_type": "code",
   "execution_count": 77,
   "id": "dd1a36bf",
   "metadata": {},
   "outputs": [
    {
     "data": {
      "text/latex": [
       "$\\displaystyle {1}\\frac{5}{16} =\\frac{16}{16} + \\frac{5}{16} = \\frac{21}{16}$"
      ],
      "text/plain": [
       "<IPython.core.display.Math object>"
      ]
     },
     "metadata": {},
     "output_type": "display_data"
    }
   ],
   "source": [
    "x = 1\n",
    "y = 5\n",
    "z = 16\n",
    "\n",
    "display(Math(\n",
    "    f'{{{x}}}\\\\frac{{{y}}}{{{z}}} =' +\n",
    "    f'\\\\frac{{{z}}}{{{z}}} + \\\\frac{{{y}}}{{{z}}} = ' +\n",
    "    f'\\\\frac{{%g}}{{{z}}}' %(y + z)\n",
    "))"
   ]
  },
  {
   "cell_type": "code",
   "execution_count": 78,
   "id": "051ca291",
   "metadata": {},
   "outputs": [
    {
     "data": {
      "text/latex": [
       "$\\displaystyle \\frac{1}{30} + \\frac{24}{5} - \\frac{21}{16}$"
      ],
      "text/plain": [
       "<IPython.core.display.Math object>"
      ]
     },
     "metadata": {},
     "output_type": "display_data"
    }
   ],
   "source": [
    "display(Math('='.join([\n",
    "    '\\\\frac{1}{30} + \\\\frac{24}{5} - \\\\frac{21}{16}'\n",
    "])))\n",
    "\n",
    "print()"
   ]
  }
 ],
 "metadata": {
  "kernelspec": {
   "display_name": "Python 3 (ipykernel)",
   "language": "python",
   "name": "python3"
  },
  "language_info": {
   "codemirror_mode": {
    "name": "ipython",
    "version": 3
   },
   "file_extension": ".py",
   "mimetype": "text/x-python",
   "name": "python",
   "nbconvert_exporter": "python",
   "pygments_lexer": "ipython3",
   "version": "3.9.12"
  }
 },
 "nbformat": 4,
 "nbformat_minor": 5
}
