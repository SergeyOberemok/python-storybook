{
 "cells": [
  {
   "cell_type": "code",
   "execution_count": 2,
   "id": "57a46ae4-b5ad-42b1-91a5-539e06a356b7",
   "metadata": {},
   "outputs": [],
   "source": [
    "import numpy as np"
   ]
  },
  {
   "cell_type": "markdown",
   "id": "efee2d03-d521-490f-8c5b-e5ea0f36c9f2",
   "metadata": {},
   "source": [
    "---"
   ]
  },
  {
   "cell_type": "markdown",
   "id": "c7cd6a80-aa0a-4af5-ae7d-008f9f754403",
   "metadata": {},
   "source": [
    "# Update"
   ]
  },
  {
   "cell_type": "markdown",
   "id": "570e29ed-fc0f-4c1f-bc0f-c7753603bf54",
   "metadata": {},
   "source": [
    "## Cummulative Sum"
   ]
  },
  {
   "cell_type": "code",
   "execution_count": 4,
   "id": "430f2fff-e748-417e-9f10-6800942c4d35",
   "metadata": {},
   "outputs": [
    {
     "data": {
      "text/plain": [
       "numpy.ndarray"
      ]
     },
     "execution_count": 4,
     "metadata": {},
     "output_type": "execute_result"
    }
   ],
   "source": [
    "type(np.cumsum([i for i in range(10)]))"
   ]
  }
 ],
 "metadata": {
  "kernelspec": {
   "display_name": "Python 3 (ipykernel)",
   "language": "python",
   "name": "python3"
  },
  "language_info": {
   "codemirror_mode": {
    "name": "ipython",
    "version": 3
   },
   "file_extension": ".py",
   "mimetype": "text/x-python",
   "name": "python",
   "nbconvert_exporter": "python",
   "pygments_lexer": "ipython3",
   "version": "3.11.5"
  }
 },
 "nbformat": 4,
 "nbformat_minor": 5
}
