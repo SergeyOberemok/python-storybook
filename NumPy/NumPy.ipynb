{
 "cells": [
  {
   "cell_type": "code",
   "execution_count": 26,
   "id": "c08fd889-e5c9-48ff-ae50-ccfbe0f38e92",
   "metadata": {},
   "outputs": [],
   "source": [
    "import numpy as np"
   ]
  },
  {
   "cell_type": "markdown",
   "id": "e13d140a-8f19-4d04-beca-7b76bca5b1d2",
   "metadata": {},
   "source": [
    "---"
   ]
  },
  {
   "cell_type": "markdown",
   "id": "4050b7d0-37df-4eca-8cb0-920afa207640",
   "metadata": {
    "jp-MarkdownHeadingCollapsed": true
   },
   "source": [
    "# Create"
   ]
  },
  {
   "cell_type": "markdown",
   "id": "e5c2fc15-1796-45f8-b264-1d330da78f9c",
   "metadata": {
    "jp-MarkdownHeadingCollapsed": true
   },
   "source": [
    "## Range"
   ]
  },
  {
   "cell_type": "code",
   "execution_count": 27,
   "id": "39e7c2ef-e844-4b91-86f2-496448fbfd24",
   "metadata": {},
   "outputs": [
    {
     "data": {
      "text/plain": [
       "array([0, 1, 2, 3, 4, 5, 6, 7, 8, 9])"
      ]
     },
     "execution_count": 27,
     "metadata": {},
     "output_type": "execute_result"
    }
   ],
   "source": [
    "np.arange(10)"
   ]
  },
  {
   "cell_type": "markdown",
   "id": "4857b1d2-6d18-45a0-913b-7ebcd922449a",
   "metadata": {
    "jp-MarkdownHeadingCollapsed": true
   },
   "source": [
    "## Shape"
   ]
  },
  {
   "cell_type": "code",
   "execution_count": 28,
   "id": "88313aa1-7853-4ccb-987c-0c501fb27d72",
   "metadata": {},
   "outputs": [
    {
     "data": {
      "text/plain": [
       "(array([[ 0,  1,  2],\n",
       "        [ 3,  4,  5],\n",
       "        [ 6,  7,  8],\n",
       "        [ 9, 10, 11]]),\n",
       " (4, 3))"
      ]
     },
     "execution_count": 28,
     "metadata": {},
     "output_type": "execute_result"
    }
   ],
   "source": [
    "arr = np.arange(12)\n",
    "arr.shape = 4, 3\n",
    "arr, arr.shape"
   ]
  },
  {
   "cell_type": "markdown",
   "id": "d6993ff9-f657-4ba7-bfa3-442f56bc47ff",
   "metadata": {
    "jp-MarkdownHeadingCollapsed": true
   },
   "source": [
    "## From list"
   ]
  },
  {
   "cell_type": "code",
   "execution_count": 29,
   "id": "4b5b5b03-6208-4703-96d4-636df941ca48",
   "metadata": {},
   "outputs": [
    {
     "data": {
      "text/plain": [
       "(array([[1, 2, 3],\n",
       "        [4, 5, 6]]),\n",
       " (2, 3))"
      ]
     },
     "execution_count": 29,
     "metadata": {},
     "output_type": "execute_result"
    }
   ],
   "source": [
    "arr = np.array([[1, 2, 3], [4, 5, 6]])\n",
    "\n",
    "arr, arr.shape"
   ]
  },
  {
   "cell_type": "markdown",
   "id": "b4f9fe20-47b3-493a-96fc-18cf1798db30",
   "metadata": {
    "jp-MarkdownHeadingCollapsed": true
   },
   "source": [
    "# Read"
   ]
  },
  {
   "cell_type": "markdown",
   "id": "7910ebdb-d873-4afb-9e3b-398b4508c1a6",
   "metadata": {
    "jp-MarkdownHeadingCollapsed": true
   },
   "source": [
    "## Iterate"
   ]
  },
  {
   "cell_type": "markdown",
   "id": "1cbfb5f0-c304-48d1-a288-f2fbf092c510",
   "metadata": {
    "jp-MarkdownHeadingCollapsed": true
   },
   "source": [
    "### N-Dimention as flatten"
   ]
  },
  {
   "cell_type": "markdown",
   "id": "13f4f567-0d32-4285-9206-12152a199405",
   "metadata": {
    "jp-MarkdownHeadingCollapsed": true
   },
   "source": [
    "#### Simple"
   ]
  },
  {
   "cell_type": "code",
   "execution_count": 30,
   "id": "139e6115-932e-4af1-93ff-30e89c031bce",
   "metadata": {},
   "outputs": [
    {
     "name": "stdout",
     "output_type": "stream",
     "text": [
      "0\n",
      "1\n",
      "2\n",
      "3\n",
      "4\n",
      "5\n",
      "6\n",
      "7\n",
      "8\n",
      "9\n",
      "10\n",
      "11\n"
     ]
    },
    {
     "data": {
      "text/plain": [
       "(<numpy.nditer at 0x1c0ea648210>, numpy.nditer)"
      ]
     },
     "execution_count": 30,
     "metadata": {},
     "output_type": "execute_result"
    }
   ],
   "source": [
    "arr = np.arange(12).reshape(4, 3)\n",
    "\n",
    "for i in np.nditer(arr):\n",
    "    print(i)\n",
    "\n",
    "np.nditer(arr), type(np.nditer(arr))"
   ]
  },
  {
   "cell_type": "markdown",
   "id": "2ba7d610-9e22-42bc-8bb2-afc7117741a0",
   "metadata": {
    "jp-MarkdownHeadingCollapsed": true
   },
   "source": [
    "#### With index"
   ]
  },
  {
   "cell_type": "code",
   "execution_count": 31,
   "id": "2b96a589-2b00-4202-b9ca-501988fa5f8b",
   "metadata": {},
   "outputs": [
    {
     "name": "stdout",
     "output_type": "stream",
     "text": [
      "(0, 0) 0\n",
      "(0, 1) 1\n",
      "(0, 2) 2\n",
      "(1, 0) 3\n",
      "(1, 1) 4\n",
      "(1, 2) 5\n",
      "(2, 0) 6\n",
      "(2, 1) 7\n",
      "(2, 2) 8\n",
      "(3, 0) 9\n",
      "(3, 1) 10\n",
      "(3, 2) 11\n"
     ]
    },
    {
     "data": {
      "text/plain": [
       "(<numpy.ndenumerate at 0x1c0ea621810>, numpy.ndenumerate)"
      ]
     },
     "execution_count": 31,
     "metadata": {},
     "output_type": "execute_result"
    }
   ],
   "source": [
    "arr = np.arange(12).reshape(4, 3)\n",
    "\n",
    "for index, i in np.ndenumerate(arr):\n",
    "    print(index, i)\n",
    "\n",
    "np.ndenumerate(arr), type(np.ndenumerate(arr))"
   ]
  },
  {
   "cell_type": "markdown",
   "id": "fca2936d-1129-4f6d-83af-78a3dea94903",
   "metadata": {
    "jp-MarkdownHeadingCollapsed": true
   },
   "source": [
    "## Check"
   ]
  },
  {
   "cell_type": "markdown",
   "id": "00982e6e-7e31-47fe-a6ef-fc1f9a9bf717",
   "metadata": {
    "jp-MarkdownHeadingCollapsed": true
   },
   "source": [
    "### All"
   ]
  },
  {
   "cell_type": "code",
   "execution_count": 39,
   "id": "6105244b-8735-469b-a8e2-ea921e32df0f",
   "metadata": {},
   "outputs": [],
   "source": [
    "arr = np.arange(1, 13).reshape(4, 3)\n",
    "\n",
    "assert all(n > 0 for n in np.nditer(arr)) is True"
   ]
  },
  {
   "cell_type": "markdown",
   "id": "ae0dc90b-b717-475f-b694-449182f5b3e2",
   "metadata": {
    "jp-MarkdownHeadingCollapsed": true
   },
   "source": [
    "### Type"
   ]
  },
  {
   "cell_type": "code",
   "execution_count": 32,
   "id": "bdf3a929-3b41-45ea-aae4-f8a2a46c3966",
   "metadata": {},
   "outputs": [
    {
     "data": {
      "text/plain": [
       "numpy.ndarray"
      ]
     },
     "execution_count": 32,
     "metadata": {},
     "output_type": "execute_result"
    }
   ],
   "source": [
    "type(np.array([1, 2, 3]))"
   ]
  },
  {
   "cell_type": "markdown",
   "id": "2ed07992-7641-4021-ab52-e58276dcd83c",
   "metadata": {
    "jp-MarkdownHeadingCollapsed": true
   },
   "source": [
    "# Update"
   ]
  },
  {
   "cell_type": "markdown",
   "id": "9e0a10ae-36df-4152-bc4c-f7f5a222e9e1",
   "metadata": {
    "jp-MarkdownHeadingCollapsed": true
   },
   "source": [
    "## Map"
   ]
  },
  {
   "cell_type": "code",
   "execution_count": 33,
   "id": "d21adf0b-9b20-48cb-a021-d9688469e4a5",
   "metadata": {},
   "outputs": [
    {
     "data": {
      "text/plain": [
       "array([[   1,    2,    4],\n",
       "       [   8,   16,   32],\n",
       "       [  64,  128,  256],\n",
       "       [ 512, 1024, 2048]])"
      ]
     },
     "execution_count": 33,
     "metadata": {},
     "output_type": "execute_result"
    }
   ],
   "source": [
    "arr = np.arange(12).reshape(4, 3)\n",
    "\n",
    "sqrt = lambda n: 2 ** n\n",
    "vectorizedSqrt = np.vectorize(sqrt)\n",
    "\n",
    "vectorizedSqrt(arr)"
   ]
  },
  {
   "cell_type": "code",
   "execution_count": 34,
   "id": "b2514ca3-289f-4b6e-a414-4c757bf6f5cf",
   "metadata": {},
   "outputs": [
    {
     "data": {
      "text/plain": [
       "array([  0,   1,   4,   9,  16,  25,  36,  49,  64,  81, 100, 121])"
      ]
     },
     "execution_count": 34,
     "metadata": {},
     "output_type": "execute_result"
    }
   ],
   "source": [
    "np.arange(12) ** 2"
   ]
  },
  {
   "cell_type": "code",
   "execution_count": 35,
   "id": "c9876c87-616b-4fc2-a465-bbc25d950dec",
   "metadata": {},
   "outputs": [
    {
     "data": {
      "text/plain": [
       "array([   1,    2,    4,    8,   16,   32,   64,  128,  256,  512, 1024,\n",
       "       2048], dtype=int32)"
      ]
     },
     "execution_count": 35,
     "metadata": {},
     "output_type": "execute_result"
    }
   ],
   "source": [
    "2 ** np.arange(12)"
   ]
  },
  {
   "cell_type": "markdown",
   "id": "cfb3d6b5-84fd-4e38-9fcd-5625d33ab88f",
   "metadata": {
    "jp-MarkdownHeadingCollapsed": true
   },
   "source": [
    "## Reshape"
   ]
  },
  {
   "cell_type": "code",
   "execution_count": 36,
   "id": "35fbd0b7-554b-4b9c-af3b-00f3e0491a2a",
   "metadata": {},
   "outputs": [
    {
     "data": {
      "text/plain": [
       "array([[ 0,  1,  2],\n",
       "       [ 3,  4,  5],\n",
       "       [ 6,  7,  8],\n",
       "       [ 9, 10, 11]])"
      ]
     },
     "execution_count": 36,
     "metadata": {},
     "output_type": "execute_result"
    }
   ],
   "source": [
    "np.arange(12).reshape(4, 3)"
   ]
  },
  {
   "cell_type": "markdown",
   "id": "c32f2e4c-d183-48f7-afb9-f1207d4de6f5",
   "metadata": {
    "jp-MarkdownHeadingCollapsed": true
   },
   "source": [
    "## Flatten"
   ]
  },
  {
   "cell_type": "code",
   "execution_count": 37,
   "id": "587b915a-afc9-4a27-b355-ff61b6773468",
   "metadata": {},
   "outputs": [
    {
     "data": {
      "text/plain": [
       "array([ 0,  1,  2,  3,  4,  5,  6,  7,  8,  9, 10, 11])"
      ]
     },
     "execution_count": 37,
     "metadata": {},
     "output_type": "execute_result"
    }
   ],
   "source": [
    "np.arange(12).reshape(4, 3).reshape(-1)"
   ]
  },
  {
   "cell_type": "markdown",
   "id": "096f8f72-e568-4432-b2c7-c105b398a173",
   "metadata": {
    "jp-MarkdownHeadingCollapsed": true
   },
   "source": [
    "## Convert"
   ]
  },
  {
   "cell_type": "markdown",
   "id": "9c7088d4-f171-457f-9fa9-d4ad1ea78c09",
   "metadata": {
    "jp-MarkdownHeadingCollapsed": true
   },
   "source": [
    "### List"
   ]
  },
  {
   "cell_type": "code",
   "execution_count": 38,
   "id": "27a16381-7f5e-45bd-85b0-52e5d8aa7945",
   "metadata": {},
   "outputs": [
    {
     "data": {
      "text/plain": [
       "[1, 2, 3]"
      ]
     },
     "execution_count": 38,
     "metadata": {},
     "output_type": "execute_result"
    }
   ],
   "source": [
    "list(np.array([1, 2, 3]))"
   ]
  }
 ],
 "metadata": {
  "kernelspec": {
   "display_name": "Python 3 (ipykernel)",
   "language": "python",
   "name": "python3"
  },
  "language_info": {
   "codemirror_mode": {
    "name": "ipython",
    "version": 3
   },
   "file_extension": ".py",
   "mimetype": "text/x-python",
   "name": "python",
   "nbconvert_exporter": "python",
   "pygments_lexer": "ipython3",
   "version": "3.11.5"
  }
 },
 "nbformat": 4,
 "nbformat_minor": 5
}
