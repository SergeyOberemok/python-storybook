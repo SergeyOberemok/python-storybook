{
 "cells": [
  {
   "cell_type": "code",
   "execution_count": 74,
   "id": "81ed402a-042e-41b3-b532-7d31584dee3f",
   "metadata": {},
   "outputs": [],
   "source": [
    "import sympy as sp\n",
    "from IPython.display import Math"
   ]
  },
  {
   "cell_type": "code",
   "execution_count": 75,
   "id": "47b470fb-6786-4401-81ff-f92bfdf0b414",
   "metadata": {},
   "outputs": [],
   "source": [
    "from sympy.abc import x, y"
   ]
  },
  {
   "cell_type": "markdown",
   "id": "f0b0c5b1-20f5-435e-bee9-1eb2b9c4f929",
   "metadata": {},
   "source": [
    "### Solve"
   ]
  },
  {
   "cell_type": "code",
   "execution_count": 76,
   "id": "ce061283-fcff-4341-8d07-e9bcb2e83892",
   "metadata": {},
   "outputs": [],
   "source": [
    "exp = x + 2"
   ]
  },
  {
   "cell_type": "code",
   "execution_count": 77,
   "id": "8b87ba2e-8c32-46f7-8edc-f322dc8c0813",
   "metadata": {},
   "outputs": [
    {
     "data": {
      "text/plain": [
       "[-2]"
      ]
     },
     "execution_count": 77,
     "metadata": {},
     "output_type": "execute_result"
    }
   ],
   "source": [
    "sp.solve(exp)"
   ]
  },
  {
   "cell_type": "code",
   "execution_count": 78,
   "id": "a1b6cce0-5344-4e50-b6d7-c87ab7c127a4",
   "metadata": {},
   "outputs": [
    {
     "data": {
      "text/plain": [
       "[-2]"
      ]
     },
     "execution_count": 78,
     "metadata": {},
     "output_type": "execute_result"
    }
   ],
   "source": [
    "sp.solve(exp, x)"
   ]
  },
  {
   "cell_type": "code",
   "execution_count": 79,
   "id": "fcbb1b17-2ea9-4289-98b2-f3a4ac383c0c",
   "metadata": {},
   "outputs": [],
   "source": [
    "exp = x ** 2 - 4"
   ]
  },
  {
   "cell_type": "code",
   "execution_count": 80,
   "id": "76272cfc-f6aa-48c8-9418-7db09a2e5c4e",
   "metadata": {},
   "outputs": [
    {
     "data": {
      "text/plain": [
       "[-2, 2]"
      ]
     },
     "execution_count": 80,
     "metadata": {},
     "output_type": "execute_result"
    }
   ],
   "source": [
    "sp.solve(exp)"
   ]
  },
  {
   "cell_type": "code",
   "execution_count": 81,
   "id": "fd12b434-ea48-4808-9819-356ba302b40c",
   "metadata": {},
   "outputs": [],
   "source": [
    "exp = x / 4 - x * y + 5"
   ]
  },
  {
   "cell_type": "code",
   "execution_count": 82,
   "id": "8c9f0b02-54c3-4cb9-88ea-c61b4bb02e15",
   "metadata": {},
   "outputs": [
    {
     "data": {
      "text/latex": [
       "$\\displaystyle \\left[ \\frac{20}{4 y - 1}\\right]$"
      ],
      "text/plain": [
       "<IPython.core.display.Math object>"
      ]
     },
     "metadata": {},
     "output_type": "display_data"
    },
    {
     "data": {
      "text/latex": [
       "$\\displaystyle \\frac{20}{4 y - 1}$"
      ],
      "text/plain": [
       "<IPython.core.display.Math object>"
      ]
     },
     "metadata": {},
     "output_type": "display_data"
    },
    {
     "data": {
      "text/latex": [
       "$\\displaystyle \\frac{x + 20}{4 x}$"
      ],
      "text/plain": [
       "<IPython.core.display.Math object>"
      ]
     },
     "metadata": {},
     "output_type": "display_data"
    }
   ],
   "source": [
    "display(Math(sp.latex(sp.solve(exp, x))))\n",
    "display(Math(sp.latex(next(iter(sp.solve(exp, x))))))\n",
    "display(Math(sp.latex(next(iter(sp.solve(exp, y))))))"
   ]
  },
  {
   "cell_type": "markdown",
   "id": "b37afe2c-bd13-419d-92f7-736f1b854d44",
   "metadata": {},
   "source": [
    "### Substitution"
   ]
  },
  {
   "cell_type": "code",
   "execution_count": 83,
   "id": "b35506d6-c7d9-4f87-b35e-6ae67557e2a3",
   "metadata": {},
   "outputs": [],
   "source": [
    "exp = x + y + 4"
   ]
  },
  {
   "cell_type": "markdown",
   "id": "0081ea0f-de2c-4daa-8aea-98b68a9ebbfb",
   "metadata": {},
   "source": [
    "###### subs"
   ]
  },
  {
   "cell_type": "code",
   "execution_count": 84,
   "id": "d596dd05-8162-4a16-99b6-2f2e86e87869",
   "metadata": {},
   "outputs": [
    {
     "data": {
      "text/latex": [
       "$\\displaystyle x + y + 4 = 9$"
      ],
      "text/plain": [
       "<IPython.core.display.Math object>"
      ]
     },
     "metadata": {},
     "output_type": "display_data"
    }
   ],
   "source": [
    "display(Math('%s = %s' %(exp, exp.subs(x, 2).subs(y, 3))))"
   ]
  },
  {
   "cell_type": "code",
   "execution_count": 85,
   "id": "49f4fbe9-17aa-449c-b88f-8c299bfedb80",
   "metadata": {},
   "outputs": [
    {
     "data": {
      "text/latex": [
       "$\\displaystyle x + y + 4 = 9$"
      ],
      "text/plain": [
       "<IPython.core.display.Math object>"
      ]
     },
     "metadata": {},
     "output_type": "display_data"
    }
   ],
   "source": [
    "display(Math('%s = %s' %(exp, exp.subs({ x: 2, y: 3 }))))"
   ]
  }
 ],
 "metadata": {
  "kernelspec": {
   "display_name": "Python [conda env:base] *",
   "language": "python",
   "name": "conda-base-py"
  },
  "language_info": {
   "codemirror_mode": {
    "name": "ipython",
    "version": 3
   },
   "file_extension": ".py",
   "mimetype": "text/x-python",
   "name": "python",
   "nbconvert_exporter": "python",
   "pygments_lexer": "ipython3",
   "version": "3.11.7"
  }
 },
 "nbformat": 4,
 "nbformat_minor": 5
}
