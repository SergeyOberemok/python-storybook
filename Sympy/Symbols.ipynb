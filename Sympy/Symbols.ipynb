{
 "cells": [
  {
   "cell_type": "code",
   "execution_count": 18,
   "id": "6182ede9",
   "metadata": {},
   "outputs": [],
   "source": [
    "import sympy as sp\n",
    "# for single letter\n",
    "# from sympy.abc import q\n",
    "\n",
    "from IPython.display import display, Math"
   ]
  },
  {
   "cell_type": "markdown",
   "id": "00ce4453",
   "metadata": {},
   "source": [
    "### Symbols"
   ]
  },
  {
   "cell_type": "code",
   "execution_count": 19,
   "id": "426fe07f",
   "metadata": {},
   "outputs": [
    {
     "data": {
      "text/latex": [
       "$\\displaystyle x + y + 4$"
      ],
      "text/plain": [
       "x + y + 4"
      ]
     },
     "execution_count": 19,
     "metadata": {},
     "output_type": "execute_result"
    }
   ],
   "source": [
    "x, y = sp.symbols('x, y')\n",
    "\n",
    "exp = x + y + 4\n",
    "\n",
    "exp"
   ]
  },
  {
   "cell_type": "markdown",
   "id": "f9aad4d0",
   "metadata": {},
   "source": [
    "### Substitution"
   ]
  },
  {
   "cell_type": "markdown",
   "id": "d25cf629",
   "metadata": {},
   "source": [
    "#### subs"
   ]
  },
  {
   "cell_type": "code",
   "execution_count": 22,
   "id": "46cfcbe4",
   "metadata": {},
   "outputs": [
    {
     "data": {
      "text/latex": [
       "$\\displaystyle x + y + 4 = 9$"
      ],
      "text/plain": [
       "<IPython.core.display.Math object>"
      ]
     },
     "metadata": {},
     "output_type": "display_data"
    }
   ],
   "source": [
    "display(Math('%s = %s' %(exp, exp.subs(x, 2).subs(y, 3))))"
   ]
  },
  {
   "cell_type": "code",
   "execution_count": 23,
   "id": "fdfdc012",
   "metadata": {},
   "outputs": [
    {
     "data": {
      "text/latex": [
       "$\\displaystyle x + y + 4 = 9$"
      ],
      "text/plain": [
       "<IPython.core.display.Math object>"
      ]
     },
     "metadata": {},
     "output_type": "display_data"
    }
   ],
   "source": [
    "display(Math('%s = %s' %(exp, exp.subs({ x: 2, y: 3 }))))"
   ]
  }
 ],
 "metadata": {
  "kernelspec": {
   "display_name": "Python 3 (ipykernel)",
   "language": "python",
   "name": "python3"
  },
  "language_info": {
   "codemirror_mode": {
    "name": "ipython",
    "version": 3
   },
   "file_extension": ".py",
   "mimetype": "text/x-python",
   "name": "python",
   "nbconvert_exporter": "python",
   "pygments_lexer": "ipython3",
   "version": "3.11.4"
  }
 },
 "nbformat": 4,
 "nbformat_minor": 5
}
