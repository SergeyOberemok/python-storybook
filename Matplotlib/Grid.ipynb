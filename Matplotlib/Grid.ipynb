{
 "cells": [
  {
   "cell_type": "code",
   "execution_count": 1,
   "id": "ed68afaa-18fb-4253-83bb-647157b28911",
   "metadata": {},
   "outputs": [],
   "source": [
    "import matplotlib.pyplot as plt"
   ]
  },
  {
   "cell_type": "markdown",
   "id": "4276114c-815c-4848-8bd0-16daffeb6d2d",
   "metadata": {},
   "source": [
    "---"
   ]
  },
  {
   "cell_type": "markdown",
   "id": "1afc3d00-15be-4894-a4c8-f844235f9b6a",
   "metadata": {},
   "source": [
    "# Grid"
   ]
  },
  {
   "cell_type": "markdown",
   "id": "1ea02e88-c1c7-45e3-b5a4-a1d0e5593e4d",
   "metadata": {},
   "source": [
    "## Descartes system"
   ]
  },
  {
   "cell_type": "code",
   "execution_count": 3,
   "id": "0139e4d0-0fcd-46a1-89a4-6e426e1de4c6",
   "metadata": {},
   "outputs": [
    {
     "data": {
      "image/png": "[encoded data removed]",
      "text/plain": [
       "<Figure size 640x480 with 1 Axes>"
      ]
     },
     "metadata": {},
     "output_type": "display_data"
    }
   ],
   "source": [
    "size = 5\n",
    "\n",
    "plt.axis('square')\n",
    "plt.axis([-size, size, -size, size])\n",
    "plt.grid()\n",
    "plt.plot([-size, size], [0, 0], 'black')\n",
    "plt.plot([0, 0], [-size, size], 'black')\n",
    "\n",
    "plt.plot([-2, -2, 2, 2, -2], [-2, 2, 2, -2, -2])\n",
    "\n",
    "plt.show()"
   ]
  }
 ],
 "metadata": {
  "kernelspec": {
   "display_name": "Python [conda env:base] *",
   "language": "python",
   "name": "conda-base-py"
  },
  "language_info": {
   "codemirror_mode": {
    "name": "ipython",
    "version": 3
   },
   "file_extension": ".py",
   "mimetype": "text/x-python",
   "name": "python",
   "nbconvert_exporter": "python",
   "pygments_lexer": "ipython3",
   "version": "3.11.7"
  }
 },
 "nbformat": 4,
 "nbformat_minor": 5
}
