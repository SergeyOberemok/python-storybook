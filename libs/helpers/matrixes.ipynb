{
 "cells": [
  {
   "cell_type": "code",
   "execution_count": 14,
   "id": "814d2361",
   "metadata": {},
   "outputs": [],
   "source": [
    "import os, sys\n",
    "from IPython.display import display, Math\n",
    "import sympy as sp"
   ]
  },
  {
   "cell_type": "code",
   "execution_count": 15,
   "id": "d6e182d5",
   "metadata": {},
   "outputs": [],
   "source": [
    "dirPath = os.path.abspath(os.path.join('..'))\n",
    "\n",
    "if dirPath not in sys.path:\n",
    "    sys.path.append(dirPath)"
   ]
  },
  {
   "cell_type": "code",
   "execution_count": 16,
   "id": "ce084520",
   "metadata": {},
   "outputs": [],
   "source": [
    "import PythonStorybookLibs.helpers.matrices as matricesHelpers"
   ]
  },
  {
   "cell_type": "markdown",
   "id": "f65b4039",
   "metadata": {},
   "source": [
    "### Generate"
   ]
  },
  {
   "cell_type": "markdown",
   "id": "76566a1a",
   "metadata": {},
   "source": [
    "#### int"
   ]
  },
  {
   "cell_type": "code",
   "execution_count": 17,
   "id": "19e8d00a",
   "metadata": {},
   "outputs": [
    {
     "data": {
      "text/latex": [
       "$\\displaystyle \\left[\\begin{matrix}16 & 3 & 3\\\\17 & 14 & 14\\\\17 & 18 & 17\\end{matrix}\\right]$"
      ],
      "text/plain": [
       "<IPython.core.display.Math object>"
      ]
     },
     "metadata": {},
     "output_type": "display_data"
    }
   ],
   "source": [
    "size = 3\n",
    "result = matricesHelpers.generateMatrixWithRandInts((size, size), 20)\n",
    "\n",
    "display(Math(sp.latex(sp.sympify(result))))"
   ]
  }
 ],
 "metadata": {
  "kernelspec": {
   "display_name": "Python 3 (ipykernel)",
   "language": "python",
   "name": "python3"
  },
  "language_info": {
   "codemirror_mode": {
    "name": "ipython",
    "version": 3
   },
   "file_extension": ".py",
   "mimetype": "text/x-python",
   "name": "python",
   "nbconvert_exporter": "python",
   "pygments_lexer": "ipython3",
   "version": "3.9.16"
  }
 },
 "nbformat": 4,
 "nbformat_minor": 5
}
