{
 "cells": [
  {
   "cell_type": "code",
   "execution_count": 1,
   "id": "5050443f",
   "metadata": {},
   "outputs": [],
   "source": [
    "import os, sys"
   ]
  },
  {
   "cell_type": "code",
   "execution_count": 2,
   "id": "0ee202da",
   "metadata": {},
   "outputs": [],
   "source": [
    "dirPath = os.path.abspath(os.path.join('..'))\n",
    "\n",
    "if dirPath not in sys.path:\n",
    "    sys.path.append(dirPath)"
   ]
  },
  {
   "cell_type": "code",
   "execution_count": 3,
   "id": "10357b78",
   "metadata": {},
   "outputs": [],
   "source": [
    "import PythonStorybookLibs.helpers.numbers as numberHelpers"
   ]
  },
  {
   "cell_type": "markdown",
   "id": "1286efbc",
   "metadata": {},
   "source": [
    "#### Digits"
   ]
  },
  {
   "cell_type": "code",
   "execution_count": 5,
   "id": "2d2853d3",
   "metadata": {},
   "outputs": [
    {
     "name": "stdout",
     "output_type": "stream",
     "text": [
      "[1, 2, 3]\n"
     ]
    }
   ],
   "source": [
    "number = 123\n",
    "digits = numberHelpers.getDigits(number)\n",
    "\n",
    "print(digits)"
   ]
  }
 ],
 "metadata": {
  "kernelspec": {
   "display_name": "Python 3 (ipykernel)",
   "language": "python",
   "name": "python3"
  },
  "language_info": {
   "codemirror_mode": {
    "name": "ipython",
    "version": 3
   },
   "file_extension": ".py",
   "mimetype": "text/x-python",
   "name": "python",
   "nbconvert_exporter": "python",
   "pygments_lexer": "ipython3",
   "version": "3.9.12"
  }
 },
 "nbformat": 4,
 "nbformat_minor": 5
}
