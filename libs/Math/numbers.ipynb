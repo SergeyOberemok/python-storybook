{
 "cells": [
  {
   "cell_type": "code",
   "execution_count": 2,
   "id": "8c5659aa",
   "metadata": {},
   "outputs": [],
   "source": [
    "import os, sys"
   ]
  },
  {
   "cell_type": "code",
   "execution_count": 3,
   "id": "70066195",
   "metadata": {},
   "outputs": [],
   "source": [
    "dirPath = os.path.abspath(os.path.join('..'))\n",
    "\n",
    "if dirPath not in sys.path:\n",
    "    sys.path.append(dirPath)"
   ]
  },
  {
   "cell_type": "code",
   "execution_count": 5,
   "id": "1c3a6364",
   "metadata": {},
   "outputs": [],
   "source": [
    "import PythonStorybookLibs.Math.numbers as numbers"
   ]
  },
  {
   "cell_type": "markdown",
   "id": "fd1594ee",
   "metadata": {},
   "source": [
    "### Addition"
   ]
  },
  {
   "cell_type": "markdown",
   "id": "f3859d42",
   "metadata": {},
   "source": [
    "#### Get number terms"
   ]
  },
  {
   "cell_type": "code",
   "execution_count": 8,
   "id": "2bf4af4b",
   "metadata": {},
   "outputs": [
    {
     "name": "stdout",
     "output_type": "stream",
     "text": [
      "[(1, 4), (2, 3)]\n"
     ]
    }
   ],
   "source": [
    "number = 5\n",
    "terms = numbers.getTerms(number)\n",
    "\n",
    "print(terms)"
   ]
  }
 ],
 "metadata": {
  "kernelspec": {
   "display_name": "Python 3 (ipykernel)",
   "language": "python",
   "name": "python3"
  },
  "language_info": {
   "codemirror_mode": {
    "name": "ipython",
    "version": 3
   },
   "file_extension": ".py",
   "mimetype": "text/x-python",
   "name": "python",
   "nbconvert_exporter": "python",
   "pygments_lexer": "ipython3",
   "version": "3.9.12"
  }
 },
 "nbformat": 4,
 "nbformat_minor": 5
}
