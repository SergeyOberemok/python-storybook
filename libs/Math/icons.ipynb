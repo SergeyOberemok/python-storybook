{
 "cells": [
  {
   "cell_type": "code",
   "execution_count": 2,
   "id": "bb20536e",
   "metadata": {},
   "outputs": [],
   "source": [
    "import os, sys\n",
    "import numpy as np"
   ]
  },
  {
   "cell_type": "code",
   "execution_count": 3,
   "id": "ae523eeb",
   "metadata": {},
   "outputs": [],
   "source": [
    "dirPath = os.path.abspath(os.path.join('..'))\n",
    "\n",
    "if dirPath not in sys.path:\n",
    "    sys.path.append(dirPath)"
   ]
  },
  {
   "cell_type": "code",
   "execution_count": 4,
   "id": "daf5d4e8",
   "metadata": {},
   "outputs": [],
   "source": [
    "import PythonStorybookLibs.Math.icons as mathIcons\n",
    "import PythonStorybookLibs.helpers.matrices as matricesHelpers"
   ]
  },
  {
   "cell_type": "markdown",
   "id": "fd9c4828",
   "metadata": {},
   "source": [
    "### Icons"
   ]
  },
  {
   "cell_type": "code",
   "execution_count": 5,
   "id": "3f130e46",
   "metadata": {},
   "outputs": [
    {
     "name": "stdout",
     "output_type": "stream",
     "text": [
      "{0: '🎲', 1: '🚗', 2: '✍', 3: '🍻', 4: '🛫', 5: '🏫', 6: '😈', 7: '⛪', 8: '🎱', 9: '💍'}\n"
     ]
    }
   ],
   "source": [
    "print(mathIcons.icons)"
   ]
  },
  {
   "cell_type": "markdown",
   "id": "ee8594e4",
   "metadata": {},
   "source": [
    "### Helpers"
   ]
  },
  {
   "cell_type": "markdown",
   "id": "6d86c4c1",
   "metadata": {},
   "source": [
    "#### Get one icon"
   ]
  },
  {
   "cell_type": "code",
   "execution_count": 6,
   "id": "9826912e",
   "metadata": {},
   "outputs": [
    {
     "name": "stdout",
     "output_type": "stream",
     "text": [
      "🍻\n"
     ]
    }
   ],
   "source": [
    "number = 3\n",
    "result = mathIcons.getIcon(number)\n",
    "\n",
    "print(result)"
   ]
  },
  {
   "cell_type": "markdown",
   "id": "03b89417",
   "metadata": {},
   "source": [
    "#### Get many icons"
   ]
  },
  {
   "cell_type": "code",
   "execution_count": 7,
   "id": "433dc89b",
   "metadata": {},
   "outputs": [
    {
     "name": "stdout",
     "output_type": "stream",
     "text": [
      "['🚗', '✍']\n"
     ]
    }
   ],
   "source": [
    "digits = [1, 2]\n",
    "result = mathIcons.getIcons(digits)\n",
    "\n",
    "print(result)"
   ]
  },
  {
   "cell_type": "markdown",
   "id": "4df198ab",
   "metadata": {},
   "source": [
    "### Mappers"
   ]
  },
  {
   "cell_type": "markdown",
   "id": "01d4a6f7",
   "metadata": {},
   "source": [
    "#### Map number to icons"
   ]
  },
  {
   "cell_type": "code",
   "execution_count": 8,
   "id": "80928a85",
   "metadata": {},
   "outputs": [
    {
     "name": "stdout",
     "output_type": "stream",
     "text": [
      "🚗✍🍻 🚗, ✍, 🍻\n"
     ]
    }
   ],
   "source": [
    "number = 123\n",
    "result1 = mathIcons.mapNumberToIcons(number)\n",
    "result2 = mathIcons.mapNumberToIcons(number, ', ')\n",
    "\n",
    "print(result1, result2)"
   ]
  },
  {
   "cell_type": "markdown",
   "id": "2c0fef2c",
   "metadata": {},
   "source": [
    "#### Map matrix to icons"
   ]
  },
  {
   "cell_type": "code",
   "execution_count": 9,
   "id": "68a116cd",
   "metadata": {},
   "outputs": [
    {
     "name": "stdout",
     "output_type": "stream",
     "text": [
      "[['🚗🏫' '🚗🍻']\n",
      " ['✍🎲' '🚗🚗']\n",
      " ['🛫' '🚗🎱']]\n"
     ]
    }
   ],
   "source": [
    "size = (3, 2)\n",
    "maxNumber = 20\n",
    "M = matricesHelpers.generateMatrixWithRandInts(size, maxNumber)\n",
    "\n",
    "result = mathIcons.mapMatrixToIcons(M)\n",
    "\n",
    "print(result)"
   ]
  },
  {
   "cell_type": "markdown",
   "id": "7b1ff44d",
   "metadata": {},
   "source": [
    "#### Map dictionary with number terms to icons"
   ]
  },
  {
   "cell_type": "code",
   "execution_count": 14,
   "id": "8f4b4e8c",
   "metadata": {},
   "outputs": [
    {
     "name": "stdout",
     "output_type": "stream",
     "text": [
      "{'🚗': ['🚗, 🎲', '🎲, 🚗'], '✍': ['🚗, 🚗', '✍, 🎲', '🎲, ✍']}\n"
     ]
    }
   ],
   "source": [
    "d = { 1: [(1, 0), (0, 1)], 2: [(1, 1), (2, 0), (0, 2)] }\n",
    "result = mathIcons.mapDictionaryWithNumberTermsToIcons(d, ', ')\n",
    "\n",
    "print(result)"
   ]
  }
 ],
 "metadata": {
  "kernelspec": {
   "display_name": "Python 3 (ipykernel)",
   "language": "python",
   "name": "python3"
  },
  "language_info": {
   "codemirror_mode": {
    "name": "ipython",
    "version": 3
   },
   "file_extension": ".py",
   "mimetype": "text/x-python",
   "name": "python",
   "nbconvert_exporter": "python",
   "pygments_lexer": "ipython3",
   "version": "3.11.5"
  }
 },
 "nbformat": 4,
 "nbformat_minor": 5
}
