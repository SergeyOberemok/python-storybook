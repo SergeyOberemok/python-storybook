{
 "cells": [
  {
   "cell_type": "code",
   "execution_count": 31,
   "id": "b37544ee",
   "metadata": {},
   "outputs": [],
   "source": [
    "import pandas as pd\n",
    "from faker import Faker"
   ]
  },
  {
   "cell_type": "code",
   "execution_count": 32,
   "id": "03b4d71e",
   "metadata": {},
   "outputs": [],
   "source": [
    "fake = Faker()\n",
    "words = fake.words()"
   ]
  },
  {
   "cell_type": "markdown",
   "id": "338e2c3e-2cef-4968-8d49-d82fc69aee4f",
   "metadata": {},
   "source": [
    "---"
   ]
  },
  {
   "cell_type": "markdown",
   "id": "0910ddc6",
   "metadata": {},
   "source": [
    "# Types"
   ]
  },
  {
   "cell_type": "markdown",
   "id": "8c6727c5",
   "metadata": {},
   "source": [
    "## Series - like columns"
   ]
  },
  {
   "cell_type": "code",
   "execution_count": 36,
   "id": "74a5cbd1",
   "metadata": {},
   "outputs": [
    {
     "data": {
      "text/plain": [
       "0    citizen\n",
       "1       know\n",
       "2      local\n",
       "dtype: object"
      ]
     },
     "execution_count": 36,
     "metadata": {},
     "output_type": "execute_result"
    }
   ],
   "source": [
    "pd.Series(words)"
   ]
  },
  {
   "cell_type": "markdown",
   "id": "cdc58660",
   "metadata": {},
   "source": [
    "## DataFrame - like whole table"
   ]
  },
  {
   "cell_type": "code",
   "execution_count": 38,
   "id": "088507a9",
   "metadata": {},
   "outputs": [
    {
     "data": {
      "text/html": [
       "<div>\n",
       "<style scoped>\n",
       "    .dataframe tbody tr th:only-of-type {\n",
       "        vertical-align: middle;\n",
       "    }\n",
       "\n",
       "    .dataframe tbody tr th {\n",
       "        vertical-align: top;\n",
       "    }\n",
       "\n",
       "    .dataframe thead th {\n",
       "        text-align: right;\n",
       "    }\n",
       "</style>\n",
       "<table border=\"1\" class=\"dataframe\">\n",
       "  <thead>\n",
       "    <tr style=\"text-align: right;\">\n",
       "      <th></th>\n",
       "      <th>words</th>\n",
       "    </tr>\n",
       "  </thead>\n",
       "  <tbody>\n",
       "    <tr>\n",
       "      <th>0</th>\n",
       "      <td>citizen</td>\n",
       "    </tr>\n",
       "    <tr>\n",
       "      <th>1</th>\n",
       "      <td>know</td>\n",
       "    </tr>\n",
       "    <tr>\n",
       "      <th>2</th>\n",
       "      <td>local</td>\n",
       "    </tr>\n",
       "  </tbody>\n",
       "</table>\n",
       "</div>"
      ],
      "text/plain": [
       "     words\n",
       "0  citizen\n",
       "1     know\n",
       "2    local"
      ]
     },
     "execution_count": 38,
     "metadata": {},
     "output_type": "execute_result"
    }
   ],
   "source": [
    "pd.DataFrame({'words': words})"
   ]
  },
  {
   "cell_type": "markdown",
   "id": "a02f567b-399b-43de-81de-9ce634b7dfe6",
   "metadata": {},
   "source": [
    "## File"
   ]
  },
  {
   "cell_type": "code",
   "execution_count": 40,
   "id": "97ddef64-398e-4bb9-9e98-b5f9e7dc24a7",
   "metadata": {},
   "outputs": [],
   "source": [
    "df = pd.read_csv('lemmas_60k.tsv', sep='\\t')"
   ]
  },
  {
   "cell_type": "code",
   "execution_count": 41,
   "id": "b8b8b761-a5ca-4962-aca9-d7bd9413f092",
   "metadata": {},
   "outputs": [
    {
     "name": "stdout",
     "output_type": "stream",
     "text": [
      "   rank  lemma PoS      freq    perMil  %caps  %allC   range  disp     blog  \\\n",
      "0     5     of   i  23159162  23321.89   0.01   0.00  477933  0.97  2897295   \n",
      "1    15     do   v   8186412   8244.70   0.10   0.01  415641  0.98  1052753   \n",
      "2    25   they   p   4503650   4535.29   0.23   0.00  382938  0.98   626530   \n",
      "3    35    she   p   3188078   3210.48   0.32   0.00  206627  0.93   181410   \n",
      "4    45  about   i   2427703   2444.76   0.02   0.01  350741  0.98   360952   \n",
      "\n",
      "   ...     news     acad    blogPM     webPM     TVMPM    spokPM     ficPM  \\\n",
      "0  ...  2867922  4500485  23317.58  26588.36  10918.77  20157.43  19270.82   \n",
      "1  ...   557889   321166   8472.61   6888.18  18344.18  11672.50   8055.41   \n",
      "2  ...   493994   345418   5042.35   4390.60   4129.95   7414.70   4606.30   \n",
      "3  ...   295580    87513   1460.00   1693.13   3771.82   2812.08  10844.81   \n",
      "4  ...   231251   158515   2904.96   2328.58   3194.97   3844.24   2097.08   \n",
      "\n",
      "      magPM    newsPM    acadPM  \n",
      "0  25796.39  23557.38  37569.65  \n",
      "1   4716.30   4582.55   2681.07  \n",
      "2   3683.25   4057.71   2883.52  \n",
      "3   2263.90   2427.92    730.55  \n",
      "4   1865.94   1899.52   1323.27  \n",
      "\n",
      "[5 rows x 25 columns]\n"
     ]
    }
   ],
   "source": [
    "print(df.head())"
   ]
  },
  {
   "cell_type": "code",
   "execution_count": null,
   "id": "5d0a6408-00eb-4a26-b7a6-f501d9b2e166",
   "metadata": {},
   "outputs": [],
   "source": []
  }
 ],
 "metadata": {
  "kernelspec": {
   "display_name": "Python 3 (ipykernel)",
   "language": "python",
   "name": "python3"
  },
  "language_info": {
   "codemirror_mode": {
    "name": "ipython",
    "version": 3
   },
   "file_extension": ".py",
   "mimetype": "text/x-python",
   "name": "python",
   "nbconvert_exporter": "python",
   "pygments_lexer": "ipython3",
   "version": "3.11.10"
  }
 },
 "nbformat": 4,
 "nbformat_minor": 5
}
