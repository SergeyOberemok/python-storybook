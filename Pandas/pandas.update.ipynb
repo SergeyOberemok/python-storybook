{
 "cells": [
  {
   "cell_type": "code",
   "execution_count": 1,
   "id": "76c83071-c493-4fd1-baef-75d712479e9a",
   "metadata": {},
   "outputs": [],
   "source": [
    "import pandas as pd"
   ]
  },
  {
   "cell_type": "markdown",
   "id": "cc9caa9c-fb8e-4cee-b1b4-9f1117eee0f9",
   "metadata": {},
   "source": [
    "---"
   ]
  },
  {
   "cell_type": "code",
   "execution_count": 4,
   "id": "14597dbf-d961-4ee5-8b85-f7c2e82e3de3",
   "metadata": {},
   "outputs": [],
   "source": [
    "data = {\n",
    "    \"Gender\": [\"M\", \"M\", \"F\", \"F\", \"M\", \"F\", \"M\"],\n",
    "    \"AgeGroup\": [\"18-30\", \"18-30\", \"18-30\", \"31-50\", \"31-50\", \"31-50\", \"18-30\"],\n",
    "    \"Purchased\": [1, 0, 1, 1, 0, 1, 1],\n",
    "}"
   ]
  },
  {
   "cell_type": "code",
   "execution_count": 6,
   "id": "c41f3411-f79f-4025-9f35-824e1ecbe12a",
   "metadata": {},
   "outputs": [],
   "source": [
    "df = pd.DataFrame(data)"
   ]
  },
  {
   "cell_type": "code",
   "execution_count": 8,
   "id": "5e76f3ec-c73c-44f1-a844-f00565dda4dd",
   "metadata": {},
   "outputs": [],
   "source": [
    "cross_tab = pd.crosstab(index=df[\"Gender\"], columns=df[\"AgeGroup\"], values=df[\"Purchased\"], aggfunc=\"sum\")"
   ]
  },
  {
   "cell_type": "code",
   "execution_count": 10,
   "id": "74ec19c7-6c12-47ac-9a29-e4b118ab547d",
   "metadata": {},
   "outputs": [
    {
     "name": "stdout",
     "output_type": "stream",
     "text": [
      "AgeGroup  18-30  31-50\n",
      "Gender                \n",
      "F             1      2\n",
      "M             2      0\n"
     ]
    }
   ],
   "source": [
    "print(cross_tab)"
   ]
  }
 ],
 "metadata": {
  "kernelspec": {
   "display_name": "Python [conda env:base] *",
   "language": "python",
   "name": "conda-base-py"
  },
  "language_info": {
   "codemirror_mode": {
    "name": "ipython",
    "version": 3
   },
   "file_extension": ".py",
   "mimetype": "text/x-python",
   "name": "python",
   "nbconvert_exporter": "python",
   "pygments_lexer": "ipython3",
   "version": "3.11.7"
  }
 },
 "nbformat": 4,
 "nbformat_minor": 5
}
