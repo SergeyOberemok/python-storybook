{
 "cells": [
  {
   "cell_type": "code",
   "execution_count": 1,
   "id": "b37544ee",
   "metadata": {},
   "outputs": [],
   "source": [
    "import pandas as pd\n",
    "from faker import Faker"
   ]
  },
  {
   "cell_type": "code",
   "execution_count": 2,
   "id": "03b4d71e",
   "metadata": {},
   "outputs": [],
   "source": [
    "fake = Faker()"
   ]
  },
  {
   "cell_type": "markdown",
   "id": "338e2c3e-2cef-4968-8d49-d82fc69aee4f",
   "metadata": {},
   "source": [
    "---"
   ]
  },
  {
   "cell_type": "markdown",
   "id": "8f21f274-9b2e-4503-b397-350156237f34",
   "metadata": {
    "jp-MarkdownHeadingCollapsed": true
   },
   "source": [
    "# Create"
   ]
  },
  {
   "cell_type": "markdown",
   "id": "0910ddc6",
   "metadata": {
    "jp-MarkdownHeadingCollapsed": true
   },
   "source": [
    "## Types"
   ]
  },
  {
   "cell_type": "markdown",
   "id": "8c6727c5",
   "metadata": {
    "jp-MarkdownHeadingCollapsed": true
   },
   "source": [
    "### Series - like columns"
   ]
  },
  {
   "cell_type": "code",
   "execution_count": 3,
   "id": "74a5cbd1",
   "metadata": {},
   "outputs": [
    {
     "data": {
      "text/plain": [
       "0       allow\n",
       "1    personal\n",
       "2      forget\n",
       "dtype: object"
      ]
     },
     "execution_count": 3,
     "metadata": {},
     "output_type": "execute_result"
    }
   ],
   "source": [
    "pd.Series(fake.words())"
   ]
  },
  {
   "cell_type": "markdown",
   "id": "cdc58660",
   "metadata": {
    "jp-MarkdownHeadingCollapsed": true
   },
   "source": [
    "### DataFrame - like whole table"
   ]
  },
  {
   "cell_type": "code",
   "execution_count": 4,
   "id": "088507a9",
   "metadata": {},
   "outputs": [
    {
     "data": {
      "text/html": [
       "<div>\n",
       "<style scoped>\n",
       "    .dataframe tbody tr th:only-of-type {\n",
       "        vertical-align: middle;\n",
       "    }\n",
       "\n",
       "    .dataframe tbody tr th {\n",
       "        vertical-align: top;\n",
       "    }\n",
       "\n",
       "    .dataframe thead th {\n",
       "        text-align: right;\n",
       "    }\n",
       "</style>\n",
       "<table border=\"1\" class=\"dataframe\">\n",
       "  <thead>\n",
       "    <tr style=\"text-align: right;\">\n",
       "      <th></th>\n",
       "      <th>word</th>\n",
       "    </tr>\n",
       "  </thead>\n",
       "  <tbody>\n",
       "    <tr>\n",
       "      <th>0</th>\n",
       "      <td>might</td>\n",
       "    </tr>\n",
       "    <tr>\n",
       "      <th>1</th>\n",
       "      <td>lot</td>\n",
       "    </tr>\n",
       "    <tr>\n",
       "      <th>2</th>\n",
       "      <td>kitchen</td>\n",
       "    </tr>\n",
       "  </tbody>\n",
       "</table>\n",
       "</div>"
      ],
      "text/plain": [
       "      word\n",
       "0    might\n",
       "1      lot\n",
       "2  kitchen"
      ]
     },
     "execution_count": 4,
     "metadata": {},
     "output_type": "execute_result"
    }
   ],
   "source": [
    "pd.DataFrame({'word': fake.words()})"
   ]
  },
  {
   "cell_type": "markdown",
   "id": "4b6ec87f-35fb-412d-8c28-12e487369d43",
   "metadata": {
    "jp-MarkdownHeadingCollapsed": true
   },
   "source": [
    "## Info"
   ]
  },
  {
   "cell_type": "code",
   "execution_count": 5,
   "id": "64437978-37de-49c9-85aa-857485937c71",
   "metadata": {},
   "outputs": [
    {
     "name": "stdout",
     "output_type": "stream",
     "text": [
      "<class 'pandas.core.frame.DataFrame'>\n",
      "RangeIndex: 3 entries, 0 to 2\n",
      "Data columns (total 1 columns):\n",
      " #   Column  Non-Null Count  Dtype \n",
      "---  ------  --------------  ----- \n",
      " 0   word    3 non-null      object\n",
      "dtypes: object(1)\n",
      "memory usage: 156.0+ bytes\n",
      "None\n"
     ]
    }
   ],
   "source": [
    "print(pd.DataFrame({'word': fake.words()}).info())"
   ]
  },
  {
   "cell_type": "markdown",
   "id": "cd8f823f-b8d8-44b5-ae4a-e6195d68487c",
   "metadata": {
    "jp-MarkdownHeadingCollapsed": true
   },
   "source": [
    "# Update"
   ]
  },
  {
   "cell_type": "markdown",
   "id": "04afb009-08bd-4f64-aa9d-18992e95cd83",
   "metadata": {
    "jp-MarkdownHeadingCollapsed": true
   },
   "source": [
    "## Convert"
   ]
  },
  {
   "cell_type": "markdown",
   "id": "00920400-a6c0-4001-a7f1-e6ada552b479",
   "metadata": {
    "jp-MarkdownHeadingCollapsed": true
   },
   "source": [
    "### Values"
   ]
  },
  {
   "cell_type": "code",
   "execution_count": 6,
   "id": "d7f0b0a8-9aa7-45f0-8916-efab301dd1d5",
   "metadata": {},
   "outputs": [
    {
     "data": {
      "text/plain": [
       "([['husband', 0], ['end', 1], ['plan', 2]],\n",
       " ['husband', 'end', 'plan'],\n",
       " [0, 1, 2])"
      ]
     },
     "execution_count": 6,
     "metadata": {},
     "output_type": "execute_result"
    }
   ],
   "source": [
    "words = fake.words()\n",
    "\n",
    "df = pd.DataFrame({'word': words, 'number': [i for i in range(len(words))]})\n",
    "\n",
    "df.values.tolist(), df['word'].values.tolist(), df['number'].values.tolist()"
   ]
  },
  {
   "cell_type": "markdown",
   "id": "1e13e036-6404-41c5-accc-b5fb2def89b1",
   "metadata": {
    "jp-MarkdownHeadingCollapsed": true
   },
   "source": [
    "### Indexes"
   ]
  },
  {
   "cell_type": "code",
   "execution_count": 7,
   "id": "4d583d37-351e-4ac2-88e0-76d2eb6d96c0",
   "metadata": {},
   "outputs": [
    {
     "data": {
      "text/plain": [
       "([0, 1, 2], [['relationship'], ['if'], ['energy']])"
      ]
     },
     "execution_count": 7,
     "metadata": {},
     "output_type": "execute_result"
    }
   ],
   "source": [
    "df = pd.DataFrame({'word': fake.words()})\n",
    "\n",
    "df.index.tolist(), df.values.tolist()"
   ]
  }
 ],
 "metadata": {
  "kernelspec": {
   "display_name": "Python 3 (ipykernel)",
   "language": "python",
   "name": "python3"
  },
  "language_info": {
   "codemirror_mode": {
    "name": "ipython",
    "version": 3
   },
   "file_extension": ".py",
   "mimetype": "text/x-python",
   "name": "python",
   "nbconvert_exporter": "python",
   "pygments_lexer": "ipython3",
   "version": "3.11.5"
  }
 },
 "nbformat": 4,
 "nbformat_minor": 5
}
