{
 "cells": [
  {
   "cell_type": "code",
   "execution_count": 44,
   "id": "cb89b6bc-61c4-4681-b0e3-f6250f1a6429",
   "metadata": {},
   "outputs": [],
   "source": [
    "import pandas as pd\n",
    "from faker import Faker"
   ]
  },
  {
   "cell_type": "code",
   "execution_count": 45,
   "id": "6c3cd946-713c-47a8-a905-61e781cf3a6e",
   "metadata": {},
   "outputs": [],
   "source": [
    "fake = Faker()\n",
    "words = fake.words()"
   ]
  },
  {
   "cell_type": "markdown",
   "id": "1d73316e-1a50-43f3-aa37-ba1c439cc24d",
   "metadata": {},
   "source": [
    "---"
   ]
  },
  {
   "cell_type": "markdown",
   "id": "297a3ce4-d639-4ecc-8c88-6269835f84fc",
   "metadata": {},
   "source": [
    "# Info"
   ]
  },
  {
   "cell_type": "code",
   "execution_count": 48,
   "id": "3ba8e74c-d26f-44ea-b09e-a8e8ab732050",
   "metadata": {},
   "outputs": [
    {
     "name": "stdout",
     "output_type": "stream",
     "text": [
      "<class 'pandas.core.frame.DataFrame'>\n",
      "RangeIndex: 3 entries, 0 to 2\n",
      "Data columns (total 1 columns):\n",
      " #   Column  Non-Null Count  Dtype \n",
      "---  ------  --------------  ----- \n",
      " 0   word    3 non-null      object\n",
      "dtypes: object(1)\n",
      "memory usage: 156.0+ bytes\n"
     ]
    }
   ],
   "source": [
    "pd.DataFrame({'word': fake.words()}).info()"
   ]
  },
  {
   "cell_type": "markdown",
   "id": "792b1c04-5dd9-4b43-9eb1-69438c063fd8",
   "metadata": {},
   "source": [
    "# Data"
   ]
  },
  {
   "cell_type": "code",
   "execution_count": 50,
   "id": "e76991fe-d927-4814-904e-1d7ce04cf0ef",
   "metadata": {},
   "outputs": [],
   "source": [
    "df = pd.DataFrame({ 'words': words, 'number': [i for i in range(len(words))] })"
   ]
  },
  {
   "cell_type": "markdown",
   "id": "6874e4eb-afbb-4e14-8d83-0a7224d89f07",
   "metadata": {},
   "source": [
    "## Entries"
   ]
  },
  {
   "cell_type": "code",
   "execution_count": 52,
   "id": "ca213412-13cd-4fac-afb6-eb30696f9cb8",
   "metadata": {},
   "outputs": [
    {
     "name": "stdout",
     "output_type": "stream",
     "text": [
      "[['pass', 0], ['there', 1], ['fish', 2]]\n"
     ]
    }
   ],
   "source": [
    "print(df.values.tolist())"
   ]
  },
  {
   "cell_type": "markdown",
   "id": "0810e342-551c-4ce5-837c-2a78ae67095d",
   "metadata": {},
   "source": [
    "## Keys"
   ]
  },
  {
   "cell_type": "code",
   "execution_count": 54,
   "id": "f74537c1-8d77-4174-a496-e4abd16180a7",
   "metadata": {},
   "outputs": [
    {
     "name": "stdout",
     "output_type": "stream",
     "text": [
      "['pass', 'there', 'fish']\n"
     ]
    }
   ],
   "source": [
    "print(df['words'].values.tolist())"
   ]
  },
  {
   "cell_type": "markdown",
   "id": "180e2acc-cfdb-465f-9deb-c4d49792f4b8",
   "metadata": {},
   "source": [
    "## Values"
   ]
  },
  {
   "cell_type": "code",
   "execution_count": 56,
   "id": "796f4021-75d1-4d6c-ae4d-4378540205f3",
   "metadata": {},
   "outputs": [
    {
     "name": "stdout",
     "output_type": "stream",
     "text": [
      "[0, 1, 2]\n"
     ]
    }
   ],
   "source": [
    "print(df['number'].values.tolist())"
   ]
  },
  {
   "cell_type": "markdown",
   "id": "0c6f9d23-fbc7-444c-9c18-c75723985588",
   "metadata": {},
   "source": [
    "## Indexes"
   ]
  },
  {
   "cell_type": "code",
   "execution_count": 65,
   "id": "b1d70214-7635-48bb-9339-c243bd7696c1",
   "metadata": {},
   "outputs": [
    {
     "name": "stdout",
     "output_type": "stream",
     "text": [
      "[0, 1, 2]\n"
     ]
    }
   ],
   "source": [
    "print(df.index.tolist())"
   ]
  }
 ],
 "metadata": {
  "kernelspec": {
   "display_name": "Python 3 (ipykernel)",
   "language": "python",
   "name": "python3"
  },
  "language_info": {
   "codemirror_mode": {
    "name": "ipython",
    "version": 3
   },
   "file_extension": ".py",
   "mimetype": "text/x-python",
   "name": "python",
   "nbconvert_exporter": "python",
   "pygments_lexer": "ipython3",
   "version": "3.11.10"
  }
 },
 "nbformat": 4,
 "nbformat_minor": 5
}
