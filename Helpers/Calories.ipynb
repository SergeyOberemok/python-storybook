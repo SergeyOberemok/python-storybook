{
 "cells": [
  {
   "cell_type": "code",
   "execution_count": 46,
   "id": "261b436f",
   "metadata": {},
   "outputs": [],
   "source": [
    "from IPython.display import display, Math\n",
    "import sympy as sp\n",
    "from enum import Enum"
   ]
  },
  {
   "cell_type": "markdown",
   "id": "c9677f7f",
   "metadata": {},
   "source": [
    "## Calories calculator"
   ]
  },
  {
   "cell_type": "markdown",
   "id": "e136b577",
   "metadata": {},
   "source": [
    "### Calories"
   ]
  },
  {
   "cell_type": "markdown",
   "id": "ad797ab8",
   "metadata": {},
   "source": [
    "#### Expresion"
   ]
  },
  {
   "cell_type": "code",
   "execution_count": 47,
   "id": "78242787",
   "metadata": {},
   "outputs": [],
   "source": [
    "def getCaloriesExp():\n",
    "    quantity, calories = sp.symbols('quantity, calories')\n",
    "\n",
    "    caloriesExp = quantity / 100 * calories\n",
    "    \n",
    "    return caloriesExp"
   ]
  },
  {
   "cell_type": "code",
   "execution_count": 48,
   "id": "d8eb7168",
   "metadata": {},
   "outputs": [
    {
     "data": {
      "text/latex": [
       "$\\displaystyle \\frac{calories quantity}{100}$"
      ],
      "text/plain": [
       "<IPython.core.display.Math object>"
      ]
     },
     "metadata": {},
     "output_type": "display_data"
    }
   ],
   "source": [
    "caloriesExp = getCaloriesExp()\n",
    "\n",
    "display(Math(sp.latex(caloriesExp)))"
   ]
  },
  {
   "cell_type": "markdown",
   "id": "d73438c2",
   "metadata": {},
   "source": [
    "#### Resolve"
   ]
  },
  {
   "cell_type": "code",
   "execution_count": 49,
   "id": "645bb20b",
   "metadata": {},
   "outputs": [],
   "source": [
    "def getCalories(quantity, calories):\n",
    "    caloriesExp = getCaloriesExp()\n",
    "    \n",
    "    result = caloriesExp.subs({ 'quantity': quantity, 'calories': calories }).evalf()\n",
    "    \n",
    "    return round(result, 2)"
   ]
  },
  {
   "cell_type": "code",
   "execution_count": 50,
   "id": "7ecb2f08",
   "metadata": {},
   "outputs": [
    {
     "data": {
      "text/latex": [
       "$\\displaystyle 543.4$"
      ],
      "text/plain": [
       "543.40"
      ]
     },
     "execution_count": 50,
     "metadata": {},
     "output_type": "execute_result"
    }
   ],
   "source": [
    "quantity = 130\n",
    "calories = 418\n",
    "\n",
    "getCalories(quantity, calories)"
   ]
  },
  {
   "cell_type": "markdown",
   "id": "965dde78",
   "metadata": {},
   "source": [
    "##### Input"
   ]
  },
  {
   "cell_type": "raw",
   "id": "bfb47c71",
   "metadata": {},
   "source": [
    "quantity = input('Enter quantity ')\n",
    "calories = input('Enter calories ')\n",
    "\n",
    "caloriesExp.subs({ 'quantity': quantity, 'calories': calories })"
   ]
  },
  {
   "cell_type": "markdown",
   "id": "5e3f2c17",
   "metadata": {},
   "source": [
    "### Water"
   ]
  },
  {
   "cell_type": "markdown",
   "id": "08b06334",
   "metadata": {},
   "source": [
    "#### Expresion"
   ]
  },
  {
   "cell_type": "code",
   "execution_count": 51,
   "id": "141bc721",
   "metadata": {},
   "outputs": [],
   "source": [
    "def getWaterExp():\n",
    "    quantity, water = sp.symbols('quantity, water')\n",
    "\n",
    "    waterExp = quantity / (quantity + water) * 100\n",
    "    \n",
    "    return waterExp"
   ]
  },
  {
   "cell_type": "code",
   "execution_count": 52,
   "id": "d5ce0c4a",
   "metadata": {},
   "outputs": [
    {
     "data": {
      "text/latex": [
       "$\\displaystyle \\frac{100 quantity}{quantity + water}$"
      ],
      "text/plain": [
       "<IPython.core.display.Math object>"
      ]
     },
     "metadata": {},
     "output_type": "display_data"
    }
   ],
   "source": [
    "waterExp = getWaterExp()\n",
    "\n",
    "display(Math(sp.latex(waterExp)))"
   ]
  },
  {
   "cell_type": "markdown",
   "id": "e53f0ed0",
   "metadata": {},
   "source": [
    "#### Resolve"
   ]
  },
  {
   "cell_type": "code",
   "execution_count": 53,
   "id": "8f8a158c",
   "metadata": {},
   "outputs": [],
   "source": [
    "def getWaterPercentage(quantity, water):\n",
    "    waterExp = getWaterExp()\n",
    "    \n",
    "    result = waterExp.subs({ 'quantity': quantity, 'water': water }).evalf()\n",
    "    \n",
    "    return round(result)"
   ]
  },
  {
   "cell_type": "code",
   "execution_count": 54,
   "id": "ec5b7b80",
   "metadata": {},
   "outputs": [
    {
     "data": {
      "text/latex": [
       "$\\displaystyle 15$"
      ],
      "text/plain": [
       "15"
      ]
     },
     "execution_count": 54,
     "metadata": {},
     "output_type": "execute_result"
    }
   ],
   "source": [
    "productWeight = 130\n",
    "allWeight = 848\n",
    "waterWeight = allWeight - productWeight\n",
    "\n",
    "getWaterPercentage(productWeight, waterWeight)"
   ]
  },
  {
   "cell_type": "markdown",
   "id": "31a66655",
   "metadata": {},
   "source": [
    "##### Input"
   ]
  },
  {
   "cell_type": "raw",
   "id": "13ee287b",
   "metadata": {},
   "source": [
    "productWeight = int(input('Enter product weight '))\n",
    "allWeight = int(input('Enter all weight '))\n",
    "waterWeight = allWeight - productWeight\n",
    "\n",
    "print('Water percentage is %g' % getWaterPercentage(productWeight, waterWeight))"
   ]
  },
  {
   "cell_type": "markdown",
   "id": "e2809f26",
   "metadata": {},
   "source": [
    "## Calories equations"
   ]
  },
  {
   "cell_type": "code",
   "execution_count": 68,
   "id": "a09fd70e",
   "metadata": {},
   "outputs": [],
   "source": [
    "weight, height, age, activity = sp.symbols('weight, height, age, activity')\n",
    "\n",
    "class Activity(Enum):\n",
    "    SEATED = 1.2\n",
    "    LIGHT = 1.375\n",
    "    MODERATE = 1.55\n",
    "    ACTIVE = 1.725\n",
    "    VERY_ACTIVE = 1.9"
   ]
  },
  {
   "cell_type": "markdown",
   "id": "2ff1bbe6",
   "metadata": {},
   "source": [
    "### Harris-Benedict equation for men (kg, cm, year)"
   ]
  },
  {
   "cell_type": "code",
   "execution_count": 69,
   "id": "37f2d5be",
   "metadata": {},
   "outputs": [
    {
     "data": {
      "text/latex": [
       "$\\displaystyle activity \\left(- 6.755 age + 5.0033 height + 12.7516 weight + 66.473\\right)$"
      ],
      "text/plain": [
       "<IPython.core.display.Math object>"
      ]
     },
     "metadata": {},
     "output_type": "display_data"
    }
   ],
   "source": [
    "harrisBenedictExp = (66.473 + (12.7516 * weight) + (5.0033 * height) - (6.755 * age)) * activity\n",
    "\n",
    "display(Math(sp.latex(harrisBenedictExp)))"
   ]
  },
  {
   "cell_type": "code",
   "execution_count": 74,
   "id": "e8d4b91b",
   "metadata": {},
   "outputs": [
    {
     "data": {
      "text/latex": [
       "$\\displaystyle 2166$"
      ],
      "text/plain": [
       "2166"
      ]
     },
     "execution_count": 74,
     "metadata": {},
     "output_type": "execute_result"
    }
   ],
   "source": [
    "params = { \n",
    "    weight: 80, \n",
    "    height: 180, \n",
    "    age: 27, \n",
    "    activity: Activity.SEATED.value \n",
    "}\n",
    "\n",
    "bmr = harrisBenedictExp.subs(params).evalf()\n",
    "round(bmr)"
   ]
  },
  {
   "cell_type": "markdown",
   "id": "2b5a727a",
   "metadata": {},
   "source": [
    "##### Input"
   ]
  },
  {
   "cell_type": "code",
   "execution_count": 75,
   "id": "8c95cb75-d826-4748-889e-f66a9691bcfa",
   "metadata": {},
   "outputs": [
    {
     "name": "stdin",
     "output_type": "stream",
     "text": [
      "Enter weight  94\n",
      "Enter height  182\n",
      "Enter age  35\n"
     ]
    },
    {
     "name": "stdout",
     "output_type": "stream",
     "text": [
      "Daily calories intakes is 2327\n"
     ]
    }
   ],
   "source": [
    "weightInput = input('Enter weight ')\n",
    "heightInput = input('Enter height ')\n",
    "ageInput = input('Enter age ')\n",
    "\n",
    "bmr = harrisBenedictExp.subs({ weight: weightInput, height: heightInput, age: ageInput, activity: Activity.SEATED.value }).evalf()\n",
    "\n",
    "print('Daily calories intakes is %s' % round(bmr))"
   ]
  },
  {
   "cell_type": "markdown",
   "id": "54697da1",
   "metadata": {},
   "source": [
    "### Mifflin-St-Jeor equation for men (kg, cm, year)"
   ]
  },
  {
   "cell_type": "code",
   "execution_count": 76,
   "id": "07fb61e7",
   "metadata": {},
   "outputs": [
    {
     "data": {
      "text/latex": [
       "$\\displaystyle activity \\left(- 5 age + 6.25 height + 10 weight + 5\\right)$"
      ],
      "text/plain": [
       "<IPython.core.display.Math object>"
      ]
     },
     "metadata": {},
     "output_type": "display_data"
    }
   ],
   "source": [
    "mifflinStJeorExp = ((10 * weight) + (6.25 * height) - (5 * age) + 5) * activity\n",
    "\n",
    "display(Math(sp.latex(mifflinStJeorExp)))"
   ]
  },
  {
   "cell_type": "code",
   "execution_count": 78,
   "id": "4f89331a",
   "metadata": {},
   "outputs": [
    {
     "data": {
      "text/latex": [
       "$\\displaystyle 2154$"
      ],
      "text/plain": [
       "2154"
      ]
     },
     "execution_count": 78,
     "metadata": {},
     "output_type": "execute_result"
    }
   ],
   "source": [
    "params = { weight: 80, height: 180, age: 27, activity: Activity.SEATED.value }\n",
    "\n",
    "bmr = mifflinStJeorExp.subs(params).evalf()\n",
    "round(bmr)"
   ]
  },
  {
   "cell_type": "markdown",
   "id": "3fc5bec1",
   "metadata": {},
   "source": [
    "##### Input"
   ]
  },
  {
   "cell_type": "code",
   "execution_count": 79,
   "id": "669d225e-e83a-46c7-b71e-b9b99ba1a36b",
   "metadata": {},
   "outputs": [
    {
     "name": "stdin",
     "output_type": "stream",
     "text": [
      "Enter weight  94\n",
      "Enter height  182\n",
      "Enter age  35\n"
     ]
    },
    {
     "name": "stdout",
     "output_type": "stream",
     "text": [
      "Daily calories intakes is 2289\n"
     ]
    }
   ],
   "source": [
    "weightInput = input('Enter weight ')\n",
    "heightInput = input('Enter height ')\n",
    "ageInput = input('Enter age ')\n",
    "\n",
    "bmr = mifflinStJeorExp.subs({ weight: weightInput, height: heightInput, age: ageInput, activity: Activity.SEATED.value }).evalf()\n",
    "\n",
    "print('Daily calories intakes is %s' % round(bmr))"
   ]
  }
 ],
 "metadata": {
  "kernelspec": {
   "display_name": "Python 3 (ipykernel)",
   "language": "python",
   "name": "python3"
  },
  "language_info": {
   "codemirror_mode": {
    "name": "ipython",
    "version": 3
   },
   "file_extension": ".py",
   "mimetype": "text/x-python",
   "name": "python",
   "nbconvert_exporter": "python",
   "pygments_lexer": "ipython3",
   "version": "3.11.5"
  }
 },
 "nbformat": 4,
 "nbformat_minor": 5
}
