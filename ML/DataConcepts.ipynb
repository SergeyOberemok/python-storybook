{
 "cells": [
  {
   "cell_type": "code",
   "execution_count": 36,
   "id": "06ea5e0a-4c39-46e5-bad7-2d05c165cdc6",
   "metadata": {},
   "outputs": [],
   "source": [
    "import numpy as np"
   ]
  },
  {
   "cell_type": "markdown",
   "id": "80139e08-4b5c-4e1b-b2f3-434096a0cfd3",
   "metadata": {},
   "source": [
    "---"
   ]
  },
  {
   "cell_type": "code",
   "execution_count": 37,
   "id": "94525e9a-5309-4415-92d2-0f55893d8a6b",
   "metadata": {},
   "outputs": [],
   "source": [
    "data = [\n",
    "    [220.1,220.0,220.0,220.2,220.1], \n",
    "    [220.1,220.4,220.2,220.0,220.1],\n",
    "]"
   ]
  },
  {
   "cell_type": "markdown",
   "id": "106685e7-d2c2-4071-9f52-884ee4c921af",
   "metadata": {},
   "source": [
    "## Mean"
   ]
  },
  {
   "cell_type": "code",
   "execution_count": 38,
   "id": "a79312e2-5eca-4044-ab74-cda7f4be07a9",
   "metadata": {},
   "outputs": [
    {
     "name": "stdout",
     "output_type": "stream",
     "text": [
      "220.07999999999998 220.07999999999998\n",
      "220.16 220.16\n"
     ]
    }
   ],
   "source": [
    "for i in range(len(data)):\n",
    "    mean, average = np.mean(data[i]), np.average(data[i])\n",
    "    print(mean, average)"
   ]
  },
  {
   "cell_type": "markdown",
   "id": "58b02c42-82b0-4059-b153-bd4f0f760795",
   "metadata": {},
   "source": [
    "## Variance"
   ]
  },
  {
   "cell_type": "code",
   "execution_count": 39,
   "id": "adc0254c-5a56-40ec-a5b5-572e30f36a24",
   "metadata": {},
   "outputs": [
    {
     "name": "stdout",
     "output_type": "stream",
     "text": [
      "0.01\n",
      "0.02\n"
     ]
    }
   ],
   "source": [
    "for i in range(len(data)):\n",
    "    variance = np.var(data[i])\n",
    "    print(round(variance, 2))"
   ]
  },
  {
   "cell_type": "markdown",
   "id": "3b9e0636-e2db-4d45-8082-02148863bced",
   "metadata": {},
   "source": [
    "## Standart Deviation"
   ]
  },
  {
   "cell_type": "code",
   "execution_count": 40,
   "id": "849738db-3007-4cf1-b183-1bc3f7e336fe",
   "metadata": {},
   "outputs": [
    {
     "name": "stdout",
     "output_type": "stream",
     "text": [
      "0.07\n",
      "0.14\n"
     ]
    }
   ],
   "source": [
    "for i in range(len(data)):\n",
    "    standartDeviation = np.std(data[i])\n",
    "    print(round(standartDeviation, 2))"
   ]
  }
 ],
 "metadata": {
  "kernelspec": {
   "display_name": "Python 3 (ipykernel)",
   "language": "python",
   "name": "python3"
  },
  "language_info": {
   "codemirror_mode": {
    "name": "ipython",
    "version": 3
   },
   "file_extension": ".py",
   "mimetype": "text/x-python",
   "name": "python",
   "nbconvert_exporter": "python",
   "pygments_lexer": "ipython3",
   "version": "3.11.5"
  }
 },
 "nbformat": 4,
 "nbformat_minor": 5
}
