{
 "cells": [
  {
   "cell_type": "code",
   "execution_count": 27,
   "id": "42e2bdbb",
   "metadata": {},
   "outputs": [],
   "source": [
    "import re"
   ]
  },
  {
   "cell_type": "code",
   "execution_count": 28,
   "id": "1cbb4af0",
   "metadata": {},
   "outputs": [],
   "source": [
    "helloWorld = 'Hello World'"
   ]
  },
  {
   "cell_type": "markdown",
   "id": "5c08cef4",
   "metadata": {},
   "source": [
    "### Type"
   ]
  },
  {
   "cell_type": "code",
   "execution_count": 29,
   "id": "1d1d26b8",
   "metadata": {},
   "outputs": [
    {
     "data": {
      "text/plain": [
       "re.Match"
      ]
     },
     "execution_count": 29,
     "metadata": {},
     "output_type": "execute_result"
    }
   ],
   "source": [
    "type(re.search(r'\\w+', helloWorld))"
   ]
  },
  {
   "cell_type": "markdown",
   "id": "fc469551",
   "metadata": {},
   "source": [
    "### Bool"
   ]
  },
  {
   "cell_type": "code",
   "execution_count": 30,
   "id": "26733bdd",
   "metadata": {},
   "outputs": [
    {
     "data": {
      "text/plain": [
       "'Yes'"
      ]
     },
     "execution_count": 30,
     "metadata": {},
     "output_type": "execute_result"
    }
   ],
   "source": [
    "'Yes' if re.search(r'\\w*', helloWorld) else 'No'"
   ]
  },
  {
   "cell_type": "markdown",
   "id": "fe00600a",
   "metadata": {},
   "source": [
    "### Matches"
   ]
  },
  {
   "cell_type": "markdown",
   "id": "dbf1535c",
   "metadata": {},
   "source": [
    "#### first"
   ]
  },
  {
   "cell_type": "code",
   "execution_count": 31,
   "id": "b359dfdd",
   "metadata": {},
   "outputs": [
    {
     "data": {
      "text/plain": [
       "'Hello'"
      ]
     },
     "execution_count": 31,
     "metadata": {},
     "output_type": "execute_result"
    }
   ],
   "source": [
    "re.search(r'\\w+', helloWorld).group()"
   ]
  },
  {
   "cell_type": "markdown",
   "id": "f8d76ebf",
   "metadata": {},
   "source": [
    "#### all"
   ]
  },
  {
   "cell_type": "code",
   "execution_count": 32,
   "id": "03b0ea6c",
   "metadata": {},
   "outputs": [
    {
     "data": {
      "text/plain": [
       "['Hello', 'World']"
      ]
     },
     "execution_count": 32,
     "metadata": {},
     "output_type": "execute_result"
    }
   ],
   "source": [
    "re.findall(r'\\w+', helloWorld)"
   ]
  },
  {
   "cell_type": "markdown",
   "id": "d72e2395",
   "metadata": {},
   "source": [
    "### Case sensetive"
   ]
  },
  {
   "cell_type": "code",
   "execution_count": 33,
   "id": "c04953e1",
   "metadata": {},
   "outputs": [],
   "source": [
    "assert re.search(r'^hello.*$', helloWorld) == None"
   ]
  },
  {
   "cell_type": "code",
   "execution_count": 34,
   "id": "1ca59178",
   "metadata": {},
   "outputs": [],
   "source": [
    "assert re.search(r'^hello.*$', helloWorld, re.IGNORECASE)"
   ]
  }
 ],
 "metadata": {
  "kernelspec": {
   "display_name": "Python 3 (ipykernel)",
   "language": "python",
   "name": "python3"
  },
  "language_info": {
   "codemirror_mode": {
    "name": "ipython",
    "version": 3
   },
   "file_extension": ".py",
   "mimetype": "text/x-python",
   "name": "python",
   "nbconvert_exporter": "python",
   "pygments_lexer": "ipython3",
   "version": "3.9.17"
  }
 },
 "nbformat": 4,
 "nbformat_minor": 5
}
