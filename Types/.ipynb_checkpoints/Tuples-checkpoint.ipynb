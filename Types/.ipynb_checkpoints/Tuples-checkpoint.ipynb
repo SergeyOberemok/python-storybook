{
 "cells": [
  {
   "cell_type": "code",
   "execution_count": 5,
   "id": "513dcea6",
   "metadata": {},
   "outputs": [],
   "source": [
    "keyValueTuple = ('key', 'value')\n",
    "sexAgeTuple = (True, 28)"
   ]
  },
  {
   "cell_type": "markdown",
   "id": "6c4c66e4",
   "metadata": {},
   "source": [
    "### Type"
   ]
  },
  {
   "cell_type": "code",
   "execution_count": 4,
   "id": "69c36683",
   "metadata": {},
   "outputs": [
    {
     "name": "stdout",
     "output_type": "stream",
     "text": [
      "<class 'tuple'>\n"
     ]
    }
   ],
   "source": [
    "print(type(keyValueTuple))"
   ]
  },
  {
   "cell_type": "markdown",
   "id": "1323e871",
   "metadata": {},
   "source": [
    "### Access items"
   ]
  },
  {
   "cell_type": "code",
   "execution_count": 6,
   "id": "5aabf6ae",
   "metadata": {},
   "outputs": [
    {
     "name": "stdout",
     "output_type": "stream",
     "text": [
      "True\n",
      "28\n"
     ]
    }
   ],
   "source": [
    "for i in range(0, len(sexAgeTuple)):\n",
    "    print(sexAgeTuple[i])"
   ]
  }
 ],
 "metadata": {
  "kernelspec": {
   "display_name": "Python 3 (ipykernel)",
   "language": "python",
   "name": "python3"
  },
  "language_info": {
   "codemirror_mode": {
    "name": "ipython",
    "version": 3
   },
   "file_extension": ".py",
   "mimetype": "text/x-python",
   "name": "python",
   "nbconvert_exporter": "python",
   "pygments_lexer": "ipython3",
   "version": "3.9.12"
  }
 },
 "nbformat": 4,
 "nbformat_minor": 5
}
