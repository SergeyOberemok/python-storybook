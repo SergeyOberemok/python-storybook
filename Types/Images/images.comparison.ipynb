{
 "cells": [
  {
   "cell_type": "code",
   "execution_count": 29,
   "id": "d8172086-b1f5-4742-8e0b-f82f8a32f531",
   "metadata": {},
   "outputs": [],
   "source": [
    "import numpy as np\n",
    "import cv2"
   ]
  },
  {
   "cell_type": "markdown",
   "id": "186ce5cc-84fd-4441-aaed-1b45e4733a48",
   "metadata": {},
   "source": [
    "---"
   ]
  },
  {
   "cell_type": "code",
   "execution_count": 31,
   "id": "82b2e250-0cda-497e-a104-599941f3ffad",
   "metadata": {},
   "outputs": [],
   "source": [
    "img1 = cv2.imread('./data/1.png')\n",
    "img2 = cv2.imread('./data/2.png')"
   ]
  },
  {
   "cell_type": "code",
   "execution_count": 32,
   "id": "b563d452-3c66-42ec-b604-f50d0a37d03c",
   "metadata": {},
   "outputs": [],
   "source": [
    "def mse(imageA, imageB):\n",
    "    err = np.sum((imageA.astype('float') - imageB.astype('float')) ** 2)\n",
    "    err /= float(imageA.shape[0] * imageA.shape[1])\n",
    "\n",
    "    return err"
   ]
  },
  {
   "cell_type": "code",
   "execution_count": 33,
   "id": "489b23e9-b7d4-4707-9842-f7dc3f35eb1b",
   "metadata": {},
   "outputs": [],
   "source": [
    "result = mse(img1, img2)"
   ]
  },
  {
   "cell_type": "code",
   "execution_count": 40,
   "id": "e3a0539e-e749-4217-9f9c-eee9417ee049",
   "metadata": {},
   "outputs": [
    {
     "name": "stdout",
     "output_type": "stream",
     "text": [
      "165.59350308641976\n"
     ]
    }
   ],
   "source": [
    "print(result)"
   ]
  },
  {
   "cell_type": "code",
   "execution_count": 48,
   "id": "3889d9f5-10af-472f-a6bc-9e579cddd722",
   "metadata": {},
   "outputs": [],
   "source": [
    "def toMsePercentage(mseResult):\n",
    "    max_mse= 255 ** 2\n",
    "    percentage = 100 * (1 - (mseResult / max_mse))\n",
    "\n",
    "    return round(percentage, 2)"
   ]
  },
  {
   "cell_type": "code",
   "execution_count": 52,
   "id": "436d8cdc-be7e-4509-9429-b09482cc9c2e",
   "metadata": {},
   "outputs": [],
   "source": [
    "percentageResult = toMsePercentage(result)"
   ]
  },
  {
   "cell_type": "code",
   "execution_count": 54,
   "id": "80e206b0-dc06-440d-b5aa-7b8c6e46374a",
   "metadata": {},
   "outputs": [
    {
     "name": "stdout",
     "output_type": "stream",
     "text": [
      "99.75\n"
     ]
    }
   ],
   "source": [
    "print(percentageResult)"
   ]
  }
 ],
 "metadata": {
  "kernelspec": {
   "display_name": "Python [conda env:base] *",
   "language": "python",
   "name": "conda-base-py"
  },
  "language_info": {
   "codemirror_mode": {
    "name": "ipython",
    "version": 3
   },
   "file_extension": ".py",
   "mimetype": "text/x-python",
   "name": "python",
   "nbconvert_exporter": "python",
   "pygments_lexer": "ipython3",
   "version": "3.11.7"
  }
 },
 "nbformat": 4,
 "nbformat_minor": 5
}
