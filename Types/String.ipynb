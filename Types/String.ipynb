{
 "cells": [
  {
   "cell_type": "code",
   "execution_count": 23,
   "id": "a20d654a",
   "metadata": {},
   "outputs": [],
   "source": [
    "from faker import Faker"
   ]
  },
  {
   "cell_type": "code",
   "execution_count": 24,
   "id": "c3df28ae",
   "metadata": {},
   "outputs": [],
   "source": [
    "fake = Faker()"
   ]
  },
  {
   "cell_type": "markdown",
   "id": "3567c314",
   "metadata": {},
   "source": [
    "---"
   ]
  },
  {
   "cell_type": "markdown",
   "id": "0aa5bf5a",
   "metadata": {},
   "source": [
    "# Create"
   ]
  },
  {
   "cell_type": "markdown",
   "id": "251c964a-7ba9-4fcd-a6c0-fb690238f291",
   "metadata": {
    "jp-MarkdownHeadingCollapsed": true
   },
   "source": [
    "## String"
   ]
  },
  {
   "cell_type": "markdown",
   "id": "d41cc10d",
   "metadata": {
    "jp-MarkdownHeadingCollapsed": true
   },
   "source": [
    "### Template"
   ]
  },
  {
   "cell_type": "code",
   "execution_count": 25,
   "id": "a778e940",
   "metadata": {},
   "outputs": [
    {
     "data": {
      "text/plain": [
       "'Hello Craig Gibson'"
      ]
     },
     "execution_count": 25,
     "metadata": {},
     "output_type": "execute_result"
    }
   ],
   "source": [
    "'Hello %s' % fake.name()"
   ]
  },
  {
   "cell_type": "markdown",
   "id": "1806bb50",
   "metadata": {
    "jp-MarkdownHeadingCollapsed": true
   },
   "source": [
    "### Format"
   ]
  },
  {
   "cell_type": "code",
   "execution_count": 26,
   "id": "893e8b3c",
   "metadata": {},
   "outputs": [
    {
     "data": {
      "text/plain": [
       "'The number is (835)371-3189'"
      ]
     },
     "execution_count": 26,
     "metadata": {},
     "output_type": "execute_result"
    }
   ],
   "source": [
    "'The number is {}'.format(fake.phone_number())"
   ]
  },
  {
   "cell_type": "code",
   "execution_count": 27,
   "id": "a05b30f9",
   "metadata": {},
   "outputs": [
    {
     "data": {
      "text/plain": [
       "'The number of Eddie Stanley is +1-644-162-0571x9960'"
      ]
     },
     "execution_count": 27,
     "metadata": {},
     "output_type": "execute_result"
    }
   ],
   "source": [
    "'The number of {1} is {0}'.format(fake.phone_number(), fake.name())"
   ]
  },
  {
   "cell_type": "markdown",
   "id": "6f7dfd86",
   "metadata": {
    "jp-MarkdownHeadingCollapsed": true
   },
   "source": [
    "### f-string"
   ]
  },
  {
   "cell_type": "code",
   "execution_count": 28,
   "id": "cca793cb",
   "metadata": {},
   "outputs": [
    {
     "data": {
      "text/plain": [
       "'Hello Felicia Travis'"
      ]
     },
     "execution_count": 28,
     "metadata": {},
     "output_type": "execute_result"
    }
   ],
   "source": [
    "f'Hello {fake.name()}'"
   ]
  },
  {
   "cell_type": "markdown",
   "id": "a88ad5a9",
   "metadata": {
    "jp-MarkdownHeadingCollapsed": true
   },
   "source": [
    "### regex"
   ]
  },
  {
   "cell_type": "code",
   "execution_count": 29,
   "id": "9dc51a0b",
   "metadata": {},
   "outputs": [
    {
     "data": {
      "text/plain": [
       "'\\\\w*'"
      ]
     },
     "execution_count": 29,
     "metadata": {},
     "output_type": "execute_result"
    }
   ],
   "source": [
    "r'\\w*'"
   ]
  },
  {
   "cell_type": "markdown",
   "id": "5054285f",
   "metadata": {},
   "source": [
    "---"
   ]
  },
  {
   "cell_type": "markdown",
   "id": "da7815e6",
   "metadata": {},
   "source": [
    "# Read"
   ]
  },
  {
   "cell_type": "markdown",
   "id": "33824379-b621-462b-9902-baaea24d0fab",
   "metadata": {
    "jp-MarkdownHeadingCollapsed": true
   },
   "source": [
    "## Abstracts details"
   ]
  },
  {
   "cell_type": "markdown",
   "id": "f497f40d",
   "metadata": {},
   "source": [
    "### Type"
   ]
  },
  {
   "cell_type": "code",
   "execution_count": 30,
   "id": "c145dfd2",
   "metadata": {},
   "outputs": [],
   "source": [
    "assert type('Hi') == str"
   ]
  },
  {
   "cell_type": "markdown",
   "id": "90db872f",
   "metadata": {},
   "source": [
    "### Instance"
   ]
  },
  {
   "cell_type": "code",
   "execution_count": 31,
   "id": "4c4a6163",
   "metadata": {},
   "outputs": [],
   "source": [
    "assert isinstance('Hi', str) == True"
   ]
  },
  {
   "cell_type": "markdown",
   "id": "b1b0f33f-ebee-4d65-94c4-3916d150d685",
   "metadata": {},
   "source": [
    "## Check"
   ]
  },
  {
   "cell_type": "markdown",
   "id": "52a97747",
   "metadata": {},
   "source": [
    "### Length"
   ]
  },
  {
   "cell_type": "code",
   "execution_count": 32,
   "id": "860eea6e",
   "metadata": {},
   "outputs": [
    {
     "data": {
      "text/plain": [
       "4"
      ]
     },
     "execution_count": 32,
     "metadata": {},
     "output_type": "execute_result"
    }
   ],
   "source": [
    "len(fake.word())"
   ]
  },
  {
   "cell_type": "markdown",
   "id": "fdff7712",
   "metadata": {},
   "source": [
    "### Contains"
   ]
  },
  {
   "cell_type": "code",
   "execution_count": 33,
   "id": "75db3960",
   "metadata": {},
   "outputs": [],
   "source": [
    "assert (\"world\" in \"Hello world\") == True"
   ]
  },
  {
   "cell_type": "markdown",
   "id": "1fb9b20e-61db-4a59-9b47-788f653966c6",
   "metadata": {},
   "source": [
    "### Empty"
   ]
  },
  {
   "cell_type": "code",
   "execution_count": 3,
   "id": "335decf8-e93e-408b-92e4-ec04a3697346",
   "metadata": {},
   "outputs": [],
   "source": [
    "assert not '' == True"
   ]
  },
  {
   "cell_type": "markdown",
   "id": "705376ef",
   "metadata": {},
   "source": [
    "---"
   ]
  },
  {
   "cell_type": "markdown",
   "id": "96dbd5d1",
   "metadata": {},
   "source": [
    "# Update"
   ]
  },
  {
   "cell_type": "markdown",
   "id": "8111c151-ce40-43f6-a455-01ea6450c6ee",
   "metadata": {},
   "source": [
    "## New"
   ]
  },
  {
   "cell_type": "markdown",
   "id": "6b4b27fd",
   "metadata": {
    "jp-MarkdownHeadingCollapsed": true
   },
   "source": [
    "### join"
   ]
  },
  {
   "cell_type": "code",
   "execution_count": 34,
   "id": "34edc4bb",
   "metadata": {},
   "outputs": [
    {
     "data": {
      "text/plain": [
       "'including water hour'"
      ]
     },
     "execution_count": 34,
     "metadata": {},
     "output_type": "execute_result"
    }
   ],
   "source": [
    "' '.join(fake.words())"
   ]
  },
  {
   "cell_type": "markdown",
   "id": "b898fcb2",
   "metadata": {
    "jp-MarkdownHeadingCollapsed": true
   },
   "source": [
    "### split"
   ]
  },
  {
   "cell_type": "markdown",
   "id": "f510fbd6",
   "metadata": {},
   "source": [
    "##### simple"
   ]
  },
  {
   "cell_type": "code",
   "execution_count": 37,
   "id": "33200904",
   "metadata": {},
   "outputs": [
    {
     "data": {
      "text/plain": [
       "['Place', 'same', 'use', 'agreement', 'book', 'almost.']"
      ]
     },
     "execution_count": 37,
     "metadata": {},
     "output_type": "execute_result"
    }
   ],
   "source": [
    "fake.sentence().split(' ')"
   ]
  },
  {
   "cell_type": "markdown",
   "id": "280ae731",
   "metadata": {},
   "source": [
    "##### multiple"
   ]
  },
  {
   "cell_type": "code",
   "execution_count": 38,
   "id": "6bf60e4e",
   "metadata": {},
   "outputs": [
    {
     "data": {
      "text/plain": [
       "['hello', '', 'world']"
      ]
     },
     "execution_count": 38,
     "metadata": {},
     "output_type": "execute_result"
    }
   ],
   "source": [
    "'hello  world'.split(' ')"
   ]
  },
  {
   "cell_type": "markdown",
   "id": "d20eba80-192d-4376-b1f4-41a38fdeb54d",
   "metadata": {
    "jp-MarkdownHeadingCollapsed": true
   },
   "source": [
    "## Change"
   ]
  },
  {
   "cell_type": "markdown",
   "id": "066c7750",
   "metadata": {},
   "source": [
    "### replace"
   ]
  },
  {
   "cell_type": "code",
   "execution_count": 35,
   "id": "b447eae4",
   "metadata": {},
   "outputs": [],
   "source": [
    "assert ('world' not in 'hello world'.replace('world', 'jungle'))"
   ]
  },
  {
   "cell_type": "markdown",
   "id": "e52cb2cb",
   "metadata": {},
   "source": [
    "### remove"
   ]
  },
  {
   "cell_type": "code",
   "execution_count": 36,
   "id": "b9e8116d",
   "metadata": {},
   "outputs": [
    {
     "data": {
      "text/plain": [
       "['hello', 'world']"
      ]
     },
     "execution_count": 36,
     "metadata": {},
     "output_type": "execute_result"
    }
   ],
   "source": [
    "words = 'hello  world'.split(' ')\n",
    "words.remove('')\n",
    "words"
   ]
  }
 ],
 "metadata": {
  "kernelspec": {
   "display_name": "Python 3 (ipykernel)",
   "language": "python",
   "name": "python3"
  },
  "language_info": {
   "codemirror_mode": {
    "name": "ipython",
    "version": 3
   },
   "file_extension": ".py",
   "mimetype": "text/x-python",
   "name": "python",
   "nbconvert_exporter": "python",
   "pygments_lexer": "ipython3",
   "version": "3.11.5"
  }
 },
 "nbformat": 4,
 "nbformat_minor": 5
}
