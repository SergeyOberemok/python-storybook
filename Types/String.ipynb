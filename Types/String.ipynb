{
 "cells": [
  {
   "cell_type": "markdown",
   "id": "ce48973c",
   "metadata": {},
   "source": [
    "# String"
   ]
  },
  {
   "cell_type": "markdown",
   "id": "442d5371",
   "metadata": {},
   "source": [
    "### Check"
   ]
  },
  {
   "cell_type": "markdown",
   "id": "f497f40d",
   "metadata": {},
   "source": [
    "#### Type"
   ]
  },
  {
   "cell_type": "code",
   "execution_count": 3,
   "id": "c145dfd2",
   "metadata": {},
   "outputs": [
    {
     "name": "stdout",
     "output_type": "stream",
     "text": [
      "<class 'str'>\n"
     ]
    }
   ],
   "source": [
    "message = 'Hi'\n",
    "\n",
    "print(type(message))"
   ]
  },
  {
   "cell_type": "code",
   "execution_count": 4,
   "id": "14d35824",
   "metadata": {},
   "outputs": [
    {
     "name": "stdout",
     "output_type": "stream",
     "text": [
      "True\n"
     ]
    }
   ],
   "source": [
    "isStr = type(message) == str\n",
    "\n",
    "print(isStr)"
   ]
  },
  {
   "cell_type": "markdown",
   "id": "90db872f",
   "metadata": {},
   "source": [
    "#### Instance"
   ]
  },
  {
   "cell_type": "code",
   "execution_count": 5,
   "id": "4c4a6163",
   "metadata": {},
   "outputs": [
    {
     "name": "stdout",
     "output_type": "stream",
     "text": [
      "True\n"
     ]
    }
   ],
   "source": [
    "isStr = isinstance(message, str)\n",
    "\n",
    "print(isStr)"
   ]
  },
  {
   "cell_type": "markdown",
   "id": "96dbd5d1",
   "metadata": {},
   "source": [
    "### Change"
   ]
  },
  {
   "cell_type": "markdown",
   "id": "d41cc10d",
   "metadata": {},
   "source": [
    "#### Replace"
   ]
  },
  {
   "cell_type": "code",
   "execution_count": 2,
   "id": "a778e940",
   "metadata": {},
   "outputs": [
    {
     "name": "stdout",
     "output_type": "stream",
     "text": [
      "Hello John\n"
     ]
    }
   ],
   "source": [
    "greeting = 'Hello %s'\n",
    "name = 'John'\n",
    "\n",
    "result = greeting %name\n",
    "\n",
    "print(result)"
   ]
  }
 ],
 "metadata": {
  "kernelspec": {
   "display_name": "Python 3 (ipykernel)",
   "language": "python",
   "name": "python3"
  },
  "language_info": {
   "codemirror_mode": {
    "name": "ipython",
    "version": 3
   },
   "file_extension": ".py",
   "mimetype": "text/x-python",
   "name": "python",
   "nbconvert_exporter": "python",
   "pygments_lexer": "ipython3",
   "version": "3.9.16"
  }
 },
 "nbformat": 4,
 "nbformat_minor": 5
}
