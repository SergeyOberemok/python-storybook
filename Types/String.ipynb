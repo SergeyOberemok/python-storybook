{
 "cells": [
  {
   "cell_type": "code",
   "execution_count": 12,
   "id": "a20d654a",
   "metadata": {},
   "outputs": [],
   "source": [
    "from faker import Faker"
   ]
  },
  {
   "cell_type": "code",
   "execution_count": 13,
   "id": "c3df28ae",
   "metadata": {},
   "outputs": [],
   "source": [
    "fake = Faker()"
   ]
  },
  {
   "cell_type": "markdown",
   "id": "0aa5bf5a",
   "metadata": {},
   "source": [
    "### Create"
   ]
  },
  {
   "cell_type": "markdown",
   "id": "d41cc10d",
   "metadata": {},
   "source": [
    "##### Template"
   ]
  },
  {
   "cell_type": "code",
   "execution_count": 14,
   "id": "a778e940",
   "metadata": {},
   "outputs": [
    {
     "data": {
      "text/plain": [
       "'Hello Corey Jones'"
      ]
     },
     "execution_count": 14,
     "metadata": {},
     "output_type": "execute_result"
    }
   ],
   "source": [
    "'Hello %s' % fake.name()"
   ]
  },
  {
   "cell_type": "markdown",
   "id": "1806bb50",
   "metadata": {},
   "source": [
    "##### Format"
   ]
  },
  {
   "cell_type": "code",
   "execution_count": 15,
   "id": "893e8b3c",
   "metadata": {},
   "outputs": [
    {
     "data": {
      "text/plain": [
       "'The number is +1-917-969-8684x433'"
      ]
     },
     "execution_count": 15,
     "metadata": {},
     "output_type": "execute_result"
    }
   ],
   "source": [
    "'The number is {}'.format(fake.phone_number())"
   ]
  },
  {
   "cell_type": "code",
   "execution_count": 16,
   "id": "a05b30f9",
   "metadata": {},
   "outputs": [
    {
     "data": {
      "text/plain": [
       "'The number of Paul Campbell is 001-001-403-4734x6727'"
      ]
     },
     "execution_count": 16,
     "metadata": {},
     "output_type": "execute_result"
    }
   ],
   "source": [
    "'The number of {1} is {0}'.format(fake.phone_number(), fake.name())"
   ]
  },
  {
   "cell_type": "markdown",
   "id": "6f7dfd86",
   "metadata": {},
   "source": [
    "##### f-string"
   ]
  },
  {
   "cell_type": "code",
   "execution_count": 17,
   "id": "cca793cb",
   "metadata": {},
   "outputs": [
    {
     "data": {
      "text/plain": [
       "'Hello Sydney Nicholson'"
      ]
     },
     "execution_count": 17,
     "metadata": {},
     "output_type": "execute_result"
    }
   ],
   "source": [
    "f'Hello {fake.name()}'"
   ]
  },
  {
   "cell_type": "markdown",
   "id": "a88ad5a9",
   "metadata": {},
   "source": [
    "##### regex"
   ]
  },
  {
   "cell_type": "code",
   "execution_count": 18,
   "id": "9dc51a0b",
   "metadata": {},
   "outputs": [
    {
     "data": {
      "text/plain": [
       "'\\\\w*'"
      ]
     },
     "execution_count": 18,
     "metadata": {},
     "output_type": "execute_result"
    }
   ],
   "source": [
    "r'\\w*'"
   ]
  },
  {
   "cell_type": "markdown",
   "id": "5054285f",
   "metadata": {},
   "source": [
    "---"
   ]
  },
  {
   "cell_type": "markdown",
   "id": "da7815e6",
   "metadata": {},
   "source": [
    "### Read"
   ]
  },
  {
   "cell_type": "markdown",
   "id": "f497f40d",
   "metadata": {},
   "source": [
    "##### Type"
   ]
  },
  {
   "cell_type": "code",
   "execution_count": 19,
   "id": "c145dfd2",
   "metadata": {},
   "outputs": [],
   "source": [
    "assert type('Hi') == str"
   ]
  },
  {
   "cell_type": "markdown",
   "id": "90db872f",
   "metadata": {},
   "source": [
    "##### Instance"
   ]
  },
  {
   "cell_type": "code",
   "execution_count": 20,
   "id": "4c4a6163",
   "metadata": {},
   "outputs": [],
   "source": [
    "assert isinstance('Hi', str) == True"
   ]
  },
  {
   "cell_type": "markdown",
   "id": "52a97747",
   "metadata": {},
   "source": [
    "##### Length"
   ]
  },
  {
   "cell_type": "code",
   "execution_count": 21,
   "id": "860eea6e",
   "metadata": {},
   "outputs": [
    {
     "data": {
      "text/plain": [
       "10"
      ]
     },
     "execution_count": 21,
     "metadata": {},
     "output_type": "execute_result"
    }
   ],
   "source": [
    "len(fake.word())"
   ]
  },
  {
   "cell_type": "markdown",
   "id": "fdff7712",
   "metadata": {},
   "source": [
    "##### Contains"
   ]
  },
  {
   "cell_type": "code",
   "execution_count": 22,
   "id": "75db3960",
   "metadata": {},
   "outputs": [],
   "source": [
    "assert (\"world\" in \"Hello world\") == True"
   ]
  },
  {
   "cell_type": "markdown",
   "id": "705376ef",
   "metadata": {},
   "source": [
    "---"
   ]
  },
  {
   "cell_type": "markdown",
   "id": "96dbd5d1",
   "metadata": {},
   "source": [
    "### Update"
   ]
  },
  {
   "cell_type": "markdown",
   "id": "6b4b27fd",
   "metadata": {},
   "source": [
    "##### join"
   ]
  },
  {
   "cell_type": "code",
   "execution_count": 23,
   "id": "34edc4bb",
   "metadata": {},
   "outputs": [
    {
     "data": {
      "text/plain": [
       "'director I part'"
      ]
     },
     "execution_count": 23,
     "metadata": {},
     "output_type": "execute_result"
    }
   ],
   "source": [
    "' '.join(fake.words())"
   ]
  },
  {
   "cell_type": "markdown",
   "id": "b898fcb2",
   "metadata": {},
   "source": [
    "##### split"
   ]
  },
  {
   "cell_type": "code",
   "execution_count": 24,
   "id": "33200904",
   "metadata": {},
   "outputs": [
    {
     "data": {
      "text/plain": [
       "['Although', 'turn', 'baby', 'occur', 'their.']"
      ]
     },
     "execution_count": 24,
     "metadata": {},
     "output_type": "execute_result"
    }
   ],
   "source": [
    "fake.sentence().split(' ')"
   ]
  }
 ],
 "metadata": {
  "kernelspec": {
   "display_name": "Python 3 (ipykernel)",
   "language": "python",
   "name": "python3"
  },
  "language_info": {
   "codemirror_mode": {
    "name": "ipython",
    "version": 3
   },
   "file_extension": ".py",
   "mimetype": "text/x-python",
   "name": "python",
   "nbconvert_exporter": "python",
   "pygments_lexer": "ipython3",
   "version": "3.11.5"
  }
 },
 "nbformat": 4,
 "nbformat_minor": 5
}
