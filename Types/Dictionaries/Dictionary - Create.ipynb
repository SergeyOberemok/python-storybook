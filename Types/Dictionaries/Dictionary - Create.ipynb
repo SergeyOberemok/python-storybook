{
 "cells": [
  {
   "cell_type": "code",
   "execution_count": 2,
   "id": "e3fe7e2d-b179-4ced-a334-cbe68bbcdcbe",
   "metadata": {},
   "outputs": [],
   "source": [
    "from faker import Faker"
   ]
  },
  {
   "cell_type": "code",
   "execution_count": 3,
   "id": "50901e4d-cd2c-4d2b-b918-acbe303d481f",
   "metadata": {},
   "outputs": [],
   "source": [
    "fake = Faker()"
   ]
  },
  {
   "cell_type": "markdown",
   "id": "83b1fab6-9ee3-4ad2-9d82-9643f1d6e8d7",
   "metadata": {},
   "source": [
    "---"
   ]
  },
  {
   "cell_type": "markdown",
   "id": "0569a2de",
   "metadata": {},
   "source": [
    "# Create"
   ]
  },
  {
   "cell_type": "markdown",
   "id": "f14b18a0-1d9b-4623-a808-ba0208697d1f",
   "metadata": {},
   "source": [
    "## dict"
   ]
  },
  {
   "cell_type": "markdown",
   "id": "4e9829e7",
   "metadata": {},
   "source": [
    "### params"
   ]
  },
  {
   "cell_type": "code",
   "execution_count": 36,
   "id": "a0624ad7",
   "metadata": {},
   "outputs": [
    {
     "name": "stdout",
     "output_type": "stream",
     "text": [
      "{'name': 'John', 'age': 18}\n"
     ]
    }
   ],
   "source": [
    "user = dict(name = 'John', age = 18)\n",
    "\n",
    "print(user)"
   ]
  },
  {
   "cell_type": "markdown",
   "id": "970c4735",
   "metadata": {},
   "source": [
    "### list of tuples - the same as items()"
   ]
  },
  {
   "cell_type": "code",
   "execution_count": 37,
   "id": "99de1889",
   "metadata": {},
   "outputs": [
    {
     "name": "stdout",
     "output_type": "stream",
     "text": [
      "{'name': 'John', 'age': 18}\n"
     ]
    }
   ],
   "source": [
    "user = dict([('name', 'John'), ('age', 18)])\n",
    "\n",
    "print(user)"
   ]
  },
  {
   "cell_type": "markdown",
   "id": "d3aecf35",
   "metadata": {},
   "source": [
    "### {}"
   ]
  },
  {
   "cell_type": "code",
   "execution_count": 38,
   "id": "602d548c",
   "metadata": {},
   "outputs": [
    {
     "name": "stdout",
     "output_type": "stream",
     "text": [
      "{'name': 'Mick', 'age': 18}\n"
     ]
    }
   ],
   "source": [
    "user = { 'name': 'Mick', 'age': 18 }\n",
    "\n",
    "print(user)"
   ]
  },
  {
   "cell_type": "markdown",
   "id": "9271b841",
   "metadata": {},
   "source": [
    "### key"
   ]
  },
  {
   "cell_type": "code",
   "execution_count": 39,
   "id": "77f8baa3",
   "metadata": {},
   "outputs": [
    {
     "data": {
      "text/plain": [
       "({'name': 'Ron'}, {'Ron'}, {'Ron': 'Ron'})"
      ]
     },
     "execution_count": 39,
     "metadata": {},
     "output_type": "execute_result"
    }
   ],
   "source": [
    "name = 'Ron'\n",
    "\n",
    "dict(name = name), { name }, { name: name }"
   ]
  },
  {
   "cell_type": "markdown",
   "id": "2905b40c-f0b0-486c-951d-56679543f240",
   "metadata": {},
   "source": [
    "## Copy"
   ]
  },
  {
   "cell_type": "code",
   "execution_count": 40,
   "id": "89de339f-7c59-475b-9046-281e8131d931",
   "metadata": {},
   "outputs": [
    {
     "data": {
      "text/plain": [
       "{'name': 'Mick', 'age': 18, 'admin': True}"
      ]
     },
     "execution_count": 40,
     "metadata": {},
     "output_type": "execute_result"
    }
   ],
   "source": [
    "{ **user, **{ 'admin': True } }"
   ]
  }
 ],
 "metadata": {
  "kernelspec": {
   "display_name": "Python [conda env:base] *",
   "language": "python",
   "name": "conda-base-py"
  },
  "language_info": {
   "codemirror_mode": {
    "name": "ipython",
    "version": 3
   },
   "file_extension": ".py",
   "mimetype": "text/x-python",
   "name": "python",
   "nbconvert_exporter": "python",
   "pygments_lexer": "ipython3",
   "version": "3.11.11"
  }
 },
 "nbformat": 4,
 "nbformat_minor": 5
}
