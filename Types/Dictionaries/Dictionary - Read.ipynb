{
 "cells": [
  {
   "cell_type": "code",
   "execution_count": 26,
   "id": "0905bf2c-99a8-4cfe-ba24-1254d999297c",
   "metadata": {},
   "outputs": [],
   "source": [
    "from faker import Faker"
   ]
  },
  {
   "cell_type": "code",
   "execution_count": 27,
   "id": "61d9e4cd-417a-4e1c-9ae6-005d141e3807",
   "metadata": {},
   "outputs": [],
   "source": [
    "fake = Faker()"
   ]
  },
  {
   "cell_type": "markdown",
   "id": "973cf279-e88b-4d0e-8722-44bb4397b36d",
   "metadata": {},
   "source": [
    "---"
   ]
  },
  {
   "cell_type": "code",
   "execution_count": 29,
   "id": "e5db19dc-3a29-4b84-8f87-381c25194249",
   "metadata": {},
   "outputs": [
    {
     "data": {
      "text/plain": [
       "{'name': 'James', 'age': 51}"
      ]
     },
     "execution_count": 29,
     "metadata": {},
     "output_type": "execute_result"
    }
   ],
   "source": [
    "user = { \"name\": fake.first_name(), \"age\": fake.random_int(min=25, max=100) }\n",
    "user"
   ]
  },
  {
   "cell_type": "markdown",
   "id": "4df96606-18d6-4dbd-b15c-ae7026690346",
   "metadata": {},
   "source": [
    "# Check"
   ]
  },
  {
   "cell_type": "markdown",
   "id": "4d4c429a-582e-4089-97cb-cd9c40042ad0",
   "metadata": {},
   "source": [
    "## exist"
   ]
  },
  {
   "cell_type": "markdown",
   "id": "efb8ec74-b27e-4eba-aef1-85357d51964c",
   "metadata": {},
   "source": [
    "### field"
   ]
  },
  {
   "cell_type": "code",
   "execution_count": 33,
   "id": "4507524d-d94d-4133-b488-bd5e8a22fa80",
   "metadata": {},
   "outputs": [],
   "source": [
    "assert ('name' in user) is True"
   ]
  },
  {
   "cell_type": "markdown",
   "id": "e2af75bf-5c2c-471f-a357-7bb068e934e3",
   "metadata": {},
   "source": [
    "### value"
   ]
  },
  {
   "cell_type": "code",
   "execution_count": 35,
   "id": "ad842d69-672c-4d6b-9fd7-5958e1c7b393",
   "metadata": {},
   "outputs": [],
   "source": [
    "assert user.get('country') is None and user.get('country', 'US') == 'US'"
   ]
  },
  {
   "cell_type": "markdown",
   "id": "6b26264f-c6c4-4c21-ac8f-996a42770114",
   "metadata": {},
   "source": [
    "## Match/Case"
   ]
  },
  {
   "cell_type": "code",
   "execution_count": 37,
   "id": "54d4f2ce-e8e1-4096-a710-b6956a5908ac",
   "metadata": {},
   "outputs": [
    {
     "name": "stdout",
     "output_type": "stream",
     "text": [
      "hello\n"
     ]
    }
   ],
   "source": [
    "match user:\n",
    "    case {'name': _}:\n",
    "        print('hello')\n",
    "    case {'name': _, **others}:\n",
    "        print('world')\n",
    "    case _:\n",
    "        print('None')"
   ]
  },
  {
   "cell_type": "markdown",
   "id": "92af3b8f-bd1e-471f-868d-42bacff61cbf",
   "metadata": {},
   "source": [
    "# Read"
   ]
  },
  {
   "cell_type": "markdown",
   "id": "eedcfaf4-e03a-45a5-bf8c-09da3a684341",
   "metadata": {},
   "source": [
    "### keys"
   ]
  },
  {
   "cell_type": "code",
   "execution_count": 47,
   "id": "70c78999-5872-467a-94bb-264fdd711a7c",
   "metadata": {},
   "outputs": [
    {
     "name": "stdout",
     "output_type": "stream",
     "text": [
      "dict_keys(['name', 'age']) <class 'dict_keys'> ['name', 'age']\n"
     ]
    }
   ],
   "source": [
    "result = user.keys()\n",
    "print(result, type(result), list(result))"
   ]
  },
  {
   "cell_type": "markdown",
   "id": "c5f42a3a-f8d1-4f3a-91e4-a6b93046122a",
   "metadata": {},
   "source": [
    "### values"
   ]
  },
  {
   "cell_type": "code",
   "execution_count": 50,
   "id": "828f2c3a-f20d-46e8-9dfb-313f0b17c5af",
   "metadata": {},
   "outputs": [
    {
     "name": "stdout",
     "output_type": "stream",
     "text": [
      "dict_values(['James', 51]) <class 'dict_values'> ['James', 51]\n"
     ]
    }
   ],
   "source": [
    "result = user.values()\n",
    "print(result, type(result), list(result))"
   ]
  },
  {
   "cell_type": "markdown",
   "id": "6f02f81a-e99f-44c5-8594-da95757af8b1",
   "metadata": {},
   "source": [
    "### items"
   ]
  },
  {
   "cell_type": "code",
   "execution_count": 53,
   "id": "a87a43ae-7b8e-4c84-83a0-3d1026d7d5e8",
   "metadata": {},
   "outputs": [
    {
     "name": "stdout",
     "output_type": "stream",
     "text": [
      "dict_items([('name', 'James'), ('age', 51)]) <class 'dict_items'> [('name', 'James'), ('age', 51)]\n"
     ]
    }
   ],
   "source": [
    "result = user.items()\n",
    "print(result, type(result), list(result))"
   ]
  }
 ],
 "metadata": {
  "kernelspec": {
   "display_name": "Python 3 (ipykernel)",
   "language": "python",
   "name": "python3"
  },
  "language_info": {
   "codemirror_mode": {
    "name": "ipython",
    "version": 3
   },
   "file_extension": ".py",
   "mimetype": "text/x-python",
   "name": "python",
   "nbconvert_exporter": "python",
   "pygments_lexer": "ipython3",
   "version": "3.11.5"
  }
 },
 "nbformat": 4,
 "nbformat_minor": 5
}
