{
 "cells": [
  {
   "cell_type": "markdown",
   "id": "2ad8d14d-eef8-49bf-bb10-5b8a3755259f",
   "metadata": {},
   "source": [
    "# Remove"
   ]
  },
  {
   "cell_type": "markdown",
   "id": "69fa4d63-e655-4e78-9c3a-7030c1c2eb76",
   "metadata": {},
   "source": [
    "## Field"
   ]
  },
  {
   "cell_type": "markdown",
   "id": "a14a0be2-fe40-4b2e-ad5a-5657bdae0edc",
   "metadata": {},
   "source": [
    "### del"
   ]
  },
  {
   "cell_type": "code",
   "execution_count": 6,
   "id": "f1ed1417-cfb7-4321-a0f1-b983748a5289",
   "metadata": {},
   "outputs": [
    {
     "data": {
      "text/plain": [
       "{'last': 'to remain'}"
      ]
     },
     "execution_count": 6,
     "metadata": {},
     "output_type": "execute_result"
    }
   ],
   "source": [
    "temp = { 'first': 'to delete', 'last': 'to remain' }\n",
    "del temp['first']\n",
    "temp"
   ]
  },
  {
   "cell_type": "code",
   "execution_count": null,
   "id": "1a329389-f46d-43c9-a7e9-663ff66098a7",
   "metadata": {},
   "outputs": [],
   "source": []
  }
 ],
 "metadata": {
  "kernelspec": {
   "display_name": "Python 3 (ipykernel)",
   "language": "python",
   "name": "python3"
  },
  "language_info": {
   "codemirror_mode": {
    "name": "ipython",
    "version": 3
   },
   "file_extension": ".py",
   "mimetype": "text/x-python",
   "name": "python",
   "nbconvert_exporter": "python",
   "pygments_lexer": "ipython3",
   "version": "3.11.5"
  }
 },
 "nbformat": 4,
 "nbformat_minor": 5
}
