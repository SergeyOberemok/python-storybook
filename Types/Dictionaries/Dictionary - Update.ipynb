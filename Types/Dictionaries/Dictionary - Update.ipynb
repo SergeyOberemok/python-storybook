{
 "cells": [
  {
   "cell_type": "markdown",
   "id": "60ed9aa1-65a4-4273-a497-f74899412253",
   "metadata": {},
   "source": [
    "# Change"
   ]
  },
  {
   "cell_type": "markdown",
   "id": "7ff8b221-92f0-4e8b-a53b-1f8841671c2e",
   "metadata": {},
   "source": [
    "## Add"
   ]
  },
  {
   "cell_type": "markdown",
   "id": "fb124aba-9a4f-42a7-ac47-3a761f28283c",
   "metadata": {},
   "source": [
    "### Update"
   ]
  },
  {
   "cell_type": "code",
   "execution_count": 8,
   "id": "8854674e-5fba-42b8-b01b-960df6cdc0e7",
   "metadata": {},
   "outputs": [
    {
     "data": {
      "text/plain": [
       "{'added': 'new field', 'byParams': 123, 'bySignature': 'asdf'}"
      ]
     },
     "execution_count": 8,
     "metadata": {},
     "output_type": "execute_result"
    }
   ],
   "source": [
    "acc = {}\n",
    "\n",
    "acc['added'] = 'new field'\n",
    "acc.update({'byParams': 123})\n",
    "acc.update(bySignature='asdf')\n",
    "\n",
    "acc"
   ]
  },
  {
   "cell_type": "markdown",
   "id": "22c82eb5-b1b1-4246-8bbc-2f8a1615bbab",
   "metadata": {},
   "source": [
    "### Existing"
   ]
  },
  {
   "cell_type": "markdown",
   "id": "1569f80e-9a6e-4810-9885-afd93b15c13f",
   "metadata": {},
   "source": [
    "# New"
   ]
  },
  {
   "cell_type": "markdown",
   "id": "baea8828-e3a3-4172-b700-5bfae17bf345",
   "metadata": {},
   "source": [
    "## Merge"
   ]
  },
  {
   "cell_type": "code",
   "execution_count": null,
   "id": "de3887fc-95b2-464a-9d75-e82714a8a8f4",
   "metadata": {},
   "outputs": [],
   "source": [
    "{'name': 'John'} | {'age': 18}"
   ]
  }
 ],
 "metadata": {
  "kernelspec": {
   "display_name": "Python 3 (ipykernel)",
   "language": "python",
   "name": "python3"
  },
  "language_info": {
   "codemirror_mode": {
    "name": "ipython",
    "version": 3
   },
   "file_extension": ".py",
   "mimetype": "text/x-python",
   "name": "python",
   "nbconvert_exporter": "python",
   "pygments_lexer": "ipython3",
   "version": "3.11.5"
  }
 },
 "nbformat": 4,
 "nbformat_minor": 5
}
