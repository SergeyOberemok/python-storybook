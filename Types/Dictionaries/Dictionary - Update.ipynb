{
 "cells": [
  {
   "cell_type": "markdown",
   "id": "7ff8b221-92f0-4e8b-a53b-1f8841671c2e",
   "metadata": {},
   "source": [
    "### Add"
   ]
  },
  {
   "cell_type": "code",
   "execution_count": 3,
   "id": "8854674e-5fba-42b8-b01b-960df6cdc0e7",
   "metadata": {},
   "outputs": [
    {
     "data": {
      "text/plain": [
       "{'added': 'new field', 'byParams': 123, 'bySignature': 'asdf'}"
      ]
     },
     "execution_count": 3,
     "metadata": {},
     "output_type": "execute_result"
    }
   ],
   "source": [
    "acc = {}\n",
    "\n",
    "acc['added'] = 'new field'\n",
    "acc.update({'byParams': 123})\n",
    "acc.update(bySignature='asdf')\n",
    "\n",
    "acc"
   ]
  },
  {
   "cell_type": "markdown",
   "id": "baea8828-e3a3-4172-b700-5bfae17bf345",
   "metadata": {},
   "source": [
    "### Merge"
   ]
  },
  {
   "cell_type": "code",
   "execution_count": 5,
   "id": "de3887fc-95b2-464a-9d75-e82714a8a8f4",
   "metadata": {},
   "outputs": [
    {
     "data": {
      "text/plain": [
       "{'name': 'John', 'age': 18}"
      ]
     },
     "execution_count": 5,
     "metadata": {},
     "output_type": "execute_result"
    }
   ],
   "source": [
    "{'name': 'John'} | {'age': 18}"
   ]
  }
 ],
 "metadata": {
  "kernelspec": {
   "display_name": "Python [conda env:base] *",
   "language": "python",
   "name": "conda-base-py"
  },
  "language_info": {
   "codemirror_mode": {
    "name": "ipython",
    "version": 3
   },
   "file_extension": ".py",
   "mimetype": "text/x-python",
   "name": "python",
   "nbconvert_exporter": "python",
   "pygments_lexer": "ipython3",
   "version": "3.11.11"
  }
 },
 "nbformat": 4,
 "nbformat_minor": 5
}
