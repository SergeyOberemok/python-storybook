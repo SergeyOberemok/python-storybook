{
 "cells": [
  {
   "cell_type": "code",
   "execution_count": 1,
   "id": "3975da9a",
   "metadata": {},
   "outputs": [],
   "source": [
    "from functools import reduce\n",
    "from faker import Faker"
   ]
  },
  {
   "cell_type": "code",
   "execution_count": 2,
   "id": "e789cf25-2fc9-47cd-a0f4-d250912a806f",
   "metadata": {},
   "outputs": [],
   "source": [
    "fake = Faker()"
   ]
  },
  {
   "cell_type": "markdown",
   "id": "9a1d939a-8153-4eb5-a089-c798e5f18989",
   "metadata": {},
   "source": [
    "---"
   ]
  },
  {
   "cell_type": "markdown",
   "id": "ce4fa88c",
   "metadata": {},
   "source": [
    "# Create"
   ]
  },
  {
   "cell_type": "code",
   "execution_count": 11,
   "id": "513dcea6",
   "metadata": {},
   "outputs": [],
   "source": [
    "keyValue = ('key', 'value')\n",
    "sexAge = (True, 28)\n",
    "singletonTuple = 'value',"
   ]
  },
  {
   "cell_type": "markdown",
   "id": "70ec962b-13ed-4857-a38c-8bfa912a40b6",
   "metadata": {},
   "source": [
    "# Update"
   ]
  },
  {
   "cell_type": "markdown",
   "id": "9dfb9e82-0ae9-46a5-8802-01bf0193ab12",
   "metadata": {},
   "source": [
    "## Add"
   ]
  },
  {
   "cell_type": "code",
   "execution_count": 15,
   "id": "ca351d39-8927-44a6-8f5d-fa72e425d0f9",
   "metadata": {},
   "outputs": [
    {
     "data": {
      "text/plain": [
       "(1, 2, 3)"
      ]
     },
     "execution_count": 15,
     "metadata": {},
     "output_type": "execute_result"
    }
   ],
   "source": [
    "(1, 2) + (3, )"
   ]
  },
  {
   "cell_type": "markdown",
   "id": "97e04acb",
   "metadata": {},
   "source": [
    "## Cast"
   ]
  },
  {
   "cell_type": "markdown",
   "id": "18575c2c",
   "metadata": {},
   "source": [
    "#### ToString"
   ]
  },
  {
   "cell_type": "code",
   "execution_count": 16,
   "id": "69d7427a",
   "metadata": {},
   "outputs": [
    {
     "data": {
      "text/plain": [
       "'True 28'"
      ]
     },
     "execution_count": 16,
     "metadata": {},
     "output_type": "execute_result"
    }
   ],
   "source": [
    "reduce(lambda item1, item2: str(item1) + ' ' + str(item2), sexAge)"
   ]
  },
  {
   "cell_type": "markdown",
   "id": "750b9f4b",
   "metadata": {},
   "source": [
    "## ToList"
   ]
  },
  {
   "cell_type": "code",
   "execution_count": 17,
   "id": "9f039f7b",
   "metadata": {},
   "outputs": [
    {
     "data": {
      "text/plain": [
       "['key', 'value']"
      ]
     },
     "execution_count": 17,
     "metadata": {},
     "output_type": "execute_result"
    }
   ],
   "source": [
    "list(keyValue)"
   ]
  },
  {
   "cell_type": "markdown",
   "id": "e7ba58e6-222a-455c-a5e3-1b755f92462f",
   "metadata": {},
   "source": [
    "## ToDictionary"
   ]
  },
  {
   "cell_type": "code",
   "execution_count": 19,
   "id": "419ec623-79ed-4f43-815a-512b7bc2f861",
   "metadata": {},
   "outputs": [
    {
     "data": {
      "text/plain": [
       "{'key': 'value'}"
      ]
     },
     "execution_count": 19,
     "metadata": {},
     "output_type": "execute_result"
    }
   ],
   "source": [
    "dict([keyValue])"
   ]
  }
 ],
 "metadata": {
  "kernelspec": {
   "display_name": "Python 3 (ipykernel)",
   "language": "python",
   "name": "python3"
  },
  "language_info": {
   "codemirror_mode": {
    "name": "ipython",
    "version": 3
   },
   "file_extension": ".py",
   "mimetype": "text/x-python",
   "name": "python",
   "nbconvert_exporter": "python",
   "pygments_lexer": "ipython3",
   "version": "3.11.10"
  }
 },
 "nbformat": 4,
 "nbformat_minor": 5
}
