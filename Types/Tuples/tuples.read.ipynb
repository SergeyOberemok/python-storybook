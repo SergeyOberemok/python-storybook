{
 "cells": [
  {
   "cell_type": "code",
   "execution_count": 24,
   "id": "d5679960-23ce-4059-93f2-508774528506",
   "metadata": {},
   "outputs": [],
   "source": [
    "from faker import Faker"
   ]
  },
  {
   "cell_type": "code",
   "execution_count": 26,
   "id": "1a786e0d-715d-43e6-b6fc-f61d18ed3b5a",
   "metadata": {},
   "outputs": [],
   "source": [
    "fake = Faker()"
   ]
  },
  {
   "cell_type": "markdown",
   "id": "c726f6ed-174d-41bd-847c-e45f557f6379",
   "metadata": {},
   "source": [
    "---"
   ]
  },
  {
   "cell_type": "code",
   "execution_count": 10,
   "id": "11cb47fb-d4c4-4593-b8be-605fc136a4d1",
   "metadata": {},
   "outputs": [],
   "source": [
    "sexAge = (True, 28)"
   ]
  },
  {
   "cell_type": "markdown",
   "id": "70aac3b4-3597-44e2-a74f-9a2f9dd7bc54",
   "metadata": {},
   "source": [
    "---"
   ]
  },
  {
   "cell_type": "markdown",
   "id": "c9023511-dee9-48b0-9395-dfaae225c2e3",
   "metadata": {},
   "source": [
    "## Item"
   ]
  },
  {
   "cell_type": "markdown",
   "id": "9e5739a5-c8b4-4a23-ab21-f52399911912",
   "metadata": {},
   "source": [
    "### By index"
   ]
  },
  {
   "cell_type": "code",
   "execution_count": 13,
   "id": "938b6881-def1-4926-aa6c-5f99aded1b20",
   "metadata": {},
   "outputs": [
    {
     "name": "stdout",
     "output_type": "stream",
     "text": [
      "True\n",
      "28\n"
     ]
    }
   ],
   "source": [
    "for i in range(len(sexAge)):\n",
    "    print(sexAge[i])"
   ]
  },
  {
   "cell_type": "markdown",
   "id": "cac5ec30-d7e4-455d-be20-c854b4d30002",
   "metadata": {},
   "source": [
    "### Destructuring / Unpacking"
   ]
  },
  {
   "cell_type": "code",
   "execution_count": 37,
   "id": "40fd15d0-cbc3-467e-a64f-591512ce301a",
   "metadata": {},
   "outputs": [],
   "source": [
    "x, y = (5, 11)"
   ]
  },
  {
   "cell_type": "markdown",
   "id": "32fdcdf7-76b7-4fb7-b28f-f157faa2a4b3",
   "metadata": {},
   "source": [
    "# Check"
   ]
  },
  {
   "cell_type": "markdown",
   "id": "c595fc4a-2772-485b-8f70-2339a465a466",
   "metadata": {},
   "source": [
    "## Type"
   ]
  },
  {
   "cell_type": "code",
   "execution_count": 45,
   "id": "c9b10886-bf55-4030-aca2-470ab1c1f342",
   "metadata": {},
   "outputs": [],
   "source": [
    "assert type(sexAge) == tuple"
   ]
  },
  {
   "cell_type": "markdown",
   "id": "dd0eac0e-a56f-4b10-a163-d9405d5da92b",
   "metadata": {},
   "source": [
    "## Length"
   ]
  },
  {
   "cell_type": "code",
   "execution_count": 15,
   "id": "b9f8f85b-7a2a-40df-b512-dffa5eb5c379",
   "metadata": {},
   "outputs": [
    {
     "data": {
      "text/plain": [
       "2"
      ]
     },
     "execution_count": 15,
     "metadata": {},
     "output_type": "execute_result"
    }
   ],
   "source": [
    "len(sexAge)"
   ]
  },
  {
   "cell_type": "markdown",
   "id": "1cc57403-7493-49aa-98bf-47ebcd1138b0",
   "metadata": {},
   "source": [
    "## Switch case"
   ]
  },
  {
   "cell_type": "code",
   "execution_count": 34,
   "id": "011b74e0-fa47-4005-9e95-7e7a62e5e081",
   "metadata": {},
   "outputs": [
    {
     "name": "stdout",
     "output_type": "stream",
     "text": [
      "hello\n"
     ]
    }
   ],
   "source": [
    "user = ('name', fake.first_name())\n",
    "\n",
    "match user:\n",
    "    case ('name', _):\n",
    "        print('hello')\n",
    "    case _:\n",
    "        print('None')"
   ]
  }
 ],
 "metadata": {
  "kernelspec": {
   "display_name": "Python 3 (ipykernel)",
   "language": "python",
   "name": "python3"
  },
  "language_info": {
   "codemirror_mode": {
    "name": "ipython",
    "version": 3
   },
   "file_extension": ".py",
   "mimetype": "text/x-python",
   "name": "python",
   "nbconvert_exporter": "python",
   "pygments_lexer": "ipython3",
   "version": "3.11.10"
  }
 },
 "nbformat": 4,
 "nbformat_minor": 5
}
