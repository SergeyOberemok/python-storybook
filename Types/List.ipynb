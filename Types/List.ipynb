{
 "cells": [
  {
   "cell_type": "markdown",
   "id": "e39b3b62",
   "metadata": {},
   "source": [
    "# List"
   ]
  },
  {
   "cell_type": "code",
   "execution_count": 7,
   "id": "3693f191",
   "metadata": {},
   "outputs": [],
   "source": [
    "from faker import Faker\n",
    "from functools import reduce\n",
    "import random"
   ]
  },
  {
   "cell_type": "code",
   "execution_count": 8,
   "id": "d26e8d57",
   "metadata": {},
   "outputs": [],
   "source": [
    "fake = Faker()\n",
    "names = [fake.first_name() for _ in range(5)]\n",
    "numbers = [1, 2, 3, 4, 5]"
   ]
  },
  {
   "cell_type": "markdown",
   "id": "c818889d",
   "metadata": {},
   "source": [
    "### Init"
   ]
  },
  {
   "cell_type": "markdown",
   "id": "48fd4eb6",
   "metadata": {},
   "source": [
    "#### From tuple"
   ]
  },
  {
   "cell_type": "code",
   "execution_count": 9,
   "id": "5f2c005f",
   "metadata": {},
   "outputs": [
    {
     "data": {
      "text/plain": [
       "['apple', 'banana', 'orange']"
      ]
     },
     "execution_count": 9,
     "metadata": {},
     "output_type": "execute_result"
    }
   ],
   "source": [
    "fruitsTuple = ('apple', 'banana', 'orange')\n",
    "\n",
    "list(fruitsTuple)"
   ]
  },
  {
   "cell_type": "markdown",
   "id": "9750677a",
   "metadata": {},
   "source": [
    "#### Zero"
   ]
  },
  {
   "cell_type": "code",
   "execution_count": 22,
   "id": "fbf38844",
   "metadata": {},
   "outputs": [
    {
     "name": "stdout",
     "output_type": "stream",
     "text": [
      "[0, 0, 0, 0, 0]\n"
     ]
    }
   ],
   "source": [
    "zeros = [0] * 5\n",
    "\n",
    "print(zeros)"
   ]
  },
  {
   "cell_type": "markdown",
   "id": "c75d688e",
   "metadata": {},
   "source": [
    "### Add"
   ]
  },
  {
   "cell_type": "code",
   "execution_count": 10,
   "id": "51032944",
   "metadata": {},
   "outputs": [
    {
     "name": "stdout",
     "output_type": "stream",
     "text": [
      "['Teresa', 'Jenna', 'Joseph', 'Alexis', 'Valerie', 'Beth']\n"
     ]
    }
   ],
   "source": [
    "name = fake.first_name()\n",
    "\n",
    "names.append(name)\n",
    "\n",
    "print(names)"
   ]
  },
  {
   "cell_type": "markdown",
   "id": "b398ac6c",
   "metadata": {},
   "source": [
    "### Get"
   ]
  },
  {
   "cell_type": "markdown",
   "id": "ef7b6a1b",
   "metadata": {},
   "source": [
    "#### Destructuring"
   ]
  },
  {
   "cell_type": "code",
   "execution_count": 11,
   "id": "73c4cea4",
   "metadata": {},
   "outputs": [
    {
     "name": "stdout",
     "output_type": "stream",
     "text": [
      "1 [2, 3, 4, 5]\n"
     ]
    }
   ],
   "source": [
    "head, *tail = numbers\n",
    "\n",
    "print(head, tail)"
   ]
  },
  {
   "cell_type": "code",
   "execution_count": 12,
   "id": "40b988d9",
   "metadata": {},
   "outputs": [
    {
     "name": "stdout",
     "output_type": "stream",
     "text": [
      "1 [2, 3, 4] 5\n"
     ]
    }
   ],
   "source": [
    "head, *middle, tail = numbers\n",
    "\n",
    "print(head, middle, tail)"
   ]
  },
  {
   "cell_type": "code",
   "execution_count": 13,
   "id": "316630ef",
   "metadata": {},
   "outputs": [
    {
     "name": "stdout",
     "output_type": "stream",
     "text": [
      "[1, 2, 3, 4] 5\n"
     ]
    }
   ],
   "source": [
    "*head, tail = numbers\n",
    "\n",
    "print(head, tail)"
   ]
  },
  {
   "cell_type": "markdown",
   "id": "d4271b19",
   "metadata": {},
   "source": [
    "#### Copy"
   ]
  },
  {
   "cell_type": "code",
   "execution_count": 14,
   "id": "68096b50",
   "metadata": {},
   "outputs": [
    {
     "name": "stdout",
     "output_type": "stream",
     "text": [
      "[1, 2, 3, 4, 5]\n"
     ]
    }
   ],
   "source": [
    "numbersCopy = numbers[:]\n",
    "\n",
    "print(numbersCopy)"
   ]
  },
  {
   "cell_type": "markdown",
   "id": "a814f09f",
   "metadata": {},
   "source": [
    "#### Random"
   ]
  },
  {
   "cell_type": "code",
   "execution_count": 16,
   "id": "5897c23f",
   "metadata": {},
   "outputs": [
    {
     "data": {
      "text/plain": [
       "'Joseph'"
      ]
     },
     "execution_count": 16,
     "metadata": {},
     "output_type": "execute_result"
    }
   ],
   "source": [
    "random.choice(names)"
   ]
  },
  {
   "cell_type": "markdown",
   "id": "aed91e0f",
   "metadata": {},
   "source": [
    "### Check"
   ]
  },
  {
   "cell_type": "code",
   "execution_count": 15,
   "id": "51ade961",
   "metadata": {},
   "outputs": [
    {
     "data": {
      "text/plain": [
       "True"
      ]
     },
     "execution_count": 15,
     "metadata": {},
     "output_type": "execute_result"
    }
   ],
   "source": [
    "2 in numbers"
   ]
  },
  {
   "cell_type": "markdown",
   "id": "942965a6",
   "metadata": {},
   "source": [
    "### Remove"
   ]
  },
  {
   "cell_type": "markdown",
   "id": "85ecf506",
   "metadata": {},
   "source": [
    "#### All"
   ]
  },
  {
   "cell_type": "code",
   "execution_count": 21,
   "id": "b1450f88",
   "metadata": {},
   "outputs": [
    {
     "name": "stdout",
     "output_type": "stream",
     "text": [
      "[1, 4, 5]\n"
     ]
    }
   ],
   "source": [
    "numbersCopy = numbers[:]\n",
    "\n",
    "numbersCopy[1:3] = []\n",
    "\n",
    "print(numbersCopy)"
   ]
  },
  {
   "cell_type": "markdown",
   "id": "4c0b99b4",
   "metadata": {},
   "source": [
    "### Operations"
   ]
  },
  {
   "cell_type": "markdown",
   "id": "a41151e5",
   "metadata": {},
   "source": [
    "#### Filter"
   ]
  },
  {
   "cell_type": "code",
   "execution_count": 17,
   "id": "ca0f2260",
   "metadata": {},
   "outputs": [
    {
     "data": {
      "text/plain": [
       "[2, 4]"
      ]
     },
     "execution_count": 17,
     "metadata": {},
     "output_type": "execute_result"
    }
   ],
   "source": [
    "[*filter(lambda number: number % 2 == 0, numbers)]"
   ]
  },
  {
   "cell_type": "markdown",
   "id": "2788ad1b",
   "metadata": {},
   "source": [
    "#### Reduce"
   ]
  },
  {
   "cell_type": "markdown",
   "id": "c1510be9",
   "metadata": {},
   "source": [
    "###### Simple"
   ]
  },
  {
   "cell_type": "code",
   "execution_count": 18,
   "id": "72c5e08d",
   "metadata": {},
   "outputs": [
    {
     "name": "stdout",
     "output_type": "stream",
     "text": [
      "[1, 2, 3, 4, 5] 15\n"
     ]
    }
   ],
   "source": [
    "result = reduce(lambda acc, number: acc + number, numbers)\n",
    "\n",
    "print(numbers, result)"
   ]
  },
  {
   "cell_type": "markdown",
   "id": "64151b94",
   "metadata": {},
   "source": [
    "###### To object"
   ]
  },
  {
   "cell_type": "code",
   "execution_count": 19,
   "id": "6fbdaa85",
   "metadata": {},
   "outputs": [
    {
     "name": "stdout",
     "output_type": "stream",
     "text": [
      "[{'name': 'Jason', 'age': 51}, {'name': 'Kimberly', 'age': 36}, {'name': 'Duane', 'age': 41}] 128\n"
     ]
    }
   ],
   "source": [
    "users = []\n",
    "\n",
    "for _ in range(3):\n",
    "    users.append({\n",
    "        'name': fake.first_name(),\n",
    "        'age': fake.random.randint(16, 55)\n",
    "    })\n",
    "    \n",
    "result = reduce(lambda acc, user: acc + user['age'], users, 0)\n",
    "\n",
    "print(users, result)"
   ]
  },
  {
   "cell_type": "markdown",
   "id": "666c01c2",
   "metadata": {},
   "source": [
    "#### Iterator"
   ]
  },
  {
   "cell_type": "markdown",
   "id": "584d2665",
   "metadata": {},
   "source": [
    "##### Get first"
   ]
  },
  {
   "cell_type": "code",
   "execution_count": 20,
   "id": "9b41c154",
   "metadata": {},
   "outputs": [
    {
     "data": {
      "text/plain": [
       "1"
      ]
     },
     "execution_count": 20,
     "metadata": {},
     "output_type": "execute_result"
    }
   ],
   "source": [
    "next(i for i in numbers)"
   ]
  }
 ],
 "metadata": {
  "kernelspec": {
   "display_name": "Python 3 (ipykernel)",
   "language": "python",
   "name": "python3"
  },
  "language_info": {
   "codemirror_mode": {
    "name": "ipython",
    "version": 3
   },
   "file_extension": ".py",
   "mimetype": "text/x-python",
   "name": "python",
   "nbconvert_exporter": "python",
   "pygments_lexer": "ipython3",
   "version": "3.9.16"
  }
 },
 "nbformat": 4,
 "nbformat_minor": 5
}
