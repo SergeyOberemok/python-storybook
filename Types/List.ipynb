{
 "cells": [
  {
   "cell_type": "markdown",
   "id": "e39b3b62",
   "metadata": {},
   "source": [
    "# List"
   ]
  },
  {
   "cell_type": "code",
   "execution_count": 17,
   "id": "3693f191",
   "metadata": {},
   "outputs": [],
   "source": [
    "from faker import Faker\n",
    "import os, sys\n",
    "from functools import reduce"
   ]
  },
  {
   "cell_type": "code",
   "execution_count": 7,
   "id": "7bc50cd7",
   "metadata": {},
   "outputs": [],
   "source": [
    "dirPath = os.path.abspath(os.path.join('..\\\\libs'))\n",
    "if dirPath not in sys.path:\n",
    "    sys.path.append(dirPath)"
   ]
  },
  {
   "cell_type": "code",
   "execution_count": 15,
   "id": "45c08bae",
   "metadata": {},
   "outputs": [],
   "source": [
    "import PythonStorybookLibs.helpers.numbers as numberHelpers"
   ]
  },
  {
   "cell_type": "code",
   "execution_count": 9,
   "id": "d26e8d57",
   "metadata": {},
   "outputs": [],
   "source": [
    "fake = Faker()"
   ]
  },
  {
   "cell_type": "markdown",
   "id": "c818889d",
   "metadata": {},
   "source": [
    "### Init"
   ]
  },
  {
   "cell_type": "code",
   "execution_count": 10,
   "id": "af2bfc05",
   "metadata": {},
   "outputs": [
    {
     "name": "stdout",
     "output_type": "stream",
     "text": [
      "['apple', 'banana', 'orange']\n"
     ]
    }
   ],
   "source": [
    "fruits = ['apple', 'banana', 'orange']\n",
    "\n",
    "print(fruits)"
   ]
  },
  {
   "cell_type": "code",
   "execution_count": 11,
   "id": "5f2c005f",
   "metadata": {},
   "outputs": [
    {
     "name": "stdout",
     "output_type": "stream",
     "text": [
      "['apple', 'banana', 'orange']\n"
     ]
    }
   ],
   "source": [
    "fruits = list(('apple', 'banana', 'orange'))\n",
    "\n",
    "print(fruits)"
   ]
  },
  {
   "cell_type": "markdown",
   "id": "c75d688e",
   "metadata": {},
   "source": [
    "### Add"
   ]
  },
  {
   "cell_type": "code",
   "execution_count": 12,
   "id": "51032944",
   "metadata": {},
   "outputs": [
    {
     "name": "stdout",
     "output_type": "stream",
     "text": [
      "['apple', 'banana', 'orange', 'strawberry']\n"
     ]
    }
   ],
   "source": [
    "fruits.append('strawberry')\n",
    "\n",
    "print(fruits)"
   ]
  },
  {
   "cell_type": "markdown",
   "id": "4c0b99b4",
   "metadata": {},
   "source": [
    "### Operations"
   ]
  },
  {
   "cell_type": "markdown",
   "id": "2788ad1b",
   "metadata": {},
   "source": [
    "#### Reduce"
   ]
  },
  {
   "cell_type": "markdown",
   "id": "65fbb511",
   "metadata": {},
   "source": [
    "##### Simple"
   ]
  },
  {
   "cell_type": "code",
   "execution_count": 19,
   "id": "72c5e08d",
   "metadata": {},
   "outputs": [
    {
     "name": "stdout",
     "output_type": "stream",
     "text": [
      "[8, 7, 6] 21\n"
     ]
    }
   ],
   "source": [
    "numbers = numberHelpers.getRandomNumbers(3, 1, 10)\n",
    "\n",
    "result = reduce(lambda acc, number: acc + number, numbers)\n",
    "\n",
    "print(numbers, result)"
   ]
  },
  {
   "cell_type": "markdown",
   "id": "64151b94",
   "metadata": {},
   "source": [
    "##### Object"
   ]
  },
  {
   "cell_type": "code",
   "execution_count": 26,
   "id": "6fbdaa85",
   "metadata": {},
   "outputs": [
    {
     "name": "stdout",
     "output_type": "stream",
     "text": [
      "[{'name': 'Sara', 'age': 32}, {'name': 'Stephanie', 'age': 34}, {'name': 'Laura', 'age': 28}] 94\n"
     ]
    }
   ],
   "source": [
    "users = []\n",
    "\n",
    "for _ in range(3):\n",
    "    users.append({\n",
    "        'name': fake.first_name(),\n",
    "        'age': fake.random.randint(16, 55)\n",
    "    })\n",
    "    \n",
    "result = reduce(lambda acc, user: acc + user['age'], users, 0)\n",
    "\n",
    "print(users, result)"
   ]
  }
 ],
 "metadata": {
  "kernelspec": {
   "display_name": "Python 3 (ipykernel)",
   "language": "python",
   "name": "python3"
  },
  "language_info": {
   "codemirror_mode": {
    "name": "ipython",
    "version": 3
   },
   "file_extension": ".py",
   "mimetype": "text/x-python",
   "name": "python",
   "nbconvert_exporter": "python",
   "pygments_lexer": "ipython3",
   "version": "3.9.16"
  }
 },
 "nbformat": 4,
 "nbformat_minor": 5
}
