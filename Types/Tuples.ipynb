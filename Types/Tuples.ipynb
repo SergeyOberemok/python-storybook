{
 "cells": [
  {
   "cell_type": "code",
   "execution_count": 17,
   "id": "3975da9a",
   "metadata": {},
   "outputs": [],
   "source": [
    "from functools import reduce"
   ]
  },
  {
   "cell_type": "code",
   "execution_count": 18,
   "id": "513dcea6",
   "metadata": {},
   "outputs": [],
   "source": [
    "keyValueTuple = ('key', 'value')\n",
    "sexAgeTuple = (True, 28)"
   ]
  },
  {
   "cell_type": "markdown",
   "id": "6c4c66e4",
   "metadata": {},
   "source": [
    "### Type"
   ]
  },
  {
   "cell_type": "code",
   "execution_count": 19,
   "id": "69c36683",
   "metadata": {},
   "outputs": [
    {
     "name": "stdout",
     "output_type": "stream",
     "text": [
      "<class 'tuple'>\n"
     ]
    }
   ],
   "source": [
    "print(type(keyValueTuple))"
   ]
  },
  {
   "cell_type": "markdown",
   "id": "1323e871",
   "metadata": {},
   "source": [
    "### Access items"
   ]
  },
  {
   "cell_type": "code",
   "execution_count": 20,
   "id": "5aabf6ae",
   "metadata": {},
   "outputs": [
    {
     "name": "stdout",
     "output_type": "stream",
     "text": [
      "True\n",
      "28\n"
     ]
    }
   ],
   "source": [
    "for i in range(len(sexAgeTuple)):\n",
    "    print(sexAgeTuple[i])"
   ]
  },
  {
   "cell_type": "markdown",
   "id": "18575c2c",
   "metadata": {},
   "source": [
    "### ToString"
   ]
  },
  {
   "cell_type": "code",
   "execution_count": 31,
   "id": "69d7427a",
   "metadata": {},
   "outputs": [
    {
     "name": "stdout",
     "output_type": "stream",
     "text": [
      "True 28\n"
     ]
    }
   ],
   "source": [
    "result = reduce(lambda item1, item2: str(item1) + ' ' + str(item2), sexAgeTuple)\n",
    "\n",
    "print(result)"
   ]
  }
 ],
 "metadata": {
  "kernelspec": {
   "display_name": "Python 3 (ipykernel)",
   "language": "python",
   "name": "python3"
  },
  "language_info": {
   "codemirror_mode": {
    "name": "ipython",
    "version": 3
   },
   "file_extension": ".py",
   "mimetype": "text/x-python",
   "name": "python",
   "nbconvert_exporter": "python",
   "pygments_lexer": "ipython3",
   "version": "3.9.16"
  }
 },
 "nbformat": 4,
 "nbformat_minor": 5
}
