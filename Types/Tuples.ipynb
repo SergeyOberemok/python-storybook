{
 "cells": [
  {
   "cell_type": "code",
   "execution_count": 15,
   "id": "3975da9a",
   "metadata": {},
   "outputs": [],
   "source": [
    "from functools import reduce"
   ]
  },
  {
   "cell_type": "markdown",
   "id": "ce4fa88c",
   "metadata": {},
   "source": [
    "### Init"
   ]
  },
  {
   "cell_type": "code",
   "execution_count": 9,
   "id": "513dcea6",
   "metadata": {},
   "outputs": [],
   "source": [
    "keyValue = ('key', 'value')\n",
    "sexAge = (True, 28)\n",
    "singletonTuple = 'value',"
   ]
  },
  {
   "cell_type": "markdown",
   "id": "6c4c66e4",
   "metadata": {},
   "source": [
    "### Type"
   ]
  },
  {
   "cell_type": "code",
   "execution_count": 10,
   "id": "69c36683",
   "metadata": {},
   "outputs": [],
   "source": [
    "assert type(keyValue) == tuple"
   ]
  },
  {
   "cell_type": "markdown",
   "id": "1323e871",
   "metadata": {},
   "source": [
    "### Get"
   ]
  },
  {
   "cell_type": "code",
   "execution_count": 4,
   "id": "5aabf6ae",
   "metadata": {},
   "outputs": [
    {
     "name": "stdout",
     "output_type": "stream",
     "text": [
      "True\n",
      "28\n"
     ]
    }
   ],
   "source": [
    "for i in range(len(sexAge)):\n",
    "    print(sexAgeTuple[i])"
   ]
  },
  {
   "cell_type": "markdown",
   "id": "d2744a10",
   "metadata": {},
   "source": [
    "### Length"
   ]
  },
  {
   "cell_type": "code",
   "execution_count": 11,
   "id": "e3569363",
   "metadata": {},
   "outputs": [
    {
     "data": {
      "text/plain": [
       "(2, 1)"
      ]
     },
     "execution_count": 11,
     "metadata": {},
     "output_type": "execute_result"
    }
   ],
   "source": [
    "(len(keyValue), len(singleton))"
   ]
  },
  {
   "cell_type": "markdown",
   "id": "97e04acb",
   "metadata": {},
   "source": [
    "### Cast"
   ]
  },
  {
   "cell_type": "markdown",
   "id": "18575c2c",
   "metadata": {},
   "source": [
    "#### ToString"
   ]
  },
  {
   "cell_type": "code",
   "execution_count": 16,
   "id": "69d7427a",
   "metadata": {},
   "outputs": [
    {
     "data": {
      "text/plain": [
       "'True 28'"
      ]
     },
     "execution_count": 16,
     "metadata": {},
     "output_type": "execute_result"
    }
   ],
   "source": [
    "reduce(lambda item1, item2: str(item1) + ' ' + str(item2), sexAge)"
   ]
  },
  {
   "cell_type": "markdown",
   "id": "750b9f4b",
   "metadata": {},
   "source": [
    "#### ToList"
   ]
  },
  {
   "cell_type": "code",
   "execution_count": 17,
   "id": "9f039f7b",
   "metadata": {},
   "outputs": [
    {
     "data": {
      "text/plain": [
       "['key', 'value']"
      ]
     },
     "execution_count": 17,
     "metadata": {},
     "output_type": "execute_result"
    }
   ],
   "source": [
    "list(keyValue)"
   ]
  }
 ],
 "metadata": {
  "kernelspec": {
   "display_name": "Python 3 (ipykernel)",
   "language": "python",
   "name": "python3"
  },
  "language_info": {
   "codemirror_mode": {
    "name": "ipython",
    "version": 3
   },
   "file_extension": ".py",
   "mimetype": "text/x-python",
   "name": "python",
   "nbconvert_exporter": "python",
   "pygments_lexer": "ipython3",
   "version": "3.11.5"
  }
 },
 "nbformat": 4,
 "nbformat_minor": 5
}
