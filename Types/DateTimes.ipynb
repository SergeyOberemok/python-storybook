{
 "cells": [
  {
   "cell_type": "markdown",
   "id": "100c1067",
   "metadata": {},
   "source": [
    "# Date and Time"
   ]
  },
  {
   "cell_type": "code",
   "execution_count": 19,
   "id": "747aa503",
   "metadata": {},
   "outputs": [],
   "source": [
    "from datetime import date, datetime, timedelta"
   ]
  },
  {
   "cell_type": "markdown",
   "id": "266423a4",
   "metadata": {},
   "source": [
    "### Init"
   ]
  },
  {
   "cell_type": "markdown",
   "id": "60e6b86d",
   "metadata": {},
   "source": [
    "#### Now and Today"
   ]
  },
  {
   "cell_type": "code",
   "execution_count": 8,
   "id": "59d11d64",
   "metadata": {},
   "outputs": [
    {
     "name": "stdout",
     "output_type": "stream",
     "text": [
      "2023-04-20 19:02:12.650661\n"
     ]
    }
   ],
   "source": [
    "now = datetime.now()\n",
    "\n",
    "print(now)"
   ]
  },
  {
   "cell_type": "markdown",
   "id": "044c120c",
   "metadata": {},
   "source": [
    "#### Today"
   ]
  },
  {
   "cell_type": "code",
   "execution_count": 9,
   "id": "f3257cb7",
   "metadata": {},
   "outputs": [
    {
     "name": "stdout",
     "output_type": "stream",
     "text": [
      "2023-04-20\n"
     ]
    }
   ],
   "source": [
    "today = date.today()\n",
    "\n",
    "print(today)"
   ]
  },
  {
   "cell_type": "markdown",
   "id": "f6db6345",
   "metadata": {},
   "source": [
    "#### Type"
   ]
  },
  {
   "cell_type": "code",
   "execution_count": 23,
   "id": "b2a84cae",
   "metadata": {},
   "outputs": [
    {
     "name": "stdout",
     "output_type": "stream",
     "text": [
      "<class 'datetime.date'> <class 'datetime.datetime'>\n"
     ]
    }
   ],
   "source": [
    "today = date.today()\n",
    "now = datetime.now()\n",
    "\n",
    "print(type(today), type(now))"
   ]
  },
  {
   "cell_type": "markdown",
   "id": "e915856f",
   "metadata": {},
   "source": [
    "### Parse"
   ]
  },
  {
   "cell_type": "markdown",
   "id": "1d49914b",
   "metadata": {},
   "source": [
    "#### ISO"
   ]
  },
  {
   "cell_type": "code",
   "execution_count": 14,
   "id": "e5bb8df4",
   "metadata": {},
   "outputs": [
    {
     "name": "stdout",
     "output_type": "stream",
     "text": [
      "2023-04-20\n"
     ]
    }
   ],
   "source": [
    "parsedDate = date.fromisoformat('2023-04-20')\n",
    "\n",
    "print(parsedDate)"
   ]
  },
  {
   "cell_type": "markdown",
   "id": "5a0bd4ab",
   "metadata": {},
   "source": [
    "#### Format"
   ]
  },
  {
   "cell_type": "code",
   "execution_count": 17,
   "id": "7862ea02",
   "metadata": {},
   "outputs": [
    {
     "name": "stdout",
     "output_type": "stream",
     "text": [
      "2023-04-20 00:00:00\n"
     ]
    }
   ],
   "source": [
    "parsedDate = datetime.strptime('20230420', '%Y%m%d')\n",
    "\n",
    "print(parsedDate)"
   ]
  },
  {
   "cell_type": "markdown",
   "id": "f568dc5f",
   "metadata": {},
   "source": [
    "#### ISO"
   ]
  },
  {
   "cell_type": "code",
   "execution_count": 24,
   "id": "1ce04d66",
   "metadata": {},
   "outputs": [
    {
     "name": "stdout",
     "output_type": "stream",
     "text": [
      "2023-04-20T20:23:26.888199\n"
     ]
    }
   ],
   "source": [
    "now = datetime.now()\n",
    "\n",
    "result = now.isoformat()\n",
    "\n",
    "print(result)"
   ]
  },
  {
   "cell_type": "markdown",
   "id": "90b4a434",
   "metadata": {},
   "source": [
    "### Convert"
   ]
  },
  {
   "cell_type": "markdown",
   "id": "45fa2030",
   "metadata": {},
   "source": [
    "#### Format"
   ]
  },
  {
   "cell_type": "code",
   "execution_count": 18,
   "id": "0b3ab99f",
   "metadata": {},
   "outputs": [
    {
     "name": "stdout",
     "output_type": "stream",
     "text": [
      "20/04/2023\n"
     ]
    }
   ],
   "source": [
    "today = date.today()\n",
    "\n",
    "print(today.strftime('%d/%m/%Y'))"
   ]
  },
  {
   "cell_type": "markdown",
   "id": "81ac0667",
   "metadata": {},
   "source": [
    "### Calculation"
   ]
  },
  {
   "cell_type": "markdown",
   "id": "7b594fee",
   "metadata": {},
   "source": [
    "#### Days"
   ]
  },
  {
   "cell_type": "code",
   "execution_count": 21,
   "id": "026aa72f",
   "metadata": {},
   "outputs": [
    {
     "name": "stdout",
     "output_type": "stream",
     "text": [
      "2023-03-31\n"
     ]
    }
   ],
   "source": [
    "firstOfApril = date.fromisoformat('2023-04-01')\n",
    "lastOfMarch = firstOfApril - timedelta(days = 1)\n",
    "\n",
    "print(lastOfMarch)"
   ]
  }
 ],
 "metadata": {
  "kernelspec": {
   "display_name": "Python 3 (ipykernel)",
   "language": "python",
   "name": "python3"
  },
  "language_info": {
   "codemirror_mode": {
    "name": "ipython",
    "version": 3
   },
   "file_extension": ".py",
   "mimetype": "text/x-python",
   "name": "python",
   "nbconvert_exporter": "python",
   "pygments_lexer": "ipython3",
   "version": "3.9.16"
  }
 },
 "nbformat": 4,
 "nbformat_minor": 5
}
