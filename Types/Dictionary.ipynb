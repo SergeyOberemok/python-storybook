{
 "cells": [
  {
   "cell_type": "markdown",
   "id": "5e470890",
   "metadata": {},
   "source": [
    "# Dictionary"
   ]
  },
  {
   "cell_type": "markdown",
   "id": "0569a2de",
   "metadata": {},
   "source": [
    "### Init"
   ]
  },
  {
   "cell_type": "markdown",
   "id": "4e9829e7",
   "metadata": {},
   "source": [
    "#### dict"
   ]
  },
  {
   "cell_type": "code",
   "execution_count": 3,
   "id": "a0624ad7",
   "metadata": {},
   "outputs": [
    {
     "name": "stdout",
     "output_type": "stream",
     "text": [
      "{'name': 'John'}\n"
     ]
    }
   ],
   "source": [
    "user = dict(name = 'John')\n",
    "\n",
    "print(user)"
   ]
  },
  {
   "cell_type": "markdown",
   "id": "d3aecf35",
   "metadata": {},
   "source": [
    "#### {}"
   ]
  },
  {
   "cell_type": "code",
   "execution_count": 1,
   "id": "602d548c",
   "metadata": {},
   "outputs": [
    {
     "name": "stdout",
     "output_type": "stream",
     "text": [
      "{'name': 'Mick'}\n"
     ]
    }
   ],
   "source": [
    "user = { 'name': 'Mick' }\n",
    "\n",
    "print(user)"
   ]
  },
  {
   "cell_type": "markdown",
   "id": "9271b841",
   "metadata": {},
   "source": [
    "#### key"
   ]
  },
  {
   "cell_type": "code",
   "execution_count": 10,
   "id": "77f8baa3",
   "metadata": {},
   "outputs": [
    {
     "name": "stdout",
     "output_type": "stream",
     "text": [
      "{'name': 'Ron'}\n"
     ]
    }
   ],
   "source": [
    "name = 'Ron'\n",
    "user = dict(name = name)\n",
    "\n",
    "print(user)"
   ]
  },
  {
   "cell_type": "code",
   "execution_count": 7,
   "id": "59d7c1f4",
   "metadata": {},
   "outputs": [
    {
     "name": "stdout",
     "output_type": "stream",
     "text": [
      "{'Paul'} {'Paul': 'Paul'}\n"
     ]
    }
   ],
   "source": [
    "name = 'Paul'\n",
    "\n",
    "print({ name }, { name: name })"
   ]
  },
  {
   "cell_type": "markdown",
   "id": "a13c15ca",
   "metadata": {},
   "source": [
    "### Keys and Values"
   ]
  },
  {
   "cell_type": "markdown",
   "id": "f68ed061",
   "metadata": {},
   "source": [
    "#### keys"
   ]
  },
  {
   "cell_type": "code",
   "execution_count": 3,
   "id": "cae8ef14",
   "metadata": {},
   "outputs": [
    {
     "name": "stdout",
     "output_type": "stream",
     "text": [
      "dict_keys(['name']) <class 'dict_keys'>\n"
     ]
    }
   ],
   "source": [
    "user = { 'name': 'Max' }\n",
    "\n",
    "result = user.keys()\n",
    "\n",
    "print(result, type(result))"
   ]
  },
  {
   "cell_type": "markdown",
   "id": "0f07eece",
   "metadata": {},
   "source": [
    "#### values"
   ]
  },
  {
   "cell_type": "code",
   "execution_count": 5,
   "id": "b60d9762",
   "metadata": {},
   "outputs": [
    {
     "name": "stdout",
     "output_type": "stream",
     "text": [
      "dict_values(['Nike']) <class 'dict_values'>\n"
     ]
    }
   ],
   "source": [
    "user = { 'name': 'Nike' }\n",
    "\n",
    "result = user.values()\n",
    "\n",
    "print(result, type(result))"
   ]
  }
 ],
 "metadata": {
  "kernelspec": {
   "display_name": "Python 3 (ipykernel)",
   "language": "python",
   "name": "python3"
  },
  "language_info": {
   "codemirror_mode": {
    "name": "ipython",
    "version": 3
   },
   "file_extension": ".py",
   "mimetype": "text/x-python",
   "name": "python",
   "nbconvert_exporter": "python",
   "pygments_lexer": "ipython3",
   "version": "3.9.16"
  }
 },
 "nbformat": 4,
 "nbformat_minor": 5
}
