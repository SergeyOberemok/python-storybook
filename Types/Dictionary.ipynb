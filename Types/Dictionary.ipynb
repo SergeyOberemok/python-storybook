{
 "cells": [
  {
   "cell_type": "markdown",
   "id": "5e470890",
   "metadata": {},
   "source": [
    "# Dictionary"
   ]
  },
  {
   "cell_type": "markdown",
   "id": "0569a2de",
   "metadata": {},
   "source": [
    "### Init"
   ]
  },
  {
   "cell_type": "markdown",
   "id": "4e9829e7",
   "metadata": {},
   "source": [
    "#### dict - params"
   ]
  },
  {
   "cell_type": "code",
   "execution_count": 1,
   "id": "a0624ad7",
   "metadata": {},
   "outputs": [
    {
     "name": "stdout",
     "output_type": "stream",
     "text": [
      "{'name': 'John', 'age': 18}\n"
     ]
    }
   ],
   "source": [
    "user = dict(name = 'John', age = 18)\n",
    "\n",
    "print(user)"
   ]
  },
  {
   "cell_type": "markdown",
   "id": "970c4735",
   "metadata": {},
   "source": [
    "#### dist - list of tuples - the same as items()"
   ]
  },
  {
   "cell_type": "code",
   "execution_count": 2,
   "id": "99de1889",
   "metadata": {},
   "outputs": [
    {
     "name": "stdout",
     "output_type": "stream",
     "text": [
      "{'name': 'John', 'age': 18}\n"
     ]
    }
   ],
   "source": [
    "user = dict([('name', 'John'), ('age', 18)])\n",
    "\n",
    "print(user)"
   ]
  },
  {
   "cell_type": "markdown",
   "id": "d3aecf35",
   "metadata": {},
   "source": [
    "#### {}"
   ]
  },
  {
   "cell_type": "code",
   "execution_count": 3,
   "id": "602d548c",
   "metadata": {},
   "outputs": [
    {
     "name": "stdout",
     "output_type": "stream",
     "text": [
      "{'name': 'Mick', 'age': 18}\n"
     ]
    }
   ],
   "source": [
    "user = { 'name': 'Mick', 'age': 18 }\n",
    "\n",
    "print(user)"
   ]
  },
  {
   "cell_type": "markdown",
   "id": "9271b841",
   "metadata": {},
   "source": [
    "#### key"
   ]
  },
  {
   "cell_type": "code",
   "execution_count": 4,
   "id": "77f8baa3",
   "metadata": {},
   "outputs": [
    {
     "data": {
      "text/plain": [
       "{'name': 'Ron'}"
      ]
     },
     "execution_count": 4,
     "metadata": {},
     "output_type": "execute_result"
    }
   ],
   "source": [
    "name = 'Ron'\n",
    "\n",
    "dict(name = name)"
   ]
  },
  {
   "cell_type": "code",
   "execution_count": 5,
   "id": "59d7c1f4",
   "metadata": {},
   "outputs": [
    {
     "name": "stdout",
     "output_type": "stream",
     "text": [
      "{'Paul'} {'Paul': 'Paul'}\n"
     ]
    }
   ],
   "source": [
    "name = 'Paul'\n",
    "\n",
    "print({ name }, { name: name })"
   ]
  },
  {
   "cell_type": "markdown",
   "id": "a13c15ca",
   "metadata": {},
   "source": [
    "### Keys and Values"
   ]
  },
  {
   "cell_type": "markdown",
   "id": "f68ed061",
   "metadata": {},
   "source": [
    "#### keys"
   ]
  },
  {
   "cell_type": "code",
   "execution_count": 6,
   "id": "cae8ef14",
   "metadata": {},
   "outputs": [
    {
     "name": "stdout",
     "output_type": "stream",
     "text": [
      "dict_keys(['name', 'age']) <class 'dict_keys'>\n"
     ]
    }
   ],
   "source": [
    "result = user.keys()\n",
    "\n",
    "print(result, type(result))"
   ]
  },
  {
   "cell_type": "markdown",
   "id": "0f07eece",
   "metadata": {},
   "source": [
    "#### values"
   ]
  },
  {
   "cell_type": "code",
   "execution_count": 7,
   "id": "b60d9762",
   "metadata": {},
   "outputs": [
    {
     "name": "stdout",
     "output_type": "stream",
     "text": [
      "dict_values(['Mick', 18]) <class 'dict_values'>\n"
     ]
    }
   ],
   "source": [
    "result = user.values()\n",
    "\n",
    "print(result, type(result))"
   ]
  },
  {
   "cell_type": "markdown",
   "id": "c05bd17e",
   "metadata": {},
   "source": [
    "#### items"
   ]
  },
  {
   "cell_type": "code",
   "execution_count": 8,
   "id": "2a363de8",
   "metadata": {},
   "outputs": [
    {
     "name": "stdout",
     "output_type": "stream",
     "text": [
      "dict_items([('name', 'Mick'), ('age', 18)]) <class 'dict_items'>\n"
     ]
    }
   ],
   "source": [
    "result = user.items()\n",
    "\n",
    "print(result, type(result))"
   ]
  },
  {
   "cell_type": "markdown",
   "id": "8fd9b42e",
   "metadata": {},
   "source": [
    "### Delete"
   ]
  },
  {
   "cell_type": "code",
   "execution_count": 9,
   "id": "f9c32582",
   "metadata": {},
   "outputs": [
    {
     "name": "stdout",
     "output_type": "stream",
     "text": [
      "{'age': 18}\n"
     ]
    }
   ],
   "source": [
    "del user['name']\n",
    "\n",
    "print(user)"
   ]
  }
 ],
 "metadata": {
  "kernelspec": {
   "display_name": "Python 3 (ipykernel)",
   "language": "python",
   "name": "python3"
  },
  "language_info": {
   "codemirror_mode": {
    "name": "ipython",
    "version": 3
   },
   "file_extension": ".py",
   "mimetype": "text/x-python",
   "name": "python",
   "nbconvert_exporter": "python",
   "pygments_lexer": "ipython3",
   "version": "3.9.16"
  }
 },
 "nbformat": 4,
 "nbformat_minor": 5
}
