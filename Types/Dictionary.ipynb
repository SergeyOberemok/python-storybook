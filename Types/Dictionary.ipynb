{
 "cells": [
  {
   "cell_type": "code",
   "execution_count": 2,
   "id": "e3fe7e2d-b179-4ced-a334-cbe68bbcdcbe",
   "metadata": {},
   "outputs": [],
   "source": [
    "from faker import Faker"
   ]
  },
  {
   "cell_type": "code",
   "execution_count": 3,
   "id": "50901e4d-cd2c-4d2b-b918-acbe303d481f",
   "metadata": {},
   "outputs": [],
   "source": [
    "fake = Faker()"
   ]
  },
  {
   "cell_type": "markdown",
   "id": "83b1fab6-9ee3-4ad2-9d82-9643f1d6e8d7",
   "metadata": {},
   "source": [
    "---"
   ]
  },
  {
   "cell_type": "markdown",
   "id": "0569a2de",
   "metadata": {
    "jp-MarkdownHeadingCollapsed": true
   },
   "source": [
    "# Create"
   ]
  },
  {
   "cell_type": "markdown",
   "id": "f14b18a0-1d9b-4623-a808-ba0208697d1f",
   "metadata": {
    "jp-MarkdownHeadingCollapsed": true
   },
   "source": [
    "## dict"
   ]
  },
  {
   "cell_type": "markdown",
   "id": "4e9829e7",
   "metadata": {
    "jp-MarkdownHeadingCollapsed": true
   },
   "source": [
    "### params"
   ]
  },
  {
   "cell_type": "code",
   "execution_count": 36,
   "id": "a0624ad7",
   "metadata": {},
   "outputs": [
    {
     "name": "stdout",
     "output_type": "stream",
     "text": [
      "{'name': 'John', 'age': 18}\n"
     ]
    }
   ],
   "source": [
    "user = dict(name = 'John', age = 18)\n",
    "\n",
    "print(user)"
   ]
  },
  {
   "cell_type": "markdown",
   "id": "970c4735",
   "metadata": {
    "jp-MarkdownHeadingCollapsed": true
   },
   "source": [
    "### list of tuples - the same as items()"
   ]
  },
  {
   "cell_type": "code",
   "execution_count": 37,
   "id": "99de1889",
   "metadata": {},
   "outputs": [
    {
     "name": "stdout",
     "output_type": "stream",
     "text": [
      "{'name': 'John', 'age': 18}\n"
     ]
    }
   ],
   "source": [
    "user = dict([('name', 'John'), ('age', 18)])\n",
    "\n",
    "print(user)"
   ]
  },
  {
   "cell_type": "markdown",
   "id": "d3aecf35",
   "metadata": {
    "jp-MarkdownHeadingCollapsed": true
   },
   "source": [
    "### {}"
   ]
  },
  {
   "cell_type": "code",
   "execution_count": 38,
   "id": "602d548c",
   "metadata": {},
   "outputs": [
    {
     "name": "stdout",
     "output_type": "stream",
     "text": [
      "{'name': 'Mick', 'age': 18}\n"
     ]
    }
   ],
   "source": [
    "user = { 'name': 'Mick', 'age': 18 }\n",
    "\n",
    "print(user)"
   ]
  },
  {
   "cell_type": "markdown",
   "id": "9271b841",
   "metadata": {
    "jp-MarkdownHeadingCollapsed": true
   },
   "source": [
    "### key"
   ]
  },
  {
   "cell_type": "code",
   "execution_count": 39,
   "id": "77f8baa3",
   "metadata": {},
   "outputs": [
    {
     "data": {
      "text/plain": [
       "({'name': 'Ron'}, {'Ron'}, {'Ron': 'Ron'})"
      ]
     },
     "execution_count": 39,
     "metadata": {},
     "output_type": "execute_result"
    }
   ],
   "source": [
    "name = 'Ron'\n",
    "\n",
    "dict(name = name), { name }, { name: name }"
   ]
  },
  {
   "cell_type": "markdown",
   "id": "2905b40c-f0b0-486c-951d-56679543f240",
   "metadata": {
    "jp-MarkdownHeadingCollapsed": true
   },
   "source": [
    "## Copy"
   ]
  },
  {
   "cell_type": "code",
   "execution_count": 40,
   "id": "89de339f-7c59-475b-9046-281e8131d931",
   "metadata": {},
   "outputs": [
    {
     "data": {
      "text/plain": [
       "{'name': 'Mick', 'age': 18, 'admin': True}"
      ]
     },
     "execution_count": 40,
     "metadata": {},
     "output_type": "execute_result"
    }
   ],
   "source": [
    "{ **user, **{ 'admin': True } }"
   ]
  },
  {
   "cell_type": "markdown",
   "id": "3f4c005e-dcaa-433f-83a9-a021ad1d6693",
   "metadata": {},
   "source": [
    "---"
   ]
  },
  {
   "cell_type": "markdown",
   "id": "541b91e8-a325-4a77-a8de-fd4a64ba10f8",
   "metadata": {
    "jp-MarkdownHeadingCollapsed": true
   },
   "source": [
    "# Read"
   ]
  },
  {
   "cell_type": "markdown",
   "id": "a13c15ca",
   "metadata": {
    "jp-MarkdownHeadingCollapsed": true
   },
   "source": [
    "## Keys and Values"
   ]
  },
  {
   "cell_type": "markdown",
   "id": "f68ed061",
   "metadata": {
    "jp-MarkdownHeadingCollapsed": true
   },
   "source": [
    "### keys"
   ]
  },
  {
   "cell_type": "code",
   "execution_count": 6,
   "id": "cae8ef14",
   "metadata": {},
   "outputs": [
    {
     "name": "stdout",
     "output_type": "stream",
     "text": [
      "dict_keys(['name']) <class 'dict_keys'>\n"
     ]
    }
   ],
   "source": [
    "result = { 'name': fake.name() }.keys()\n",
    "\n",
    "print(result, type(result))"
   ]
  },
  {
   "cell_type": "markdown",
   "id": "0f07eece",
   "metadata": {
    "jp-MarkdownHeadingCollapsed": true
   },
   "source": [
    "### values"
   ]
  },
  {
   "cell_type": "code",
   "execution_count": 5,
   "id": "b60d9762",
   "metadata": {},
   "outputs": [
    {
     "name": "stdout",
     "output_type": "stream",
     "text": [
      "dict_values(['Jason Drake']) <class 'dict_values'>\n"
     ]
    }
   ],
   "source": [
    "result = { 'name': fake.name() }.values()\n",
    "\n",
    "print(result, type(result))"
   ]
  },
  {
   "cell_type": "markdown",
   "id": "c05bd17e",
   "metadata": {
    "jp-MarkdownHeadingCollapsed": true
   },
   "source": [
    "### items"
   ]
  },
  {
   "cell_type": "code",
   "execution_count": 4,
   "id": "e56307c8-f6ed-45b6-b50f-be7d4d6e818e",
   "metadata": {},
   "outputs": [
    {
     "name": "stdout",
     "output_type": "stream",
     "text": [
      "dict_items([('name', 'Mary Lindsey')]) <class 'dict_items'>\n"
     ]
    }
   ],
   "source": [
    "result = { 'name': fake.name() }.items()\n",
    "\n",
    "print(result, type(result))"
   ]
  },
  {
   "cell_type": "markdown",
   "id": "ef1c0aab-7b18-4aaf-a1c0-b9f6cf82ebc1",
   "metadata": {
    "jp-MarkdownHeadingCollapsed": true
   },
   "source": [
    "## Check"
   ]
  },
  {
   "cell_type": "markdown",
   "id": "1f9d0ca3-9783-4a74-a4b1-4442e4ab6b6f",
   "metadata": {
    "jp-MarkdownHeadingCollapsed": true
   },
   "source": [
    "### if"
   ]
  },
  {
   "cell_type": "code",
   "execution_count": 44,
   "id": "fcde7872-17e6-47cf-8e47-f54d6cf58e00",
   "metadata": {},
   "outputs": [],
   "source": [
    "assert ('name' in user) is True"
   ]
  },
  {
   "cell_type": "markdown",
   "id": "291896e3-55ff-42d3-bd34-859e8ea0902e",
   "metadata": {
    "jp-MarkdownHeadingCollapsed": true
   },
   "source": [
    "### None existing"
   ]
  },
  {
   "cell_type": "code",
   "execution_count": 59,
   "id": "0bc31b9f-b819-4f5e-a18a-ac32aea93a83",
   "metadata": {},
   "outputs": [],
   "source": [
    "assert user.get('country') is None and user.get('country', 'US') == 'US'"
   ]
  },
  {
   "cell_type": "markdown",
   "id": "3e5f67bb-811d-429d-bae6-429cbea9190a",
   "metadata": {
    "jp-MarkdownHeadingCollapsed": true
   },
   "source": [
    "### Match/Case"
   ]
  },
  {
   "cell_type": "code",
   "execution_count": 11,
   "id": "e3bfd1bf-b68c-4aa2-a0d1-806684d71063",
   "metadata": {},
   "outputs": [
    {
     "name": "stdout",
     "output_type": "stream",
     "text": [
      "hello\n"
     ]
    }
   ],
   "source": [
    "user = dict(name=fake.first_name(), age=fake.random_int())\n",
    "\n",
    "match user:\n",
    "    case {'name': _}:\n",
    "        print('hello')\n",
    "    case {'name': _, **others}:\n",
    "        print('world')\n",
    "    case _:\n",
    "        print('None')"
   ]
  },
  {
   "cell_type": "code",
   "execution_count": 12,
   "id": "92067543-278e-4830-a63f-940709558d78",
   "metadata": {},
   "outputs": [
    {
     "name": "stdout",
     "output_type": "stream",
     "text": [
      "[('name', 'Jessica'), ('age', 4350)]\n"
     ]
    }
   ],
   "source": [
    "user = dict(name=fake.first_name(), age=fake.random_int())\n",
    "print(list(user.items()))"
   ]
  },
  {
   "cell_type": "markdown",
   "id": "05f06482-a719-42ed-adf6-05cf5b54ac65",
   "metadata": {
    "jp-MarkdownHeadingCollapsed": true
   },
   "source": [
    "# Update"
   ]
  },
  {
   "cell_type": "markdown",
   "id": "0a80a399-d041-4c05-8020-4d95ae0b9bf8",
   "metadata": {
    "jp-MarkdownHeadingCollapsed": true
   },
   "source": [
    "## Add"
   ]
  },
  {
   "cell_type": "code",
   "execution_count": 46,
   "id": "d56d6cf2-8369-48cf-87f9-c6765d7f1ac3",
   "metadata": {},
   "outputs": [
    {
     "name": "stdout",
     "output_type": "stream",
     "text": [
      "{'added': 'new field', 'byParams': 123, 'bySignature': 'asdf'}\n"
     ]
    }
   ],
   "source": [
    "acc = {}\n",
    "\n",
    "acc['added'] = 'new field'\n",
    "acc.update({'byParams': 123})\n",
    "acc.update(bySignature='asdf')\n",
    "\n",
    "print(acc)"
   ]
  },
  {
   "cell_type": "markdown",
   "id": "88a80027-2884-4752-86e8-b9e843020bce",
   "metadata": {
    "jp-MarkdownHeadingCollapsed": true
   },
   "source": [
    "## Merge"
   ]
  },
  {
   "cell_type": "code",
   "execution_count": 2,
   "id": "13c6d0b9-508c-4b8a-9085-858bb20b91b5",
   "metadata": {},
   "outputs": [
    {
     "data": {
      "text/plain": [
       "{'name': 'John', 'age': 18}"
      ]
     },
     "execution_count": 2,
     "metadata": {},
     "output_type": "execute_result"
    }
   ],
   "source": [
    "{'name': 'John'} | {'age': 18}"
   ]
  },
  {
   "cell_type": "markdown",
   "id": "dcba172e-8d5e-4640-882c-d7a50a93018a",
   "metadata": {
    "jp-MarkdownHeadingCollapsed": true
   },
   "source": [
    "# Destroy"
   ]
  },
  {
   "cell_type": "markdown",
   "id": "8fd9b42e",
   "metadata": {
    "jp-MarkdownHeadingCollapsed": true
   },
   "source": [
    "## Field"
   ]
  },
  {
   "cell_type": "code",
   "execution_count": 47,
   "id": "f9c32582",
   "metadata": {},
   "outputs": [
    {
     "name": "stdout",
     "output_type": "stream",
     "text": [
      "{'last': 'to remain'}\n"
     ]
    }
   ],
   "source": [
    "temp = { 'first': 'to delete', 'last': 'to remain' }\n",
    "del temp['first']\n",
    "print(temp)"
   ]
  }
 ],
 "metadata": {
  "kernelspec": {
   "display_name": "Python 3 (ipykernel)",
   "language": "python",
   "name": "python3"
  },
  "language_info": {
   "codemirror_mode": {
    "name": "ipython",
    "version": 3
   },
   "file_extension": ".py",
   "mimetype": "text/x-python",
   "name": "python",
   "nbconvert_exporter": "python",
   "pygments_lexer": "ipython3",
   "version": "3.11.5"
  }
 },
 "nbformat": 4,
 "nbformat_minor": 5
}
