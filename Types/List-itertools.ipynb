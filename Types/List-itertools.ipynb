{
 "cells": [
  {
   "cell_type": "code",
   "execution_count": 1,
   "id": "0aff1ad5-31e6-4385-89cc-4bc93e213388",
   "metadata": {},
   "outputs": [],
   "source": [
    "from itertools import chain"
   ]
  },
  {
   "cell_type": "markdown",
   "id": "6d21eed8-94a0-424f-8cb8-91abc020a2e0",
   "metadata": {},
   "source": [
    "---"
   ]
  },
  {
   "cell_type": "markdown",
   "id": "6290cbce-4c93-4ea1-a417-85ba693fb027",
   "metadata": {},
   "source": [
    "# Update"
   ]
  },
  {
   "cell_type": "markdown",
   "id": "a8fa8d33-ae22-4333-9622-444f47a010ef",
   "metadata": {},
   "source": [
    "## Chunk"
   ]
  },
  {
   "cell_type": "markdown",
   "id": "fdaa45bf-1b4d-4f04-a0bf-52052bb3e8af",
   "metadata": {},
   "source": [
    "### batched"
   ]
  },
  {
   "cell_type": "code",
   "execution_count": 5,
   "id": "d9ce16ef-0afd-4577-b175-005a767b9771",
   "metadata": {},
   "outputs": [],
   "source": [
    "def batched(arr, chunckLength: int) -> list[list]:\n",
    "    for i in range(0, len(arr), chunckLength):\n",
    "        yield arr[i:i + chunckLength]"
   ]
  },
  {
   "cell_type": "code",
   "execution_count": 6,
   "id": "0e4db7c6-1252-4cb7-ab91-56272415cb31",
   "metadata": {},
   "outputs": [
    {
     "data": {
      "text/plain": [
       "[[0, 1, 2], [3, 4, 5], [6, 7, 8], [9]]"
      ]
     },
     "execution_count": 6,
     "metadata": {},
     "output_type": "execute_result"
    }
   ],
   "source": [
    "[*batched([*range(10)], 3)]"
   ]
  },
  {
   "cell_type": "markdown",
   "id": "1b171b44-1789-439f-b23a-cdd6aa5960ad",
   "metadata": {},
   "source": [
    "### reshape"
   ]
  },
  {
   "cell_type": "code",
   "execution_count": 1,
   "id": "10c89963-312c-4952-bbac-b7be943952e0",
   "metadata": {},
   "outputs": [],
   "source": [
    "def reshape(arr, chunckLengths: list[int]) -> list[list]:\n",
    "    for length in chunckLengths:\n",
    "        yield arr[:length]\n",
    "        arr = arr[length:]"
   ]
  },
  {
   "cell_type": "code",
   "execution_count": 7,
   "id": "0dc828da-9cbd-4e65-9598-1824e48ed3b2",
   "metadata": {},
   "outputs": [
    {
     "data": {
      "text/plain": [
       "[[0, 1, 2], [3, 4, 5], [6, 7, 8], [9]]"
      ]
     },
     "execution_count": 7,
     "metadata": {},
     "output_type": "execute_result"
    }
   ],
   "source": [
    "[*reshape([*range(10)], [3] * 4)]"
   ]
  },
  {
   "cell_type": "markdown",
   "id": "8d015d75-56d0-4022-8049-afb40f126651",
   "metadata": {},
   "source": [
    "## flatten"
   ]
  },
  {
   "cell_type": "markdown",
   "id": "7d7b8a89-f82b-44e8-89f0-e664c21dd28e",
   "metadata": {},
   "source": [
    "### chain"
   ]
  },
  {
   "cell_type": "code",
   "execution_count": 13,
   "id": "ef7ed59c-6953-4cf5-aec0-00658f4e474e",
   "metadata": {},
   "outputs": [
    {
     "data": {
      "text/plain": [
       "[0, 1, 2, 3, 4, 5, 6, 7, 8, 9]"
      ]
     },
     "execution_count": 13,
     "metadata": {},
     "output_type": "execute_result"
    }
   ],
   "source": [
    "[*chain.from_iterable(batched([i for i in range(10)], 3))]"
   ]
  }
 ],
 "metadata": {
  "kernelspec": {
   "display_name": "Python 3 (ipykernel)",
   "language": "python",
   "name": "python3"
  },
  "language_info": {
   "codemirror_mode": {
    "name": "ipython",
    "version": 3
   },
   "file_extension": ".py",
   "mimetype": "text/x-python",
   "name": "python",
   "nbconvert_exporter": "python",
   "pygments_lexer": "ipython3",
   "version": "3.11.5"
  }
 },
 "nbformat": 4,
 "nbformat_minor": 5
}
