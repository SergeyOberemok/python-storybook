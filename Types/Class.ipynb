{
 "cells": [
  {
   "cell_type": "code",
   "execution_count": 19,
   "id": "a5f30269",
   "metadata": {},
   "outputs": [],
   "source": [
    "from faker import Faker"
   ]
  },
  {
   "cell_type": "code",
   "execution_count": 20,
   "id": "2a174bf9",
   "metadata": {},
   "outputs": [],
   "source": [
    "fake = Faker()"
   ]
  },
  {
   "cell_type": "markdown",
   "id": "4de316c4",
   "metadata": {},
   "source": [
    "---"
   ]
  },
  {
   "cell_type": "markdown",
   "id": "e9ef9f54",
   "metadata": {},
   "source": [
    "### Definition"
   ]
  },
  {
   "cell_type": "code",
   "execution_count": 33,
   "id": "f84dcdc2",
   "metadata": {},
   "outputs": [],
   "source": [
    "class SimpleObject:\n",
    "    pass"
   ]
  },
  {
   "cell_type": "code",
   "execution_count": 34,
   "id": "79ac1718",
   "metadata": {},
   "outputs": [
    {
     "data": {
      "text/plain": [
       "'Scott Morgan'"
      ]
     },
     "execution_count": 34,
     "metadata": {},
     "output_type": "execute_result"
    }
   ],
   "source": [
    "obj = SimpleObject()\n",
    "obj.value = fake.name()\n",
    "\n",
    "obj.value"
   ]
  },
  {
   "cell_type": "markdown",
   "id": "1ad538d2",
   "metadata": {},
   "source": [
    "---"
   ]
  },
  {
   "cell_type": "markdown",
   "id": "d95526d1",
   "metadata": {},
   "source": [
    "### Properties"
   ]
  },
  {
   "cell_type": "markdown",
   "id": "1e2de0ef",
   "metadata": {},
   "source": [
    "##### Class variable"
   ]
  },
  {
   "cell_type": "code",
   "execution_count": 35,
   "id": "ebe0d45a",
   "metadata": {},
   "outputs": [],
   "source": [
    "class Factory:\n",
    "    name = 'MyFactory'"
   ]
  },
  {
   "cell_type": "code",
   "execution_count": 38,
   "id": "0882e272",
   "metadata": {},
   "outputs": [],
   "source": [
    "assert Factory().name == Factory.name == Factory().name"
   ]
  },
  {
   "cell_type": "markdown",
   "id": "7e7d7568",
   "metadata": {},
   "source": [
    "##### Instance variable"
   ]
  },
  {
   "cell_type": "code",
   "execution_count": 45,
   "id": "8df6dc9a",
   "metadata": {},
   "outputs": [],
   "source": [
    "class GameLevel:\n",
    "    def __init__(self, value):\n",
    "        self.value = value"
   ]
  },
  {
   "cell_type": "code",
   "execution_count": 46,
   "id": "e693c566",
   "metadata": {},
   "outputs": [],
   "source": [
    "assert GameLevel(1).value != GameLevel(2).value"
   ]
  },
  {
   "cell_type": "markdown",
   "id": "739f2819",
   "metadata": {},
   "source": [
    "##### Getter and setter"
   ]
  },
  {
   "cell_type": "code",
   "execution_count": 4,
   "id": "6fcaf040",
   "metadata": {},
   "outputs": [],
   "source": [
    "class Money:\n",
    "    _amount: float\n",
    "    \n",
    "    @property\n",
    "    def amount(self) -> int:\n",
    "        return self._amount;\n",
    "    \n",
    "    @amount.setter\n",
    "    def amount(self, value: float) -> None:\n",
    "        self._amount = round(value)"
   ]
  },
  {
   "cell_type": "code",
   "execution_count": 23,
   "id": "6a83f531",
   "metadata": {},
   "outputs": [
    {
     "data": {
      "text/plain": [
       "3"
      ]
     },
     "execution_count": 23,
     "metadata": {},
     "output_type": "execute_result"
    }
   ],
   "source": [
    "money = Money()\n",
    "money.amount = 3.14\n",
    "\n",
    "money.amount"
   ]
  },
  {
   "cell_type": "markdown",
   "id": "403ed628",
   "metadata": {},
   "source": [
    " ---"
   ]
  },
  {
   "cell_type": "markdown",
   "id": "a9f2cad3",
   "metadata": {},
   "source": [
    "### Methods"
   ]
  },
  {
   "cell_type": "markdown",
   "id": "b59488eb",
   "metadata": {},
   "source": [
    "##### Constructor"
   ]
  },
  {
   "cell_type": "code",
   "execution_count": 11,
   "id": "059db8c6",
   "metadata": {},
   "outputs": [],
   "source": [
    "class User:\n",
    "    def __init__(self, name: str) -> None:\n",
    "        self.name: str = name"
   ]
  },
  {
   "cell_type": "code",
   "execution_count": 24,
   "id": "b876660a",
   "metadata": {},
   "outputs": [
    {
     "data": {
      "text/plain": [
       "'Rebecca Brown'"
      ]
     },
     "execution_count": 24,
     "metadata": {},
     "output_type": "execute_result"
    }
   ],
   "source": [
    "user = User(fake.name())\n",
    "\n",
    "user.name"
   ]
  },
  {
   "cell_type": "markdown",
   "id": "5ac13502",
   "metadata": {},
   "source": [
    "##### toString"
   ]
  },
  {
   "cell_type": "code",
   "execution_count": 49,
   "id": "1c6fa16e",
   "metadata": {},
   "outputs": [],
   "source": [
    "class Address:\n",
    "    def __init__(self, city: str, street: str):\n",
    "        self.city: str = city\n",
    "        self.street: str = street\n",
    "\n",
    "    def __str__(self):\n",
    "        return f'{self.city}, {self.street}'"
   ]
  },
  {
   "cell_type": "code",
   "execution_count": 50,
   "id": "1acc0eaf",
   "metadata": {},
   "outputs": [
    {
     "data": {
      "text/plain": [
       "'Adkinsburgh, 6778 Perry Garden Suite 345'"
      ]
     },
     "execution_count": 50,
     "metadata": {},
     "output_type": "execute_result"
    }
   ],
   "source": [
    "address = Address(fake.city(), fake.street_address())\n",
    "\n",
    "str(address)"
   ]
  },
  {
   "cell_type": "markdown",
   "id": "fe01f29b",
   "metadata": {},
   "source": [
    "##### isEqual"
   ]
  },
  {
   "cell_type": "code",
   "execution_count": 51,
   "id": "c0e638b0",
   "metadata": {},
   "outputs": [],
   "source": [
    "class Department:\n",
    "    def __init__(self, name: str):\n",
    "        self.name: str = name\n",
    "    \n",
    "    def __eq__(self, obj) -> bool:\n",
    "        return isinstance(obj, Department) and self.name == obj.name"
   ]
  },
  {
   "cell_type": "code",
   "execution_count": 52,
   "id": "98e8dc59",
   "metadata": {},
   "outputs": [],
   "source": [
    "assert Department('Dragons') == Department('Dragons')"
   ]
  },
  {
   "cell_type": "markdown",
   "id": "f0a0f759",
   "metadata": {},
   "source": [
    "##### Chaining"
   ]
  },
  {
   "cell_type": "code",
   "execution_count": 48,
   "id": "8ba45644",
   "metadata": {},
   "outputs": [],
   "source": [
    "from typing import Self\n",
    "\n",
    "class Item:\n",
    "    def change(self) -> Self: # you cannot write -> Item\n",
    "        return self"
   ]
  },
  {
   "cell_type": "markdown",
   "id": "e2e401b7",
   "metadata": {},
   "source": [
    "### Genereric"
   ]
  },
  {
   "cell_type": "markdown",
   "id": "fd457971",
   "metadata": {},
   "source": [
    "##### ValueObject"
   ]
  },
  {
   "cell_type": "code",
   "execution_count": null,
   "id": "ad37a844",
   "metadata": {},
   "outputs": [],
   "source": [
    "from typing import TypeVar, Generic\n",
    "\n",
    "T = TypeVar('T')\n",
    "\n",
    "class ValueObject(Generic[T]):\n",
    "    def __init__(self) -> None:\n",
    "        self.data: list[T] = list()\n",
    "            \n",
    "    def contains(self, item: T) -> bool:\n",
    "        pass"
   ]
  },
  {
   "cell_type": "markdown",
   "id": "21c29d82",
   "metadata": {},
   "source": [
    "---"
   ]
  }
 ],
 "metadata": {
  "kernelspec": {
   "display_name": "Python 3 (ipykernel)",
   "language": "python",
   "name": "python3"
  },
  "language_info": {
   "codemirror_mode": {
    "name": "ipython",
    "version": 3
   },
   "file_extension": ".py",
   "mimetype": "text/x-python",
   "name": "python",
   "nbconvert_exporter": "python",
   "pygments_lexer": "ipython3",
   "version": "3.11.5"
  }
 },
 "nbformat": 4,
 "nbformat_minor": 5
}
