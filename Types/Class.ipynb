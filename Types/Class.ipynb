{
 "cells": [
  {
   "cell_type": "markdown",
   "id": "3e082aee",
   "metadata": {},
   "source": [
    "# Class"
   ]
  },
  {
   "cell_type": "markdown",
   "id": "e9ef9f54",
   "metadata": {},
   "source": [
    "### Definition"
   ]
  },
  {
   "cell_type": "code",
   "execution_count": 1,
   "id": "f84dcdc2",
   "metadata": {},
   "outputs": [
    {
     "name": "stdout",
     "output_type": "stream",
     "text": [
      "John\n"
     ]
    }
   ],
   "source": [
    "class User:\n",
    "    name: str\n",
    "    \n",
    "    def __init__(self, name: str) -> None:\n",
    "        self._name = name\n",
    "    \n",
    "    def __str__(self) -> str:\n",
    "        return self._name\n",
    "\n",
    "user = User('John')\n",
    "\n",
    "print(str(user))"
   ]
  },
  {
   "cell_type": "markdown",
   "id": "739f2819",
   "metadata": {},
   "source": [
    "### Property"
   ]
  },
  {
   "cell_type": "code",
   "execution_count": 4,
   "id": "6fcaf040",
   "metadata": {},
   "outputs": [
    {
     "name": "stdout",
     "output_type": "stream",
     "text": [
      "3.14\n"
     ]
    }
   ],
   "source": [
    "class Money:\n",
    "    _amount: float\n",
    "    \n",
    "    @property\n",
    "    def amount(self) -> float:\n",
    "        return self._amount;\n",
    "    \n",
    "    @amount.setter\n",
    "    def amount(self, value: float) -> None:\n",
    "        self._amount = value\n",
    "        \n",
    "    def __str__(self) -> str:\n",
    "        return str(self.amount)\n",
    "        \n",
    "money = Money()\n",
    "money.amount = 3.14\n",
    "\n",
    "print(money)"
   ]
  }
 ],
 "metadata": {
  "kernelspec": {
   "display_name": "Python 3 (ipykernel)",
   "language": "python",
   "name": "python3"
  },
  "language_info": {
   "codemirror_mode": {
    "name": "ipython",
    "version": 3
   },
   "file_extension": ".py",
   "mimetype": "text/x-python",
   "name": "python",
   "nbconvert_exporter": "python",
   "pygments_lexer": "ipython3",
   "version": "3.9.16"
  }
 },
 "nbformat": 4,
 "nbformat_minor": 5
}
