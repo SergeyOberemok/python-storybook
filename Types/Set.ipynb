{
 "cells": [
  {
   "cell_type": "markdown",
   "id": "18295058",
   "metadata": {},
   "source": [
    "# Create"
   ]
  },
  {
   "cell_type": "markdown",
   "id": "37abed58",
   "metadata": {},
   "source": [
    "## Basic"
   ]
  },
  {
   "cell_type": "code",
   "execution_count": 1,
   "id": "d47e91ed",
   "metadata": {},
   "outputs": [
    {
     "data": {
      "text/plain": [
       "{'apple', 'banana', 'cherry'}"
      ]
     },
     "execution_count": 1,
     "metadata": {},
     "output_type": "execute_result"
    }
   ],
   "source": [
    "{\"apple\", \"banana\", \"cherry\"}"
   ]
  },
  {
   "cell_type": "code",
   "execution_count": 2,
   "id": "41c300e8",
   "metadata": {},
   "outputs": [
    {
     "data": {
      "text/plain": [
       "{'apple', 'banana', 'cherry'}"
      ]
     },
     "execution_count": 2,
     "metadata": {},
     "output_type": "execute_result"
    }
   ],
   "source": [
    "apple = 'apple'\n",
    "banana = 'banana'\n",
    "cherry = 'cherry'\n",
    "\n",
    "{ apple, banana, cherry }"
   ]
  },
  {
   "cell_type": "markdown",
   "id": "7e9e95e4-014d-4828-988e-1316e2b58669",
   "metadata": {},
   "source": [
    "# Read"
   ]
  },
  {
   "cell_type": "markdown",
   "id": "ea9fe181",
   "metadata": {},
   "source": [
    "## Check"
   ]
  },
  {
   "cell_type": "code",
   "execution_count": 5,
   "id": "c5bbc018",
   "metadata": {},
   "outputs": [
    {
     "data": {
      "text/plain": [
       "True"
      ]
     },
     "execution_count": 5,
     "metadata": {},
     "output_type": "execute_result"
    }
   ],
   "source": [
    "fruits = {'banana'}\n",
    "\n",
    "'banana' in fruits"
   ]
  },
  {
   "cell_type": "markdown",
   "id": "56dfd481-7c37-4dcd-a3ae-911ac13aeffa",
   "metadata": {},
   "source": [
    "# Update"
   ]
  },
  {
   "cell_type": "markdown",
   "id": "c16f0e9f",
   "metadata": {},
   "source": [
    "## Add"
   ]
  },
  {
   "cell_type": "code",
   "execution_count": 3,
   "id": "75ab5d62",
   "metadata": {},
   "outputs": [
    {
     "data": {
      "text/plain": [
       "{'apple', 'banana', 'cherry'}"
      ]
     },
     "execution_count": 3,
     "metadata": {},
     "output_type": "execute_result"
    }
   ],
   "source": [
    "fruits = {'apple', 'banana', 'cherry'}\n",
    "\n",
    "fruits.add('apple')\n",
    "\n",
    "fruits"
   ]
  },
  {
   "cell_type": "markdown",
   "id": "3ece8ef9-c349-4f72-8cf2-91c9b917ea86",
   "metadata": {},
   "source": [
    "# Destroy"
   ]
  },
  {
   "cell_type": "markdown",
   "id": "28be7e28",
   "metadata": {},
   "source": [
    "## Destructuring"
   ]
  },
  {
   "cell_type": "code",
   "execution_count": 4,
   "id": "d7782eda",
   "metadata": {},
   "outputs": [
    {
     "name": "stdout",
     "output_type": "stream",
     "text": [
      "banana cherry apple\n"
     ]
    }
   ],
   "source": [
    "apple, banana, cherry = fruits\n",
    "\n",
    "print(apple, banana, cherry)"
   ]
  }
 ],
 "metadata": {
  "kernelspec": {
   "display_name": "Python 3 (ipykernel)",
   "language": "python",
   "name": "python3"
  },
  "language_info": {
   "codemirror_mode": {
    "name": "ipython",
    "version": 3
   },
   "file_extension": ".py",
   "mimetype": "text/x-python",
   "name": "python",
   "nbconvert_exporter": "python",
   "pygments_lexer": "ipython3",
   "version": "3.11.5"
  }
 },
 "nbformat": 4,
 "nbformat_minor": 5
}
