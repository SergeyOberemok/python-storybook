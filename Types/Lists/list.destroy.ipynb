{
 "cells": [
  {
   "cell_type": "markdown",
   "id": "a1546851-1872-412f-9167-3d9061608382",
   "metadata": {
    "jp-MarkdownHeadingCollapsed": true
   },
   "source": [
    "# Remove"
   ]
  },
  {
   "cell_type": "markdown",
   "id": "9db79906-dd51-4344-acf0-12b5c01d0b70",
   "metadata": {},
   "source": [
    "## Span"
   ]
  },
  {
   "cell_type": "code",
   "execution_count": 3,
   "id": "c6adf835-80da-489f-bdeb-2c5f272f4a99",
   "metadata": {
    "scrolled": true
   },
   "outputs": [
    {
     "data": {
      "text/plain": [
       "[0, 3, 4]"
      ]
     },
     "execution_count": 3,
     "metadata": {},
     "output_type": "execute_result"
    }
   ],
   "source": [
    "numbers = [*range(5)]\n",
    "\n",
    "numbers[1:3] = []\n",
    "\n",
    "numbers"
   ]
  },
  {
   "cell_type": "markdown",
   "id": "ac43991d-226c-40ed-9250-bbb20671af95",
   "metadata": {},
   "source": [
    "## Value"
   ]
  },
  {
   "cell_type": "code",
   "execution_count": 5,
   "id": "e22dc033-4999-459a-bb45-840644aab809",
   "metadata": {},
   "outputs": [
    {
     "data": {
      "text/plain": [
       "(None, ['', ''])"
      ]
     },
     "execution_count": 5,
     "metadata": {},
     "output_type": "execute_result"
    }
   ],
   "source": [
    "emptyStrings = ['', '', '',]\n",
    "emptyStrings.remove(''), emptyStrings"
   ]
  },
  {
   "cell_type": "markdown",
   "id": "0d0e80f1-6da7-47fc-b92c-c93ab6b5ecf1",
   "metadata": {
    "jp-MarkdownHeadingCollapsed": true
   },
   "source": [
    "# Destructuring"
   ]
  },
  {
   "cell_type": "code",
   "execution_count": 7,
   "id": "29a34e02-556a-4a4e-acac-c3ea7a2e6b03",
   "metadata": {},
   "outputs": [
    {
     "data": {
      "text/plain": [
       "(0, [1, 2, 3, 4])"
      ]
     },
     "execution_count": 7,
     "metadata": {},
     "output_type": "execute_result"
    }
   ],
   "source": [
    "head, *tail = [*range(5)]\n",
    "\n",
    "(head, tail)"
   ]
  },
  {
   "cell_type": "code",
   "execution_count": 8,
   "id": "fa770448-2bb7-458d-8f03-bb100cd4c378",
   "metadata": {},
   "outputs": [
    {
     "data": {
      "text/plain": [
       "(0, [1, 2, 3], 4)"
      ]
     },
     "execution_count": 8,
     "metadata": {},
     "output_type": "execute_result"
    }
   ],
   "source": [
    "head, *middle, tail = [*range(5)]\n",
    "\n",
    "(head, middle, tail)"
   ]
  },
  {
   "cell_type": "code",
   "execution_count": 9,
   "id": "3023cbec-77f1-4544-a660-df62ede41230",
   "metadata": {},
   "outputs": [
    {
     "data": {
      "text/plain": [
       "([0, 1, 2, 3], 4)"
      ]
     },
     "execution_count": 9,
     "metadata": {},
     "output_type": "execute_result"
    }
   ],
   "source": [
    "*head, tail = [*range(5)]\n",
    "\n",
    "(head, tail)"
   ]
  }
 ],
 "metadata": {
  "kernelspec": {
   "display_name": "Python [conda env:base] *",
   "language": "python",
   "name": "conda-base-py"
  },
  "language_info": {
   "codemirror_mode": {
    "name": "ipython",
    "version": 3
   },
   "file_extension": ".py",
   "mimetype": "text/x-python",
   "name": "python",
   "nbconvert_exporter": "python",
   "pygments_lexer": "ipython3",
   "version": "3.11.10"
  }
 },
 "nbformat": 4,
 "nbformat_minor": 5
}
