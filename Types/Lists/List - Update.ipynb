{
 "cells": [
  {
   "cell_type": "code",
   "execution_count": 8,
   "id": "2902efe4-1fa9-4dcc-a51e-d41d9d222e02",
   "metadata": {},
   "outputs": [],
   "source": [
    "from faker import Faker"
   ]
  },
  {
   "cell_type": "code",
   "execution_count": 26,
   "id": "856c48fe-9a74-41c7-9660-0521d35aa0bd",
   "metadata": {},
   "outputs": [],
   "source": [
    "fake = Faker()\n",
    "arr10 = [i for i in range(10)]\n",
    "falsyValues = [''] * 3"
   ]
  },
  {
   "cell_type": "markdown",
   "id": "46c2bfe7-eac1-4d96-9f05-5e096ad05673",
   "metadata": {},
   "source": [
    "---"
   ]
  },
  {
   "cell_type": "markdown",
   "id": "a6b6f23c-c242-46dc-b7c0-aaaf38d0b142",
   "metadata": {},
   "source": [
    "## Add"
   ]
  },
  {
   "cell_type": "markdown",
   "id": "0fa403e7-4252-4e89-886e-093ef9f63bcb",
   "metadata": {},
   "source": [
    "### append"
   ]
  },
  {
   "cell_type": "code",
   "execution_count": 13,
   "id": "54e648a4-c72c-4bdf-ae2c-3e69d63e4c27",
   "metadata": {},
   "outputs": [],
   "source": [
    "words = []\n",
    "word = fake.word()\n",
    "\n",
    "words.append(word)\n",
    "\n",
    "assert word in words"
   ]
  },
  {
   "cell_type": "markdown",
   "id": "5c8f68fd-2cf8-4069-8dde-1e4635bd97d1",
   "metadata": {},
   "source": [
    "## Filter"
   ]
  },
  {
   "cell_type": "markdown",
   "id": "39b8401b-12e2-48b1-ba33-b14a8b2331a9",
   "metadata": {},
   "source": [
    "### Predicate"
   ]
  },
  {
   "cell_type": "code",
   "execution_count": 15,
   "id": "505c2144-e6d0-4e4f-a42a-21b0697134b1",
   "metadata": {},
   "outputs": [
    {
     "data": {
      "text/plain": [
       "[0, 2, 4, 6, 8]"
      ]
     },
     "execution_count": 15,
     "metadata": {},
     "output_type": "execute_result"
    }
   ],
   "source": [
    "list(filter(lambda number: number % 2 == 0, arr10))"
   ]
  },
  {
   "cell_type": "markdown",
   "id": "bec76dd9-d210-4737-b267-f75858e70adf",
   "metadata": {},
   "source": [
    "### Empty"
   ]
  },
  {
   "cell_type": "code",
   "execution_count": 30,
   "id": "a0d99cf3-5a2f-4605-b0ce-8a2a7f703543",
   "metadata": {},
   "outputs": [
    {
     "data": {
      "text/plain": [
       "[]"
      ]
     },
     "execution_count": 30,
     "metadata": {},
     "output_type": "execute_result"
    }
   ],
   "source": [
    "list(filter(None, falsyValues))"
   ]
  }
 ],
 "metadata": {
  "kernelspec": {
   "display_name": "Python 3 (ipykernel)",
   "language": "python",
   "name": "python3"
  },
  "language_info": {
   "codemirror_mode": {
    "name": "ipython",
    "version": 3
   },
   "file_extension": ".py",
   "mimetype": "text/x-python",
   "name": "python",
   "nbconvert_exporter": "python",
   "pygments_lexer": "ipython3",
   "version": "3.11.10"
  }
 },
 "nbformat": 4,
 "nbformat_minor": 5
}
