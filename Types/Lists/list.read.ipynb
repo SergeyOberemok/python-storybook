{
 "cells": [
  {
   "cell_type": "code",
   "execution_count": 37,
   "id": "d378bf52-378b-495a-a1b1-3c859d0eff7a",
   "metadata": {},
   "outputs": [],
   "source": [
    "import random\n",
    "from faker import Faker"
   ]
  },
  {
   "cell_type": "markdown",
   "id": "8be9ee11-478b-4139-b9e3-9c015eea6723",
   "metadata": {},
   "source": [
    "---"
   ]
  },
  {
   "cell_type": "code",
   "execution_count": 39,
   "id": "459bae5f-d4f6-473f-98ce-e68045a51ef3",
   "metadata": {},
   "outputs": [],
   "source": [
    "fake = Faker()"
   ]
  },
  {
   "cell_type": "markdown",
   "id": "712ec671-f0fd-45c5-bfb1-5b66ac122130",
   "metadata": {},
   "source": [
    "## Iterator"
   ]
  },
  {
   "cell_type": "markdown",
   "id": "e8192d4d-2bb0-473c-8cb5-7f036c6bf182",
   "metadata": {},
   "source": [
    "### iter"
   ]
  },
  {
   "cell_type": "code",
   "execution_count": 42,
   "id": "7603bcf1-1586-45b4-9b1e-2865f4bab099",
   "metadata": {},
   "outputs": [
    {
     "name": "stdout",
     "output_type": "stream",
     "text": [
      "h\n",
      "i\n"
     ]
    }
   ],
   "source": [
    "for i in iter('hi'):\n",
    "    print(i)"
   ]
  },
  {
   "cell_type": "markdown",
   "id": "2810700d-57c4-4950-bed0-e89479056e4d",
   "metadata": {},
   "source": [
    "### iter with next and is empty"
   ]
  },
  {
   "cell_type": "code",
   "execution_count": 44,
   "id": "10d9a42d-e127-4e5d-b3fb-67e28efd34b1",
   "metadata": {},
   "outputs": [
    {
     "name": "stdout",
     "output_type": "stream",
     "text": [
      "yes\n",
      "yes\n"
     ]
    }
   ],
   "source": [
    "iterator = iter('hi')\n",
    "\n",
    "while next(iterator, None) is not None:\n",
    "    print('yes')"
   ]
  },
  {
   "cell_type": "markdown",
   "id": "edf7174c-3875-4228-972e-de3af55a5eeb",
   "metadata": {},
   "source": [
    "## Random"
   ]
  },
  {
   "cell_type": "markdown",
   "id": "1014bc1c-4f64-41c1-bf5f-318430c103da",
   "metadata": {},
   "source": [
    "### choice"
   ]
  },
  {
   "cell_type": "code",
   "execution_count": 47,
   "id": "e0825292-229d-4e30-b06f-f916cea48ea4",
   "metadata": {},
   "outputs": [
    {
     "data": {
      "text/plain": [
       "'Dennis Fowler'"
      ]
     },
     "execution_count": 47,
     "metadata": {},
     "output_type": "execute_result"
    }
   ],
   "source": [
    "random.choice([fake.name() for _ in range(5)])"
   ]
  },
  {
   "cell_type": "markdown",
   "id": "b7c76138-7cc4-4b92-9fa4-92073755418f",
   "metadata": {},
   "source": [
    "## Check"
   ]
  },
  {
   "cell_type": "markdown",
   "id": "90c85d41-c0d4-468d-9dbf-c45803902f88",
   "metadata": {},
   "source": [
    "### Contains"
   ]
  },
  {
   "cell_type": "markdown",
   "id": "f9bbe410-ddab-40ac-b264-a9277230baf8",
   "metadata": {},
   "source": [
    "#### in"
   ]
  },
  {
   "cell_type": "code",
   "execution_count": 51,
   "id": "c7fa7cbc-92a3-4c3c-94ef-9aa565baa521",
   "metadata": {},
   "outputs": [],
   "source": [
    "assert (2 in [i for i in range(5)]) is True"
   ]
  },
  {
   "cell_type": "markdown",
   "id": "85e449cd-e8f8-4653-9f54-83e1507bb884",
   "metadata": {},
   "source": [
    "### Every"
   ]
  },
  {
   "cell_type": "markdown",
   "id": "a703fd4d-7726-45af-b95b-e0e4376d099d",
   "metadata": {},
   "source": [
    "#### all"
   ]
  },
  {
   "cell_type": "code",
   "execution_count": 54,
   "id": "9f5be446-e8fe-4430-91dd-2bccaa5c2c94",
   "metadata": {},
   "outputs": [],
   "source": [
    "assert all(number > 0 for number in [i for i in range(1, 5)]) is True"
   ]
  },
  {
   "cell_type": "markdown",
   "id": "7215daca-ab6d-4f15-bbd3-99b3a7dd2ab5",
   "metadata": {},
   "source": [
    "## Find"
   ]
  },
  {
   "cell_type": "markdown",
   "id": "7b13c6e6-f60e-4a5e-a151-ff0ba416f631",
   "metadata": {},
   "source": [
    "### First with predicate"
   ]
  },
  {
   "cell_type": "markdown",
   "id": "bf806be1-a920-4474-bcaf-1a18dd3644f5",
   "metadata": {},
   "source": [
    "#### Next"
   ]
  },
  {
   "cell_type": "code",
   "execution_count": 58,
   "id": "026352fd-8bb1-4ac2-9253-dffa618d0677",
   "metadata": {},
   "outputs": [
    {
     "data": {
      "text/plain": [
       "3"
      ]
     },
     "execution_count": 58,
     "metadata": {},
     "output_type": "execute_result"
    }
   ],
   "source": [
    "next(number for number in [i for i in range(5)] if number == 3)"
   ]
  },
  {
   "cell_type": "markdown",
   "id": "d522ace4-e735-44f1-a85f-ad53516b7f6a",
   "metadata": {},
   "source": [
    "#### Next or default"
   ]
  },
  {
   "cell_type": "code",
   "execution_count": 60,
   "id": "449064ad-5482-4c3b-8e33-32a38443cafe",
   "metadata": {},
   "outputs": [
    {
     "data": {
      "text/plain": [
       "-1"
      ]
     },
     "execution_count": 60,
     "metadata": {},
     "output_type": "execute_result"
    }
   ],
   "source": [
    "next((number for number in [i for i in range(5)] if number == 10), -1)"
   ]
  },
  {
   "cell_type": "markdown",
   "id": "7c4ecfd6-a2a2-4b6e-8ad3-a81bed7f3eff",
   "metadata": {},
   "source": [
    "### First"
   ]
  },
  {
   "cell_type": "code",
   "execution_count": 62,
   "id": "14ddd885-4b0f-44e0-a977-4ee50481e533",
   "metadata": {},
   "outputs": [
    {
     "data": {
      "text/plain": [
       "0"
      ]
     },
     "execution_count": 62,
     "metadata": {},
     "output_type": "execute_result"
    }
   ],
   "source": [
    "next(number for number in [i for i in range(5)])"
   ]
  },
  {
   "cell_type": "markdown",
   "id": "5ba9d140-53a9-4b2d-a87c-a2e7d86d8fc8",
   "metadata": {},
   "source": [
    "### Index"
   ]
  },
  {
   "cell_type": "code",
   "execution_count": 64,
   "id": "ebc30f8e-455e-41f9-b004-bdc558c4a9aa",
   "metadata": {},
   "outputs": [
    {
     "data": {
      "text/plain": [
       "1"
      ]
     },
     "execution_count": 64,
     "metadata": {},
     "output_type": "execute_result"
    }
   ],
   "source": [
    "[i for i in range(5)].index(1)"
   ]
  }
 ],
 "metadata": {
  "kernelspec": {
   "display_name": "Python [conda env:base] *",
   "language": "python",
   "name": "conda-base-py"
  },
  "language_info": {
   "codemirror_mode": {
    "name": "ipython",
    "version": 3
   },
   "file_extension": ".py",
   "mimetype": "text/x-python",
   "name": "python",
   "nbconvert_exporter": "python",
   "pygments_lexer": "ipython3",
   "version": "3.11.10"
  }
 },
 "nbformat": 4,
 "nbformat_minor": 5
}
