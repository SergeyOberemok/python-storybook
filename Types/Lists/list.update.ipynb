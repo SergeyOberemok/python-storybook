{
 "cells": [
  {
   "cell_type": "code",
   "execution_count": 29,
   "id": "2902efe4-1fa9-4dcc-a51e-d41d9d222e02",
   "metadata": {},
   "outputs": [],
   "source": [
    "from faker import Faker\n",
    "import random"
   ]
  },
  {
   "cell_type": "code",
   "execution_count": 30,
   "id": "856c48fe-9a74-41c7-9660-0521d35aa0bd",
   "metadata": {},
   "outputs": [],
   "source": [
    "fake = Faker()\n",
    "arr10 = [i for i in range(10)]\n",
    "falsyValues = [''] * 3"
   ]
  },
  {
   "cell_type": "markdown",
   "id": "46c2bfe7-eac1-4d96-9f05-5e096ad05673",
   "metadata": {},
   "source": [
    "---"
   ]
  },
  {
   "cell_type": "markdown",
   "id": "a6b6f23c-c242-46dc-b7c0-aaaf38d0b142",
   "metadata": {},
   "source": [
    "## Add"
   ]
  },
  {
   "cell_type": "markdown",
   "id": "0fa403e7-4252-4e89-886e-093ef9f63bcb",
   "metadata": {},
   "source": [
    "### append"
   ]
  },
  {
   "cell_type": "code",
   "execution_count": 34,
   "id": "54e648a4-c72c-4bdf-ae2c-3e69d63e4c27",
   "metadata": {},
   "outputs": [],
   "source": [
    "words = []\n",
    "word = fake.word()\n",
    "\n",
    "words.append(word)\n",
    "\n",
    "assert word in words"
   ]
  },
  {
   "cell_type": "markdown",
   "id": "5c8f68fd-2cf8-4069-8dde-1e4635bd97d1",
   "metadata": {},
   "source": [
    "## Filter"
   ]
  },
  {
   "cell_type": "markdown",
   "id": "39b8401b-12e2-48b1-ba33-b14a8b2331a9",
   "metadata": {},
   "source": [
    "### Predicate"
   ]
  },
  {
   "cell_type": "code",
   "execution_count": 37,
   "id": "505c2144-e6d0-4e4f-a42a-21b0697134b1",
   "metadata": {},
   "outputs": [
    {
     "data": {
      "text/plain": [
       "[0, 2, 4, 6, 8]"
      ]
     },
     "execution_count": 37,
     "metadata": {},
     "output_type": "execute_result"
    }
   ],
   "source": [
    "list(filter(lambda number: number % 2 == 0, arr10))"
   ]
  },
  {
   "cell_type": "markdown",
   "id": "bec76dd9-d210-4737-b267-f75858e70adf",
   "metadata": {},
   "source": [
    "### Empty"
   ]
  },
  {
   "cell_type": "code",
   "execution_count": 39,
   "id": "a0d99cf3-5a2f-4605-b0ce-8a2a7f703543",
   "metadata": {},
   "outputs": [
    {
     "data": {
      "text/plain": [
       "[]"
      ]
     },
     "execution_count": 39,
     "metadata": {},
     "output_type": "execute_result"
    }
   ],
   "source": [
    "list(filter(None, falsyValues))"
   ]
  },
  {
   "cell_type": "markdown",
   "id": "bc773f07-152b-48ce-96ae-0e7d4d1ab208",
   "metadata": {},
   "source": [
    "## Map"
   ]
  },
  {
   "cell_type": "code",
   "execution_count": 41,
   "id": "5f9d6b1e-2ddf-48b0-84e0-c8e1509ed842",
   "metadata": {},
   "outputs": [
    {
     "data": {
      "text/plain": [
       "[1, 2, 4, 8, 16, 32, 64, 128, 256, 512]"
      ]
     },
     "execution_count": 41,
     "metadata": {},
     "output_type": "execute_result"
    }
   ],
   "source": [
    "list(map(lambda i: 2 ** i, [i for i in range(10)]))"
   ]
  },
  {
   "cell_type": "markdown",
   "id": "47fb0251-e41c-42e0-b353-6e78c81d2484",
   "metadata": {},
   "source": [
    "## Order"
   ]
  },
  {
   "cell_type": "markdown",
   "id": "52a92837-f359-440f-8b88-56214eafa66b",
   "metadata": {},
   "source": [
    "### Sort"
   ]
  },
  {
   "cell_type": "code",
   "execution_count": 44,
   "id": "5778f056-5aaf-4cc7-ac2c-182bf2324a91",
   "metadata": {},
   "outputs": [
    {
     "name": "stdout",
     "output_type": "stream",
     "text": [
      "None [3083, 3406, 4231, 5677, 5804, 7114, 7653, 8378, 8865, 9393]\n"
     ]
    }
   ],
   "source": [
    "numbers = [fake.random_int() for _ in range(10)]\n",
    "\n",
    "print(numbers.sort(), numbers)"
   ]
  },
  {
   "cell_type": "markdown",
   "id": "49e270c4-2c8f-4cf1-86b1-15196359f27c",
   "metadata": {},
   "source": [
    "### Sorted"
   ]
  },
  {
   "cell_type": "code",
   "execution_count": 46,
   "id": "d8d4254f-25a3-4ab0-9f4a-88d63142fb9b",
   "metadata": {},
   "outputs": [
    {
     "data": {
      "text/plain": [
       "[727, 1210, 4227, 4863, 4920, 6025, 6030, 6872, 8013, 8085]"
      ]
     },
     "execution_count": 46,
     "metadata": {},
     "output_type": "execute_result"
    }
   ],
   "source": [
    "numbers = [fake.random_int() for _ in range(10)]\n",
    "\n",
    "sorted(numbers, key=lambda number: number)"
   ]
  },
  {
   "cell_type": "markdown",
   "id": "e926120f-620f-40d8-82a2-34e681395547",
   "metadata": {},
   "source": [
    "### Randomize"
   ]
  },
  {
   "cell_type": "markdown",
   "id": "bdc983c3-f834-48cf-95ce-caf11866fee1",
   "metadata": {},
   "source": [
    "#### shuffle"
   ]
  },
  {
   "cell_type": "code",
   "execution_count": 49,
   "id": "2465632d-329f-4c23-8ba4-f2d29909501f",
   "metadata": {},
   "outputs": [
    {
     "name": "stdout",
     "output_type": "stream",
     "text": [
      "None [4, 3, 0, 2, 1]\n"
     ]
    }
   ],
   "source": [
    "randomNumbers = [i for i in range(5)]\n",
    "\n",
    "print(random.shuffle(randomNumbers), randomNumbers)"
   ]
  },
  {
   "cell_type": "markdown",
   "id": "27ef7b30-a07e-4f86-b605-5e90207db09d",
   "metadata": {},
   "source": [
    "## Flatten"
   ]
  },
  {
   "cell_type": "code",
   "execution_count": 51,
   "id": "2b58aee3-d36b-4777-99ac-43c98fa42294",
   "metadata": {},
   "outputs": [
    {
     "data": {
      "text/plain": [
       "[1, 2, 3, 4, 5, 6, 7, 8, 9]"
      ]
     },
     "execution_count": 51,
     "metadata": {},
     "output_type": "execute_result"
    }
   ],
   "source": [
    "matrix = [\n",
    "    list(range(1, 4)),\n",
    "    list(range(4, 8)),\n",
    "    list(range(8, 10)),\n",
    "]\n",
    "\n",
    "[item for row in matrix for item in row]"
   ]
  },
  {
   "cell_type": "markdown",
   "id": "021fd212-8ba6-4ad5-9ec0-6e52f7cdb30f",
   "metadata": {},
   "source": [
    "## Joining and reverse"
   ]
  },
  {
   "cell_type": "markdown",
   "id": "07f63e45-c696-4591-8a69-52d29f7588d2",
   "metadata": {},
   "source": [
    "### zip"
   ]
  },
  {
   "cell_type": "code",
   "execution_count": 54,
   "id": "a2ac451c-d0f3-4d74-aa0f-b86faf9bf017",
   "metadata": {},
   "outputs": [
    {
     "data": {
      "text/plain": [
       "[(1, 3), (2, 4), (3, 5)]"
      ]
     },
     "execution_count": 54,
     "metadata": {},
     "output_type": "execute_result"
    }
   ],
   "source": [
    "list(zip(range(1, 4), range(3, 6)))"
   ]
  },
  {
   "cell_type": "markdown",
   "id": "7daef0dd-0c49-4061-9ddb-7b514cf7a662",
   "metadata": {},
   "source": [
    "### unzip"
   ]
  },
  {
   "cell_type": "code",
   "execution_count": 56,
   "id": "27e43f09-84e3-4751-a623-a1563d329e68",
   "metadata": {},
   "outputs": [
    {
     "data": {
      "text/plain": [
       "[(1, 2, 3), (3, 4, 5)]"
      ]
     },
     "execution_count": 56,
     "metadata": {},
     "output_type": "execute_result"
    }
   ],
   "source": [
    "list(zip(*[(i, i + 2) for i in range(1, 4)]))"
   ]
  },
  {
   "cell_type": "markdown",
   "id": "72428198-8da7-44c9-a42d-425339199c3b",
   "metadata": {},
   "source": [
    "## Convert"
   ]
  },
  {
   "cell_type": "markdown",
   "id": "35a3595c-8807-4ac8-b372-ecb869c28cba",
   "metadata": {},
   "source": [
    "### String"
   ]
  },
  {
   "cell_type": "markdown",
   "id": "48a984d3-4086-44e3-bceb-b6da1c4c60ad",
   "metadata": {},
   "source": [
    "#### join"
   ]
  },
  {
   "cell_type": "code",
   "execution_count": 60,
   "id": "ad516d19-d2a6-422a-8ca0-8cb2888cbdd1",
   "metadata": {},
   "outputs": [
    {
     "data": {
      "text/plain": [
       "'0 delimeter 1 delimeter 2'"
      ]
     },
     "execution_count": 60,
     "metadata": {},
     "output_type": "execute_result"
    }
   ],
   "source": [
    "\" delimeter \".join([str(i) for i in range(3)])"
   ]
  }
 ],
 "metadata": {
  "kernelspec": {
   "display_name": "Python [conda env:base] *",
   "language": "python",
   "name": "conda-base-py"
  },
  "language_info": {
   "codemirror_mode": {
    "name": "ipython",
    "version": 3
   },
   "file_extension": ".py",
   "mimetype": "text/x-python",
   "name": "python",
   "nbconvert_exporter": "python",
   "pygments_lexer": "ipython3",
   "version": "3.11.7"
  }
 },
 "nbformat": 4,
 "nbformat_minor": 5
}
