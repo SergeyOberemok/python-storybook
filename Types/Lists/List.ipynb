{
 "cells": [
  {
   "cell_type": "code",
   "execution_count": 32,
   "id": "3693f191",
   "metadata": {},
   "outputs": [],
   "source": [
    "from faker import Faker\n",
    "from functools import reduce\n",
    "import random"
   ]
  },
  {
   "cell_type": "code",
   "execution_count": 33,
   "id": "aa0bf9c0",
   "metadata": {},
   "outputs": [],
   "source": [
    "fake = Faker()"
   ]
  },
  {
   "cell_type": "markdown",
   "id": "ec4b8955",
   "metadata": {},
   "source": [
    "---"
   ]
  },
  {
   "cell_type": "markdown",
   "id": "c818889d",
   "metadata": {},
   "source": [
    "# Create"
   ]
  },
  {
   "cell_type": "markdown",
   "id": "9750677a",
   "metadata": {},
   "source": [
    "## Zeros"
   ]
  },
  {
   "cell_type": "code",
   "execution_count": 34,
   "id": "fbf38844",
   "metadata": {},
   "outputs": [
    {
     "data": {
      "text/plain": [
       "[0, 0, 0, 0, 0]"
      ]
     },
     "execution_count": 34,
     "metadata": {},
     "output_type": "execute_result"
    }
   ],
   "source": [
    "[0] * 5"
   ]
  },
  {
   "cell_type": "markdown",
   "id": "ef7741bd-ec39-4cd8-b422-d099a8dae498",
   "metadata": {},
   "source": [
    "## Copy"
   ]
  },
  {
   "cell_type": "code",
   "execution_count": 35,
   "id": "b92be892-1c85-4b12-9786-c166fda5d2f5",
   "metadata": {},
   "outputs": [
    {
     "data": {
      "text/plain": [
       "([0, 0, 0, 0, 0], [0, 0, 0, 0, 0])"
      ]
     },
     "execution_count": 35,
     "metadata": {},
     "output_type": "execute_result"
    }
   ],
   "source": [
    "([0] * 5)[:], ([0] * 5).copy()"
   ]
  },
  {
   "cell_type": "markdown",
   "id": "9ccba98f-2e82-4e33-b28c-96ac836ab6e6",
   "metadata": {},
   "source": [
    "## Constructor"
   ]
  },
  {
   "cell_type": "code",
   "execution_count": 2,
   "id": "efb4454a-f038-4f9e-bf43-478cf9400a22",
   "metadata": {},
   "outputs": [
    {
     "data": {
      "text/plain": [
       "[1, 2, 3]"
      ]
     },
     "execution_count": 2,
     "metadata": {},
     "output_type": "execute_result"
    }
   ],
   "source": [
    "list((1, 2, 3))"
   ]
  },
  {
   "cell_type": "markdown",
   "id": "b8219b9d",
   "metadata": {},
   "source": [
    "---"
   ]
  },
  {
   "cell_type": "markdown",
   "id": "203714b3",
   "metadata": {},
   "source": [
    "# Read"
   ]
  },
  {
   "cell_type": "markdown",
   "id": "4e52309d-c88a-4b23-a5ca-7ff0499094e4",
   "metadata": {},
   "source": [
    "## Iterator"
   ]
  },
  {
   "cell_type": "markdown",
   "id": "ccd456df-fbfd-4a50-8dd0-18b81caf5e2e",
   "metadata": {},
   "source": [
    "### iter"
   ]
  },
  {
   "cell_type": "code",
   "execution_count": 3,
   "id": "4086b1cf-c156-47ef-8b83-f0fc529eb52e",
   "metadata": {},
   "outputs": [
    {
     "name": "stdout",
     "output_type": "stream",
     "text": [
      "h\n",
      "i\n"
     ]
    }
   ],
   "source": [
    "for i in iter('hi'):\n",
    "    print(i)"
   ]
  },
  {
   "cell_type": "markdown",
   "id": "ee22ba7a-280e-49db-9ac1-aa0aa6f1fcd1",
   "metadata": {},
   "source": [
    "### iter with next and is empty"
   ]
  },
  {
   "cell_type": "code",
   "execution_count": 6,
   "id": "64474026-b0e3-4d84-a589-d91e168693d0",
   "metadata": {},
   "outputs": [
    {
     "name": "stdout",
     "output_type": "stream",
     "text": [
      "yes\n",
      "yes\n"
     ]
    }
   ],
   "source": [
    "iterator = iter('hi')\n",
    "\n",
    "while next(iterator, None) is not None:\n",
    "    print('yes')"
   ]
  },
  {
   "cell_type": "markdown",
   "id": "a814f09f",
   "metadata": {
    "jp-MarkdownHeadingCollapsed": true
   },
   "source": [
    "## Random"
   ]
  },
  {
   "cell_type": "markdown",
   "id": "2c25c43f-b019-4f03-9ec3-e97340d391b4",
   "metadata": {
    "jp-MarkdownHeadingCollapsed": true
   },
   "source": [
    "### choice"
   ]
  },
  {
   "cell_type": "code",
   "execution_count": 36,
   "id": "5897c23f",
   "metadata": {},
   "outputs": [
    {
     "data": {
      "text/plain": [
       "'Gregory Gay'"
      ]
     },
     "execution_count": 36,
     "metadata": {},
     "output_type": "execute_result"
    }
   ],
   "source": [
    "random.choice([fake.name() for _ in range(5)])"
   ]
  },
  {
   "cell_type": "markdown",
   "id": "aed91e0f",
   "metadata": {},
   "source": [
    "## Check"
   ]
  },
  {
   "cell_type": "markdown",
   "id": "e5e9e2fe-44c0-4acb-a8b3-b0ea35693043",
   "metadata": {
    "jp-MarkdownHeadingCollapsed": true
   },
   "source": [
    "### Contains"
   ]
  },
  {
   "cell_type": "markdown",
   "id": "d8a79a98-a8e4-4d05-ae00-be43bad9927d",
   "metadata": {
    "jp-MarkdownHeadingCollapsed": true
   },
   "source": [
    "#### in"
   ]
  },
  {
   "cell_type": "code",
   "execution_count": 37,
   "id": "51ade961",
   "metadata": {},
   "outputs": [],
   "source": [
    "assert (2 in [i for i in range(5)]) is True"
   ]
  },
  {
   "cell_type": "markdown",
   "id": "b073e270-6df1-4655-884f-492f124eb4bb",
   "metadata": {
    "jp-MarkdownHeadingCollapsed": true
   },
   "source": [
    "### Every"
   ]
  },
  {
   "cell_type": "markdown",
   "id": "a18bc228-a4c9-4dd0-aa5b-a858aa5115a4",
   "metadata": {
    "jp-MarkdownHeadingCollapsed": true
   },
   "source": [
    "#### all"
   ]
  },
  {
   "cell_type": "code",
   "execution_count": 38,
   "id": "cf931fd0-8d54-45e0-b7c6-edd65384b800",
   "metadata": {},
   "outputs": [],
   "source": [
    "assert all(number > 0 for number in [i for i in range(1, 5)]) is True"
   ]
  },
  {
   "cell_type": "markdown",
   "id": "443e5feb",
   "metadata": {
    "jp-MarkdownHeadingCollapsed": true
   },
   "source": [
    "## Find"
   ]
  },
  {
   "cell_type": "markdown",
   "id": "7a2d55f4",
   "metadata": {
    "jp-MarkdownHeadingCollapsed": true
   },
   "source": [
    "### First with predicate"
   ]
  },
  {
   "cell_type": "markdown",
   "id": "664984be-d8bb-4784-8737-e6d6de2509a1",
   "metadata": {
    "jp-MarkdownHeadingCollapsed": true
   },
   "source": [
    "#### Next"
   ]
  },
  {
   "cell_type": "code",
   "execution_count": 39,
   "id": "6b8795fe",
   "metadata": {},
   "outputs": [
    {
     "data": {
      "text/plain": [
       "3"
      ]
     },
     "execution_count": 39,
     "metadata": {},
     "output_type": "execute_result"
    }
   ],
   "source": [
    "next(number for number in [i for i in range(5)] if number == 3)"
   ]
  },
  {
   "cell_type": "markdown",
   "id": "521e4973",
   "metadata": {
    "jp-MarkdownHeadingCollapsed": true
   },
   "source": [
    "#### Next or default"
   ]
  },
  {
   "cell_type": "code",
   "execution_count": 40,
   "id": "9aae30b2",
   "metadata": {},
   "outputs": [
    {
     "data": {
      "text/plain": [
       "-1"
      ]
     },
     "execution_count": 40,
     "metadata": {},
     "output_type": "execute_result"
    }
   ],
   "source": [
    "next((number for number in [i for i in range(5)] if number == 10), -1)"
   ]
  },
  {
   "cell_type": "markdown",
   "id": "584d2665",
   "metadata": {
    "jp-MarkdownHeadingCollapsed": true
   },
   "source": [
    "### First"
   ]
  },
  {
   "cell_type": "code",
   "execution_count": 41,
   "id": "9b41c154",
   "metadata": {},
   "outputs": [
    {
     "data": {
      "text/plain": [
       "0"
      ]
     },
     "execution_count": 41,
     "metadata": {},
     "output_type": "execute_result"
    }
   ],
   "source": [
    "next(number for number in [i for i in range(5)])"
   ]
  },
  {
   "cell_type": "markdown",
   "id": "d52a8f38",
   "metadata": {
    "jp-MarkdownHeadingCollapsed": true
   },
   "source": [
    "## Index"
   ]
  },
  {
   "cell_type": "code",
   "execution_count": 42,
   "id": "707c9905",
   "metadata": {},
   "outputs": [
    {
     "data": {
      "text/plain": [
       "1"
      ]
     },
     "execution_count": 42,
     "metadata": {},
     "output_type": "execute_result"
    }
   ],
   "source": [
    "[i for i in range(5)].index(1)"
   ]
  },
  {
   "cell_type": "markdown",
   "id": "732b8344",
   "metadata": {},
   "source": [
    "# Update"
   ]
  },
  {
   "cell_type": "markdown",
   "id": "0868e01a-3618-48c7-8434-ce1f629deea6",
   "metadata": {},
   "source": [
    "## Map"
   ]
  },
  {
   "cell_type": "code",
   "execution_count": 44,
   "id": "3e241369-b8eb-447b-91e8-1c8e05c65d23",
   "metadata": {},
   "outputs": [
    {
     "data": {
      "text/plain": [
       "[1, 2, 4, 8, 16, 32, 64, 128, 256, 512]"
      ]
     },
     "execution_count": 44,
     "metadata": {},
     "output_type": "execute_result"
    }
   ],
   "source": [
    "list(map(lambda i: 2 ** i, [i for i in range(10)]))"
   ]
  },
  {
   "cell_type": "markdown",
   "id": "4a7bc649-1781-4d46-8b55-83a32120a84d",
   "metadata": {
    "jp-MarkdownHeadingCollapsed": true
   },
   "source": [
    "## Order"
   ]
  },
  {
   "cell_type": "markdown",
   "id": "23507ed7-b5ea-497c-bff0-a9b6846ae766",
   "metadata": {
    "jp-MarkdownHeadingCollapsed": true
   },
   "source": [
    "### Sort"
   ]
  },
  {
   "cell_type": "code",
   "execution_count": 47,
   "id": "822e1571-70d9-43cd-ba50-d100ab1f336d",
   "metadata": {},
   "outputs": [
    {
     "name": "stdout",
     "output_type": "stream",
     "text": [
      "None [1064, 1788, 2501, 2525, 2816, 3546, 4721, 6203, 7065, 9015]\n"
     ]
    }
   ],
   "source": [
    "numbers = [fake.random_int() for _ in range(10)]\n",
    "\n",
    "print(numbers.sort(), numbers)"
   ]
  },
  {
   "cell_type": "markdown",
   "id": "2523cdac-6af9-45bc-875f-99979e72b914",
   "metadata": {
    "jp-MarkdownHeadingCollapsed": true
   },
   "source": [
    "### Sorted"
   ]
  },
  {
   "cell_type": "code",
   "execution_count": 48,
   "id": "a9a0b62c-33aa-4cfc-a6b2-cc321aa74752",
   "metadata": {},
   "outputs": [
    {
     "data": {
      "text/plain": [
       "[752, 2887, 2893, 3223, 3265, 3776, 4997, 5109, 8338, 8778]"
      ]
     },
     "execution_count": 48,
     "metadata": {},
     "output_type": "execute_result"
    }
   ],
   "source": [
    "numbers = [fake.random_int() for _ in range(10)]\n",
    "\n",
    "sorted(numbers, key=lambda number: number)"
   ]
  },
  {
   "cell_type": "markdown",
   "id": "8a64cf87",
   "metadata": {
    "jp-MarkdownHeadingCollapsed": true
   },
   "source": [
    "### Randomize"
   ]
  },
  {
   "cell_type": "markdown",
   "id": "b79291af",
   "metadata": {
    "jp-MarkdownHeadingCollapsed": true
   },
   "source": [
    "#### shuffle"
   ]
  },
  {
   "cell_type": "code",
   "execution_count": 49,
   "id": "0c83cd1a",
   "metadata": {},
   "outputs": [
    {
     "name": "stdout",
     "output_type": "stream",
     "text": [
      "None [3, 0, 4, 1, 2]\n"
     ]
    }
   ],
   "source": [
    "randomNumbers = [i for i in range(5)]\n",
    "\n",
    "print(random.shuffle(randomNumbers), randomNumbers)"
   ]
  },
  {
   "cell_type": "markdown",
   "id": "eef8b2b8-3f34-4316-9f9d-856252a69dc3",
   "metadata": {
    "jp-MarkdownHeadingCollapsed": true
   },
   "source": [
    "## Flatten"
   ]
  },
  {
   "cell_type": "code",
   "execution_count": 50,
   "id": "880ba437-fad8-4261-92d2-4014bfac987d",
   "metadata": {},
   "outputs": [
    {
     "data": {
      "text/plain": [
       "[1, 2, 3, 4, 5, 6, 7, 8, 9]"
      ]
     },
     "execution_count": 50,
     "metadata": {},
     "output_type": "execute_result"
    }
   ],
   "source": [
    "matrix = [\n",
    "    list(range(1, 4)),\n",
    "    list(range(4, 8)),\n",
    "    list(range(8, 10)),\n",
    "]\n",
    "\n",
    "[item for row in matrix for item in row]"
   ]
  },
  {
   "cell_type": "markdown",
   "id": "59ab83ed-b18d-45af-8176-1b802dfb84d9",
   "metadata": {
    "jp-MarkdownHeadingCollapsed": true
   },
   "source": [
    "## Joining and reverse"
   ]
  },
  {
   "cell_type": "markdown",
   "id": "9402504d-efe2-4a18-951c-155fc2fc314e",
   "metadata": {
    "jp-MarkdownHeadingCollapsed": true
   },
   "source": [
    "### Zip"
   ]
  },
  {
   "cell_type": "code",
   "execution_count": 3,
   "id": "819fa1a2-ab67-476c-a03d-3eea516ddd83",
   "metadata": {},
   "outputs": [
    {
     "data": {
      "text/plain": [
       "[(1, 3), (2, 4), (3, 5)]"
      ]
     },
     "execution_count": 3,
     "metadata": {},
     "output_type": "execute_result"
    }
   ],
   "source": [
    "list(zip(range(1, 4), range(3, 6)))"
   ]
  },
  {
   "cell_type": "markdown",
   "id": "5308da79-d40c-44e8-91b5-bd07801a6413",
   "metadata": {
    "jp-MarkdownHeadingCollapsed": true
   },
   "source": [
    "### unzip"
   ]
  },
  {
   "cell_type": "code",
   "execution_count": 5,
   "id": "3494fc1c-0c98-4859-82f8-ab6b6d0ec5f3",
   "metadata": {},
   "outputs": [
    {
     "data": {
      "text/plain": [
       "[(1, 2, 3), (3, 4, 5)]"
      ]
     },
     "execution_count": 5,
     "metadata": {},
     "output_type": "execute_result"
    }
   ],
   "source": [
    "list(zip(*[(i, i + 2) for i in range(1, 4)]))"
   ]
  },
  {
   "cell_type": "markdown",
   "id": "fd94aa49-409a-4903-a682-035c0390d83c",
   "metadata": {
    "jp-MarkdownHeadingCollapsed": true
   },
   "source": [
    "## Convert"
   ]
  },
  {
   "cell_type": "markdown",
   "id": "17cfb02a-9441-4274-82a0-7b99c93e3bcc",
   "metadata": {
    "jp-MarkdownHeadingCollapsed": true
   },
   "source": [
    "### String"
   ]
  },
  {
   "cell_type": "markdown",
   "id": "1f956d15-7526-4ea1-9958-eb575537eef8",
   "metadata": {
    "jp-MarkdownHeadingCollapsed": true
   },
   "source": [
    "#### join"
   ]
  },
  {
   "cell_type": "code",
   "execution_count": 51,
   "id": "e34a657b-df9f-4c9c-9570-ead32a6309e5",
   "metadata": {},
   "outputs": [
    {
     "data": {
      "text/plain": [
       "'0 delimeter 1 delimeter 2'"
      ]
     },
     "execution_count": 51,
     "metadata": {},
     "output_type": "execute_result"
    }
   ],
   "source": [
    "\" delimeter \".join([str(i) for i in range(3)])"
   ]
  },
  {
   "cell_type": "markdown",
   "id": "7bc683e5",
   "metadata": {},
   "source": [
    "---"
   ]
  },
  {
   "cell_type": "markdown",
   "id": "942965a6",
   "metadata": {
    "jp-MarkdownHeadingCollapsed": true
   },
   "source": [
    "# Destroy"
   ]
  },
  {
   "cell_type": "markdown",
   "id": "9222f3b8-c2cc-49f3-87cb-cef54b1f497d",
   "metadata": {
    "jp-MarkdownHeadingCollapsed": true
   },
   "source": [
    "## Range"
   ]
  },
  {
   "cell_type": "code",
   "execution_count": 52,
   "id": "b1450f88",
   "metadata": {
    "scrolled": true
   },
   "outputs": [
    {
     "data": {
      "text/plain": [
       "[0, 3, 4]"
      ]
     },
     "execution_count": 52,
     "metadata": {},
     "output_type": "execute_result"
    }
   ],
   "source": [
    "numbers = [i for i in range(5)]\n",
    "\n",
    "numbers[1:3] = []\n",
    "\n",
    "numbers"
   ]
  },
  {
   "cell_type": "markdown",
   "id": "7b443ed6-e369-4e7b-a4a9-fcc07cbee834",
   "metadata": {
    "jp-MarkdownHeadingCollapsed": true
   },
   "source": [
    "## Remove"
   ]
  },
  {
   "cell_type": "code",
   "execution_count": 5,
   "id": "9eec25c8-e251-47cb-8ff9-cbc239c16f4c",
   "metadata": {},
   "outputs": [
    {
     "data": {
      "text/plain": [
       "(None, ['', ''])"
      ]
     },
     "execution_count": 5,
     "metadata": {},
     "output_type": "execute_result"
    }
   ],
   "source": [
    "emptyStrings = ['', '', '',]\n",
    "emptyStrings.remove(''), emptyStrings"
   ]
  },
  {
   "cell_type": "markdown",
   "id": "ef7b6a1b",
   "metadata": {
    "jp-MarkdownHeadingCollapsed": true
   },
   "source": [
    "## Destructuring"
   ]
  },
  {
   "cell_type": "code",
   "execution_count": 53,
   "id": "73c4cea4",
   "metadata": {},
   "outputs": [
    {
     "data": {
      "text/plain": [
       "(0, [1, 2, 3, 4])"
      ]
     },
     "execution_count": 53,
     "metadata": {},
     "output_type": "execute_result"
    }
   ],
   "source": [
    "head, *tail = [i for i in range(5)]\n",
    "\n",
    "(head, tail)"
   ]
  },
  {
   "cell_type": "code",
   "execution_count": 54,
   "id": "40b988d9",
   "metadata": {},
   "outputs": [
    {
     "data": {
      "text/plain": [
       "(0, [1, 2, 3], 4)"
      ]
     },
     "execution_count": 54,
     "metadata": {},
     "output_type": "execute_result"
    }
   ],
   "source": [
    "head, *middle, tail = [i for i in range(5)]\n",
    "\n",
    "(head, middle, tail)"
   ]
  },
  {
   "cell_type": "code",
   "execution_count": 55,
   "id": "316630ef",
   "metadata": {},
   "outputs": [
    {
     "data": {
      "text/plain": [
       "([0, 1, 2, 3], 4)"
      ]
     },
     "execution_count": 55,
     "metadata": {},
     "output_type": "execute_result"
    }
   ],
   "source": [
    "*head, tail = [i for i in range(5)]\n",
    "\n",
    "(head, tail)"
   ]
  }
 ],
 "metadata": {
  "kernelspec": {
   "display_name": "Python 3 (ipykernel)",
   "language": "python",
   "name": "python3"
  },
  "language_info": {
   "codemirror_mode": {
    "name": "ipython",
    "version": 3
   },
   "file_extension": ".py",
   "mimetype": "text/x-python",
   "name": "python",
   "nbconvert_exporter": "python",
   "pygments_lexer": "ipython3",
   "version": "3.11.5"
  }
 },
 "nbformat": 4,
 "nbformat_minor": 5
}
