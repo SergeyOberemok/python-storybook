{
 "cells": [
  {
   "cell_type": "code",
   "execution_count": 11,
   "id": "d3c7ac09-2939-4bca-9206-94efeb8cef94",
   "metadata": {},
   "outputs": [],
   "source": [
    "from functools import reduce"
   ]
  },
  {
   "cell_type": "markdown",
   "id": "efadc69b-d17e-4a04-b0c2-d8d060bdf992",
   "metadata": {},
   "source": [
    "---"
   ]
  },
  {
   "cell_type": "code",
   "execution_count": 13,
   "id": "85bd3500-1e24-4bd5-adb3-f203ebe26d81",
   "metadata": {},
   "outputs": [],
   "source": [
    "arr10 = [i for i in range(5)]"
   ]
  },
  {
   "cell_type": "markdown",
   "id": "f6e09bfa-d987-4509-b4fa-4e7eca98e5f7",
   "metadata": {},
   "source": [
    "---"
   ]
  },
  {
   "cell_type": "markdown",
   "id": "914cb59f-6264-4adc-975c-4d1819f476c3",
   "metadata": {},
   "source": [
    "## Reduce"
   ]
  },
  {
   "cell_type": "code",
   "execution_count": 16,
   "id": "2ed4ffe4-b8d4-4cdb-ae39-6b085e01bfea",
   "metadata": {},
   "outputs": [
    {
     "data": {
      "text/plain": [
       "10"
      ]
     },
     "execution_count": 16,
     "metadata": {},
     "output_type": "execute_result"
    }
   ],
   "source": [
    "reduce(lambda acc, number: acc + number, arr10)"
   ]
  },
  {
   "cell_type": "markdown",
   "id": "37ae92e2-5df7-4e89-80bb-21a3e3768d18",
   "metadata": {},
   "source": [
    "## Unique"
   ]
  },
  {
   "cell_type": "code",
   "execution_count": 26,
   "id": "a8b8b3b1-a187-4d77-a55b-abb2cd193a7e",
   "metadata": {},
   "outputs": [
    {
     "data": {
      "text/plain": [
       "[1, 2, 3]"
      ]
     },
     "execution_count": 26,
     "metadata": {},
     "output_type": "execute_result"
    }
   ],
   "source": [
    "reduce(lambda acc, i: acc + [i] if i not in acc else acc, [1, 2, 2, 3], [])"
   ]
  }
 ],
 "metadata": {
  "kernelspec": {
   "display_name": "Python 3 (ipykernel)",
   "language": "python",
   "name": "python3"
  },
  "language_info": {
   "codemirror_mode": {
    "name": "ipython",
    "version": 3
   },
   "file_extension": ".py",
   "mimetype": "text/x-python",
   "name": "python",
   "nbconvert_exporter": "python",
   "pygments_lexer": "ipython3",
   "version": "3.11.5"
  }
 },
 "nbformat": 4,
 "nbformat_minor": 5
}
