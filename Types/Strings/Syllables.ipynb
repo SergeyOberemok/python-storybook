{
 "cells": [
  {
   "cell_type": "code",
   "execution_count": 88,
   "id": "48a73d8e-78d4-4819-ab7b-6c864677b1b8",
   "metadata": {},
   "outputs": [],
   "source": [
    "from faker import Faker\n",
    "from textwrap import wrap\n",
    "from itertools import chain\n",
    "from functools import reduce"
   ]
  },
  {
   "cell_type": "markdown",
   "id": "37dc1a32-d8b8-4399-bc19-353e48200ad3",
   "metadata": {},
   "source": [
    "---"
   ]
  },
  {
   "cell_type": "code",
   "execution_count": 90,
   "id": "8d6ecd94-657a-4776-8e9d-e8aef4ff27d3",
   "metadata": {},
   "outputs": [],
   "source": [
    "fake = Faker()"
   ]
  },
  {
   "cell_type": "code",
   "execution_count": 91,
   "id": "3c8a3b2e-03b7-409b-95c3-742234205c96",
   "metadata": {},
   "outputs": [
    {
     "data": {
      "text/plain": [
       "'foreign'"
      ]
     },
     "execution_count": 91,
     "metadata": {},
     "output_type": "execute_result"
    }
   ],
   "source": [
    "word = fake.word()\n",
    "word"
   ]
  },
  {
   "cell_type": "markdown",
   "id": "c408cefb-8ceb-4324-995a-68061b9fb9cd",
   "metadata": {},
   "source": [
    "---"
   ]
  },
  {
   "cell_type": "markdown",
   "id": "63b85b8a-36f0-4d4f-aa48-c0641979107e",
   "metadata": {},
   "source": [
    "# Divide word into syllables for search"
   ]
  },
  {
   "cell_type": "markdown",
   "id": "2c275f9b-0126-4dc7-aa50-3f6c4612097c",
   "metadata": {},
   "source": [
    "## Spin"
   ]
  },
  {
   "cell_type": "markdown",
   "id": "bcfdcbeb-f4c8-4999-bd81-e4826c81a917",
   "metadata": {},
   "source": [
    "### Spin word"
   ]
  },
  {
   "cell_type": "markdown",
   "id": "0cc94e60-24b6-4237-bb63-82e1fabc8129",
   "metadata": {},
   "source": [
    "#### One spin"
   ]
  },
  {
   "cell_type": "code",
   "execution_count": 97,
   "id": "16bab903-29bc-4798-a003-e645467e6230",
   "metadata": {},
   "outputs": [
    {
     "name": "stdout",
     "output_type": "stream",
     "text": [
      "foreign oreignf nforeig\n"
     ]
    }
   ],
   "source": [
    "def spinWord(word: str) -> str:\n",
    "    firstLetter = word[0]\n",
    "    rest = word[1:]\n",
    "    return ''.join([rest, firstLetter])\n",
    "\n",
    "print(word, spinWord(word), spinWord(spinWord(spinWord(spinWord(spinWord(spinWord(word)))))))"
   ]
  },
  {
   "cell_type": "markdown",
   "id": "a588e8e1-162c-40a0-bc80-897071a7e127",
   "metadata": {},
   "source": [
    "#### Spin around"
   ]
  },
  {
   "cell_type": "code",
   "execution_count": 99,
   "id": "4a30fab3-e7df-4ffd-9b79-64eae306c66c",
   "metadata": {},
   "outputs": [
    {
     "data": {
      "text/plain": [
       "['foreign', 'oreignf', 'reignfo', 'eignfor', 'ignfore', 'gnforei', 'nforeig']"
      ]
     },
     "execution_count": 99,
     "metadata": {},
     "output_type": "execute_result"
    }
   ],
   "source": [
    "def spinWordAround(word: str) -> list[str]:\n",
    "    originalWord = word\n",
    "    spinnedList = [originalWord]\n",
    "    spinned = spinWord(word)\n",
    "\n",
    "    while originalWord != spinned:\n",
    "        spinnedList.append(spinned)\n",
    "        spinned = spinWord(spinned)\n",
    "\n",
    "    return spinnedList\n",
    "\n",
    "spinWordAround(word)"
   ]
  },
  {
   "cell_type": "markdown",
   "id": "3af6a54c-c8ce-45c4-9a69-895cd874b35a",
   "metadata": {},
   "source": [
    "## Chunk"
   ]
  },
  {
   "cell_type": "code",
   "execution_count": 101,
   "id": "1e8f643e-7163-407c-8e55-70144a0eefc0",
   "metadata": {},
   "outputs": [
    {
     "name": "stdout",
     "output_type": "stream",
     "text": [
      "['fo', 're', 'ig'] ['fo', 're', 'ig'] ['for', 'eig']\n"
     ]
    }
   ],
   "source": [
    "def getSyllables(word: str, length: int) -> list[str]:\n",
    "    syllables = wrap(word, length)\n",
    "    return list(filter(lambda syllable: len(syllable) == length, syllables))\n",
    "\n",
    "def getDiphthongs(word: str) -> list[str]:\n",
    "    return getSyllables(word, 2)\n",
    "\n",
    "def getTriphthongs(word: str) -> list[str]:\n",
    "    return getSyllables(word, 3)\n",
    "\n",
    "print(getSyllables(word, 2), getDiphthongs(word), getTriphthongs(word))"
   ]
  },
  {
   "cell_type": "markdown",
   "id": "5e074c1d-3564-44d9-b7fb-e44c9b413afa",
   "metadata": {},
   "source": [
    "## Flatten"
   ]
  },
  {
   "cell_type": "code",
   "execution_count": 103,
   "id": "7179fc16-2caa-453b-9f8f-1ff1cc487fc9",
   "metadata": {},
   "outputs": [
    {
     "data": {
      "text/plain": [
       "['fo', 're', 'ig', 'for', 'eig']"
      ]
     },
     "execution_count": 103,
     "metadata": {},
     "output_type": "execute_result"
    }
   ],
   "source": [
    "def flattenSyllables(syllables: list[list[str]]) -> list[str]:\n",
    "    return list(chain.from_iterable(syllables))\n",
    "\n",
    "flattenSyllables([getDiphthongs(word), getTriphthongs(word)])"
   ]
  },
  {
   "cell_type": "code",
   "execution_count": 104,
   "id": "5dd46236-4384-4866-8fc9-eee284c961db",
   "metadata": {},
   "outputs": [
    {
     "data": {
      "text/plain": [
       "['fo', 're', 'ig', 'or', 'ei', 'gn', 'for', 'eig', 'ore', 'ign', 'rei']"
      ]
     },
     "execution_count": 104,
     "metadata": {},
     "output_type": "execute_result"
    }
   ],
   "source": [
    "def divideIntoSyllables(word: str) -> list[str]:\n",
    "    spins = spinWordAround(word)\n",
    "    diphthongs = [getDiphthongs(spinned) for spinned in spins]\n",
    "    triphthongs = [getTriphthongs(spinned) for spinned in spins]\n",
    "    syllables = flattenSyllables([*diphthongs, *triphthongs])\n",
    "    existed = list(filter(lambda syllable: syllable in word, syllables))\n",
    "    unique = reduce(lambda acc, i: acc + [i] if i not in acc else acc, existed, [])\n",
    "    return unique\n",
    "\n",
    "divideIntoSyllables(word)"
   ]
  }
 ],
 "metadata": {
  "kernelspec": {
   "display_name": "Python 3 (ipykernel)",
   "language": "python",
   "name": "python3"
  },
  "language_info": {
   "codemirror_mode": {
    "name": "ipython",
    "version": 3
   },
   "file_extension": ".py",
   "mimetype": "text/x-python",
   "name": "python",
   "nbconvert_exporter": "python",
   "pygments_lexer": "ipython3",
   "version": "3.11.5"
  }
 },
 "nbformat": 4,
 "nbformat_minor": 5
}
