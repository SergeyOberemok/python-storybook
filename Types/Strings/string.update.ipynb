{
 "cells": [
  {
   "cell_type": "code",
   "execution_count": 104,
   "id": "7db08982-84b0-4796-916b-3ced1f7c1760",
   "metadata": {},
   "outputs": [],
   "source": [
    "from faker import Faker"
   ]
  },
  {
   "cell_type": "code",
   "execution_count": 105,
   "id": "05bea082-d215-4cab-9a68-b7943c1e68c1",
   "metadata": {},
   "outputs": [],
   "source": [
    "fake = Faker()"
   ]
  },
  {
   "cell_type": "markdown",
   "id": "3084865f-5e0b-4cdc-84f0-27af09d27c28",
   "metadata": {},
   "source": [
    "---"
   ]
  },
  {
   "cell_type": "code",
   "execution_count": 107,
   "id": "4595bc66-4f0f-4b38-848f-1b0e918d474a",
   "metadata": {},
   "outputs": [],
   "source": [
    "words = fake.words()"
   ]
  },
  {
   "cell_type": "raw",
   "id": "f8526375-9bc8-43c6-9294-f30b990a43b3",
   "metadata": {},
   "source": [
    "print(words)"
   ]
  },
  {
   "cell_type": "markdown",
   "id": "b9d50481-fa64-4b1b-b9da-866e7ae474e7",
   "metadata": {},
   "source": [
    "---"
   ]
  },
  {
   "cell_type": "markdown",
   "id": "d052a877-362d-4715-8782-d4e3867d3e01",
   "metadata": {},
   "source": [
    "# New"
   ]
  },
  {
   "cell_type": "markdown",
   "id": "c21b0175-deff-4952-849a-5d5ac117512d",
   "metadata": {},
   "source": [
    "## Sort"
   ]
  },
  {
   "cell_type": "markdown",
   "id": "a2f5e3a4-8c4c-4767-8abc-8b5bbda8c9d6",
   "metadata": {},
   "source": [
    "### alphabetically"
   ]
  },
  {
   "cell_type": "code",
   "execution_count": 112,
   "id": "fca08646-0725-4acd-8852-4927e90913c6",
   "metadata": {},
   "outputs": [],
   "source": [
    "words.sort()"
   ]
  },
  {
   "cell_type": "code",
   "execution_count": 113,
   "id": "a7455472-6907-42e0-9852-9361f625cb53",
   "metadata": {},
   "outputs": [
    {
     "name": "stdout",
     "output_type": "stream",
     "text": [
      "['charge', 'dark', 'write']\n"
     ]
    }
   ],
   "source": [
    "print(words)"
   ]
  },
  {
   "cell_type": "markdown",
   "id": "e3609445-2ded-4166-b326-165e9651b700",
   "metadata": {},
   "source": [
    "### by length"
   ]
  },
  {
   "cell_type": "code",
   "execution_count": 115,
   "id": "df2c57aa-3130-4f2b-a7f4-fb26fb814909",
   "metadata": {},
   "outputs": [],
   "source": [
    "words.sort(key=len)"
   ]
  },
  {
   "cell_type": "code",
   "execution_count": 116,
   "id": "5e86cb15-ce78-4d3c-acf7-ee414ad00dad",
   "metadata": {},
   "outputs": [
    {
     "name": "stdout",
     "output_type": "stream",
     "text": [
      "['dark', 'write', 'charge']\n"
     ]
    }
   ],
   "source": [
    "print(words)"
   ]
  },
  {
   "cell_type": "markdown",
   "id": "d6c09f76-c96f-4388-aa17-c3de0513e4da",
   "metadata": {},
   "source": [
    "### reverse"
   ]
  },
  {
   "cell_type": "code",
   "execution_count": 118,
   "id": "3a8d2aac-9c91-48a1-ae49-711fae2f0a96",
   "metadata": {},
   "outputs": [],
   "source": [
    "words.sort(reverse=True)"
   ]
  },
  {
   "cell_type": "code",
   "execution_count": 119,
   "id": "11cee4e5-d144-4c05-82b6-f18a8707559c",
   "metadata": {},
   "outputs": [
    {
     "name": "stdout",
     "output_type": "stream",
     "text": [
      "['write', 'dark', 'charge']\n"
     ]
    }
   ],
   "source": [
    "print(words)"
   ]
  },
  {
   "cell_type": "markdown",
   "id": "7beee5ce-578e-4b34-a6f8-ed0dd3a6f43a",
   "metadata": {},
   "source": [
    "# Change"
   ]
  },
  {
   "cell_type": "markdown",
   "id": "83693d50-45ac-414c-a82a-bd9c065a1ecd",
   "metadata": {},
   "source": [
    "## Sort"
   ]
  },
  {
   "cell_type": "markdown",
   "id": "b6806027-cb99-4f2b-9f7e-eb950f176171",
   "metadata": {},
   "source": [
    "### simple"
   ]
  },
  {
   "cell_type": "code",
   "execution_count": 123,
   "id": "bc6a72d3-b1c1-4959-9095-878aaf0b9c09",
   "metadata": {},
   "outputs": [],
   "source": [
    "sortedWords = sorted(words)"
   ]
  },
  {
   "cell_type": "code",
   "execution_count": 124,
   "id": "21037380-c127-40bf-8fda-f9a30ec3917c",
   "metadata": {},
   "outputs": [
    {
     "name": "stdout",
     "output_type": "stream",
     "text": [
      "['charge', 'dark', 'write']\n"
     ]
    }
   ],
   "source": [
    "print(sortedWords)"
   ]
  },
  {
   "cell_type": "markdown",
   "id": "5edf3ecb-41da-4377-af29-de8324629327",
   "metadata": {},
   "source": [
    "### by length"
   ]
  },
  {
   "cell_type": "code",
   "execution_count": 126,
   "id": "4e39780d-ab6e-4ef8-97c4-e54c63b69876",
   "metadata": {},
   "outputs": [],
   "source": [
    "sortedWordsByLength = sorted(words, key=len)"
   ]
  },
  {
   "cell_type": "code",
   "execution_count": 127,
   "id": "f8f81b61-4073-49c6-8d3d-01cf83406164",
   "metadata": {},
   "outputs": [
    {
     "name": "stdout",
     "output_type": "stream",
     "text": [
      "['dark', 'write', 'charge']\n"
     ]
    }
   ],
   "source": [
    "print(sortedWordsByLength)"
   ]
  },
  {
   "cell_type": "markdown",
   "id": "077918e8-adbe-44c3-b3d9-4d7e2e59fe1a",
   "metadata": {},
   "source": [
    "### reverse"
   ]
  },
  {
   "cell_type": "code",
   "execution_count": 129,
   "id": "1362213d-1f4e-4319-b790-39dfcb08c319",
   "metadata": {},
   "outputs": [],
   "source": [
    "reversedWords = sorted(words, reverse=True)"
   ]
  },
  {
   "cell_type": "code",
   "execution_count": 130,
   "id": "682da91a-2c27-4494-b22b-56872605208a",
   "metadata": {},
   "outputs": [
    {
     "name": "stdout",
     "output_type": "stream",
     "text": [
      "['write', 'dark', 'charge']\n"
     ]
    }
   ],
   "source": [
    "print(reversedWords)"
   ]
  },
  {
   "cell_type": "markdown",
   "id": "eccb7e12-2aac-4819-8313-66e9ffd257c2",
   "metadata": {},
   "source": [
    "## Replace"
   ]
  },
  {
   "cell_type": "markdown",
   "id": "12411a4a-15ec-433c-975a-b1bb3bdbca00",
   "metadata": {},
   "source": [
    "### by string"
   ]
  },
  {
   "cell_type": "code",
   "execution_count": 155,
   "id": "71bbdc08-976a-4bd6-a057-ba6df2e891cf",
   "metadata": {},
   "outputs": [],
   "source": [
    "assert ('world' not in 'hello world in beautiful world'.replace('world', 'jungle'))"
   ]
  },
  {
   "cell_type": "code",
   "execution_count": 4,
   "id": "47297c3e-d136-4297-a3df-4ea9013ec0be",
   "metadata": {},
   "outputs": [],
   "source": [
    "assert ('jungle' not in 'hello world in beautiful world'.replace(r'\\w+', 'jungle'))"
   ]
  }
 ],
 "metadata": {
  "kernelspec": {
   "display_name": "Python [conda env:base] *",
   "language": "python",
   "name": "conda-base-py"
  },
  "language_info": {
   "codemirror_mode": {
    "name": "ipython",
    "version": 3
   },
   "file_extension": ".py",
   "mimetype": "text/x-python",
   "name": "python",
   "nbconvert_exporter": "python",
   "pygments_lexer": "ipython3",
   "version": "3.11.10"
  }
 },
 "nbformat": 4,
 "nbformat_minor": 5
}
