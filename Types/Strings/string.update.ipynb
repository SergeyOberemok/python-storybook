{
 "cells": [
  {
   "cell_type": "code",
   "execution_count": 2,
   "id": "7db08982-84b0-4796-916b-3ced1f7c1760",
   "metadata": {},
   "outputs": [],
   "source": [
    "from faker import Faker\n"
   ]
  },
  {
   "cell_type": "code",
   "execution_count": 3,
   "id": "05bea082-d215-4cab-9a68-b7943c1e68c1",
   "metadata": {},
   "outputs": [
    {
     "data": {
      "text/plain": [
       "['debate', 'happen', 'magazine']"
      ]
     },
     "execution_count": 3,
     "metadata": {},
     "output_type": "execute_result"
    }
   ],
   "source": [
    "fake = Faker()\n",
    "words = fake.words()\n",
    "words"
   ]
  },
  {
   "cell_type": "markdown",
   "id": "b9d50481-fa64-4b1b-b9da-866e7ae474e7",
   "metadata": {},
   "source": [
    "---"
   ]
  },
  {
   "cell_type": "markdown",
   "id": "d052a877-362d-4715-8782-d4e3867d3e01",
   "metadata": {},
   "source": [
    "# New"
   ]
  },
  {
   "cell_type": "markdown",
   "id": "c21b0175-deff-4952-849a-5d5ac117512d",
   "metadata": {
    "jp-MarkdownHeadingCollapsed": true
   },
   "source": [
    "## Sort"
   ]
  },
  {
   "cell_type": "markdown",
   "id": "a2f5e3a4-8c4c-4767-8abc-8b5bbda8c9d6",
   "metadata": {},
   "source": [
    "### alphabetically"
   ]
  },
  {
   "cell_type": "code",
   "execution_count": 8,
   "id": "fca08646-0725-4acd-8852-4927e90913c6",
   "metadata": {},
   "outputs": [
    {
     "data": {
      "text/plain": [
       "['debate', 'happen', 'magazine']"
      ]
     },
     "execution_count": 8,
     "metadata": {},
     "output_type": "execute_result"
    }
   ],
   "source": [
    "words.sort()\n",
    "words"
   ]
  },
  {
   "cell_type": "markdown",
   "id": "e3609445-2ded-4166-b326-165e9651b700",
   "metadata": {},
   "source": [
    "### by length"
   ]
  },
  {
   "cell_type": "code",
   "execution_count": 10,
   "id": "df2c57aa-3130-4f2b-a7f4-fb26fb814909",
   "metadata": {},
   "outputs": [
    {
     "data": {
      "text/plain": [
       "['debate', 'happen', 'magazine']"
      ]
     },
     "execution_count": 10,
     "metadata": {},
     "output_type": "execute_result"
    }
   ],
   "source": [
    "words.sort(key=len)\n",
    "words"
   ]
  },
  {
   "cell_type": "markdown",
   "id": "d6c09f76-c96f-4388-aa17-c3de0513e4da",
   "metadata": {},
   "source": [
    "### reverse"
   ]
  },
  {
   "cell_type": "code",
   "execution_count": 12,
   "id": "3a8d2aac-9c91-48a1-ae49-711fae2f0a96",
   "metadata": {},
   "outputs": [
    {
     "data": {
      "text/plain": [
       "['magazine', 'happen', 'debate']"
      ]
     },
     "execution_count": 12,
     "metadata": {},
     "output_type": "execute_result"
    }
   ],
   "source": [
    "words.sort(reverse=True)\n",
    "words"
   ]
  },
  {
   "cell_type": "markdown",
   "id": "7beee5ce-578e-4b34-a6f8-ed0dd3a6f43a",
   "metadata": {},
   "source": [
    "# Change"
   ]
  },
  {
   "cell_type": "markdown",
   "id": "83693d50-45ac-414c-a82a-bd9c065a1ecd",
   "metadata": {},
   "source": [
    "## Sort"
   ]
  },
  {
   "cell_type": "markdown",
   "id": "b6806027-cb99-4f2b-9f7e-eb950f176171",
   "metadata": {},
   "source": [
    "### simple"
   ]
  },
  {
   "cell_type": "code",
   "execution_count": 16,
   "id": "bc6a72d3-b1c1-4959-9095-878aaf0b9c09",
   "metadata": {},
   "outputs": [
    {
     "data": {
      "text/plain": [
       "['debate', 'happen', 'magazine']"
      ]
     },
     "execution_count": 16,
     "metadata": {},
     "output_type": "execute_result"
    }
   ],
   "source": [
    "sorted(words)"
   ]
  },
  {
   "cell_type": "markdown",
   "id": "5edf3ecb-41da-4377-af29-de8324629327",
   "metadata": {},
   "source": [
    "### by length"
   ]
  },
  {
   "cell_type": "code",
   "execution_count": 18,
   "id": "4e39780d-ab6e-4ef8-97c4-e54c63b69876",
   "metadata": {},
   "outputs": [
    {
     "data": {
      "text/plain": [
       "['happen', 'debate', 'magazine']"
      ]
     },
     "execution_count": 18,
     "metadata": {},
     "output_type": "execute_result"
    }
   ],
   "source": [
    "sorted(words, key=len)"
   ]
  },
  {
   "cell_type": "markdown",
   "id": "077918e8-adbe-44c3-b3d9-4d7e2e59fe1a",
   "metadata": {},
   "source": [
    "### reverse"
   ]
  },
  {
   "cell_type": "code",
   "execution_count": 20,
   "id": "1362213d-1f4e-4319-b790-39dfcb08c319",
   "metadata": {},
   "outputs": [
    {
     "data": {
      "text/plain": [
       "['magazine', 'happen', 'debate']"
      ]
     },
     "execution_count": 20,
     "metadata": {},
     "output_type": "execute_result"
    }
   ],
   "source": [
    "sorted(words, reverse=True)"
   ]
  },
  {
   "cell_type": "markdown",
   "id": "eccb7e12-2aac-4819-8313-66e9ffd257c2",
   "metadata": {
    "jp-MarkdownHeadingCollapsed": true
   },
   "source": [
    "## Replace"
   ]
  },
  {
   "cell_type": "markdown",
   "id": "12411a4a-15ec-433c-975a-b1bb3bdbca00",
   "metadata": {},
   "source": [
    "### by string"
   ]
  },
  {
   "cell_type": "code",
   "execution_count": 31,
   "id": "71bbdc08-976a-4bd6-a057-ba6df2e891cf",
   "metadata": {},
   "outputs": [],
   "source": [
    "assert ('world' not in 'hello world'.replace('world', 'jungle'))"
   ]
  }
 ],
 "metadata": {
  "kernelspec": {
   "display_name": "Python 3 (ipykernel)",
   "language": "python",
   "name": "python3"
  },
  "language_info": {
   "codemirror_mode": {
    "name": "ipython",
    "version": 3
   },
   "file_extension": ".py",
   "mimetype": "text/x-python",
   "name": "python",
   "nbconvert_exporter": "python",
   "pygments_lexer": "ipython3",
   "version": "3.11.5"
  }
 },
 "nbformat": 4,
 "nbformat_minor": 5
}
