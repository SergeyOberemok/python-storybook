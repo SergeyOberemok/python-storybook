{
 "cells": [
  {
   "cell_type": "code",
   "execution_count": 54,
   "id": "42e2bdbb",
   "metadata": {},
   "outputs": [],
   "source": [
    "import re"
   ]
  },
  {
   "cell_type": "markdown",
   "id": "45c571ad-a103-4fff-96cf-96c6e6811723",
   "metadata": {},
   "source": [
    "---"
   ]
  },
  {
   "cell_type": "code",
   "execution_count": 56,
   "id": "1cbb4af0",
   "metadata": {},
   "outputs": [],
   "source": [
    "helloWorld = 'Hello World'\n",
    "world = 'world'"
   ]
  },
  {
   "cell_type": "markdown",
   "id": "856d9b8e-235c-4707-bbb4-e195a1a6b7b5",
   "metadata": {},
   "source": [
    "---"
   ]
  },
  {
   "cell_type": "markdown",
   "id": "59e58526",
   "metadata": {},
   "source": [
    "# Create"
   ]
  },
  {
   "cell_type": "markdown",
   "id": "cd5209a8-e85e-4648-b36b-84f28f09a503",
   "metadata": {},
   "source": [
    "## String"
   ]
  },
  {
   "cell_type": "code",
   "execution_count": 60,
   "id": "387fc403-34c7-4328-9bbc-7259fa53e31c",
   "metadata": {},
   "outputs": [
    {
     "data": {
      "text/plain": [
       "'\\\\w*'"
      ]
     },
     "execution_count": 60,
     "metadata": {},
     "output_type": "execute_result"
    }
   ],
   "source": [
    "r'\\w*'"
   ]
  },
  {
   "cell_type": "code",
   "execution_count": 61,
   "id": "ae4fe8bd-0bfe-486c-b3bd-dabceab10a3d",
   "metadata": {},
   "outputs": [
    {
     "data": {
      "text/plain": [
       "'world'"
      ]
     },
     "execution_count": 61,
     "metadata": {},
     "output_type": "execute_result"
    }
   ],
   "source": [
    "rf'{world}'"
   ]
  },
  {
   "cell_type": "markdown",
   "id": "521fd98c-5852-4499-a0a2-9577ab6d88d1",
   "metadata": {},
   "source": [
    "## Compile"
   ]
  },
  {
   "cell_type": "code",
   "execution_count": 63,
   "id": "1baf33f2-932a-4e79-9105-fa1cc9d2aa94",
   "metadata": {},
   "outputs": [],
   "source": [
    "compiled = re.compile('\\w+')"
   ]
  },
  {
   "cell_type": "markdown",
   "id": "81bf3d9e",
   "metadata": {},
   "source": [
    "# Read"
   ]
  },
  {
   "cell_type": "markdown",
   "id": "9eebb8b0-2539-4c9f-afd7-509ff57d471d",
   "metadata": {},
   "source": [
    "## Match"
   ]
  },
  {
   "cell_type": "code",
   "execution_count": 66,
   "id": "1d1d26b8",
   "metadata": {},
   "outputs": [],
   "source": [
    "match = re.search(r'\\w', helloWorld)"
   ]
  },
  {
   "cell_type": "markdown",
   "id": "331dc09b-461e-4489-abd4-61c89cec6deb",
   "metadata": {},
   "source": [
    "### Type"
   ]
  },
  {
   "cell_type": "code",
   "execution_count": 68,
   "id": "308b0830-0d37-4c7d-a2b8-4607cccb34d9",
   "metadata": {},
   "outputs": [
    {
     "data": {
      "text/plain": [
       "re.Match"
      ]
     },
     "execution_count": 68,
     "metadata": {},
     "output_type": "execute_result"
    }
   ],
   "source": [
    "type(match)"
   ]
  },
  {
   "cell_type": "markdown",
   "id": "f660402e-8e57-49f9-88a9-5b57ca802ce5",
   "metadata": {},
   "source": [
    "### Span"
   ]
  },
  {
   "cell_type": "code",
   "execution_count": 70,
   "id": "74f9015e-8bdf-4388-8a21-5e2fa7f58062",
   "metadata": {},
   "outputs": [
    {
     "data": {
      "text/plain": [
       "(0, 1)"
      ]
     },
     "execution_count": 70,
     "metadata": {},
     "output_type": "execute_result"
    }
   ],
   "source": [
    "match.span()"
   ]
  },
  {
   "cell_type": "markdown",
   "id": "4d5a37e9-b006-49c7-bf0d-33280e4a37bb",
   "metadata": {},
   "source": [
    "### Group"
   ]
  },
  {
   "cell_type": "code",
   "execution_count": 72,
   "id": "9c64bb23-2ad5-4abf-b99e-88b5433f9862",
   "metadata": {},
   "outputs": [
    {
     "data": {
      "text/plain": [
       "'H'"
      ]
     },
     "execution_count": 72,
     "metadata": {},
     "output_type": "execute_result"
    }
   ],
   "source": [
    "match.group()"
   ]
  },
  {
   "cell_type": "markdown",
   "id": "480e14c1-334b-4e45-a4dc-21403a93b232",
   "metadata": {},
   "source": [
    "## Matches"
   ]
  },
  {
   "cell_type": "code",
   "execution_count": 74,
   "id": "ee3a5e8c-6b29-47bd-bba0-6460edf51616",
   "metadata": {},
   "outputs": [],
   "source": [
    "matches = re.findall(r'\\w', helloWorld)"
   ]
  },
  {
   "cell_type": "markdown",
   "id": "538c70b9-7b97-4dff-a516-57f02c5c61b5",
   "metadata": {},
   "source": [
    "### Type"
   ]
  },
  {
   "cell_type": "code",
   "execution_count": 76,
   "id": "e86f1458-cfe0-4d66-b741-907848266641",
   "metadata": {},
   "outputs": [
    {
     "data": {
      "text/plain": [
       "list"
      ]
     },
     "execution_count": 76,
     "metadata": {},
     "output_type": "execute_result"
    }
   ],
   "source": [
    "type(matches)"
   ]
  },
  {
   "cell_type": "markdown",
   "id": "8ce8b755-4245-4880-bd59-4562b4597981",
   "metadata": {},
   "source": [
    "### Result"
   ]
  },
  {
   "cell_type": "code",
   "execution_count": 78,
   "id": "3e8b66e6-73ef-4a0b-b548-03025c52dad0",
   "metadata": {},
   "outputs": [
    {
     "name": "stdout",
     "output_type": "stream",
     "text": [
      "['H', 'e', 'l', 'l', 'o', 'W', 'o', 'r', 'l', 'd']\n"
     ]
    }
   ],
   "source": [
    "print(matches)"
   ]
  },
  {
   "cell_type": "markdown",
   "id": "1d2adca0-e503-4a54-ad17-049d69c4ab22",
   "metadata": {},
   "source": [
    "## Check"
   ]
  },
  {
   "cell_type": "markdown",
   "id": "a2886f13-6b99-429a-8e5b-a84b94a9263f",
   "metadata": {},
   "source": [
    "### Case sensitive"
   ]
  },
  {
   "cell_type": "code",
   "execution_count": 81,
   "id": "26733bdd",
   "metadata": {},
   "outputs": [
    {
     "data": {
      "text/plain": [
       "'No'"
      ]
     },
     "execution_count": 81,
     "metadata": {},
     "output_type": "execute_result"
    }
   ],
   "source": [
    "'Yes' if re.search(r'\\w*', helloWorld) == None else 'No'"
   ]
  },
  {
   "cell_type": "markdown",
   "id": "8079a427-9961-4f7e-b5df-da94e33b2be4",
   "metadata": {},
   "source": [
    "### Case insensitive"
   ]
  },
  {
   "cell_type": "code",
   "execution_count": 83,
   "id": "ba057c7c-6cfb-470a-a701-cb727278a837",
   "metadata": {},
   "outputs": [
    {
     "data": {
      "text/plain": [
       "'no'"
      ]
     },
     "execution_count": 83,
     "metadata": {},
     "output_type": "execute_result"
    }
   ],
   "source": [
    "'yes' if re.search(rf'{world}', helloWorld, re.IGNORECASE) == None else 'no'"
   ]
  },
  {
   "cell_type": "markdown",
   "id": "3aac1c59",
   "metadata": {},
   "source": [
    "# Update"
   ]
  },
  {
   "cell_type": "markdown",
   "id": "5aab7004",
   "metadata": {},
   "source": [
    "## Replace"
   ]
  },
  {
   "cell_type": "markdown",
   "id": "2c1b3e2d-9944-447c-94fb-62dbd36bbd9b",
   "metadata": {},
   "source": [
    "### Pattern"
   ]
  },
  {
   "cell_type": "code",
   "execution_count": 87,
   "id": "12563a12",
   "metadata": {},
   "outputs": [],
   "source": [
    "assert (' ' not in re.sub(r'\\s*', '', helloWorld))"
   ]
  },
  {
   "cell_type": "markdown",
   "id": "659c4018-6ae8-4fff-be33-cb44019f53a3",
   "metadata": {},
   "source": [
    "### Compiled"
   ]
  },
  {
   "cell_type": "code",
   "execution_count": 89,
   "id": "cb183200-45f4-4ae8-a06b-1330585c556c",
   "metadata": {},
   "outputs": [],
   "source": [
    "assert (' ' not in re.compile('\\s*').sub('', helloWorld))"
   ]
  }
 ],
 "metadata": {
  "kernelspec": {
   "display_name": "Python 3 (ipykernel)",
   "language": "python",
   "name": "python3"
  },
  "language_info": {
   "codemirror_mode": {
    "name": "ipython",
    "version": 3
   },
   "file_extension": ".py",
   "mimetype": "text/x-python",
   "name": "python",
   "nbconvert_exporter": "python",
   "pygments_lexer": "ipython3",
   "version": "3.11.10"
  }
 },
 "nbformat": 4,
 "nbformat_minor": 5
}
