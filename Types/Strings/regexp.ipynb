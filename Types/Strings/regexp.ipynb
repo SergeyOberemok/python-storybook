{
 "cells": [
  {
   "cell_type": "code",
   "execution_count": 5,
   "id": "42e2bdbb",
   "metadata": {},
   "outputs": [],
   "source": [
    "import re"
   ]
  },
  {
   "cell_type": "code",
   "execution_count": 6,
   "id": "1cbb4af0",
   "metadata": {},
   "outputs": [],
   "source": [
    "helloWorld = 'Hello World'"
   ]
  },
  {
   "cell_type": "markdown",
   "id": "856d9b8e-235c-4707-bbb4-e195a1a6b7b5",
   "metadata": {},
   "source": [
    "---"
   ]
  },
  {
   "cell_type": "markdown",
   "id": "59e58526",
   "metadata": {
    "jp-MarkdownHeadingCollapsed": true
   },
   "source": [
    "# Create"
   ]
  },
  {
   "cell_type": "markdown",
   "id": "cd5209a8-e85e-4648-b36b-84f28f09a503",
   "metadata": {},
   "source": [
    "## String"
   ]
  },
  {
   "cell_type": "code",
   "execution_count": 10,
   "id": "387fc403-34c7-4328-9bbc-7259fa53e31c",
   "metadata": {},
   "outputs": [
    {
     "data": {
      "text/plain": [
       "'\\\\w*'"
      ]
     },
     "execution_count": 10,
     "metadata": {},
     "output_type": "execute_result"
    }
   ],
   "source": [
    "r'\\w*'"
   ]
  },
  {
   "cell_type": "markdown",
   "id": "81bf3d9e",
   "metadata": {},
   "source": [
    "# Read"
   ]
  },
  {
   "cell_type": "markdown",
   "id": "5c08cef4",
   "metadata": {},
   "source": [
    "## Type"
   ]
  },
  {
   "cell_type": "code",
   "execution_count": 13,
   "id": "1d1d26b8",
   "metadata": {},
   "outputs": [
    {
     "data": {
      "text/plain": [
       "re.Match"
      ]
     },
     "execution_count": 13,
     "metadata": {},
     "output_type": "execute_result"
    }
   ],
   "source": [
    "type(re.search(r'\\w+', helloWorld))"
   ]
  },
  {
   "cell_type": "markdown",
   "id": "1d2adca0-e503-4a54-ad17-049d69c4ab22",
   "metadata": {},
   "source": [
    "## Check"
   ]
  },
  {
   "cell_type": "code",
   "execution_count": 15,
   "id": "26733bdd",
   "metadata": {},
   "outputs": [
    {
     "data": {
      "text/plain": [
       "'Yes'"
      ]
     },
     "execution_count": 15,
     "metadata": {},
     "output_type": "execute_result"
    }
   ],
   "source": [
    "'Yes' if re.search(r'\\w*', helloWorld) else 'No'"
   ]
  },
  {
   "cell_type": "markdown",
   "id": "fe00600a",
   "metadata": {},
   "source": [
    "## Matches"
   ]
  },
  {
   "cell_type": "markdown",
   "id": "dbf1535c",
   "metadata": {},
   "source": [
    "### first"
   ]
  },
  {
   "cell_type": "code",
   "execution_count": 18,
   "id": "b359dfdd",
   "metadata": {},
   "outputs": [
    {
     "data": {
      "text/plain": [
       "'Hello'"
      ]
     },
     "execution_count": 18,
     "metadata": {},
     "output_type": "execute_result"
    }
   ],
   "source": [
    "re.search(r'\\w+', helloWorld).group()"
   ]
  },
  {
   "cell_type": "markdown",
   "id": "f8d76ebf",
   "metadata": {},
   "source": [
    "### all"
   ]
  },
  {
   "cell_type": "code",
   "execution_count": 20,
   "id": "03b0ea6c",
   "metadata": {},
   "outputs": [
    {
     "data": {
      "text/plain": [
       "['Hello', 'World']"
      ]
     },
     "execution_count": 20,
     "metadata": {},
     "output_type": "execute_result"
    }
   ],
   "source": [
    "re.findall(r'\\w+', helloWorld)"
   ]
  },
  {
   "cell_type": "markdown",
   "id": "d72e2395",
   "metadata": {},
   "source": [
    "### Case sensetive"
   ]
  },
  {
   "cell_type": "code",
   "execution_count": 22,
   "id": "c04953e1",
   "metadata": {},
   "outputs": [],
   "source": [
    "assert re.search(r'^hello.*$', helloWorld) == None"
   ]
  },
  {
   "cell_type": "code",
   "execution_count": 23,
   "id": "1ca59178",
   "metadata": {},
   "outputs": [],
   "source": [
    "assert re.search(r'^hello.*$', helloWorld, re.IGNORECASE)"
   ]
  },
  {
   "cell_type": "markdown",
   "id": "3aac1c59",
   "metadata": {},
   "source": [
    "# Update"
   ]
  },
  {
   "cell_type": "markdown",
   "id": "5aab7004",
   "metadata": {},
   "source": [
    "## Replace"
   ]
  },
  {
   "cell_type": "code",
   "execution_count": 26,
   "id": "12563a12",
   "metadata": {},
   "outputs": [],
   "source": [
    "assert (' ' not in re.sub(r'\\s*', '', helloWorld))"
   ]
  }
 ],
 "metadata": {
  "kernelspec": {
   "display_name": "Python 3 (ipykernel)",
   "language": "python",
   "name": "python3"
  },
  "language_info": {
   "codemirror_mode": {
    "name": "ipython",
    "version": 3
   },
   "file_extension": ".py",
   "mimetype": "text/x-python",
   "name": "python",
   "nbconvert_exporter": "python",
   "pygments_lexer": "ipython3",
   "version": "3.11.5"
  }
 },
 "nbformat": 4,
 "nbformat_minor": 5
}
