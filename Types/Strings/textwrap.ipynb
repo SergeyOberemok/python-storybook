{
 "cells": [
  {
   "cell_type": "code",
   "execution_count": 7,
   "id": "2fa5afd8-23c6-48a0-affe-91e99b33cd39",
   "metadata": {},
   "outputs": [],
   "source": [
    "from textwrap import wrap\n",
    "from faker import Faker"
   ]
  },
  {
   "cell_type": "markdown",
   "id": "bf4c0fca-5bd8-459a-b655-21e41cd5a891",
   "metadata": {},
   "source": [
    "---"
   ]
  },
  {
   "cell_type": "code",
   "execution_count": 9,
   "id": "c81662cc-21a4-478a-82c5-56eacd61a1ce",
   "metadata": {},
   "outputs": [],
   "source": [
    "fake = Faker()"
   ]
  },
  {
   "cell_type": "markdown",
   "id": "5aa62265-1842-4cd9-9a2a-a4e86a16b518",
   "metadata": {},
   "source": [
    "---"
   ]
  },
  {
   "cell_type": "markdown",
   "id": "ccf49875-7cff-4d7b-bc8d-4a726cf55ef4",
   "metadata": {},
   "source": [
    "## Chunk"
   ]
  },
  {
   "cell_type": "code",
   "execution_count": 16,
   "id": "b5258f78-79e4-45a7-8048-6a061e4843a8",
   "metadata": {},
   "outputs": [
    {
     "data": {
      "text/plain": [
       "['de', 'fe', 'ns', 'e']"
      ]
     },
     "execution_count": 16,
     "metadata": {},
     "output_type": "execute_result"
    }
   ],
   "source": [
    "wrap(fake.word(), 2)"
   ]
  }
 ],
 "metadata": {
  "kernelspec": {
   "display_name": "Python 3 (ipykernel)",
   "language": "python",
   "name": "python3"
  },
  "language_info": {
   "codemirror_mode": {
    "name": "ipython",
    "version": 3
   },
   "file_extension": ".py",
   "mimetype": "text/x-python",
   "name": "python",
   "nbconvert_exporter": "python",
   "pygments_lexer": "ipython3",
   "version": "3.11.5"
  }
 },
 "nbformat": 4,
 "nbformat_minor": 5
}
