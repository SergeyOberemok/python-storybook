{
 "cells": [
  {
   "cell_type": "code",
   "execution_count": 1,
   "id": "c697cbc7-bd72-454e-928f-3925aaee5fd3",
   "metadata": {},
   "outputs": [],
   "source": [
    "from datetime import date\n",
    "from dateutil.rrule import rrule, MONTHLY\n",
    "from dateutil.relativedelta import relativedelta\n",
    "from dateutil import parser"
   ]
  },
  {
   "cell_type": "markdown",
   "id": "3b0eb3f6-9df6-47c7-bfd4-03dbd1f06a18",
   "metadata": {},
   "source": [
    "---"
   ]
  },
  {
   "cell_type": "markdown",
   "id": "f2ecbd10-86c9-4f3d-a711-4351f6482f66",
   "metadata": {
    "jp-MarkdownHeadingCollapsed": true
   },
   "source": [
    "# Create"
   ]
  },
  {
   "cell_type": "code",
   "execution_count": 19,
   "id": "c31deb3e-f280-4bd5-ac87-bc5f5c446673",
   "metadata": {},
   "outputs": [
    {
     "data": {
      "text/plain": [
       "datetime.datetime(2023, 4, 20, 0, 0)"
      ]
     },
     "execution_count": 19,
     "metadata": {},
     "output_type": "execute_result"
    }
   ],
   "source": [
    "parser.parse('20230420')"
   ]
  },
  {
   "cell_type": "markdown",
   "id": "202f1846-9e3c-4d0f-93f2-5a4f2388d64c",
   "metadata": {
    "jp-MarkdownHeadingCollapsed": true
   },
   "source": [
    "## Range"
   ]
  },
  {
   "cell_type": "markdown",
   "id": "224c88fe-fb18-4891-9dc0-fb1b46031717",
   "metadata": {
    "jp-MarkdownHeadingCollapsed": true
   },
   "source": [
    "### Monthly"
   ]
  },
  {
   "cell_type": "code",
   "execution_count": null,
   "id": "994c77cf-4dfa-482b-a0ff-c189c11f5e59",
   "metadata": {},
   "outputs": [],
   "source": [
    "[day for day in rrule(MONTHLY, dtstart=date(2023, 1, 1), until=date.today())]"
   ]
  },
  {
   "cell_type": "markdown",
   "id": "120c9d22-6204-4648-b6db-d7de7d190569",
   "metadata": {
    "jp-MarkdownHeadingCollapsed": true
   },
   "source": [
    "# Update"
   ]
  },
  {
   "cell_type": "markdown",
   "id": "a5ade44d-7323-4d6d-9a01-d96be0585cdb",
   "metadata": {
    "jp-MarkdownHeadingCollapsed": true
   },
   "source": [
    "## Calculations"
   ]
  },
  {
   "cell_type": "markdown",
   "id": "08d9d0b9-1475-4a34-a973-d52713fd663f",
   "metadata": {
    "jp-MarkdownHeadingCollapsed": true
   },
   "source": [
    "### Minus/Plus"
   ]
  },
  {
   "cell_type": "markdown",
   "id": "7e4a2c6c-c6b1-42b9-9027-b10fba8a91ff",
   "metadata": {
    "jp-MarkdownHeadingCollapsed": true
   },
   "source": [
    "#### Month"
   ]
  },
  {
   "cell_type": "code",
   "execution_count": 2,
   "id": "3f4a026b-d851-47a2-a32b-1cd1c7162f12",
   "metadata": {},
   "outputs": [
    {
     "data": {
      "text/plain": [
       "datetime.date(2023, 12, 8)"
      ]
     },
     "execution_count": 2,
     "metadata": {},
     "output_type": "execute_result"
    }
   ],
   "source": [
    "date.today() - relativedelta(months=3)"
   ]
  }
 ],
 "metadata": {
  "kernelspec": {
   "display_name": "Python 3 (ipykernel)",
   "language": "python",
   "name": "python3"
  },
  "language_info": {
   "codemirror_mode": {
    "name": "ipython",
    "version": 3
   },
   "file_extension": ".py",
   "mimetype": "text/x-python",
   "name": "python",
   "nbconvert_exporter": "python",
   "pygments_lexer": "ipython3",
   "version": "3.11.5"
  }
 },
 "nbformat": 4,
 "nbformat_minor": 5
}
