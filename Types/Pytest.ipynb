{
 "cells": [
  {
   "cell_type": "markdown",
   "id": "a3aa88b2-48f3-44be-8766-ce25720ed5a0",
   "metadata": {},
   "source": [
    "# Pytest"
   ]
  },
  {
   "cell_type": "markdown",
   "id": "97f8bcba-c9a9-49c6-8959-2267c67dc422",
   "metadata": {},
   "source": [
    "## Simple"
   ]
  },
  {
   "cell_type": "markdown",
   "id": "8ae35d9b-3eda-44f4-88f7-68964f838d4c",
   "metadata": {},
   "source": [
    "### function"
   ]
  },
  {
   "cell_type": "code",
   "execution_count": 3,
   "id": "e28b36fa-1f43-401c-8442-8286761e2ce9",
   "metadata": {},
   "outputs": [],
   "source": [
    "def test_number():\n",
    "    assert 3 == 3"
   ]
  }
 ],
 "metadata": {
  "kernelspec": {
   "display_name": "Python 3 (ipykernel)",
   "language": "python",
   "name": "python3"
  },
  "language_info": {
   "codemirror_mode": {
    "name": "ipython",
    "version": 3
   },
   "file_extension": ".py",
   "mimetype": "text/x-python",
   "name": "python",
   "nbconvert_exporter": "python",
   "pygments_lexer": "ipython3",
   "version": "3.11.5"
  }
 },
 "nbformat": 4,
 "nbformat_minor": 5
}
