{
 "cells": [
  {
   "cell_type": "markdown",
   "id": "a3aa88b2-48f3-44be-8766-ce25720ed5a0",
   "metadata": {},
   "source": [
    "# Pytest"
   ]
  },
  {
   "cell_type": "markdown",
   "id": "97f8bcba-c9a9-49c6-8959-2267c67dc422",
   "metadata": {},
   "source": [
    "## Simple"
   ]
  },
  {
   "cell_type": "markdown",
   "id": "8ae35d9b-3eda-44f4-88f7-68964f838d4c",
   "metadata": {},
   "source": [
    "### function"
   ]
  },
  {
   "cell_type": "code",
   "execution_count": 3,
   "id": "e28b36fa-1f43-401c-8442-8286761e2ce9",
   "metadata": {},
   "outputs": [],
   "source": [
    "def test_number():\n",
    "    assert 3 == 3"
   ]
  },
  {
   "cell_type": "markdown",
   "id": "a5e341ba-e01e-4b5c-91a5-72c401e8ae1c",
   "metadata": {},
   "source": [
    "### With message"
   ]
  },
  {
   "cell_type": "code",
   "execution_count": 6,
   "id": "4d9e01b8-559d-4386-844e-96b750b16be9",
   "metadata": {},
   "outputs": [],
   "source": [
    "def test_str():\n",
    "    assert 'hello' == 'world', 'strings are not equal'"
   ]
  },
  {
   "cell_type": "raw",
   "id": "bf130f0c-7936-47cd-86cd-95d27cc87e54",
   "metadata": {},
   "source": [
    "test_str()"
   ]
  }
 ],
 "metadata": {
  "kernelspec": {
   "display_name": "Python 3 (ipykernel)",
   "language": "python",
   "name": "python3"
  },
  "language_info": {
   "codemirror_mode": {
    "name": "ipython",
    "version": 3
   },
   "file_extension": ".py",
   "mimetype": "text/x-python",
   "name": "python",
   "nbconvert_exporter": "python",
   "pygments_lexer": "ipython3",
   "version": "3.11.10"
  }
 },
 "nbformat": 4,
 "nbformat_minor": 5
}
