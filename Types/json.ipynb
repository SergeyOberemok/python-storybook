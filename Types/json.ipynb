{
 "cells": [
  {
   "cell_type": "code",
   "execution_count": 5,
   "id": "595bf7a4-3e74-4744-acd9-813fe063fb67",
   "metadata": {},
   "outputs": [],
   "source": [
    "from faker import Faker\n",
    "import json"
   ]
  },
  {
   "cell_type": "code",
   "execution_count": 3,
   "id": "c589f18d-7483-4ae7-90ba-66ce7ffe6dd1",
   "metadata": {},
   "outputs": [],
   "source": [
    "fake = Faker()"
   ]
  },
  {
   "cell_type": "markdown",
   "id": "0ab5b5d1-1ef0-4e76-9025-557c65b6924a",
   "metadata": {},
   "source": [
    "---"
   ]
  },
  {
   "cell_type": "markdown",
   "id": "0fb6d35c-2ee7-48d5-b6d7-6c6bb3c47980",
   "metadata": {},
   "source": [
    "# Create"
   ]
  },
  {
   "cell_type": "code",
   "execution_count": 6,
   "id": "eaf73a50-dca9-4675-bd13-86ef128a7c9f",
   "metadata": {},
   "outputs": [
    {
     "data": {
      "text/plain": [
       "'[\"Lauren\", \"Jorge\", \"Robert\"]'"
      ]
     },
     "execution_count": 6,
     "metadata": {},
     "output_type": "execute_result"
    }
   ],
   "source": [
    "json.dumps([fake.first_name() for _ in range(3)])"
   ]
  },
  {
   "cell_type": "markdown",
   "id": "76068a15-aaa9-4cfc-8c3a-35915ba527f7",
   "metadata": {},
   "source": [
    "# Read"
   ]
  },
  {
   "cell_type": "code",
   "execution_count": 7,
   "id": "af939880-d3c6-4104-8cbd-c8242f68c986",
   "metadata": {},
   "outputs": [
    {
     "data": {
      "text/plain": [
       "['Lauren', 'Jorge', 'Robert']"
      ]
     },
     "execution_count": 7,
     "metadata": {},
     "output_type": "execute_result"
    }
   ],
   "source": [
    "json.loads('[\"Lauren\", \"Jorge\", \"Robert\"]')"
   ]
  }
 ],
 "metadata": {
  "kernelspec": {
   "display_name": "Python 3 (ipykernel)",
   "language": "python",
   "name": "python3"
  },
  "language_info": {
   "codemirror_mode": {
    "name": "ipython",
    "version": 3
   },
   "file_extension": ".py",
   "mimetype": "text/x-python",
   "name": "python",
   "nbconvert_exporter": "python",
   "pygments_lexer": "ipython3",
   "version": "3.11.5"
  }
 },
 "nbformat": 4,
 "nbformat_minor": 5
}
