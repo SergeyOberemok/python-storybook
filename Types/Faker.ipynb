{
 "cells": [
  {
   "cell_type": "code",
   "execution_count": 4,
   "id": "1dbb716e-a933-418e-9381-49425429ec22",
   "metadata": {},
   "outputs": [],
   "source": [
    "from faker import Faker"
   ]
  },
  {
   "cell_type": "code",
   "execution_count": 5,
   "id": "0e54c9ff-da3e-4701-b58b-5061df7d9fa7",
   "metadata": {},
   "outputs": [],
   "source": [
    "fake = Faker()"
   ]
  },
  {
   "cell_type": "markdown",
   "id": "4e9c53a9-603a-4abb-abff-1f07a4b83963",
   "metadata": {},
   "source": [
    "---"
   ]
  },
  {
   "cell_type": "markdown",
   "id": "58e83783-4c06-4802-91c9-abfe6d8d98be",
   "metadata": {},
   "source": [
    "# Dates"
   ]
  },
  {
   "cell_type": "markdown",
   "id": "7914a2ef-db75-47f9-a170-cd89b1fb880c",
   "metadata": {},
   "source": [
    "## Between"
   ]
  },
  {
   "cell_type": "markdown",
   "id": "9fc2815e-9c92-4ede-a7a6-7e28476818b3",
   "metadata": {},
   "source": [
    "### Month"
   ]
  },
  {
   "cell_type": "code",
   "execution_count": 14,
   "id": "835cf849-206b-4b94-83b6-cc9d819aef17",
   "metadata": {},
   "outputs": [
    {
     "data": {
      "text/plain": [
       "(datetime.date(2024, 2, 22), datetime.datetime(2024, 2, 7, 18, 52, 53))"
      ]
     },
     "execution_count": 14,
     "metadata": {},
     "output_type": "execute_result"
    }
   ],
   "source": [
    "fake.date_between(start_date='-1M'), fake.date_time_between(start_date='-1M')"
   ]
  },
  {
   "cell_type": "markdown",
   "id": "054913f8-5a45-4544-aad0-c6e7b0839fbc",
   "metadata": {},
   "source": [
    "### Year"
   ]
  },
  {
   "cell_type": "code",
   "execution_count": 15,
   "id": "6319e9e1-c684-436e-8ad8-1bb7837713e5",
   "metadata": {},
   "outputs": [
    {
     "data": {
      "text/plain": [
       "(datetime.date(2024, 1, 31), datetime.datetime(2023, 7, 10, 1, 28, 36))"
      ]
     },
     "execution_count": 15,
     "metadata": {},
     "output_type": "execute_result"
    }
   ],
   "source": [
    "fake.date_between(start_date='-1y'), fake.date_time_between(start_date='-1y')"
   ]
  }
 ],
 "metadata": {
  "kernelspec": {
   "display_name": "Python 3 (ipykernel)",
   "language": "python",
   "name": "python3"
  },
  "language_info": {
   "codemirror_mode": {
    "name": "ipython",
    "version": 3
   },
   "file_extension": ".py",
   "mimetype": "text/x-python",
   "name": "python",
   "nbconvert_exporter": "python",
   "pygments_lexer": "ipython3",
   "version": "3.11.5"
  }
 },
 "nbformat": 4,
 "nbformat_minor": 5
}
