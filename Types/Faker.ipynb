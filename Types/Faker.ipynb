{
 "cells": [
  {
   "cell_type": "code",
   "execution_count": 3,
   "id": "1dbb716e-a933-418e-9381-49425429ec22",
   "metadata": {},
   "outputs": [],
   "source": [
    "from faker import Faker"
   ]
  },
  {
   "cell_type": "code",
   "execution_count": 4,
   "id": "0e54c9ff-da3e-4701-b58b-5061df7d9fa7",
   "metadata": {},
   "outputs": [],
   "source": [
    "fake = Faker()"
   ]
  },
  {
   "cell_type": "markdown",
   "id": "4e9c53a9-603a-4abb-abff-1f07a4b83963",
   "metadata": {},
   "source": [
    "---"
   ]
  },
  {
   "cell_type": "markdown",
   "id": "fa0b9427-e438-4efd-972f-e338ebf39c03",
   "metadata": {},
   "source": [
    "# Lorem"
   ]
  },
  {
   "cell_type": "markdown",
   "id": "0ca0099f-1081-451a-b65e-8b28269e525c",
   "metadata": {},
   "source": [
    "### Word"
   ]
  },
  {
   "cell_type": "code",
   "execution_count": 8,
   "id": "d1e4ed89-ccfb-40d3-beef-80a83e3feda6",
   "metadata": {},
   "outputs": [
    {
     "data": {
      "text/plain": [
       "'street'"
      ]
     },
     "execution_count": 8,
     "metadata": {},
     "output_type": "execute_result"
    }
   ],
   "source": [
    "fake.word()"
   ]
  },
  {
   "cell_type": "markdown",
   "id": "e21a816d-294a-494e-9095-3e67f8073f41",
   "metadata": {},
   "source": [
    "### Sentence"
   ]
  },
  {
   "cell_type": "code",
   "execution_count": 10,
   "id": "d38d1896-b499-4ef4-b80e-a3647c8e59ba",
   "metadata": {},
   "outputs": [
    {
     "data": {
      "text/plain": [
       "'Prove decision class tell financial heavy base.'"
      ]
     },
     "execution_count": 10,
     "metadata": {},
     "output_type": "execute_result"
    }
   ],
   "source": [
    "fake.sentence()"
   ]
  },
  {
   "cell_type": "markdown",
   "id": "56241d6c-b465-415b-98ea-8e40396ad90d",
   "metadata": {},
   "source": [
    "### Paragraph"
   ]
  },
  {
   "cell_type": "code",
   "execution_count": 12,
   "id": "e66a80aa-8699-4f83-8508-5e0e8556c6ae",
   "metadata": {},
   "outputs": [
    {
     "data": {
      "text/plain": [
       "'Senior personal spring attention look model. Less capital remember. Artist mind talk.'"
      ]
     },
     "execution_count": 12,
     "metadata": {},
     "output_type": "execute_result"
    }
   ],
   "source": [
    "fake.paragraph()"
   ]
  },
  {
   "cell_type": "markdown",
   "id": "21266ab1-98c9-4a67-9829-9674f6aafe50",
   "metadata": {},
   "source": [
    "### Text"
   ]
  },
  {
   "cell_type": "markdown",
   "id": "520b274f-d8c6-4799-908f-c0a91189169f",
   "metadata": {},
   "source": [
    "max_nb_chars=1000"
   ]
  },
  {
   "cell_type": "code",
   "execution_count": 34,
   "id": "7b2341fd-7a5b-46ae-84d2-4eaa1860aba7",
   "metadata": {},
   "outputs": [
    {
     "data": {
      "text/plain": [
       "'Record if agreement wide above. Should rich minute pressure strategy article. Much same woman form. Smile bag set process put reduce charge real.'"
      ]
     },
     "execution_count": 34,
     "metadata": {},
     "output_type": "execute_result"
    }
   ],
   "source": [
    "fake.text()"
   ]
  },
  {
   "cell_type": "markdown",
   "id": "58e83783-4c06-4802-91c9-abfe6d8d98be",
   "metadata": {},
   "source": [
    "# Dates"
   ]
  },
  {
   "cell_type": "markdown",
   "id": "7914a2ef-db75-47f9-a170-cd89b1fb880c",
   "metadata": {},
   "source": [
    "## Between"
   ]
  },
  {
   "cell_type": "markdown",
   "id": "9fc2815e-9c92-4ede-a7a6-7e28476818b3",
   "metadata": {
    "jp-MarkdownHeadingCollapsed": true
   },
   "source": [
    "### Month"
   ]
  },
  {
   "cell_type": "code",
   "execution_count": 18,
   "id": "835cf849-206b-4b94-83b6-cc9d819aef17",
   "metadata": {},
   "outputs": [
    {
     "data": {
      "text/plain": [
       "(datetime.date(2024, 10, 7), datetime.datetime(2024, 10, 13, 20, 12, 55))"
      ]
     },
     "execution_count": 18,
     "metadata": {},
     "output_type": "execute_result"
    }
   ],
   "source": [
    "fake.date_between(start_date='-1M'), fake.date_time_between(start_date='-1M')"
   ]
  },
  {
   "cell_type": "markdown",
   "id": "054913f8-5a45-4544-aad0-c6e7b0839fbc",
   "metadata": {},
   "source": [
    "### Year"
   ]
  },
  {
   "cell_type": "code",
   "execution_count": 20,
   "id": "6319e9e1-c684-436e-8ad8-1bb7837713e5",
   "metadata": {},
   "outputs": [
    {
     "data": {
      "text/plain": [
       "(datetime.date(2024, 1, 17), datetime.datetime(2024, 3, 2, 20, 49, 58))"
      ]
     },
     "execution_count": 20,
     "metadata": {},
     "output_type": "execute_result"
    }
   ],
   "source": [
    "fake.date_between(start_date='-1y'), fake.date_time_between(start_date='-1y')"
   ]
  }
 ],
 "metadata": {
  "kernelspec": {
   "display_name": "Python 3 (ipykernel)",
   "language": "python",
   "name": "python3"
  },
  "language_info": {
   "codemirror_mode": {
    "name": "ipython",
    "version": 3
   },
   "file_extension": ".py",
   "mimetype": "text/x-python",
   "name": "python",
   "nbconvert_exporter": "python",
   "pygments_lexer": "ipython3",
   "version": "3.11.10"
  }
 },
 "nbformat": 4,
 "nbformat_minor": 5
}
