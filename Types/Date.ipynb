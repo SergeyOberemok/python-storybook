{
 "cells": [
  {
   "cell_type": "code",
   "execution_count": 2,
   "id": "b5501c3d-bab0-40d3-8331-10267d5b89ad",
   "metadata": {},
   "outputs": [],
   "source": [
    "from datetime import date, datetime, timedelta"
   ]
  },
  {
   "cell_type": "markdown",
   "id": "cd6693ce-68e9-4874-ad2c-4951dc9039a3",
   "metadata": {},
   "source": [
    "---"
   ]
  },
  {
   "cell_type": "markdown",
   "id": "fec2a0c7-2fdf-4c18-9c2b-dd03c44ad0f0",
   "metadata": {
    "jp-MarkdownHeadingCollapsed": true
   },
   "source": [
    "# Create"
   ]
  },
  {
   "cell_type": "markdown",
   "id": "2bf1792e-b645-4b04-af95-4b9a905130d8",
   "metadata": {
    "jp-MarkdownHeadingCollapsed": true
   },
   "source": [
    "## Today"
   ]
  },
  {
   "cell_type": "code",
   "execution_count": 3,
   "id": "d35a09fc-b2d5-4570-b947-a0ae69891dd6",
   "metadata": {},
   "outputs": [
    {
     "data": {
      "text/plain": [
       "datetime.date(2024, 3, 11)"
      ]
     },
     "execution_count": 3,
     "metadata": {},
     "output_type": "execute_result"
    }
   ],
   "source": [
    "date.today()"
   ]
  },
  {
   "cell_type": "markdown",
   "id": "243b613d-e145-4e46-b668-026ad000b9a8",
   "metadata": {
    "jp-MarkdownHeadingCollapsed": true
   },
   "source": [
    "## Range"
   ]
  },
  {
   "cell_type": "markdown",
   "id": "e8adf3e4-f379-4ca5-a808-73367432c659",
   "metadata": {
    "jp-MarkdownHeadingCollapsed": true
   },
   "source": [
    "### Daily"
   ]
  },
  {
   "cell_type": "code",
   "execution_count": 14,
   "id": "15912e7d-b435-4d8b-9545-167477f1522a",
   "metadata": {},
   "outputs": [
    {
     "data": {
      "text/plain": [
       "[datetime.date(2024, 3, 10),\n",
       " datetime.date(2024, 3, 11),\n",
       " datetime.date(2024, 3, 12)]"
      ]
     },
     "execution_count": 14,
     "metadata": {},
     "output_type": "execute_result"
    }
   ],
   "source": [
    "[date.today() + timedelta(days=i) for i in range(-1, 2)]"
   ]
  },
  {
   "cell_type": "markdown",
   "id": "c8dcd9af-5da0-4c91-959a-b263d02c5a87",
   "metadata": {
    "jp-MarkdownHeadingCollapsed": true
   },
   "source": [
    "## Parse"
   ]
  },
  {
   "cell_type": "markdown",
   "id": "0c976b27-8170-4750-8903-d824fa645b9e",
   "metadata": {
    "jp-MarkdownHeadingCollapsed": true
   },
   "source": [
    "### ISO"
   ]
  },
  {
   "cell_type": "code",
   "execution_count": 5,
   "id": "03d857fc-a8e6-47b7-a1dc-2400c3b3dfa8",
   "metadata": {},
   "outputs": [
    {
     "data": {
      "text/plain": [
       "datetime.date(2023, 4, 20)"
      ]
     },
     "execution_count": 5,
     "metadata": {},
     "output_type": "execute_result"
    }
   ],
   "source": [
    "date.fromisoformat('2023-04-20')"
   ]
  },
  {
   "cell_type": "markdown",
   "id": "f9158c3a-305d-42ca-b418-06c80cd7db4d",
   "metadata": {
    "jp-MarkdownHeadingCollapsed": true
   },
   "source": [
    "# Read"
   ]
  },
  {
   "cell_type": "markdown",
   "id": "7d5a2fbe-23ea-4b00-be70-468d3dc48f6a",
   "metadata": {
    "jp-MarkdownHeadingCollapsed": true
   },
   "source": [
    "## Check"
   ]
  },
  {
   "cell_type": "markdown",
   "id": "0bb3e42c-0f2b-474a-92d3-cfe6f4f7f5a4",
   "metadata": {
    "jp-MarkdownHeadingCollapsed": true
   },
   "source": [
    "### type"
   ]
  },
  {
   "cell_type": "code",
   "execution_count": 6,
   "id": "cc8badbf-4bd9-4bea-98e7-18b841f55ae9",
   "metadata": {},
   "outputs": [
    {
     "data": {
      "text/plain": [
       "datetime.date"
      ]
     },
     "execution_count": 6,
     "metadata": {},
     "output_type": "execute_result"
    }
   ],
   "source": [
    "type(date.today())"
   ]
  },
  {
   "cell_type": "markdown",
   "id": "8343065b-2eb3-4d0a-bd85-be0159a9fed2",
   "metadata": {
    "jp-MarkdownHeadingCollapsed": true
   },
   "source": [
    "## Data"
   ]
  },
  {
   "cell_type": "markdown",
   "id": "2edc857e-00f8-4db1-8eb5-b0e413b332f4",
   "metadata": {
    "jp-MarkdownHeadingCollapsed": true
   },
   "source": [
    "### Day"
   ]
  },
  {
   "cell_type": "code",
   "execution_count": 7,
   "id": "17e2468f-7a8d-41af-b500-0f18299fad53",
   "metadata": {},
   "outputs": [
    {
     "data": {
      "text/plain": [
       "11"
      ]
     },
     "execution_count": 7,
     "metadata": {},
     "output_type": "execute_result"
    }
   ],
   "source": [
    "date.today().day"
   ]
  },
  {
   "cell_type": "markdown",
   "id": "4788e39e-570e-4b13-9597-54ececd106d8",
   "metadata": {
    "jp-MarkdownHeadingCollapsed": true
   },
   "source": [
    "# Update"
   ]
  },
  {
   "cell_type": "markdown",
   "id": "0b73a2d6-bb6b-48ae-8dd5-0696c8951491",
   "metadata": {
    "jp-MarkdownHeadingCollapsed": true
   },
   "source": [
    "## Data"
   ]
  },
  {
   "cell_type": "markdown",
   "id": "d6dded16-d2d9-4f71-a631-42e15d0350d3",
   "metadata": {
    "jp-MarkdownHeadingCollapsed": true
   },
   "source": [
    "### Day"
   ]
  },
  {
   "cell_type": "code",
   "execution_count": 8,
   "id": "1f5311b9-8790-4a80-a031-aaf9daeaa54b",
   "metadata": {},
   "outputs": [
    {
     "data": {
      "text/plain": [
       "datetime.date(2024, 3, 1)"
      ]
     },
     "execution_count": 8,
     "metadata": {},
     "output_type": "execute_result"
    }
   ],
   "source": [
    "date.today().replace(day=1)"
   ]
  },
  {
   "cell_type": "markdown",
   "id": "bed47999-9139-470d-9d41-ff51f4cee17f",
   "metadata": {
    "jp-MarkdownHeadingCollapsed": true
   },
   "source": [
    "## Convert"
   ]
  },
  {
   "cell_type": "markdown",
   "id": "a090862d-52f2-493d-a896-038fa860fedb",
   "metadata": {
    "jp-MarkdownHeadingCollapsed": true
   },
   "source": [
    "### to datetime"
   ]
  },
  {
   "cell_type": "code",
   "execution_count": 9,
   "id": "95879647-53df-476a-a26b-9104f15eb35a",
   "metadata": {},
   "outputs": [
    {
     "data": {
      "text/plain": [
       "datetime.datetime(2024, 3, 11, 0, 0)"
      ]
     },
     "execution_count": 9,
     "metadata": {},
     "output_type": "execute_result"
    }
   ],
   "source": [
    "datetime.combine(date.today(), datetime.min.time())"
   ]
  },
  {
   "cell_type": "markdown",
   "id": "134fb705-648b-48fc-aa85-070dc103c949",
   "metadata": {
    "jp-MarkdownHeadingCollapsed": true
   },
   "source": [
    "### to string"
   ]
  },
  {
   "cell_type": "code",
   "execution_count": 10,
   "id": "994c0cdf-65f0-44d7-bbec-79b47a25e7ad",
   "metadata": {},
   "outputs": [
    {
     "data": {
      "text/plain": [
       "'11/03/2024'"
      ]
     },
     "execution_count": 10,
     "metadata": {},
     "output_type": "execute_result"
    }
   ],
   "source": [
    "date.today().strftime('%d/%m/%Y')"
   ]
  },
  {
   "cell_type": "markdown",
   "id": "1a711a8b-64b5-4262-9357-10de67b4731d",
   "metadata": {
    "jp-MarkdownHeadingCollapsed": true
   },
   "source": [
    "## Calculations"
   ]
  },
  {
   "cell_type": "markdown",
   "id": "94dc3f87-a50f-4904-a5cb-e2125fd6e77c",
   "metadata": {
    "jp-MarkdownHeadingCollapsed": true
   },
   "source": [
    "### Minus/Plus"
   ]
  },
  {
   "cell_type": "markdown",
   "id": "7b86312f-4568-4eb7-8692-ca62697f0301",
   "metadata": {
    "jp-MarkdownHeadingCollapsed": true
   },
   "source": [
    "#### Days"
   ]
  },
  {
   "cell_type": "code",
   "execution_count": 11,
   "id": "e1a43224-41dd-47cc-8367-14c394da2602",
   "metadata": {},
   "outputs": [
    {
     "data": {
      "text/plain": [
       "datetime.date(2024, 3, 10)"
      ]
     },
     "execution_count": 11,
     "metadata": {},
     "output_type": "execute_result"
    }
   ],
   "source": [
    "date.today() - timedelta(days = 1)"
   ]
  }
 ],
 "metadata": {
  "kernelspec": {
   "display_name": "Python 3 (ipykernel)",
   "language": "python",
   "name": "python3"
  },
  "language_info": {
   "codemirror_mode": {
    "name": "ipython",
    "version": 3
   },
   "file_extension": ".py",
   "mimetype": "text/x-python",
   "name": "python",
   "nbconvert_exporter": "python",
   "pygments_lexer": "ipython3",
   "version": "3.11.5"
  }
 },
 "nbformat": 4,
 "nbformat_minor": 5
}
