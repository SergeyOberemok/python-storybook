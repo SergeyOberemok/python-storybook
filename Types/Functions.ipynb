{
 "cells": [
  {
   "cell_type": "markdown",
   "id": "a6e10189",
   "metadata": {},
   "source": [
    "# Functions"
   ]
  },
  {
   "cell_type": "markdown",
   "id": "f630685d",
   "metadata": {},
   "source": [
    "### Simple"
   ]
  },
  {
   "cell_type": "code",
   "execution_count": 2,
   "id": "c7adf65f",
   "metadata": {},
   "outputs": [],
   "source": [
    "def sumTwoNumbers(num1: int, num2: int) -> int:\n",
    "    return num1 + num2"
   ]
  },
  {
   "cell_type": "code",
   "execution_count": 3,
   "id": "2423eab2",
   "metadata": {},
   "outputs": [
    {
     "name": "stdout",
     "output_type": "stream",
     "text": [
      "3\n"
     ]
    }
   ],
   "source": [
    "print(sumTwoNumbers(1, 2))"
   ]
  },
  {
   "cell_type": "markdown",
   "id": "19595ad8",
   "metadata": {},
   "source": [
    "### Lambda"
   ]
  },
  {
   "cell_type": "code",
   "execution_count": 5,
   "id": "545cf928",
   "metadata": {},
   "outputs": [],
   "source": [
    "multipleTwoNumbers = lambda num1, num2: num1 * num2"
   ]
  },
  {
   "cell_type": "code",
   "execution_count": 6,
   "id": "ecedeb8b",
   "metadata": {},
   "outputs": [
    {
     "name": "stdout",
     "output_type": "stream",
     "text": [
      "4\n"
     ]
    }
   ],
   "source": [
    "print(multipleTwoNumbers(2, 2))"
   ]
  },
  {
   "cell_type": "code",
   "execution_count": 7,
   "id": "f608bb21",
   "metadata": {},
   "outputs": [
    {
     "name": "stdout",
     "output_type": "stream",
     "text": [
      "1\n"
     ]
    }
   ],
   "source": [
    "result = (lambda num1, num2: num1 - num2)(3, 2)\n",
    "\n",
    "print(result)"
   ]
  }
 ],
 "metadata": {
  "kernelspec": {
   "display_name": "Python 3 (ipykernel)",
   "language": "python",
   "name": "python3"
  },
  "language_info": {
   "codemirror_mode": {
    "name": "ipython",
    "version": 3
   },
   "file_extension": ".py",
   "mimetype": "text/x-python",
   "name": "python",
   "nbconvert_exporter": "python",
   "pygments_lexer": "ipython3",
   "version": "3.9.16"
  }
 },
 "nbformat": 4,
 "nbformat_minor": 5
}
