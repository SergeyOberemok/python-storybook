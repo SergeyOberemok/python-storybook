{
 "cells": [
  {
   "cell_type": "markdown",
   "id": "0d39f764-21e8-4fed-ace1-42e6e1825d78",
   "metadata": {},
   "source": [
    "# Definition"
   ]
  },
  {
   "cell_type": "markdown",
   "id": "f630685d",
   "metadata": {},
   "source": [
    "## Simple"
   ]
  },
  {
   "cell_type": "code",
   "execution_count": 2,
   "id": "c7adf65f",
   "metadata": {},
   "outputs": [],
   "source": [
    "def sumTwoNumbers(num1: int, num2: int) -> int:\n",
    "    return num1 + num2"
   ]
  },
  {
   "cell_type": "code",
   "execution_count": 3,
   "id": "2423eab2",
   "metadata": {},
   "outputs": [
    {
     "name": "stdout",
     "output_type": "stream",
     "text": [
      "3\n"
     ]
    }
   ],
   "source": [
    "print(sumTwoNumbers(1, 2))"
   ]
  },
  {
   "cell_type": "markdown",
   "id": "19595ad8",
   "metadata": {},
   "source": [
    "## Lambda"
   ]
  },
  {
   "cell_type": "code",
   "execution_count": 5,
   "id": "545cf928",
   "metadata": {},
   "outputs": [],
   "source": [
    "multipleTwoNumbers = lambda num1, num2: num1 * num2"
   ]
  },
  {
   "cell_type": "code",
   "execution_count": 6,
   "id": "ecedeb8b",
   "metadata": {},
   "outputs": [
    {
     "name": "stdout",
     "output_type": "stream",
     "text": [
      "4\n"
     ]
    }
   ],
   "source": [
    "print(multipleTwoNumbers(2, 2))"
   ]
  },
  {
   "cell_type": "code",
   "execution_count": 7,
   "id": "f608bb21",
   "metadata": {},
   "outputs": [
    {
     "name": "stdout",
     "output_type": "stream",
     "text": [
      "1\n"
     ]
    }
   ],
   "source": [
    "result = (lambda num1, num2: num1 - num2)(3, 2)\n",
    "\n",
    "print(result)"
   ]
  },
  {
   "cell_type": "markdown",
   "id": "fc5e60dd",
   "metadata": {
    "jp-MarkdownHeadingCollapsed": true
   },
   "source": [
    "# Arguments"
   ]
  },
  {
   "cell_type": "markdown",
   "id": "07d5a3dd",
   "metadata": {},
   "source": [
    "## Args and kwargs"
   ]
  },
  {
   "cell_type": "code",
   "execution_count": 7,
   "id": "dabe331a",
   "metadata": {},
   "outputs": [],
   "source": [
    "def argsAndKwargs(param1, *args, **kwargs):\n",
    "    print(f\"{param1} args\", end=\"\\n\")\n",
    "    for arg in args:\n",
    "        print(arg)\n",
    "    \n",
    "    print(f\"{param1} kwargs\")\n",
    "    for kwarg in kwargs:\n",
    "        print(kwarg, kwargs[kwarg])"
   ]
  },
  {
   "cell_type": "code",
   "execution_count": 8,
   "id": "d829aaa7",
   "metadata": {},
   "outputs": [
    {
     "name": "stdout",
     "output_type": "stream",
     "text": [
      "These are args\n",
      "1\n",
      "2\n",
      "3\n",
      "These are kwargs\n",
      "four 4\n",
      "five 5\n",
      "six 6\n"
     ]
    }
   ],
   "source": [
    "argsAndKwargs(\"These are\", 1, 2, 3, four=4, five=5, six=6)"
   ]
  },
  {
   "cell_type": "markdown",
   "id": "38629c68",
   "metadata": {
    "jp-MarkdownHeadingCollapsed": true
   },
   "source": [
    "### Args"
   ]
  },
  {
   "cell_type": "code",
   "execution_count": 9,
   "id": "9c5cd4c6",
   "metadata": {},
   "outputs": [],
   "source": [
    "def getMax(*params):\n",
    "    return max(params)"
   ]
  },
  {
   "cell_type": "code",
   "execution_count": 12,
   "id": "9a4d16f0",
   "metadata": {},
   "outputs": [
    {
     "data": {
      "text/plain": [
       "3"
      ]
     },
     "execution_count": 12,
     "metadata": {},
     "output_type": "execute_result"
    }
   ],
   "source": [
    "numbers = [1, 2, 3]\n",
    "\n",
    "getMax(*numbers)"
   ]
  },
  {
   "cell_type": "markdown",
   "id": "5bae031f",
   "metadata": {},
   "source": [
    "### Kwargs"
   ]
  },
  {
   "cell_type": "code",
   "execution_count": 17,
   "id": "9a8de2ab",
   "metadata": {},
   "outputs": [],
   "source": [
    "def getGreetings(title: str, name: str) -> str:\n",
    "    return f\"{title}, {name}\""
   ]
  },
  {
   "cell_type": "code",
   "execution_count": 18,
   "id": "bac5ca59",
   "metadata": {},
   "outputs": [
    {
     "data": {
      "text/plain": [
       "'Hello, world'"
      ]
     },
     "execution_count": 18,
     "metadata": {},
     "output_type": "execute_result"
    }
   ],
   "source": [
    "params = dict(title=\"Hello\", name=\"world\")\n",
    "\n",
    "getGreetings(**params)"
   ]
  },
  {
   "cell_type": "markdown",
   "id": "8ea8ee17-479b-49ea-b5b7-30b5c1110eaa",
   "metadata": {
    "jp-MarkdownHeadingCollapsed": true
   },
   "source": [
    "# Generators"
   ]
  },
  {
   "cell_type": "code",
   "execution_count": 2,
   "id": "5e27da9a-8f2e-46e3-956f-c9fb6ccb409e",
   "metadata": {},
   "outputs": [],
   "source": [
    "def fibonacci_sequence(n: int):\n",
    "    a, b = 0, 1\n",
    "\n",
    "    for _ in range(n):\n",
    "        yield a\n",
    "        a, b = b, a + b"
   ]
  },
  {
   "cell_type": "code",
   "execution_count": 3,
   "id": "32de608e-2135-4665-9a27-660c66902fc6",
   "metadata": {},
   "outputs": [
    {
     "name": "stdout",
     "output_type": "stream",
     "text": [
      "0\n",
      "1\n",
      "1\n",
      "2\n",
      "3\n",
      "5\n",
      "8\n",
      "13\n",
      "21\n",
      "34\n"
     ]
    }
   ],
   "source": [
    "for i in fibonacci_sequence(10):\n",
    "    print(i)"
   ]
  }
 ],
 "metadata": {
  "kernelspec": {
   "display_name": "Python 3 (ipykernel)",
   "language": "python",
   "name": "python3"
  },
  "language_info": {
   "codemirror_mode": {
    "name": "ipython",
    "version": 3
   },
   "file_extension": ".py",
   "mimetype": "text/x-python",
   "name": "python",
   "nbconvert_exporter": "python",
   "pygments_lexer": "ipython3",
   "version": "3.11.5"
  }
 },
 "nbformat": 4,
 "nbformat_minor": 5
}
