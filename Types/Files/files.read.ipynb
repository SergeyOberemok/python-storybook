{
 "cells": [
  {
   "cell_type": "markdown",
   "id": "0630252e-5d43-4d61-8a68-d0f4ac533bef",
   "metadata": {},
   "source": [
    "# File"
   ]
  },
  {
   "cell_type": "markdown",
   "id": "cbfcf740-7504-41a8-8077-9b29407cefd6",
   "metadata": {},
   "source": [
    "mode=\n",
    "'r' - read default\n",
    "'t' - text default\n",
    "'b' - binary"
   ]
  },
  {
   "cell_type": "code",
   "execution_count": 6,
   "id": "ff6ebfd8-992f-484c-a815-eac8ba0d10b0",
   "metadata": {},
   "outputs": [],
   "source": [
    "file = open('test.txt')"
   ]
  },
  {
   "cell_type": "markdown",
   "id": "77a88e6c-f19e-4ecb-8b9c-ea1bec0c3f64",
   "metadata": {},
   "source": [
    "# Read"
   ]
  },
  {
   "cell_type": "markdown",
   "id": "9212392a-9731-43b0-86f5-aedf51255296",
   "metadata": {},
   "source": [
    "## Text"
   ]
  },
  {
   "cell_type": "markdown",
   "id": "873266c4-30d4-4957-9b1e-bd2d29d4931f",
   "metadata": {},
   "source": [
    "### Line"
   ]
  },
  {
   "cell_type": "code",
   "execution_count": 10,
   "id": "aa2ce9bf-47ca-4550-ac1a-8789f3fb2301",
   "metadata": {},
   "outputs": [
    {
     "name": "stdout",
     "output_type": "stream",
     "text": [
      "write with open close\n",
      "\n"
     ]
    }
   ],
   "source": [
    "print(file.readline())"
   ]
  },
  {
   "cell_type": "markdown",
   "id": "69b28151-4c3d-4440-8ebf-02e5a79652f7",
   "metadata": {},
   "source": [
    "### Lines"
   ]
  },
  {
   "cell_type": "code",
   "execution_count": 12,
   "id": "181f5ae4-2e83-4182-8f55-5376d89d6453",
   "metadata": {},
   "outputs": [
    {
     "name": "stdout",
     "output_type": "stream",
     "text": [
      "write with with\n",
      "\n"
     ]
    }
   ],
   "source": [
    "for line in file:\n",
    "    print(line)\n",
    "    break"
   ]
  },
  {
   "cell_type": "code",
   "execution_count": 13,
   "id": "ada91853-a3be-4897-993c-e796eb4998c6",
   "metadata": {},
   "outputs": [],
   "source": [
    "file.close()"
   ]
  },
  {
   "cell_type": "markdown",
   "id": "94e507f3-7609-4707-b880-7142922407d1",
   "metadata": {},
   "source": [
    "### Whole"
   ]
  },
  {
   "cell_type": "code",
   "execution_count": 15,
   "id": "40674d46-cb38-4a63-aa30-03bf29c9fe1f",
   "metadata": {},
   "outputs": [
    {
     "name": "stdout",
     "output_type": "stream",
     "text": [
      "write with open close\n",
      "write with with\n",
      "\n"
     ]
    }
   ],
   "source": [
    "with open('test.txt') as file:\n",
    "    print(file.read())"
   ]
  }
 ],
 "metadata": {
  "kernelspec": {
   "display_name": "Python 3 (ipykernel)",
   "language": "python",
   "name": "python3"
  },
  "language_info": {
   "codemirror_mode": {
    "name": "ipython",
    "version": 3
   },
   "file_extension": ".py",
   "mimetype": "text/x-python",
   "name": "python",
   "nbconvert_exporter": "python",
   "pygments_lexer": "ipython3",
   "version": "3.11.10"
  }
 },
 "nbformat": 4,
 "nbformat_minor": 5
}
