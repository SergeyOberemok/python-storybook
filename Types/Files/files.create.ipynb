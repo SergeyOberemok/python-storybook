{
 "cells": [
  {
   "cell_type": "code",
   "execution_count": 37,
   "id": "7c7b89d7-4d6f-4558-93a1-e867d32f38d6",
   "metadata": {},
   "outputs": [],
   "source": [
    "from faker import Faker"
   ]
  },
  {
   "cell_type": "code",
   "execution_count": 38,
   "id": "9733efc3-d45f-42b5-a6af-3a04e9fe963d",
   "metadata": {},
   "outputs": [],
   "source": [
    "fake = Faker()"
   ]
  },
  {
   "cell_type": "markdown",
   "id": "39f20307-d2ae-4d41-8b77-3086a87fca34",
   "metadata": {},
   "source": [
    "---"
   ]
  },
  {
   "cell_type": "markdown",
   "id": "1cdfd1ac-713b-44a4-a3a3-aa6451630a58",
   "metadata": {},
   "source": [
    "# Create"
   ]
  },
  {
   "cell_type": "markdown",
   "id": "a31e16f1-36d8-47b2-893d-2492271ce5ad",
   "metadata": {},
   "source": [
    "## File"
   ]
  },
  {
   "cell_type": "markdown",
   "id": "2fa7a115-5067-452a-8281-3291be2b4131",
   "metadata": {},
   "source": [
    "### Write"
   ]
  },
  {
   "cell_type": "markdown",
   "id": "4122b5b6-21f7-4758-8bcd-f78de4a56cee",
   "metadata": {},
   "source": [
    "mode=\n",
    "'x' - create if exists fail\n",
    "'a' - append if not exists create\n",
    "'w' - write if not exists create"
   ]
  },
  {
   "cell_type": "code",
   "execution_count": 44,
   "id": "001278c4-d616-4de7-bb5d-700f6aa5d52c",
   "metadata": {},
   "outputs": [],
   "source": [
    "file = open('test.txt', 'a')\n",
    "\n",
    "file.write('write with open close\\n')\n",
    "\n",
    "file.close()"
   ]
  },
  {
   "cell_type": "markdown",
   "id": "3a7aa168-2e17-4ec8-a00b-6acf7e96907a",
   "metadata": {},
   "source": [
    "### Write with"
   ]
  },
  {
   "cell_type": "code",
   "execution_count": 46,
   "id": "08ec4256-8022-47a4-8ace-5950272478a4",
   "metadata": {},
   "outputs": [],
   "source": [
    "with open('test.txt', 'a') as file:\n",
    "    file.write('write with with\\n')"
   ]
  }
 ],
 "metadata": {
  "kernelspec": {
   "display_name": "Python 3 (ipykernel)",
   "language": "python",
   "name": "python3"
  },
  "language_info": {
   "codemirror_mode": {
    "name": "ipython",
    "version": 3
   },
   "file_extension": ".py",
   "mimetype": "text/x-python",
   "name": "python",
   "nbconvert_exporter": "python",
   "pygments_lexer": "ipython3",
   "version": "3.11.10"
  }
 },
 "nbformat": 4,
 "nbformat_minor": 5
}
