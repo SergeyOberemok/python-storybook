{
 "cells": [
  {
   "cell_type": "code",
   "execution_count": 5,
   "id": "f273ab17",
   "metadata": {},
   "outputs": [],
   "source": [
    "import sympy as sp\n",
    "from IPython.display import display, Math"
   ]
  },
  {
   "cell_type": "code",
   "execution_count": 6,
   "id": "99c8c1f9",
   "metadata": {},
   "outputs": [],
   "source": [
    "x, y, z = sp.symbols('x, y, z')"
   ]
  },
  {
   "cell_type": "code",
   "execution_count": 7,
   "id": "2661ffd6",
   "metadata": {},
   "outputs": [],
   "source": [
    "def displayEquation(expLeft, expRight):\n",
    "    latexExpLeft = sp.latex(expLeft);\n",
    "    latexExpRight = sp.latex(expRight)\n",
    "\n",
    "    display(Math('%s = %s' %(latexExpLeft, latexExpRight)))"
   ]
  },
  {
   "cell_type": "markdown",
   "id": "418ba408",
   "metadata": {},
   "source": [
    "#### Multiplication"
   ]
  },
  {
   "cell_type": "code",
   "execution_count": 8,
   "id": "61b7d201",
   "metadata": {},
   "outputs": [
    {
     "data": {
      "text/latex": [
       "$\\displaystyle x^{y} x^{z} = x^{y + z}$"
      ],
      "text/plain": [
       "<IPython.core.display.Math object>"
      ]
     },
     "metadata": {},
     "output_type": "display_data"
    }
   ],
   "source": [
    "expressionLeft = multiplicationExp = x ** y * x ** z\n",
    "expressionRight = x ** (y + z)\n",
    "\n",
    "displayEquation(expressionLeft, expressionRight)"
   ]
  },
  {
   "cell_type": "markdown",
   "id": "f0ae600f",
   "metadata": {},
   "source": [
    "#### Division"
   ]
  },
  {
   "cell_type": "code",
   "execution_count": 9,
   "id": "eaaf352b",
   "metadata": {},
   "outputs": [
    {
     "data": {
      "text/latex": [
       "$\\displaystyle \\frac{x^y}{x^z} = x^{y - z}$"
      ],
      "text/plain": [
       "<IPython.core.display.Math object>"
      ]
     },
     "metadata": {},
     "output_type": "display_data"
    }
   ],
   "source": [
    "expressionLeft = divisionExp = x ** y / x ** z\n",
    "expressionRight = x ** (y - z)\n",
    "\n",
    "display(Math('\\\\frac{%s^%s}{%s^%s} = %s' %(x, y, x, z, sp.latex(expressionRight))))"
   ]
  },
  {
   "cell_type": "markdown",
   "id": "0a884c49",
   "metadata": {},
   "source": [
    "#### Simplify"
   ]
  },
  {
   "cell_type": "code",
   "execution_count": 14,
   "id": "7d183985",
   "metadata": {},
   "outputs": [
    {
     "data": {
      "text/latex": [
       "$\\displaystyle x^{y} x^{z}$"
      ],
      "text/plain": [
       "<IPython.core.display.Math object>"
      ]
     },
     "metadata": {},
     "output_type": "display_data"
    },
    {
     "data": {
      "text/latex": [
       "$\\displaystyle x^{y + z}$"
      ],
      "text/plain": [
       "x**(y + z)"
      ]
     },
     "metadata": {},
     "output_type": "display_data"
    },
    {
     "data": {
      "text/latex": [
       "$\\displaystyle x^{y} x^{- z}$"
      ],
      "text/plain": [
       "<IPython.core.display.Math object>"
      ]
     },
     "metadata": {},
     "output_type": "display_data"
    },
    {
     "data": {
      "text/latex": [
       "$\\displaystyle x^{y - z}$"
      ],
      "text/plain": [
       "x**(y - z)"
      ]
     },
     "metadata": {},
     "output_type": "display_data"
    }
   ],
   "source": [
    "display(Math(sp.latex(multiplicationExp)), sp.simplify(multiplicationExp))\n",
    "display(Math(sp.latex(divisionExp)), sp.simplify(divisionExp))"
   ]
  },
  {
   "cell_type": "markdown",
   "id": "4807ea18",
   "metadata": {},
   "source": [
    "#### Eq"
   ]
  },
  {
   "cell_type": "code",
   "execution_count": 11,
   "id": "86f19f9b",
   "metadata": {},
   "outputs": [
    {
     "data": {
      "text/latex": [
       "$\\displaystyle \\text{True}$"
      ],
      "text/plain": [
       "True"
      ]
     },
     "execution_count": 11,
     "metadata": {},
     "output_type": "execute_result"
    }
   ],
   "source": [
    "sp.Eq(4, 2 + 2)"
   ]
  },
  {
   "cell_type": "code",
   "execution_count": 12,
   "id": "115245cb",
   "metadata": {},
   "outputs": [
    {
     "data": {
      "text/latex": [
       "$\\displaystyle x^{y} x^{z} = x^{y + z}$"
      ],
      "text/plain": [
       "Eq(x**y*x**z, x**(y + z))"
      ]
     },
     "execution_count": 12,
     "metadata": {},
     "output_type": "execute_result"
    }
   ],
   "source": [
    "sp.Eq(multiplicationExp, sp.simplify(multiplicationExp))"
   ]
  },
  {
   "cell_type": "code",
   "execution_count": 13,
   "id": "96804865",
   "metadata": {},
   "outputs": [
    {
     "data": {
      "text/latex": [
       "$\\displaystyle x^{y} x^{- z} = x^{y - z}$"
      ],
      "text/plain": [
       "Eq(x**y/x**z, x**(y - z))"
      ]
     },
     "execution_count": 13,
     "metadata": {},
     "output_type": "execute_result"
    }
   ],
   "source": [
    "sp.Eq(divisionExp, sp.simplify(divisionExp))"
   ]
  }
 ],
 "metadata": {
  "kernelspec": {
   "display_name": "Python [conda env:base] *",
   "language": "python",
   "name": "conda-base-py"
  },
  "language_info": {
   "codemirror_mode": {
    "name": "ipython",
    "version": 3
   },
   "file_extension": ".py",
   "mimetype": "text/x-python",
   "name": "python",
   "nbconvert_exporter": "python",
   "pygments_lexer": "ipython3",
   "version": "3.11.7"
  }
 },
 "nbformat": 4,
 "nbformat_minor": 5
}
