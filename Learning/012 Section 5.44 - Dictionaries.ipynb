{
 "cells": [
  {
   "cell_type": "markdown",
   "id": "5233e5a7",
   "metadata": {},
   "source": [
    "### Dictionary"
   ]
  },
  {
   "cell_type": "markdown",
   "id": "d2fccb2d",
   "metadata": {},
   "source": [
    "#### Init"
   ]
  },
  {
   "cell_type": "code",
   "execution_count": 1,
   "id": "f44e3669",
   "metadata": {},
   "outputs": [],
   "source": [
    "d1 = dict(fruit = ['banana', 'apple'], numbers = [1, 2, 3])\n",
    "d2 = { 'fruit': [], 'numbers': [] }\n",
    "d3 = { key: '' for key in range(0, 5) }"
   ]
  },
  {
   "cell_type": "markdown",
   "id": "85e1ffa0",
   "metadata": {},
   "source": [
    "#### Get"
   ]
  },
  {
   "cell_type": "code",
   "execution_count": 2,
   "id": "26fd4ffe",
   "metadata": {},
   "outputs": [
    {
     "name": "stdout",
     "output_type": "stream",
     "text": [
      "{'fruit': ['banana', 'apple'], 'numbers': [1, 2, 3]}\n",
      "['banana', 'apple']\n",
      "banana\n",
      "{'fruit': [], 'numbers': []}\n",
      "{0: '', 1: '', 2: '', 3: '', 4: ''}\n"
     ]
    }
   ],
   "source": [
    "print(d1)\n",
    "print(d1['fruit'])\n",
    "print(d1['fruit'][0])\n",
    "\n",
    "print(d2)\n",
    "\n",
    "print(d3)"
   ]
  },
  {
   "cell_type": "markdown",
   "id": "533002c0",
   "metadata": {},
   "source": [
    "#### Iterate through"
   ]
  },
  {
   "cell_type": "code",
   "execution_count": 5,
   "id": "01134d5d",
   "metadata": {},
   "outputs": [
    {
     "name": "stdout",
     "output_type": "stream",
     "text": [
      "['banana', 'apple']\n",
      "[1, 2, 3]\n"
     ]
    }
   ],
   "source": [
    "for keys in d1:\n",
    "    print(d1[keys])"
   ]
  },
  {
   "cell_type": "code",
   "execution_count": 8,
   "id": "fe829375",
   "metadata": {},
   "outputs": [
    {
     "name": "stdout",
     "output_type": "stream",
     "text": [
      "dict_keys(['fruit', 'numbers'])\n"
     ]
    }
   ],
   "source": [
    "keys = d1.keys()\n",
    "\n",
    "print(keys)"
   ]
  }
 ],
 "metadata": {
  "kernelspec": {
   "display_name": "Python 3 (ipykernel)",
   "language": "python",
   "name": "python3"
  },
  "language_info": {
   "codemirror_mode": {
    "name": "ipython",
    "version": 3
   },
   "file_extension": ".py",
   "mimetype": "text/x-python",
   "name": "python",
   "nbconvert_exporter": "python",
   "pygments_lexer": "ipython3",
   "version": "3.9.13"
  }
 },
 "nbformat": 4,
 "nbformat_minor": 5
}
