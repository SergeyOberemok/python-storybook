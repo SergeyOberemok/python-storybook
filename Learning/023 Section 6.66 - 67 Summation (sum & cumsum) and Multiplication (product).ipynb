{
 "cells": [
  {
   "cell_type": "code",
   "execution_count": 7,
   "id": "a9991084",
   "metadata": {},
   "outputs": [],
   "source": [
    "import numpy as np\n",
    "import pytest\n",
    "import matplotlib.pyplot as plt\n",
    "import sympy as sp\n",
    "from IPython.display import display, Math"
   ]
  },
  {
   "cell_type": "code",
   "execution_count": 28,
   "id": "b02d8f1d",
   "metadata": {},
   "outputs": [],
   "source": [
    "numbers = [*range(1, 6)]"
   ]
  },
  {
   "cell_type": "markdown",
   "id": "768df595",
   "metadata": {},
   "source": [
    "### Sum"
   ]
  },
  {
   "cell_type": "code",
   "execution_count": 34,
   "id": "db695d6a",
   "metadata": {},
   "outputs": [
    {
     "name": "stdout",
     "output_type": "stream",
     "text": [
      "[1, 2, 3, 4, 5]\n",
      "15\n",
      "15\n"
     ]
    }
   ],
   "source": [
    "result1 = sum(numbers)\n",
    "result2 = np.sum(numbers)\n",
    "\n",
    "print(numbers)\n",
    "print(result1)\n",
    "print(result2)\n",
    "assert result1 == result2"
   ]
  },
  {
   "cell_type": "markdown",
   "id": "e993bcd4",
   "metadata": {},
   "source": [
    "### Cumulative Sum"
   ]
  },
  {
   "cell_type": "code",
   "execution_count": 36,
   "id": "a480a92a",
   "metadata": {},
   "outputs": [
    {
     "name": "stdout",
     "output_type": "stream",
     "text": [
      "[1, 2, 3, 4, 5]\n",
      "[ 1  3  6 10 15] <class 'numpy.ndarray'>\n"
     ]
    }
   ],
   "source": [
    "result3 = np.cumsum(numbers)\n",
    "\n",
    "print(numbers)\n",
    "print(result3, type(result3))"
   ]
  },
  {
   "cell_type": "code",
   "execution_count": 31,
   "id": "692d403e",
   "metadata": {},
   "outputs": [
    {
     "data": {
      "image/png": "[encoded data removed]",
      "text/plain": [
       "<Figure size 640x480 with 1 Axes>"
      ]
     },
     "metadata": {},
     "output_type": "display_data"
    }
   ],
   "source": [
    "plt.plot(numbers, 'rs-')\n",
    "plt.plot(result3, 'bo-')\n",
    "\n",
    "plt.show()"
   ]
  },
  {
   "cell_type": "markdown",
   "id": "2cd91c88",
   "metadata": {},
   "source": [
    "### Formulas"
   ]
  },
  {
   "cell_type": "code",
   "execution_count": null,
   "id": "8c7a5702",
   "metadata": {},
   "outputs": [],
   "source": [
    "a, b, c, d, e = sp.symbols('a, b, c, d, e')"
   ]
  },
  {
   "cell_type": "markdown",
   "id": "a1eaf4ba",
   "metadata": {},
   "source": [
    "#### Summation"
   ]
  },
  {
   "cell_type": "code",
   "execution_count": 3,
   "id": "c39634fd",
   "metadata": {},
   "outputs": [
    {
     "data": {
      "text/latex": [
       "$\\displaystyle a + b + c + d + e$"
      ],
      "text/plain": [
       "a + b + c + d + e"
      ]
     },
     "metadata": {},
     "output_type": "display_data"
    }
   ],
   "source": [
    "display(a + b + c + d + e)"
   ]
  },
  {
   "cell_type": "markdown",
   "id": "879fbe00",
   "metadata": {},
   "source": [
    "#### Products"
   ]
  },
  {
   "cell_type": "code",
   "execution_count": 4,
   "id": "97cca0e0",
   "metadata": {},
   "outputs": [
    {
     "data": {
      "text/latex": [
       "$\\displaystyle a b c d e$"
      ],
      "text/plain": [
       "a*b*c*d*e"
      ]
     },
     "metadata": {},
     "output_type": "display_data"
    }
   ],
   "source": [
    "display(a * b * c * d * e)"
   ]
  },
  {
   "cell_type": "code",
   "execution_count": 10,
   "id": "494a461b",
   "metadata": {},
   "outputs": [
    {
     "data": {
      "text/latex": [
       "$\\displaystyle \\frac{1}{a b c d e}$"
      ],
      "text/plain": [
       "1/(a*b*c*d*e)"
      ]
     },
     "metadata": {},
     "output_type": "display_data"
    }
   ],
   "source": [
    "exp = (a * b * c * d * e) / (a**2 * b**2 * c**2 * d**2 * e**2)\n",
    "\n",
    "display(exp)"
   ]
  }
 ],
 "metadata": {
  "kernelspec": {
   "display_name": "Python 3 (ipykernel)",
   "language": "python",
   "name": "python3"
  },
  "language_info": {
   "codemirror_mode": {
    "name": "ipython",
    "version": 3
   },
   "file_extension": ".py",
   "mimetype": "text/x-python",
   "name": "python",
   "nbconvert_exporter": "python",
   "pygments_lexer": "ipython3",
   "version": "3.9.16"
  }
 },
 "nbformat": 4,
 "nbformat_minor": 5
}
