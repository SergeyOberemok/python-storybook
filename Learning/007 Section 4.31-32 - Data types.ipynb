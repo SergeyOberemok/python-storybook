{
 "cells": [
  {
   "cell_type": "code",
   "execution_count": 14,
   "id": "c18fcd5b",
   "metadata": {},
   "outputs": [],
   "source": [
    "import numpy as np"
   ]
  },
  {
   "cell_type": "markdown",
   "id": "ad11f13f",
   "metadata": {},
   "source": [
    "#### Numbers"
   ]
  },
  {
   "cell_type": "code",
   "execution_count": 4,
   "id": "318943f7",
   "metadata": {},
   "outputs": [
    {
     "name": "stdout",
     "output_type": "stream",
     "text": [
      "7 <class 'int'>\n",
      "7.0 <class 'float'>\n"
     ]
    }
   ],
   "source": [
    "a = 7\n",
    "b = 7.0\n",
    "\n",
    "print(a, type(a))\n",
    "print(b, type(b))"
   ]
  },
  {
   "cell_type": "markdown",
   "id": "8e6bca06",
   "metadata": {},
   "source": [
    "#### Strings"
   ]
  },
  {
   "cell_type": "code",
   "execution_count": 18,
   "id": "9b2caae4",
   "metadata": {},
   "outputs": [
    {
     "name": "stdout",
     "output_type": "stream",
     "text": [
      "Mark <class 'str'>\n"
     ]
    }
   ],
   "source": [
    "name = 'Mark'\n",
    "surname = 'Johnson'\n",
    "\n",
    "print(name, type(name))"
   ]
  },
  {
   "cell_type": "markdown",
   "id": "b9b6c545",
   "metadata": {},
   "source": [
    "#### String operations"
   ]
  },
  {
   "cell_type": "code",
   "execution_count": 46,
   "id": "25d081eb",
   "metadata": {},
   "outputs": [
    {
     "name": "stdout",
     "output_type": "stream",
     "text": [
      "Mark Johnson <class 'str'>\n",
      "Mark     Johnson\n",
      "1 -1\n"
     ]
    }
   ],
   "source": [
    "print(name + ' ' + surname, type(name))\n",
    "print(name + (' ' * 5) + surname)\n",
    "print(name.find('a'), name.find('b'))"
   ]
  },
  {
   "cell_type": "markdown",
   "id": "2e949f1d",
   "metadata": {},
   "source": [
    "#### Variables"
   ]
  },
  {
   "cell_type": "code",
   "execution_count": 8,
   "id": "24fd9499",
   "metadata": {},
   "outputs": [
    {
     "name": "stdout",
     "output_type": "stream",
     "text": [
      "Variable   Type     Data/Info\n",
      "-----------------------------\n",
      "a          int      7\n",
      "b          float    7.0\n",
      "name       str      Mark\n",
      "surname    str      Johnson\n"
     ]
    }
   ],
   "source": [
    "%whos"
   ]
  },
  {
   "cell_type": "markdown",
   "id": "bd710635",
   "metadata": {},
   "source": [
    "#### Convert"
   ]
  },
  {
   "cell_type": "code",
   "execution_count": 13,
   "id": "d6e38f1b",
   "metadata": {},
   "outputs": [
    {
     "name": "stdout",
     "output_type": "stream",
     "text": [
      "7\n",
      "8.0\n",
      "91\n",
      "8\n"
     ]
    }
   ],
   "source": [
    "print(int(7.5))\n",
    "print(float(8))\n",
    "print(str(9) + str(1))\n",
    "print(int('5') + int('3'))"
   ]
  },
  {
   "cell_type": "markdown",
   "id": "3e2436f6",
   "metadata": {},
   "source": [
    "### Lists and Arrays"
   ]
  },
  {
   "cell_type": "markdown",
   "id": "971d1374",
   "metadata": {},
   "source": [
    "#### Lists"
   ]
  },
  {
   "cell_type": "code",
   "execution_count": 22,
   "id": "d17fda49",
   "metadata": {},
   "outputs": [
    {
     "name": "stdout",
     "output_type": "stream",
     "text": [
      "[1, 2, 3] <class 'list'>\n"
     ]
    }
   ],
   "source": [
    "arr1 = [1, 2, 3]\n",
    "\n",
    "print(arr1, type(arr))"
   ]
  },
  {
   "cell_type": "markdown",
   "id": "579c22cc",
   "metadata": {},
   "source": [
    "#### List operations"
   ]
  },
  {
   "cell_type": "code",
   "execution_count": 44,
   "id": "6a4dfabe",
   "metadata": {},
   "outputs": [
    {
     "name": "stdout",
     "output_type": "stream",
     "text": [
      "[1, 2, 3, 4, 5, 6]\n",
      "[1, 2, 3, 1, 2, 3]\n",
      "[2, 3]\n",
      "[1]\n",
      "[2]\n"
     ]
    }
   ],
   "source": [
    "arr2 = [4, 5, 6]\n",
    "\n",
    "print(arr1 + arr2)\n",
    "print(arr1 * 2)\n",
    "print(arr1[1:]) # from 1 till the end\n",
    "print(arr1[:1]) # from start till 1\n",
    "print(arr1[1:2])"
   ]
  },
  {
   "cell_type": "markdown",
   "id": "3435c29f",
   "metadata": {},
   "source": [
    "#### Numpy array"
   ]
  },
  {
   "cell_type": "code",
   "execution_count": 29,
   "id": "7bb324de",
   "metadata": {},
   "outputs": [
    {
     "name": "stdout",
     "output_type": "stream",
     "text": [
      "[1 2 3] <class 'numpy.ndarray'>\n"
     ]
    }
   ],
   "source": [
    "npArr1 = np.array(arr1)\n",
    "\n",
    "print(npArr1, type(npArr1))"
   ]
  },
  {
   "cell_type": "markdown",
   "id": "ea36ba08",
   "metadata": {},
   "source": [
    "#### Numpy array operations"
   ]
  },
  {
   "cell_type": "code",
   "execution_count": 31,
   "id": "27a2146f",
   "metadata": {},
   "outputs": [
    {
     "name": "stdout",
     "output_type": "stream",
     "text": [
      "[5 7 9] <class 'numpy.ndarray'>\n",
      "[2 4 6] <class 'numpy.ndarray'>\n"
     ]
    }
   ],
   "source": [
    "npArr2 = np.array(arr2)\n",
    "\n",
    "additionResult = npArr1 + npArr2\n",
    "multiplicationResult = npArr1 * 2\n",
    "\n",
    "print(additionResult, type(additionResult))\n",
    "print(multiplicationResult, type(multiplicationResult))"
   ]
  },
  {
   "cell_type": "markdown",
   "id": "2b03c2b4",
   "metadata": {},
   "source": [
    "#### Loops - enumerate"
   ]
  },
  {
   "cell_type": "code",
   "execution_count": 34,
   "id": "363dac17",
   "metadata": {},
   "outputs": [
    {
     "name": "stdout",
     "output_type": "stream",
     "text": [
      "0 M\n",
      "1 a\n",
      "2 r\n",
      "3 k\n",
      "4  \n",
      "5 J\n",
      "6 o\n",
      "7 h\n",
      "8 n\n",
      "9 s\n",
      "10 o\n",
      "11 n\n"
     ]
    }
   ],
   "source": [
    "for index, letter in enumerate(name + ' ' + surname):\n",
    "    print(index, letter)"
   ]
  }
 ],
 "metadata": {
  "kernelspec": {
   "display_name": "Python 3 (ipykernel)",
   "language": "python",
   "name": "python3"
  },
  "language_info": {
   "codemirror_mode": {
    "name": "ipython",
    "version": 3
   },
   "file_extension": ".py",
   "mimetype": "text/x-python",
   "name": "python",
   "nbconvert_exporter": "python",
   "pygments_lexer": "ipython3",
   "version": "3.9.12"
  }
 },
 "nbformat": 4,
 "nbformat_minor": 5
}
