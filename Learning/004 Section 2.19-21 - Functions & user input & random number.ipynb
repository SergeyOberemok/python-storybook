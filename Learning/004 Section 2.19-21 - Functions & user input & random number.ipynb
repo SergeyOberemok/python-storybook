{
 "cells": [
  {
   "cell_type": "markdown",
   "id": "6c2baab5",
   "metadata": {},
   "source": [
    "### Function"
   ]
  },
  {
   "cell_type": "code",
   "execution_count": 2,
   "id": "0ff98282",
   "metadata": {},
   "outputs": [],
   "source": [
    "def sumNumbers(a, b, c):\n",
    "    return a + b + c"
   ]
  },
  {
   "cell_type": "code",
   "execution_count": 8,
   "id": "ab6eeff2",
   "metadata": {},
   "outputs": [
    {
     "name": "stdout",
     "output_type": "stream",
     "text": [
      "[0, 1, 2]\n",
      "0 + 1 + 2 = 3\n"
     ]
    }
   ],
   "source": [
    "args = [*range(0, 3)]\n",
    "\n",
    "print(args)\n",
    "print('0 + 1 + 2 = %g' %sumNumbers(*args))"
   ]
  },
  {
   "cell_type": "markdown",
   "id": "89dea9a3",
   "metadata": {},
   "source": [
    "#### User's input"
   ]
  },
  {
   "cell_type": "code",
   "execution_count": 1,
   "id": "abd1fd2f",
   "metadata": {},
   "outputs": [
    {
     "name": "stdout",
     "output_type": "stream",
     "text": [
      "input string hi\n",
      "input a number 21\n"
     ]
    }
   ],
   "source": [
    "str = input('input string ')\n",
    "a = int(input('input a number '))"
   ]
  },
  {
   "cell_type": "markdown",
   "id": "560077c3",
   "metadata": {},
   "source": [
    "#### Random number"
   ]
  },
  {
   "cell_type": "code",
   "execution_count": 16,
   "id": "1067b60d",
   "metadata": {},
   "outputs": [
    {
     "name": "stdout",
     "output_type": "stream",
     "text": [
      "43\n"
     ]
    }
   ],
   "source": [
    "from numpy import random\n",
    "\n",
    "print(random.randint(100))"
   ]
  }
 ],
 "metadata": {
  "kernelspec": {
   "display_name": "Python 3 (ipykernel)",
   "language": "python",
   "name": "python3"
  },
  "language_info": {
   "codemirror_mode": {
    "name": "ipython",
    "version": 3
   },
   "file_extension": ".py",
   "mimetype": "text/x-python",
   "name": "python",
   "nbconvert_exporter": "python",
   "pygments_lexer": "ipython3",
   "version": "3.9.12"
  }
 },
 "nbformat": 4,
 "nbformat_minor": 5
}
