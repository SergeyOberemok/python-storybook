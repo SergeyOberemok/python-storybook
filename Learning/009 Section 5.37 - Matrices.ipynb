{
 "cells": [
  {
   "cell_type": "code",
   "execution_count": 1,
   "id": "22530ec3",
   "metadata": {},
   "outputs": [],
   "source": [
    "import sympy as sp\n",
    "import numpy as np\n",
    "from IPython.display import display, Math"
   ]
  },
  {
   "cell_type": "markdown",
   "id": "317fe81e",
   "metadata": {},
   "source": [
    "#### Simple"
   ]
  },
  {
   "cell_type": "code",
   "execution_count": 6,
   "id": "2bc171ba",
   "metadata": {},
   "outputs": [
    {
     "data": {
      "text/latex": [
       "$\\displaystyle \\left[\\begin{matrix}1 & 2\\\\3 & 4\\end{matrix}\\right]$"
      ],
      "text/plain": [
       "<IPython.core.display.Math object>"
      ]
     },
     "metadata": {},
     "output_type": "display_data"
    },
    {
     "data": {
      "text/plain": [
       "numpy.ndarray"
      ]
     },
     "metadata": {},
     "output_type": "display_data"
    }
   ],
   "source": [
    "A = np.array([\n",
    "    [1, 2],\n",
    "    [3, 4]\n",
    "])\n",
    "\n",
    "display(Math(sp.latex(sp.sympify(A))), type(A))"
   ]
  },
  {
   "cell_type": "markdown",
   "id": "f99f5955",
   "metadata": {},
   "source": [
    "#### Empty"
   ]
  },
  {
   "cell_type": "code",
   "execution_count": 8,
   "id": "4a9c6608",
   "metadata": {},
   "outputs": [
    {
     "data": {
      "text/latex": [
       "$\\displaystyle \\left[\\begin{matrix}0.0 & 0.0 & 0.0 & 0.0\\\\0.0 & 0.0 & 0.0 & 0.0\\\\0.0 & 0.0 & 0.0 & 0.0\\end{matrix}\\right]$"
      ],
      "text/plain": [
       "<IPython.core.display.Math object>"
      ]
     },
     "metadata": {},
     "output_type": "display_data"
    }
   ],
   "source": [
    "B = np.zeros([3, 4])\n",
    "\n",
    "display(Math(sp.latex(sp.sympify(B))))"
   ]
  },
  {
   "cell_type": "markdown",
   "id": "0e633fe3",
   "metadata": {},
   "source": [
    "#### Set"
   ]
  },
  {
   "cell_type": "code",
   "execution_count": 10,
   "id": "00200acb",
   "metadata": {},
   "outputs": [
    {
     "data": {
      "text/latex": [
       "$\\displaystyle \\left[\\begin{matrix}1 & 2\\\\22 & 4\\end{matrix}\\right]$"
      ],
      "text/plain": [
       "<IPython.core.display.Math object>"
      ]
     },
     "metadata": {},
     "output_type": "display_data"
    }
   ],
   "source": [
    "A[1,0] = 22\n",
    "\n",
    "display(Math(sp.latex(sp.sympify(A))))"
   ]
  },
  {
   "cell_type": "markdown",
   "id": "8cf8e52f",
   "metadata": {},
   "source": [
    "### Excercises"
   ]
  },
  {
   "cell_type": "markdown",
   "id": "b8363200",
   "metadata": {},
   "source": [
    "#### Chess board"
   ]
  },
  {
   "cell_type": "code",
   "execution_count": 20,
   "id": "050714da",
   "metadata": {},
   "outputs": [
    {
     "data": {
      "text/latex": [
       "$\\displaystyle \\left[\\begin{matrix}1 & -1 & 1 & -1 & 1 & -1 & 1 & -1 & 1 & -1\\\\-1 & 1 & -1 & 1 & -1 & 1 & -1 & 1 & -1 & 1\\\\1 & -1 & 1 & -1 & 1 & -1 & 1 & -1 & 1 & -1\\\\-1 & 1 & -1 & 1 & -1 & 1 & -1 & 1 & -1 & 1\\\\1 & -1 & 1 & -1 & 1 & -1 & 1 & -1 & 1 & -1\\\\-1 & 1 & -1 & 1 & -1 & 1 & -1 & 1 & -1 & 1\\\\1 & -1 & 1 & -1 & 1 & -1 & 1 & -1 & 1 & -1\\\\-1 & 1 & -1 & 1 & -1 & 1 & -1 & 1 & -1 & 1\\\\1 & -1 & 1 & -1 & 1 & -1 & 1 & -1 & 1 & -1\\\\-1 & 1 & -1 & 1 & -1 & 1 & -1 & 1 & -1 & 1\\end{matrix}\\right]$"
      ],
      "text/plain": [
       "<IPython.core.display.Math object>"
      ]
     },
     "metadata": {},
     "output_type": "display_data"
    }
   ],
   "source": [
    "size = 10\n",
    "C = np.zeros([size, size], int)\n",
    "\n",
    "for i in range(0, size):\n",
    "    for j in range(0, size):\n",
    "        C[i, j] = (-1) ** (i + j)\n",
    "\n",
    "display(Math(sp.latex(sp.sympify(C))))"
   ]
  },
  {
   "cell_type": "markdown",
   "id": "c204a49e",
   "metadata": {},
   "source": [
    "#### Multiplication table"
   ]
  },
  {
   "cell_type": "code",
   "execution_count": 24,
   "id": "f0277be9",
   "metadata": {},
   "outputs": [
    {
     "data": {
      "text/latex": [
       "$\\displaystyle \\left[\\begin{matrix}1 & 2 & 3 & 4 & 5 & 6 & 7 & 8 & 9 & 10\\\\2 & 4 & 6 & 8 & 10 & 12 & 14 & 16 & 18 & 20\\\\3 & 0 & 9 & 12 & 15 & 18 & 21 & 24 & 27 & 30\\\\4 & 0 & 0 & 16 & 20 & 24 & 28 & 32 & 36 & 40\\\\5 & 0 & 0 & 0 & 25 & 30 & 35 & 40 & 45 & 50\\\\6 & 0 & 0 & 0 & 0 & 36 & 42 & 48 & 54 & 60\\\\7 & 0 & 0 & 0 & 0 & 0 & 49 & 56 & 63 & 70\\\\8 & 0 & 0 & 0 & 0 & 0 & 0 & 64 & 72 & 80\\\\9 & 0 & 0 & 0 & 0 & 0 & 0 & 0 & 81 & 90\\\\10 & 0 & 0 & 0 & 0 & 0 & 0 & 0 & 0 & 100\\end{matrix}\\right]$"
      ],
      "text/plain": [
       "<IPython.core.display.Math object>"
      ]
     },
     "metadata": {},
     "output_type": "display_data"
    }
   ],
   "source": [
    "size = 10\n",
    "M = np.zeros([size, size], dtype = int)\n",
    "\n",
    "for i in range(0, size):\n",
    "    for j in range(0, size):\n",
    "        if i <= j or j == 0:\n",
    "            M[i, j] = (i + 1) * (j + 1)\n",
    "        \n",
    "display(Math(sp.latex(sp.sympify(M))))"
   ]
  }
 ],
 "metadata": {
  "kernelspec": {
   "display_name": "Python 3 (ipykernel)",
   "language": "python",
   "name": "python3"
  },
  "language_info": {
   "codemirror_mode": {
    "name": "ipython",
    "version": 3
   },
   "file_extension": ".py",
   "mimetype": "text/x-python",
   "name": "python",
   "nbconvert_exporter": "python",
   "pygments_lexer": "ipython3",
   "version": "3.9.13"
  }
 },
 "nbformat": 4,
 "nbformat_minor": 5
}
