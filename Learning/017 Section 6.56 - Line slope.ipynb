{
 "cells": [
  {
   "cell_type": "code",
   "execution_count": 10,
   "id": "5b51e355",
   "metadata": {},
   "outputs": [],
   "source": [
    "import matplotlib.pyplot as plt"
   ]
  },
  {
   "cell_type": "code",
   "execution_count": 12,
   "id": "9934dbf1",
   "metadata": {},
   "outputs": [],
   "source": [
    "import numpy as np"
   ]
  },
  {
   "cell_type": "markdown",
   "id": "e4cabcd2",
   "metadata": {},
   "source": [
    "### Slope\n",
    "**y = mx + b** <br>\n",
    "*m* - slope <br>\n",
    "*b* - intercept"
   ]
  },
  {
   "cell_type": "code",
   "execution_count": 13,
   "id": "972b6355",
   "metadata": {},
   "outputs": [
    {
     "data": {
      "image/png": "[encoded data removed]",
      "text/plain": [
       "<Figure size 432x288 with 1 Axes>"
      ]
     },
     "metadata": {
      "needs_background": "light"
     },
     "output_type": "display_data"
    }
   ],
   "source": [
    "x = [-5, 5]\n",
    "m = 2\n",
    "b = 0\n",
    "\n",
    "# y = [0, 0]\n",
    "# for i in range(len(x)):\n",
    "#     y[i] = m*x[i] + b\n",
    "y = m * np.array(x) + b\n",
    "\n",
    "plt.plot(x, y)\n",
    "\n",
    "plt.axis('square')\n",
    "plt.xlim(x)\n",
    "plt.ylim(x)\n",
    "\n",
    "plt.grid()\n",
    "axis = plt.gca()\n",
    "plt.plot(axis.get_xlim(), [0, 0], 'k')\n",
    "plt.plot([0, 0], axis.get_ylim(), 'k')\n",
    "\n",
    "plt.show()"
   ]
  }
 ],
 "metadata": {
  "kernelspec": {
   "display_name": "Python 3 (ipykernel)",
   "language": "python",
   "name": "python3"
  },
  "language_info": {
   "codemirror_mode": {
    "name": "ipython",
    "version": 3
   },
   "file_extension": ".py",
   "mimetype": "text/x-python",
   "name": "python",
   "nbconvert_exporter": "python",
   "pygments_lexer": "ipython3",
   "version": "3.9.12"
  }
 },
 "nbformat": 4,
 "nbformat_minor": 5
}
