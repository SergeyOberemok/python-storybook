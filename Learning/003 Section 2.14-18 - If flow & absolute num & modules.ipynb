{
 "cells": [
  {
   "cell_type": "code",
   "execution_count": 33,
   "id": "b27287d3",
   "metadata": {},
   "outputs": [],
   "source": [
    "from IPython.display import display, Math "
   ]
  },
  {
   "cell_type": "markdown",
   "id": "f7a6f512",
   "metadata": {},
   "source": [
    "#### if else statement"
   ]
  },
  {
   "cell_type": "code",
   "execution_count": 32,
   "id": "610bbf84",
   "metadata": {},
   "outputs": [
    {
     "name": "stdout",
     "output_type": "stream",
     "text": [
      "true\n",
      "true\n",
      "true\n"
     ]
    }
   ],
   "source": [
    "for x in range(2, 5):\n",
    "    result = 8*x - 2 <= -3*x + 42\n",
    "    if result:\n",
    "        print('true')\n",
    "    else:\n",
    "        print('false')"
   ]
  },
  {
   "cell_type": "markdown",
   "id": "66c752f3",
   "metadata": {},
   "source": [
    "#### if else if statement"
   ]
  },
  {
   "cell_type": "code",
   "execution_count": 23,
   "id": "4ed1085f",
   "metadata": {},
   "outputs": [
    {
     "name": "stdout",
     "output_type": "stream",
     "text": [
      "I will bring the umbrella\n"
     ]
    }
   ],
   "source": [
    "sunny = False\n",
    "raining = sunny != True\n",
    "\n",
    "if raining:\n",
    "    print('I will bring the umbrella')\n",
    "elif sunny:\n",
    "    print('I will buy an ice cream')\n",
    "else:\n",
    "    print('I will code')"
   ]
  },
  {
   "cell_type": "markdown",
   "id": "916655af",
   "metadata": {},
   "source": [
    "#### Absolute value"
   ]
  },
  {
   "cell_type": "code",
   "execution_count": 25,
   "id": "1948e4b5",
   "metadata": {},
   "outputs": [
    {
     "data": {
      "text/plain": [
       "(4, 2)"
      ]
     },
     "execution_count": 25,
     "metadata": {},
     "output_type": "execute_result"
    }
   ],
   "source": [
    "a = 4\n",
    "b = -2\n",
    "abs(a), abs(b)"
   ]
  },
  {
   "cell_type": "markdown",
   "id": "431d83b4",
   "metadata": {},
   "source": [
    "#### Modules (Reminder after division)"
   ]
  },
  {
   "cell_type": "code",
   "execution_count": 37,
   "id": "eb650009",
   "metadata": {},
   "outputs": [
    {
     "data": {
      "text/latex": [
       "$\\displaystyle \\frac{10}{3} = 3.33333$"
      ],
      "text/plain": [
       "<IPython.core.display.Math object>"
      ]
     },
     "metadata": {},
     "output_type": "display_data"
    },
    {
     "data": {
      "text/latex": [
       "$\\displaystyle 10 - (3 \\times 3) = 1$"
      ],
      "text/plain": [
       "<IPython.core.display.Math object>"
      ]
     },
     "metadata": {},
     "output_type": "display_data"
    },
    {
     "data": {
      "text/plain": [
       "1"
      ]
     },
     "execution_count": 37,
     "metadata": {},
     "output_type": "execute_result"
    }
   ],
   "source": [
    "a = 10\n",
    "b = 3\n",
    "\n",
    "display(Math('\\\\frac{%g}{%g} = %g' %(a, b, a / b)))\n",
    "display(Math('%g - (%g \\\\times %g) = %g' %(a, b, int(a/b), a % b)))\n",
    "a % b"
   ]
  }
 ],
 "metadata": {
  "kernelspec": {
   "display_name": "Python 3 (ipykernel)",
   "language": "python",
   "name": "python3"
  },
  "language_info": {
   "codemirror_mode": {
    "name": "ipython",
    "version": 3
   },
   "file_extension": ".py",
   "mimetype": "text/x-python",
   "name": "python",
   "nbconvert_exporter": "python",
   "pygments_lexer": "ipython3",
   "version": "3.9.16"
  }
 },
 "nbformat": 4,
 "nbformat_minor": 5
}
