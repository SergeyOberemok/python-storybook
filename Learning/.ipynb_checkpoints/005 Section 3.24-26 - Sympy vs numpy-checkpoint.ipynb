{
 "cells": [
  {
   "cell_type": "code",
   "execution_count": 3,
   "id": "8e67d2bc",
   "metadata": {},
   "outputs": [],
   "source": [
    "import sympy as sp\n",
    "# sym.init_printing()"
   ]
  },
  {
   "cell_type": "code",
   "execution_count": 4,
   "id": "32947800",
   "metadata": {},
   "outputs": [],
   "source": [
    "import numpy as np"
   ]
  },
  {
   "cell_type": "code",
   "execution_count": 5,
   "id": "5065228f",
   "metadata": {},
   "outputs": [],
   "source": [
    "from IPython.display import display, Math"
   ]
  },
  {
   "cell_type": "markdown",
   "id": "f04be92e",
   "metadata": {},
   "source": [
    "### Sympy"
   ]
  },
  {
   "cell_type": "markdown",
   "id": "e424b0d3",
   "metadata": {},
   "source": [
    "#### Symbols output"
   ]
  },
  {
   "cell_type": "code",
   "execution_count": 6,
   "id": "206b4880",
   "metadata": {},
   "outputs": [
    {
     "data": {
      "text/latex": [
       "$\\displaystyle x + y + 4$"
      ],
      "text/plain": [
       "x + y + 4"
      ]
     },
     "execution_count": 6,
     "metadata": {},
     "output_type": "execute_result"
    }
   ],
   "source": [
    "x, y = sp.symbols('x, y')\n",
    "\n",
    "x + y + 4"
   ]
  },
  {
   "cell_type": "markdown",
   "id": "6c0d8cab",
   "metadata": {},
   "source": [
    "#### print vs dispay"
   ]
  },
  {
   "cell_type": "code",
   "execution_count": 7,
   "id": "2da20cee",
   "metadata": {},
   "outputs": [
    {
     "name": "stdout",
     "output_type": "stream",
     "text": [
      "x**y\n",
      "x/y\n"
     ]
    }
   ],
   "source": [
    "print(x**y)\n",
    "print(x/y)"
   ]
  },
  {
   "cell_type": "code",
   "execution_count": 8,
   "id": "f68e6550",
   "metadata": {},
   "outputs": [
    {
     "data": {
      "text/latex": [
       "$\\displaystyle x^{y}$"
      ],
      "text/plain": [
       "x**y"
      ]
     },
     "metadata": {},
     "output_type": "display_data"
    },
    {
     "data": {
      "text/latex": [
       "$\\displaystyle \\frac{x}{y}$"
      ],
      "text/plain": [
       "x/y"
      ]
     },
     "metadata": {},
     "output_type": "display_data"
    }
   ],
   "source": [
    "display(x**y)\n",
    "display(x/y)"
   ]
  },
  {
   "cell_type": "markdown",
   "id": "71550619",
   "metadata": {},
   "source": [
    "### Sympy vs Numpy"
   ]
  },
  {
   "cell_type": "code",
   "execution_count": 9,
   "id": "5cc40fc5",
   "metadata": {},
   "outputs": [
    {
     "data": {
      "text/plain": [
       "1.4142135623730951"
      ]
     },
     "metadata": {},
     "output_type": "display_data"
    },
    {
     "data": {
      "text/latex": [
       "$\\displaystyle \\sqrt{2}$"
      ],
      "text/plain": [
       "sqrt(2)"
      ]
     },
     "metadata": {},
     "output_type": "display_data"
    }
   ],
   "source": [
    "# Show calculation representation instead of value\n",
    "\n",
    "display(np.sqrt(2))\n",
    "display(sp.sqrt(2))"
   ]
  },
  {
   "cell_type": "code",
   "execution_count": 10,
   "id": "5f428aac",
   "metadata": {},
   "outputs": [
    {
     "data": {
      "text/latex": [
       "$\\displaystyle \\sqrt{4} = 2$"
      ],
      "text/plain": [
       "<IPython.core.display.Math object>"
      ]
     },
     "metadata": {},
     "output_type": "display_data"
    },
    {
     "data": {
      "text/latex": [
       "$\\displaystyle 4$"
      ],
      "text/plain": [
       "4"
      ]
     },
     "metadata": {},
     "output_type": "display_data"
    },
    {
     "data": {
      "text/latex": [
       "$\\displaystyle \\sqrt{x}$"
      ],
      "text/plain": [
       "sqrt(x)"
      ]
     },
     "metadata": {},
     "output_type": "display_data"
    },
    {
     "data": {
      "text/latex": [
       "$\\displaystyle \\sqrt{x}$"
      ],
      "text/plain": [
       "sqrt(x)"
      ]
     },
     "metadata": {},
     "output_type": "display_data"
    }
   ],
   "source": [
    "# Show expresion representation instead of calculation\n",
    "\n",
    "num = 4\n",
    "\n",
    "display(Math('\\\\sqrt{%g} = %g' %(num, np.sqrt(num))))\n",
    "display(sp.sqrt(num) * sp.sqrt(num))\n",
    "\n",
    "x = sp.symbols('x')\n",
    "\n",
    "display(sp.sqrt(x))\n",
    "display(sp.sympify(f'{sp.sqrt(x)}'))"
   ]
  },
  {
   "cell_type": "markdown",
   "id": "ea918f4f",
   "metadata": {},
   "source": [
    "#### Simpify"
   ]
  },
  {
   "cell_type": "code",
   "execution_count": 11,
   "id": "35940296",
   "metadata": {},
   "outputs": [
    {
     "data": {
      "text/latex": [
       "$\\displaystyle \\frac{3}{4}$"
      ],
      "text/plain": [
       "3/4"
      ]
     },
     "metadata": {},
     "output_type": "display_data"
    },
    {
     "data": {
      "text/latex": [
       "$\\displaystyle \\frac{3}{4}$"
      ],
      "text/plain": [
       "<IPython.core.display.Math object>"
      ]
     },
     "metadata": {},
     "output_type": "display_data"
    }
   ],
   "source": [
    "display(sp.sympify('3/4'))\n",
    "display(Math(sp.latex(sp.sympify('3/4'))))"
   ]
  },
  {
   "cell_type": "markdown",
   "id": "b57a6daa",
   "metadata": {},
   "source": [
    "#### Subs - Substitution"
   ]
  },
  {
   "cell_type": "code",
   "execution_count": 12,
   "id": "ec616209",
   "metadata": {},
   "outputs": [
    {
     "data": {
      "text/latex": [
       "$\\displaystyle x + 5$"
      ],
      "text/plain": [
       "x + 5"
      ]
     },
     "metadata": {},
     "output_type": "display_data"
    },
    {
     "data": {
      "text/latex": [
       "$\\displaystyle x + y + 3$"
      ],
      "text/plain": [
       "x + y + 3"
      ]
     },
     "metadata": {},
     "output_type": "display_data"
    },
    {
     "data": {
      "text/latex": [
       "$\\displaystyle 10$"
      ],
      "text/plain": [
       "10"
      ]
     },
     "metadata": {},
     "output_type": "display_data"
    },
    {
     "data": {
      "text/latex": [
       "$\\displaystyle 15$"
      ],
      "text/plain": [
       "15"
      ]
     },
     "metadata": {},
     "output_type": "display_data"
    }
   ],
   "source": [
    "x, y = sp.symbols('x, y')\n",
    "\n",
    "expression1 = x + 5\n",
    "display(expression1)\n",
    "expression2 = x + y + 3\n",
    "display(expression2)\n",
    "\n",
    "display(expression1.subs(x, 5))\n",
    "display(expression2.subs({ x: 5, y: 7 }))"
   ]
  }
 ],
 "metadata": {
  "kernelspec": {
   "display_name": "Python 3 (ipykernel)",
   "language": "python",
   "name": "python3"
  },
  "language_info": {
   "codemirror_mode": {
    "name": "ipython",
    "version": 3
   },
   "file_extension": ".py",
   "mimetype": "text/x-python",
   "name": "python",
   "nbconvert_exporter": "python",
   "pygments_lexer": "ipython3",
   "version": "3.9.12"
  }
 },
 "nbformat": 4,
 "nbformat_minor": 5
}
