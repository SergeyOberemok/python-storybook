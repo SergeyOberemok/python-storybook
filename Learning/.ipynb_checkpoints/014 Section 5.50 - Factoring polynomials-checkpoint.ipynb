{
 "cells": [
  {
   "cell_type": "code",
   "execution_count": 2,
   "id": "e1219eb8",
   "metadata": {},
   "outputs": [],
   "source": [
    "import sympy as sp\n",
    "from IPython.display import display, Math\n",
    "from sympy.abc import x"
   ]
  },
  {
   "cell_type": "markdown",
   "id": "87a592d5",
   "metadata": {},
   "source": [
    "### Factor"
   ]
  },
  {
   "cell_type": "markdown",
   "id": "1ff5e7c1",
   "metadata": {},
   "source": [
    "#### Factorable"
   ]
  },
  {
   "cell_type": "code",
   "execution_count": 8,
   "id": "a994c237",
   "metadata": {},
   "outputs": [
    {
     "data": {
      "text/latex": [
       "$\\displaystyle x^{2} + 4 x + 3 = \\left(x + 1\\right) \\left(x + 3\\right)$"
      ],
      "text/plain": [
       "<IPython.core.display.Math object>"
      ]
     },
     "metadata": {},
     "output_type": "display_data"
    }
   ],
   "source": [
    "factorableExp = x**2 + 4*x + 3\n",
    "\n",
    "display(Math(sp.latex(sp.Eq(factorableExp, sp.factor(factorableExp)))))"
   ]
  },
  {
   "cell_type": "markdown",
   "id": "4195cafa",
   "metadata": {},
   "source": [
    "#### Not factorable"
   ]
  },
  {
   "cell_type": "code",
   "execution_count": 11,
   "id": "7d3c867a",
   "metadata": {},
   "outputs": [
    {
     "data": {
      "text/latex": [
       "$\\displaystyle \\text{True}$"
      ],
      "text/plain": [
       "<IPython.core.display.Math object>"
      ]
     },
     "metadata": {},
     "output_type": "display_data"
    },
    {
     "data": {
      "text/latex": [
       "$\\displaystyle x^{2} + 4 x - 3$"
      ],
      "text/plain": [
       "<IPython.core.display.Math object>"
      ]
     },
     "metadata": {},
     "output_type": "display_data"
    }
   ],
   "source": [
    "notFactorableExp = x**2 + 4*x - 3\n",
    "\n",
    "display(Math(sp.latex(sp.Eq(notFactorableExp, sp.factor(notFactorableExp)))))\n",
    "display(Math(sp.latex(sp.factor(notFactorableExp))))"
   ]
  }
 ],
 "metadata": {
  "kernelspec": {
   "display_name": "Python 3 (ipykernel)",
   "language": "python",
   "name": "python3"
  },
  "language_info": {
   "codemirror_mode": {
    "name": "ipython",
    "version": 3
   },
   "file_extension": ".py",
   "mimetype": "text/x-python",
   "name": "python",
   "nbconvert_exporter": "python",
   "pygments_lexer": "ipython3",
   "version": "3.9.12"
  }
 },
 "nbformat": 4,
 "nbformat_minor": 5
}
