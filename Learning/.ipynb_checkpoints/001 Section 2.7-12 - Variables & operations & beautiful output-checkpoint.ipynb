{
 "cells": [
  {
   "cell_type": "markdown",
   "id": "9246869b",
   "metadata": {},
   "source": [
    "#### Variables"
   ]
  },
  {
   "cell_type": "code",
   "execution_count": 2,
   "id": "155b382f",
   "metadata": {
    "scrolled": true
   },
   "outputs": [
    {
     "name": "stdout",
     "output_type": "stream",
     "text": [
      "True\n"
     ]
    }
   ],
   "source": [
    "x = 7\n",
    "y = -2\n",
    "z = 5\n",
    "\n",
    "result = 3 * x * (4 + y) == 42\n",
    "print(result)"
   ]
  },
  {
   "cell_type": "code",
   "execution_count": 3,
   "id": "1e360b63",
   "metadata": {},
   "outputs": [],
   "source": [
    "from IPython.display import display, Math"
   ]
  },
  {
   "cell_type": "code",
   "execution_count": 4,
   "id": "727afffd",
   "metadata": {},
   "outputs": [],
   "source": [
    "import numpy as np"
   ]
  },
  {
   "cell_type": "markdown",
   "id": "c4436ae1",
   "metadata": {},
   "source": [
    "#### Beautiful output - Addition"
   ]
  },
  {
   "cell_type": "code",
   "execution_count": 5,
   "id": "2e0c996e",
   "metadata": {},
   "outputs": [
    {
     "data": {
      "text/plain": [
       "'4 + 3 = 7'"
      ]
     },
     "metadata": {},
     "output_type": "display_data"
    },
    {
     "data": {
      "text/latex": [
       "$\\displaystyle 4 + 3 = 7$"
      ],
      "text/plain": [
       "<IPython.core.display.Math object>"
      ]
     },
     "metadata": {},
     "output_type": "display_data"
    },
    {
     "data": {
      "text/latex": [
       "$\\displaystyle 4 + 3 = 7$"
      ],
      "text/plain": [
       "<IPython.core.display.Math object>"
      ]
     },
     "metadata": {},
     "output_type": "display_data"
    }
   ],
   "source": [
    "x = 4\n",
    "y = 3\n",
    "z = x + y\n",
    "\n",
    "display('4 + 3 = ' + str(z))\n",
    "display(Math('4 + 3 = ' + str(z)))\n",
    "display(Math('%g + %g = %g' %(x, y, z)))"
   ]
  },
  {
   "cell_type": "markdown",
   "id": "6dec0a44",
   "metadata": {},
   "source": [
    "#### Beautiful output - Multiplication"
   ]
  },
  {
   "cell_type": "code",
   "execution_count": 6,
   "id": "08c72c25",
   "metadata": {},
   "outputs": [
    {
     "data": {
      "text/latex": [
       "$\\displaystyle 3.4 \\times 17 = 57.8$"
      ],
      "text/plain": [
       "<IPython.core.display.Math object>"
      ]
     },
     "metadata": {},
     "output_type": "display_data"
    }
   ],
   "source": [
    "x = 3.4\n",
    "y = 17\n",
    "\n",
    "display(Math('%g \\\\times %g = %g' %(x, y, x * y)))"
   ]
  },
  {
   "cell_type": "markdown",
   "id": "b932144a",
   "metadata": {},
   "source": [
    "#### Beautiful output - Fraction"
   ]
  },
  {
   "cell_type": "code",
   "execution_count": 7,
   "id": "efea576b",
   "metadata": {},
   "outputs": [
    {
     "data": {
      "text/latex": [
       "$\\displaystyle \\frac{4}{5} = 0.8$"
      ],
      "text/plain": [
       "<IPython.core.display.Math object>"
      ]
     },
     "metadata": {},
     "output_type": "display_data"
    }
   ],
   "source": [
    "display(Math('\\\\frac{4}{5} = 0.8'))"
   ]
  },
  {
   "cell_type": "markdown",
   "id": "ed84f7f4",
   "metadata": {},
   "source": [
    "#### Beautiful output - Exponents"
   ]
  },
  {
   "cell_type": "code",
   "execution_count": 8,
   "id": "81e155e4",
   "metadata": {},
   "outputs": [
    {
     "data": {
      "text/latex": [
       "$\\displaystyle 3^2 \\times 3^4 = 729$"
      ],
      "text/plain": [
       "<IPython.core.display.Math object>"
      ]
     },
     "metadata": {},
     "output_type": "display_data"
    },
    {
     "data": {
      "text/latex": [
       "$\\displaystyle 3^{2 + 4} = 729$"
      ],
      "text/plain": [
       "<IPython.core.display.Math object>"
      ]
     },
     "metadata": {},
     "output_type": "display_data"
    }
   ],
   "source": [
    "x = 3\n",
    "e1 = 2\n",
    "e2 = 4\n",
    "\n",
    "display(Math('%g^%g \\\\times %g^%g = %g' %(x, e1, x, e2, x**e1 * x**e2)))\n",
    "display(Math('%g^{%g + %g} = %g' %(x, e1, e2, x**(e1 + e2))))"
   ]
  },
  {
   "cell_type": "markdown",
   "id": "bd7d4460",
   "metadata": {},
   "source": [
    "#### Beautiful output - Square root"
   ]
  },
  {
   "cell_type": "code",
   "execution_count": 10,
   "id": "8ed08c10",
   "metadata": {},
   "outputs": [
    {
     "data": {
      "text/latex": [
       "$\\displaystyle \\sqrt{4} = 2$"
      ],
      "text/plain": [
       "<IPython.core.display.Math object>"
      ]
     },
     "metadata": {},
     "output_type": "display_data"
    },
    {
     "data": {
      "text/latex": [
       "$\\displaystyle \\sqrt{4} \\times \\sqrt{4} = 4$"
      ],
      "text/plain": [
       "<IPython.core.display.Math object>"
      ]
     },
     "metadata": {},
     "output_type": "display_data"
    }
   ],
   "source": [
    "x = 4\n",
    "\n",
    "display(Math('\\\\sqrt{%g} = %g' %(x, np.sqrt(x))))\n",
    "\n",
    "display(Math('\\\\sqrt{%g} \\\\times \\\\sqrt{%g} = %g' %(x, x, x)))"
   ]
  },
  {
   "cell_type": "code",
   "execution_count": 17,
   "id": "43c6d1b1",
   "metadata": {},
   "outputs": [
    {
     "data": {
      "text/latex": [
       "$\\displaystyle {15} : {2} = int({7})$"
      ],
      "text/plain": [
       "<IPython.core.display.Math object>"
      ]
     },
     "metadata": {},
     "output_type": "display_data"
    },
    {
     "name": "stdout",
     "output_type": "stream",
     "text": [
      "7\n"
     ]
    }
   ],
   "source": [
    "x = 15\n",
    "y = 2\n",
    "\n",
    "display(Math(f'{{{x}}} : {{{y}}} = int({{{x // y}}})'))\n",
    "print(x // y)"
   ]
  },
  {
   "cell_type": "code",
   "execution_count": 16,
   "id": "9de9b060",
   "metadata": {},
   "outputs": [
    {
     "data": {
      "text/latex": [
       "$\\displaystyle {5} - {2} \\times {2} = {1}$"
      ],
      "text/plain": [
       "<IPython.core.display.Math object>"
      ]
     },
     "metadata": {},
     "output_type": "display_data"
    },
    {
     "name": "stdout",
     "output_type": "stream",
     "text": [
      "1\n"
     ]
    }
   ],
   "source": [
    "x = 5\n",
    "y = 2\n",
    "\n",
    "display(Math(f'{{{x}}} - {{{y}}} \\\\times {{{2}}} = {{{x % y}}}'))\n",
    "print(x % y)"
   ]
  }
 ],
 "metadata": {
  "kernelspec": {
   "display_name": "Python 3 (ipykernel)",
   "language": "python",
   "name": "python3"
  },
  "language_info": {
   "codemirror_mode": {
    "name": "ipython",
    "version": 3
   },
   "file_extension": ".py",
   "mimetype": "text/x-python",
   "name": "python",
   "nbconvert_exporter": "python",
   "pygments_lexer": "ipython3",
   "version": "3.9.12"
  }
 },
 "nbformat": 4,
 "nbformat_minor": 5
}
