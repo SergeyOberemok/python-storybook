{
 "cells": [
  {
   "cell_type": "code",
   "execution_count": 1,
   "id": "d89fc6ae",
   "metadata": {},
   "outputs": [],
   "source": [
    "import sympy as sp\n",
    "from IPython.display import display, Math"
   ]
  },
  {
   "cell_type": "code",
   "execution_count": 2,
   "id": "35e769aa",
   "metadata": {},
   "outputs": [],
   "source": [
    "x, y = sp.symbols('x, y')"
   ]
  },
  {
   "cell_type": "markdown",
   "id": "9fdc97f1",
   "metadata": {},
   "source": [
    "#### Solve equation - multiplication"
   ]
  },
  {
   "cell_type": "code",
   "execution_count": 3,
   "id": "5ffe11be",
   "metadata": {},
   "outputs": [
    {
     "data": {
      "text/latex": [
       "$\\displaystyle 4 x - 2 = \\frac{1}{2}$"
      ],
      "text/plain": [
       "<IPython.core.display.Math object>"
      ]
     },
     "metadata": {},
     "output_type": "display_data"
    }
   ],
   "source": [
    "exp = 4 * x - 2\n",
    "\n",
    "result = sp.solve(exp)\n",
    "\n",
    "display(Math('%s = %s' %(sp.latex(exp), sp.latex(result[0]))))"
   ]
  },
  {
   "cell_type": "markdown",
   "id": "c03068fc",
   "metadata": {},
   "source": [
    "#### Solve equation - exponents"
   ]
  },
  {
   "cell_type": "code",
   "execution_count": 4,
   "id": "04c56af5",
   "metadata": {},
   "outputs": [
    {
     "data": {
      "text/latex": [
       "$\\displaystyle x^{2} - 4 = [-2, 2]$"
      ],
      "text/plain": [
       "<IPython.core.display.Math object>"
      ]
     },
     "metadata": {},
     "output_type": "display_data"
    }
   ],
   "source": [
    "exp = x ** 2 - 4\n",
    "\n",
    "result = sp.solve(exp)\n",
    "\n",
    "display(Math('%s = %s' %(sp.latex(exp), result)))"
   ]
  },
  {
   "cell_type": "markdown",
   "id": "a405dd2e",
   "metadata": {},
   "source": [
    "#### Equation - multiple variables"
   ]
  },
  {
   "cell_type": "code",
   "execution_count": 15,
   "id": "32e33882",
   "metadata": {},
   "outputs": [
    {
     "data": {
      "text/latex": [
       "$\\displaystyle \\left[ \\frac{20}{4 y - 1}\\right]$"
      ],
      "text/plain": [
       "<IPython.core.display.Math object>"
      ]
     },
     "metadata": {},
     "output_type": "display_data"
    },
    {
     "data": {
      "text/latex": [
       "$\\displaystyle \\frac{20}{4 y - 1}$"
      ],
      "text/plain": [
       "<IPython.core.display.Math object>"
      ]
     },
     "metadata": {},
     "output_type": "display_data"
    },
    {
     "data": {
      "text/latex": [
       "$\\displaystyle \\frac{x + 20}{4 x}$"
      ],
      "text/plain": [
       "<IPython.core.display.Math object>"
      ]
     },
     "metadata": {},
     "output_type": "display_data"
    }
   ],
   "source": [
    "exp = x / 4 - x * y + 5\n",
    "\n",
    "display(Math(sp.latex(sp.solve(exp, x))))\n",
    "display(Math(sp.latex(next(iter(sp.solve(exp, x))))))\n",
    "display(Math(sp.latex(next(iter(sp.solve(exp, y))))))"
   ]
  },
  {
   "cell_type": "markdown",
   "id": "9dd6027b",
   "metadata": {},
   "source": [
    "#### Cancel"
   ]
  },
  {
   "cell_type": "code",
   "execution_count": 6,
   "id": "66a46ea2",
   "metadata": {},
   "outputs": [
    {
     "data": {
      "text/latex": [
       "$\\displaystyle 3 q^{2} + 2 q - \\frac{5}{q} - \\frac{4}{q^{3}} = \\frac{3 q^{5} + 2 q^{4} - 5 q^{2} - 4}{q^{3}}$"
      ],
      "text/plain": [
       "<IPython.core.display.Math object>"
      ]
     },
     "metadata": {},
     "output_type": "display_data"
    }
   ],
   "source": [
    "from sympy.abc import q # only for single letter\n",
    "\n",
    "exp = 2*q + 3*q**2 - 5/q - 4/q**3\n",
    "\n",
    "display(Math(sp.latex(sp.Eq(exp, sp.cancel(exp)))))"
   ]
  },
  {
   "cell_type": "markdown",
   "id": "a56a2f68",
   "metadata": {},
   "source": [
    "#### Evalf"
   ]
  },
  {
   "cell_type": "code",
   "execution_count": 7,
   "id": "48f4a72a",
   "metadata": {},
   "outputs": [
    {
     "data": {
      "text/latex": [
       "$\\displaystyle \\frac{\\sqrt{15} q + \\sqrt{3}}{\\sqrt{10} q + \\sqrt{2}} = \\frac{\\sqrt{6}}{2}$"
      ],
      "text/plain": [
       "<IPython.core.display.Math object>"
      ]
     },
     "metadata": {},
     "output_type": "display_data"
    },
    {
     "data": {
      "text/latex": [
       "$\\displaystyle 1.22474487139159$"
      ],
      "text/plain": [
       "1.22474487139159"
      ]
     },
     "execution_count": 7,
     "metadata": {},
     "output_type": "execute_result"
    }
   ],
   "source": [
    "exp = (sp.sqrt(3) + sp.sqrt(15) * q) / (sp.sqrt(2) + sp.sqrt(10) * q)\n",
    "\n",
    "display(Math(sp.latex(sp.Eq(exp, sp.simplify(exp)))))\n",
    "exp.subs(q, 2).evalf()"
   ]
  },
  {
   "cell_type": "markdown",
   "id": "ab2c0bdc",
   "metadata": {},
   "source": [
    "#### Expand terms"
   ]
  },
  {
   "cell_type": "code",
   "execution_count": 8,
   "id": "35250944",
   "metadata": {},
   "outputs": [
    {
     "data": {
      "text/latex": [
       "$\\displaystyle x \\left(4 x + 5\\right) = 4 x^{2} + 5 x$"
      ],
      "text/plain": [
       "<IPython.core.display.Math object>"
      ]
     },
     "metadata": {},
     "output_type": "display_data"
    }
   ],
   "source": [
    "term1 = (4*x + 5)\n",
    "term2 = x\n",
    "\n",
    "exp = term1 * term2\n",
    "\n",
    "display(Math(sp.latex(sp.Eq(exp, sp.expand(exp)))))"
   ]
  },
  {
   "cell_type": "code",
   "execution_count": 9,
   "id": "4863a1c8",
   "metadata": {},
   "outputs": [
    {
     "data": {
      "text/latex": [
       "$\\displaystyle \\left(x - 7\\right) \\left(4 x + 5\\right) = 4 x^{2} - 23 x - 35$"
      ],
      "text/plain": [
       "<IPython.core.display.Math object>"
      ]
     },
     "metadata": {},
     "output_type": "display_data"
    }
   ],
   "source": [
    "term3 = x - 7\n",
    "\n",
    "exp = term1 * term3\n",
    "\n",
    "display(Math(sp.latex(sp.Eq(exp, sp.expand(exp)))))"
   ]
  },
  {
   "cell_type": "code",
   "execution_count": 10,
   "id": "ce97af93",
   "metadata": {},
   "outputs": [
    {
     "data": {
      "text/latex": [
       "$\\displaystyle x \\left(4 - 6 x\\right) + 3 x \\quad \\Longleftrightarrow \\quad - 6 x^{2} + 7 x$"
      ],
      "text/plain": [
       "<IPython.core.display.Math object>"
      ]
     },
     "metadata": {},
     "output_type": "display_data"
    }
   ],
   "source": [
    "term4 = 2 * x + x * (4 - 6 * x) + x\n",
    "\n",
    "display(Math('%s \\\\quad \\\\Longleftrightarrow \\\\quad %s' %(sp.latex(term4), sp.latex(sp.expand(term4)))))"
   ]
  },
  {
   "cell_type": "markdown",
   "id": "31066928",
   "metadata": {},
   "source": [
    "#### Excercises"
   ]
  },
  {
   "cell_type": "code",
   "execution_count": 11,
   "id": "1cba8328",
   "metadata": {},
   "outputs": [
    {
     "data": {
      "text/latex": [
       "$\\displaystyle \\left(2 - y\\right) \\left(x + 4\\right) = 8$"
      ],
      "text/plain": [
       "<IPython.core.display.Math object>"
      ]
     },
     "metadata": {},
     "output_type": "display_data"
    },
    {
     "data": {
      "text/plain": [
       "'x = 0, y = 0'"
      ]
     },
     "metadata": {},
     "output_type": "display_data"
    },
    {
     "data": {
      "text/latex": [
       "$\\displaystyle \\left(2 - y\\right) \\left(x + 4\\right) = 4$"
      ],
      "text/plain": [
       "<IPython.core.display.Math object>"
      ]
     },
     "metadata": {},
     "output_type": "display_data"
    },
    {
     "data": {
      "text/plain": [
       "'x = 0, y = 1'"
      ]
     },
     "metadata": {},
     "output_type": "display_data"
    },
    {
     "data": {
      "text/latex": [
       "$\\displaystyle \\left(2 - y\\right) \\left(x + 4\\right) = 0$"
      ],
      "text/plain": [
       "<IPython.core.display.Math object>"
      ]
     },
     "metadata": {},
     "output_type": "display_data"
    },
    {
     "data": {
      "text/plain": [
       "'x = 0, y = 2'"
      ]
     },
     "metadata": {},
     "output_type": "display_data"
    },
    {
     "data": {
      "text/latex": [
       "$\\displaystyle \\left(2 - y\\right) \\left(x + 4\\right) = 10$"
      ],
      "text/plain": [
       "<IPython.core.display.Math object>"
      ]
     },
     "metadata": {},
     "output_type": "display_data"
    },
    {
     "data": {
      "text/plain": [
       "'x = 1, y = 0'"
      ]
     },
     "metadata": {},
     "output_type": "display_data"
    },
    {
     "data": {
      "text/latex": [
       "$\\displaystyle \\left(2 - y\\right) \\left(x + 4\\right) = 5$"
      ],
      "text/plain": [
       "<IPython.core.display.Math object>"
      ]
     },
     "metadata": {},
     "output_type": "display_data"
    },
    {
     "data": {
      "text/plain": [
       "'x = 1, y = 1'"
      ]
     },
     "metadata": {},
     "output_type": "display_data"
    },
    {
     "data": {
      "text/latex": [
       "$\\displaystyle \\left(2 - y\\right) \\left(x + 4\\right) = 0$"
      ],
      "text/plain": [
       "<IPython.core.display.Math object>"
      ]
     },
     "metadata": {},
     "output_type": "display_data"
    },
    {
     "data": {
      "text/plain": [
       "'x = 1, y = 2'"
      ]
     },
     "metadata": {},
     "output_type": "display_data"
    },
    {
     "data": {
      "text/latex": [
       "$\\displaystyle \\left(2 - y\\right) \\left(x + 4\\right) = 12$"
      ],
      "text/plain": [
       "<IPython.core.display.Math object>"
      ]
     },
     "metadata": {},
     "output_type": "display_data"
    },
    {
     "data": {
      "text/plain": [
       "'x = 2, y = 0'"
      ]
     },
     "metadata": {},
     "output_type": "display_data"
    },
    {
     "data": {
      "text/latex": [
       "$\\displaystyle \\left(2 - y\\right) \\left(x + 4\\right) = 6$"
      ],
      "text/plain": [
       "<IPython.core.display.Math object>"
      ]
     },
     "metadata": {},
     "output_type": "display_data"
    },
    {
     "data": {
      "text/plain": [
       "'x = 2, y = 1'"
      ]
     },
     "metadata": {},
     "output_type": "display_data"
    },
    {
     "data": {
      "text/latex": [
       "$\\displaystyle \\left(2 - y\\right) \\left(x + 4\\right) = 0$"
      ],
      "text/plain": [
       "<IPython.core.display.Math object>"
      ]
     },
     "metadata": {},
     "output_type": "display_data"
    },
    {
     "data": {
      "text/plain": [
       "'x = 2, y = 2'"
      ]
     },
     "metadata": {},
     "output_type": "display_data"
    }
   ],
   "source": [
    "funcExp = (4 + x) * (2 - y)\n",
    "\n",
    "for i in range(0, 3):\n",
    "    for j in range(0, 3):\n",
    "        display(\n",
    "            Math(sp.latex(sp.Eq(funcExp, funcExp.subs({ x: i, y: j })))), \n",
    "            'x = %g, y = %g' %(i, j)\n",
    "        )"
   ]
  }
 ],
 "metadata": {
  "kernelspec": {
   "display_name": "Python 3 (ipykernel)",
   "language": "python",
   "name": "python3"
  },
  "language_info": {
   "codemirror_mode": {
    "name": "ipython",
    "version": 3
   },
   "file_extension": ".py",
   "mimetype": "text/x-python",
   "name": "python",
   "nbconvert_exporter": "python",
   "pygments_lexer": "ipython3",
   "version": "3.9.12"
  }
 },
 "nbformat": 4,
 "nbformat_minor": 5
}
