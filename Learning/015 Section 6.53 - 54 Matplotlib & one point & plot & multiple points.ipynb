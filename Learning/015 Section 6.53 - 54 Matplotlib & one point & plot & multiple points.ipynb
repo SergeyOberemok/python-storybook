{
 "cells": [
  {
   "cell_type": "code",
   "execution_count": 1,
   "id": "58eeb57c",
   "metadata": {},
   "outputs": [],
   "source": [
    "import matplotlib.pyplot as plt\n",
    "import os, sys\n",
    "import sympy as sp"
   ]
  },
  {
   "cell_type": "code",
   "execution_count": 2,
   "id": "a864cd1e",
   "metadata": {},
   "outputs": [],
   "source": [
    "dirPath = os.path.abspath(os.path.join('..\\\\libs'))\n",
    "\n",
    "if dirPath not in sys.path:\n",
    "    sys.path.append(dirPath)"
   ]
  },
  {
   "cell_type": "code",
   "execution_count": 3,
   "id": "7f56b782",
   "metadata": {},
   "outputs": [],
   "source": [
    "import PythonStorybookLibs.helpers.lists as listsHelpers\n",
    "import PythonStorybookLibs.helpers.plots as plotsHelpers"
   ]
  },
  {
   "cell_type": "markdown",
   "id": "5b714d3f",
   "metadata": {},
   "source": [
    "### Plot"
   ]
  },
  {
   "cell_type": "markdown",
   "id": "bcaacdf2",
   "metadata": {},
   "source": [
    "#### One point"
   ]
  },
  {
   "cell_type": "code",
   "execution_count": 4,
   "id": "05f6538d",
   "metadata": {},
   "outputs": [
    {
     "data": {
      "image/png": "[encoded data removed]",
      "text/plain": [
       "<Figure size 640x480 with 1 Axes>"
      ]
     },
     "metadata": {},
     "output_type": "display_data"
    }
   ],
   "source": [
    "x, y = (3, 5)\n",
    "\n",
    "plt.plot(x, y, 'k.')\n",
    "\n",
    "plt.axis('square')\n",
    "plt.axis([0, 10, 0, 10])\n",
    "plt.grid()\n",
    "\n",
    "plt.show()"
   ]
  },
  {
   "cell_type": "markdown",
   "id": "19ccfc62",
   "metadata": {},
   "source": [
    "#### Multiple points"
   ]
  },
  {
   "cell_type": "code",
   "execution_count": 5,
   "id": "c7aa98b3",
   "metadata": {},
   "outputs": [
    {
     "ename": "AttributeError",
     "evalue": "module 'PythonStorybookLibs.helpers.lists' has no attribute 'generateListWithRandomNumbers'",
     "output_type": "error",
     "traceback": [
      "\u001b[1;31m---------------------------------------------------------------------------\u001b[0m",
      "\u001b[1;31mAttributeError\u001b[0m                            Traceback (most recent call last)",
      "Cell \u001b[1;32mIn[5], line 5\u001b[0m\n\u001b[0;32m      2\u001b[0m maxNumber \u001b[38;5;241m=\u001b[39m \u001b[38;5;241m7\u001b[39m\n\u001b[0;32m      3\u001b[0m isZeroIncluded \u001b[38;5;241m=\u001b[39m \u001b[38;5;28;01mFalse\u001b[39;00m\n\u001b[1;32m----> 5\u001b[0m xpoints \u001b[38;5;241m=\u001b[39m \u001b[43mlistsHelpers\u001b[49m\u001b[38;5;241;43m.\u001b[39;49m\u001b[43mgenerateListWithRandomNumbers\u001b[49m(pointsCount, maxNumber, isZeroIncluded)\n\u001b[0;32m      6\u001b[0m ypoints \u001b[38;5;241m=\u001b[39m listsHelpers\u001b[38;5;241m.\u001b[39mgenerateListWithRandomNumbers(pointsCount, maxNumber, isZeroIncluded)\n\u001b[0;32m      8\u001b[0m \u001b[38;5;28;01mfor\u001b[39;00m i \u001b[38;5;129;01min\u001b[39;00m \u001b[38;5;28mrange\u001b[39m(\u001b[38;5;241m0\u001b[39m, pointsCount):\n",
      "\u001b[1;31mAttributeError\u001b[0m: module 'PythonStorybookLibs.helpers.lists' has no attribute 'generateListWithRandomNumbers'"
     ]
    }
   ],
   "source": [
    "pointsCount = 5\n",
    "maxNumber = 7\n",
    "isZeroIncluded = False\n",
    "\n",
    "xpoints = listsHelpers.generateListWithRandomNumbers(pointsCount, maxNumber, isZeroIncluded)\n",
    "ypoints = listsHelpers.generateListWithRandomNumbers(pointsCount, maxNumber, isZeroIncluded)\n",
    "\n",
    "for i in range(0, pointsCount):\n",
    "    plt.plot(xpoints[i], ypoints[i], 'o', label = 'point %s' %i)\n",
    "\n",
    "plt.axis([0, 10, 0, 10])\n",
    "plt.grid()\n",
    "plt.legend()\n",
    "\n",
    "plt.show()"
   ]
  },
  {
   "cell_type": "markdown",
   "id": "a8a7adf8",
   "metadata": {},
   "source": [
    "### Visualize function expression"
   ]
  },
  {
   "cell_type": "code",
   "execution_count": null,
   "id": "6966a9f6",
   "metadata": {},
   "outputs": [],
   "source": [
    "from sympy.abc import x, y"
   ]
  },
  {
   "cell_type": "code",
   "execution_count": null,
   "id": "8bda81bd",
   "metadata": {},
   "outputs": [],
   "source": [
    "fromRange = -11\n",
    "toRange = 11\n",
    "\n",
    "exp = x**2 - 3*x - y\n",
    "\n",
    "for i in range(fromRange, toRange):\n",
    "    result = next(iter(sp.solve(exp.subs({ 'x': i }), y)))\n",
    "    plt.plot(i, result, 'o')\n",
    "\n",
    "plt.grid()\n",
    "\n",
    "plt.show()"
   ]
  }
 ],
 "metadata": {
  "kernelspec": {
   "display_name": "Python 3 (ipykernel)",
   "language": "python",
   "name": "python3"
  },
  "language_info": {
   "codemirror_mode": {
    "name": "ipython",
    "version": 3
   },
   "file_extension": ".py",
   "mimetype": "text/x-python",
   "name": "python",
   "nbconvert_exporter": "python",
   "pygments_lexer": "ipython3",
   "version": "3.9.16"
  }
 },
 "nbformat": 4,
 "nbformat_minor": 5
}
