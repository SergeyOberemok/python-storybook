{
 "cells": [
  {
   "cell_type": "code",
   "execution_count": 10,
   "id": "58eeb57c",
   "metadata": {},
   "outputs": [],
   "source": [
    "import matplotlib.pyplot as plt\n",
    "import os, sys\n",
    "import sympy as sp"
   ]
  },
  {
   "cell_type": "code",
   "execution_count": 2,
   "id": "a864cd1e",
   "metadata": {},
   "outputs": [],
   "source": [
    "dirPath = os.path.abspath(os.path.join('..\\\\libs'))\n",
    "\n",
    "if dirPath not in sys.path:\n",
    "    sys.path.append(dirPath)"
   ]
  },
  {
   "cell_type": "code",
   "execution_count": 8,
   "id": "7f56b782",
   "metadata": {},
   "outputs": [],
   "source": [
    "import PythonStorybookLibs.helpers.lists as listsHelpers\n",
    "import PythonStorybookLibs.helpers.plots as plotsHelpers"
   ]
  },
  {
   "cell_type": "markdown",
   "id": "5b714d3f",
   "metadata": {},
   "source": [
    "### Plot"
   ]
  },
  {
   "cell_type": "markdown",
   "id": "bcaacdf2",
   "metadata": {},
   "source": [
    "#### One point"
   ]
  },
  {
   "cell_type": "code",
   "execution_count": 4,
   "id": "05f6538d",
   "metadata": {},
   "outputs": [
    {
     "data": {
      "image/png": "[encoded data removed]",
      "text/plain": [
       "<Figure size 432x288 with 1 Axes>"
      ]
     },
     "metadata": {
      "needs_background": "light"
     },
     "output_type": "display_data"
    }
   ],
   "source": [
    "x, y = (3, 5)\n",
    "\n",
    "plt.plot(x, y, 'k.')\n",
    "\n",
    "plt.axis('square')\n",
    "plt.axis([0, 10, 0, 10])\n",
    "plt.grid()\n",
    "\n",
    "plt.show()"
   ]
  },
  {
   "cell_type": "markdown",
   "id": "19ccfc62",
   "metadata": {},
   "source": [
    "#### Multiple points"
   ]
  },
  {
   "cell_type": "code",
   "execution_count": 5,
   "id": "c7aa98b3",
   "metadata": {},
   "outputs": [
    {
     "data": {
      "image/png": "[encoded data removed]",
      "text/plain": [
       "<Figure size 432x288 with 1 Axes>"
      ]
     },
     "metadata": {
      "needs_background": "light"
     },
     "output_type": "display_data"
    }
   ],
   "source": [
    "pointsCount = 5\n",
    "maxNumber = 7\n",
    "isZeroIncluded = False\n",
    "\n",
    "xpoints = listsHelpers.generateListWithRandomNumbers(pointsCount, maxNumber, isZeroIncluded)\n",
    "ypoints = listsHelpers.generateListWithRandomNumbers(pointsCount, maxNumber, isZeroIncluded)\n",
    "\n",
    "for i in range(0, pointsCount):\n",
    "    plt.plot(xpoints[i], ypoints[i], 'o', label = 'point %s' %i)\n",
    "\n",
    "plt.axis([0, 10, 0, 10])\n",
    "plt.grid()\n",
    "plt.legend()\n",
    "\n",
    "plt.show()"
   ]
  },
  {
   "cell_type": "markdown",
   "id": "a8a7adf8",
   "metadata": {},
   "source": [
    "### Visualize function expression"
   ]
  },
  {
   "cell_type": "code",
   "execution_count": 6,
   "id": "6966a9f6",
   "metadata": {},
   "outputs": [],
   "source": [
    "from sympy.abc import x, y"
   ]
  },
  {
   "cell_type": "code",
   "execution_count": 18,
   "id": "8bda81bd",
   "metadata": {},
   "outputs": [
    {
     "data": {
      "image/png": "[encoded data removed]",
      "text/plain": [
       "<Figure size 432x288 with 1 Axes>"
      ]
     },
     "metadata": {
      "needs_background": "light"
     },
     "output_type": "display_data"
    }
   ],
   "source": [
    "fromRange = -11\n",
    "toRange = 11\n",
    "\n",
    "exp = x**2 - 3*x - y\n",
    "\n",
    "for i in range(fromRange, toRange):\n",
    "    result = next(iter(sp.solve(exp.subs({ 'x': i }), y)))\n",
    "    plt.plot(i, result, 'o')\n",
    "\n",
    "plt.grid()\n",
    "\n",
    "plt.show()"
   ]
  }
 ],
 "metadata": {
  "kernelspec": {
   "display_name": "Python 3 (ipykernel)",
   "language": "python",
   "name": "python3"
  },
  "language_info": {
   "codemirror_mode": {
    "name": "ipython",
    "version": 3
   },
   "file_extension": ".py",
   "mimetype": "text/x-python",
   "name": "python",
   "nbconvert_exporter": "python",
   "pygments_lexer": "ipython3",
   "version": "3.9.16"
  }
 },
 "nbformat": 4,
 "nbformat_minor": 5
}
