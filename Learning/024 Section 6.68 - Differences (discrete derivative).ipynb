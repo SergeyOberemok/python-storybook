{
 "cells": [
  {
   "cell_type": "code",
   "execution_count": 2,
   "id": "a43b9499",
   "metadata": {},
   "outputs": [],
   "source": [
    "import numpy as np"
   ]
  },
  {
   "cell_type": "markdown",
   "id": "b5cac8e6",
   "metadata": {},
   "source": [
    "### Difference"
   ]
  },
  {
   "cell_type": "code",
   "execution_count": 8,
   "id": "c8093e49",
   "metadata": {},
   "outputs": [
    {
     "name": "stdout",
     "output_type": "stream",
     "text": [
      "[1, 3, 5, 7, 9] [2 2 2 2]\n"
     ]
    }
   ],
   "source": [
    "numbers = [*range(1, 10, 2)]\n",
    "\n",
    "print(numbers, np.diff(numbers))"
   ]
  },
  {
   "cell_type": "markdown",
   "id": "28a705ed",
   "metadata": {},
   "source": [
    "#### Order of dicrite derivative"
   ]
  },
  {
   "cell_type": "code",
   "execution_count": 9,
   "id": "a94035be",
   "metadata": {},
   "outputs": [
    {
     "name": "stdout",
     "output_type": "stream",
     "text": [
      "[1, 3, 5, 7, 9] [2 2 2 2] [0 0 0]\n"
     ]
    }
   ],
   "source": [
    "# 1 - 3 = 2; 2 - 2 = 0\n",
    "print(numbers, np.diff(numbers), np.diff(numbers, 2))"
   ]
  }
 ],
 "metadata": {
  "kernelspec": {
   "display_name": "Python 3 (ipykernel)",
   "language": "python",
   "name": "python3"
  },
  "language_info": {
   "codemirror_mode": {
    "name": "ipython",
    "version": 3
   },
   "file_extension": ".py",
   "mimetype": "text/x-python",
   "name": "python",
   "nbconvert_exporter": "python",
   "pygments_lexer": "ipython3",
   "version": "3.9.16"
  }
 },
 "nbformat": 4,
 "nbformat_minor": 5
}
