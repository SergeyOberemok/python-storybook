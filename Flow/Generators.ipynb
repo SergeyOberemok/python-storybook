{
 "cells": [
  {
   "cell_type": "code",
   "execution_count": 2,
   "id": "98d594ab-ca02-4b34-8358-0c16d66887c5",
   "metadata": {},
   "outputs": [],
   "source": [
    "from typing import Generator"
   ]
  },
  {
   "cell_type": "markdown",
   "id": "9a4c2f9d-537b-4164-881f-5ed0b0d69fcb",
   "metadata": {},
   "source": [
    "---"
   ]
  },
  {
   "cell_type": "markdown",
   "id": "615d9df6-a1ae-499e-908e-85b534ac5fd7",
   "metadata": {},
   "source": [
    "### yield"
   ]
  },
  {
   "cell_type": "code",
   "execution_count": 6,
   "id": "41dfca7a-1438-4b67-b2d6-502168c395b9",
   "metadata": {},
   "outputs": [],
   "source": [
    "def getArr10() -> Generator[int, None, None]:\n",
    "    for i in range(10):\n",
    "        yield i"
   ]
  },
  {
   "cell_type": "code",
   "execution_count": 8,
   "id": "c898ba10-8fad-4ef6-a595-74b3a37f9a79",
   "metadata": {},
   "outputs": [
    {
     "name": "stdout",
     "output_type": "stream",
     "text": [
      "[0, 1, 2, 3, 4, 5, 6, 7, 8, 9]\n"
     ]
    }
   ],
   "source": [
    "print([*getArr10()])"
   ]
  },
  {
   "cell_type": "markdown",
   "id": "9084239e-0a17-45dd-8c54-317ba32172b4",
   "metadata": {},
   "source": [
    "### yield from list"
   ]
  },
  {
   "cell_type": "code",
   "execution_count": 13,
   "id": "5ee58112-c9c9-424b-8181-3d4551904622",
   "metadata": {},
   "outputs": [],
   "source": [
    "def getArr123() -> Generator[int, None, None]:\n",
    "    yield from range(3)"
   ]
  },
  {
   "cell_type": "code",
   "execution_count": 15,
   "id": "5c3b5249-7c7f-4c9b-8710-1fd8ec240624",
   "metadata": {},
   "outputs": [
    {
     "name": "stdout",
     "output_type": "stream",
     "text": [
      "[0, 1, 2]\n"
     ]
    }
   ],
   "source": [
    "print([*getArr123()])"
   ]
  }
 ],
 "metadata": {
  "kernelspec": {
   "display_name": "Python 3 (ipykernel)",
   "language": "python",
   "name": "python3"
  },
  "language_info": {
   "codemirror_mode": {
    "name": "ipython",
    "version": 3
   },
   "file_extension": ".py",
   "mimetype": "text/x-python",
   "name": "python",
   "nbconvert_exporter": "python",
   "pygments_lexer": "ipython3",
   "version": "3.11.10"
  }
 },
 "nbformat": 4,
 "nbformat_minor": 5
}
