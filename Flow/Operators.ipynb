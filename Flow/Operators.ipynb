{
 "cells": [
  {
   "cell_type": "markdown",
   "id": "7317142f-d3eb-4318-b8b9-3482aac45344",
   "metadata": {},
   "source": [
    "# Arithmetic"
   ]
  },
  {
   "cell_type": "markdown",
   "id": "84b0582d-6b9f-440d-842a-6c220bcd4222",
   "metadata": {},
   "source": [
    "## Modulus"
   ]
  },
  {
   "cell_type": "code",
   "execution_count": 8,
   "id": "6cbc274d-52a6-47fb-83d6-96ebe1c6c570",
   "metadata": {},
   "outputs": [],
   "source": [
    "x, y = 5, 2\n",
    "\n",
    "assert x % y == x - y * 2\n",
    "assert y % x == y"
   ]
  },
  {
   "cell_type": "markdown",
   "id": "7698fa62-9466-4fd1-b8d9-6ad78ae014e5",
   "metadata": {},
   "source": [
    "## Floor division"
   ]
  },
  {
   "cell_type": "code",
   "execution_count": 9,
   "id": "d3cffba2-6b4f-496d-afe1-f924fda9c820",
   "metadata": {},
   "outputs": [],
   "source": [
    "x, y = 15, 2\n",
    "\n",
    "assert x // y == (x - 1) / y"
   ]
  },
  {
   "cell_type": "markdown",
   "id": "0f8a274a-f4d3-44fa-b4b7-bb4da77ea0bc",
   "metadata": {},
   "source": [
    "## Exponentiation"
   ]
  },
  {
   "cell_type": "code",
   "execution_count": 14,
   "id": "e63d018e-2eb1-4434-83b2-83c96d1f4e00",
   "metadata": {},
   "outputs": [],
   "source": [
    "assert 2 ** 10 == 1024\n",
    "assert 2 ** 10 * 2 ** 10 == 1024 * 1024\n",
    "assert 2 ** 1 == 2\n",
    "assert 2 ** 0 == 1"
   ]
  },
  {
   "cell_type": "markdown",
   "id": "4d7f3bb2-8180-4028-861f-00b3b3bae9e8",
   "metadata": {},
   "source": [
    "# Built-in"
   ]
  },
  {
   "cell_type": "markdown",
   "id": "93a6c2f9-bc1c-4eb5-8c44-018e18fcba53",
   "metadata": {},
   "source": [
    "## type"
   ]
  },
  {
   "cell_type": "code",
   "execution_count": 1,
   "id": "b4da6a31-9722-4b2d-a46a-bed483f65343",
   "metadata": {},
   "outputs": [],
   "source": [
    "assert type(2) is int"
   ]
  }
 ],
 "metadata": {
  "kernelspec": {
   "display_name": "Python 3 (ipykernel)",
   "language": "python",
   "name": "python3"
  },
  "language_info": {
   "codemirror_mode": {
    "name": "ipython",
    "version": 3
   },
   "file_extension": ".py",
   "mimetype": "text/x-python",
   "name": "python",
   "nbconvert_exporter": "python",
   "pygments_lexer": "ipython3",
   "version": "3.11.5"
  }
 },
 "nbformat": 4,
 "nbformat_minor": 5
}
