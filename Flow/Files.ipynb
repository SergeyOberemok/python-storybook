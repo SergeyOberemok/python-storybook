{
 "cells": [
  {
   "cell_type": "code",
   "execution_count": 1,
   "id": "fd1c684d-2151-48a4-b3ed-794888629c63",
   "metadata": {},
   "outputs": [],
   "source": [
    "import os"
   ]
  },
  {
   "cell_type": "code",
   "execution_count": 2,
   "id": "3c3573d3-ea9f-4c38-b4b6-5f45b6a874fa",
   "metadata": {},
   "outputs": [],
   "source": [
    "fileName = 'temp.txt'"
   ]
  },
  {
   "cell_type": "markdown",
   "id": "f6bc22d8-0b73-451d-8174-dfa26768feca",
   "metadata": {},
   "source": [
    "---"
   ]
  },
  {
   "cell_type": "markdown",
   "id": "1e370f62-cb62-4e3a-9835-dbf15dbea8f9",
   "metadata": {
    "jp-MarkdownHeadingCollapsed": true
   },
   "source": [
    "# Create"
   ]
  },
  {
   "cell_type": "markdown",
   "id": "0cd0299d-cf1b-4fe0-9572-87acbb9f918b",
   "metadata": {
    "jp-MarkdownHeadingCollapsed": true
   },
   "source": [
    "## Write"
   ]
  },
  {
   "cell_type": "code",
   "execution_count": 16,
   "id": "d73cd070-ff86-42e2-8a13-e702705405d5",
   "metadata": {},
   "outputs": [],
   "source": [
    "f = open(fileName, 'wt')\n",
    "f.write('Hello world\\n')\n",
    "f.close()"
   ]
  },
  {
   "cell_type": "markdown",
   "id": "ac30fa22-d939-4221-aeda-492c775560de",
   "metadata": {
    "jp-MarkdownHeadingCollapsed": true
   },
   "source": [
    "# Read"
   ]
  },
  {
   "cell_type": "markdown",
   "id": "ae6217b1-dd1b-4cc1-816f-a7f9f2ce09ee",
   "metadata": {
    "jp-MarkdownHeadingCollapsed": true
   },
   "source": [
    "## All"
   ]
  },
  {
   "cell_type": "code",
   "execution_count": 21,
   "id": "d67f853f-57f8-46cd-adbf-a2d43fc2e4af",
   "metadata": {},
   "outputs": [
    {
     "name": "stdout",
     "output_type": "stream",
     "text": [
      "Hello world\n",
      "Appended content\n",
      "\n"
     ]
    }
   ],
   "source": [
    "f = open(fileName, 'r')\n",
    "print(f.read())\n",
    "f.close()"
   ]
  },
  {
   "cell_type": "markdown",
   "id": "cade690d-9475-4925-b42e-a297edea2b19",
   "metadata": {
    "jp-MarkdownHeadingCollapsed": true
   },
   "source": [
    "## Lines"
   ]
  },
  {
   "cell_type": "markdown",
   "id": "be093bbb-82da-47ba-80c7-d90f54f383b3",
   "metadata": {
    "jp-MarkdownHeadingCollapsed": true
   },
   "source": [
    "### for loop"
   ]
  },
  {
   "cell_type": "code",
   "execution_count": 20,
   "id": "e1c8877f-e149-454e-a0ec-ef4cfa5d49d9",
   "metadata": {},
   "outputs": [
    {
     "name": "stdout",
     "output_type": "stream",
     "text": [
      "Hello world\n",
      "\n",
      "Appended content\n",
      "\n"
     ]
    }
   ],
   "source": [
    "f = open(fileName, 'r')\n",
    "for line in f:\n",
    "    print(line)\n",
    "else:\n",
    "    f.close()"
   ]
  },
  {
   "cell_type": "markdown",
   "id": "c6dc7a9a-e55b-4475-9b06-e6a0daedb08b",
   "metadata": {
    "jp-MarkdownHeadingCollapsed": true
   },
   "source": [
    "## Check"
   ]
  },
  {
   "cell_type": "markdown",
   "id": "492e6a06-0f73-4303-b6e3-ce2a9f24382d",
   "metadata": {
    "jp-MarkdownHeadingCollapsed": true
   },
   "source": [
    "### Exist"
   ]
  },
  {
   "cell_type": "code",
   "execution_count": 6,
   "id": "c3073dbc-0e16-4b52-b8bd-61b0e3e7da51",
   "metadata": {},
   "outputs": [
    {
     "data": {
      "text/plain": [
       "True"
      ]
     },
     "execution_count": 6,
     "metadata": {},
     "output_type": "execute_result"
    }
   ],
   "source": [
    "os.path.isfile(fileName)"
   ]
  },
  {
   "cell_type": "markdown",
   "id": "29080061-2571-43d1-b18e-fc49e5a66496",
   "metadata": {
    "jp-MarkdownHeadingCollapsed": true
   },
   "source": [
    "# Update"
   ]
  },
  {
   "cell_type": "markdown",
   "id": "7d68d782-32bf-4655-9fdd-c275800a9f7f",
   "metadata": {
    "jp-MarkdownHeadingCollapsed": true
   },
   "source": [
    "## File"
   ]
  },
  {
   "cell_type": "code",
   "execution_count": 19,
   "id": "d29572e5-a3e0-4675-a112-264d1a547274",
   "metadata": {},
   "outputs": [],
   "source": [
    "f = open(fileName, 'a')\n",
    "f.write('Appended content\\n')\n",
    "f.close()"
   ]
  }
 ],
 "metadata": {
  "kernelspec": {
   "display_name": "Python 3 (ipykernel)",
   "language": "python",
   "name": "python3"
  },
  "language_info": {
   "codemirror_mode": {
    "name": "ipython",
    "version": 3
   },
   "file_extension": ".py",
   "mimetype": "text/x-python",
   "name": "python",
   "nbconvert_exporter": "python",
   "pygments_lexer": "ipython3",
   "version": "3.11.5"
  }
 },
 "nbformat": 4,
 "nbformat_minor": 5
}
