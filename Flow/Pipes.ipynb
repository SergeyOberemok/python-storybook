{
 "cells": [
  {
   "cell_type": "markdown",
   "id": "30875422-d298-457c-b357-f39845a4bcba",
   "metadata": {
    "jp-MarkdownHeadingCollapsed": true
   },
   "source": [
    "# Function"
   ]
  },
  {
   "cell_type": "code",
   "execution_count": 3,
   "id": "ab978f9c-e692-4a09-b2c4-e03011468038",
   "metadata": {},
   "outputs": [],
   "source": [
    "def pipe(acc, *funcs):\n",
    "    for f in funcs:\n",
    "        acc = f(acc)\n",
    "    return acc"
   ]
  },
  {
   "cell_type": "code",
   "execution_count": 13,
   "id": "b32b06e6-799d-49a0-86cc-bbd625c31a68",
   "metadata": {},
   "outputs": [
    {
     "data": {
      "text/plain": [
       "8"
      ]
     },
     "execution_count": 13,
     "metadata": {},
     "output_type": "execute_result"
    }
   ],
   "source": [
    "funcs = [lambda x: x + 2, lambda x: x * 2]\n",
    "\n",
    "pipe(2, lambda x: x + 2, lambda x: x * 2)"
   ]
  },
  {
   "cell_type": "markdown",
   "id": "a229867d-775e-49c7-8bbb-7e014be005e0",
   "metadata": {
    "jp-MarkdownHeadingCollapsed": true
   },
   "source": [
    "# Pipe Object"
   ]
  },
  {
   "cell_type": "code",
   "execution_count": 9,
   "id": "4a8a7e75-7f73-4c69-9fc9-16b231123865",
   "metadata": {},
   "outputs": [],
   "source": [
    "class Wrapper:\n",
    "    def __init__(self, value):\n",
    "        self.value = value\n",
    "        \n",
    "    def pipe(self, *funcs):\n",
    "        acc = self.value\n",
    "        \n",
    "        for f in funcs:\n",
    "            acc = f(acc)\n",
    "            \n",
    "        return acc"
   ]
  },
  {
   "cell_type": "code",
   "execution_count": 14,
   "id": "bc833f6e-49a2-46d8-85dd-c92072f0c2c1",
   "metadata": {},
   "outputs": [
    {
     "data": {
      "text/plain": [
       "8"
      ]
     },
     "execution_count": 14,
     "metadata": {},
     "output_type": "execute_result"
    }
   ],
   "source": [
    "Wrapper(2).pipe(lambda x: x + 2, lambda x: x * 2)"
   ]
  }
 ],
 "metadata": {
  "kernelspec": {
   "display_name": "Python 3 (ipykernel)",
   "language": "python",
   "name": "python3"
  },
  "language_info": {
   "codemirror_mode": {
    "name": "ipython",
    "version": 3
   },
   "file_extension": ".py",
   "mimetype": "text/x-python",
   "name": "python",
   "nbconvert_exporter": "python",
   "pygments_lexer": "ipython3",
   "version": "3.11.5"
  }
 },
 "nbformat": 4,
 "nbformat_minor": 5
}
