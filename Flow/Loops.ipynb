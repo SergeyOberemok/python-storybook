{
 "cells": [
  {
   "cell_type": "markdown",
   "id": "41feb09a",
   "metadata": {},
   "source": [
    "# Loops"
   ]
  },
  {
   "cell_type": "markdown",
   "id": "d4d08c4c",
   "metadata": {},
   "source": [
    "### for in"
   ]
  },
  {
   "cell_type": "markdown",
   "id": "1ad17888",
   "metadata": {},
   "source": [
    "#### Basic"
   ]
  },
  {
   "cell_type": "code",
   "execution_count": 1,
   "id": "8d1bbcf6",
   "metadata": {},
   "outputs": [
    {
     "name": "stdout",
     "output_type": "stream",
     "text": [
      "0\n",
      "1\n",
      "2\n"
     ]
    }
   ],
   "source": [
    "for item in range(3):\n",
    "    print(item)"
   ]
  },
  {
   "cell_type": "markdown",
   "id": "92340515",
   "metadata": {},
   "source": [
    "#### With index"
   ]
  },
  {
   "cell_type": "code",
   "execution_count": 5,
   "id": "4c34eab7",
   "metadata": {},
   "outputs": [
    {
     "name": "stdout",
     "output_type": "stream",
     "text": [
      "0 0\n",
      "1 10\n",
      "2 20\n"
     ]
    }
   ],
   "source": [
    "for index, item in enumerate(range(0, 30, 10)):\n",
    "    print(index, item)"
   ]
  },
  {
   "cell_type": "markdown",
   "id": "f9ace27e",
   "metadata": {},
   "source": [
    "#### List comprehension"
   ]
  },
  {
   "cell_type": "code",
   "execution_count": 2,
   "id": "0a73b3f1",
   "metadata": {},
   "outputs": [
    {
     "data": {
      "text/plain": [
       "[0, 1, 2]"
      ]
     },
     "execution_count": 2,
     "metadata": {},
     "output_type": "execute_result"
    }
   ],
   "source": [
    "[i for i in range(3)]"
   ]
  },
  {
   "cell_type": "code",
   "execution_count": 14,
   "id": "016ed778",
   "metadata": {},
   "outputs": [
    {
     "name": "stdout",
     "output_type": "stream",
     "text": [
      "[1, 2, 3]\n",
      "[4, 5, 6]\n",
      "[7, 8, 9]\n"
     ]
    }
   ],
   "source": [
    "count = 3\n",
    "numbers = iter(range(1, count ** 2 + 1))\n",
    "\n",
    "result = [[next(numbers) for j in range(3)] for i in range(3)]\n",
    "\n",
    "for row in result:\n",
    "    print(row)"
   ]
  },
  {
   "cell_type": "code",
   "execution_count": 16,
   "id": "3248c28b",
   "metadata": {},
   "outputs": [
    {
     "data": {
      "text/plain": [
       "[2, 4, 8, 16, 32, 64, 128, 256, 512, 1024]"
      ]
     },
     "execution_count": 16,
     "metadata": {},
     "output_type": "execute_result"
    }
   ],
   "source": [
    "count = 10\n",
    "\n",
    "[(lambda n: 2 * 2 ** (n - 1))(i) for i in range(1, count + 1)]"
   ]
  },
  {
   "cell_type": "markdown",
   "id": "0f384312",
   "metadata": {},
   "source": [
    "#### for else"
   ]
  },
  {
   "cell_type": "code",
   "execution_count": 15,
   "id": "0da38c06",
   "metadata": {},
   "outputs": [
    {
     "name": "stdout",
     "output_type": "stream",
     "text": [
      "0\n",
      "1\n",
      "2\n",
      "end\n"
     ]
    }
   ],
   "source": [
    "for i in range(3):\n",
    "    print(i)\n",
    "else:\n",
    "    print('end')"
   ]
  },
  {
   "cell_type": "code",
   "execution_count": 16,
   "id": "e82560ec",
   "metadata": {},
   "outputs": [
    {
     "name": "stdout",
     "output_type": "stream",
     "text": [
      "0\n",
      "1\n"
     ]
    }
   ],
   "source": [
    "for i in range(3):\n",
    "    if i > 1:\n",
    "        break\n",
    "    print(i)\n",
    "else:\n",
    "    print('end')"
   ]
  },
  {
   "cell_type": "markdown",
   "id": "7462dc1a",
   "metadata": {},
   "source": [
    "### while"
   ]
  },
  {
   "cell_type": "code",
   "execution_count": 4,
   "id": "11da6b15",
   "metadata": {},
   "outputs": [
    {
     "name": "stdout",
     "output_type": "stream",
     "text": [
      "0\n",
      "1\n",
      "2\n"
     ]
    }
   ],
   "source": [
    "count = 0\n",
    "\n",
    "while count < 3:\n",
    "    print(count)\n",
    "    count += 1"
   ]
  }
 ],
 "metadata": {
  "kernelspec": {
   "display_name": "Python 3 (ipykernel)",
   "language": "python",
   "name": "python3"
  },
  "language_info": {
   "codemirror_mode": {
    "name": "ipython",
    "version": 3
   },
   "file_extension": ".py",
   "mimetype": "text/x-python",
   "name": "python",
   "nbconvert_exporter": "python",
   "pygments_lexer": "ipython3",
   "version": "3.9.16"
  }
 },
 "nbformat": 4,
 "nbformat_minor": 5
}
